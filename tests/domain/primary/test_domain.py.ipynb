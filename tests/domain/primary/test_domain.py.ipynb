{
 "cells": [
  {
   "cell_type": "code",
   "id": "initial_id",
   "metadata": {
    "collapsed": true,
    "ExecuteTime": {
     "end_time": "2025-04-23T13:46:35.412083Z",
     "start_time": "2025-04-23T13:46:35.379108Z"
    }
   },
   "source": [
    "import meshio\n",
    "import os\n",
    "import numpy as np\n",
    "\n",
    "PATH = os.getcwd()\n",
    "PATH = os.path.join(PATH, 'mesh', 'tetrahedron.msh')\n",
    "meshio_mesh = meshio.read(PATH)\n",
    "MESHIO_VERSION = int(meshio.__version__.split(\".\")[0])\n",
    "if MESHIO_VERSION < 4:\n",
    "  meshio_mesh_cells = meshio_mesh.cells\n",
    "else:\n",
    "  meshio_mesh_cells = meshio_mesh.cells_dict\n",
    "\n",
    "print(meshio_mesh_cells.keys())\n",
    "m_triangles = meshio_mesh_cells['tetra']\n",
    "m_points = meshio_mesh.points\n",
    "\n",
    "print(m_triangles)"
   ],
   "outputs": [
    {
     "name": "stdout",
     "output_type": "stream",
     "text": [
      "dict_keys(['triangle', 'tetra'])\n",
      "[[  4  53  71  52]\n",
      " [ 53  71  52 358]\n",
      " [ 52 358  71 116]\n",
      " ...\n",
      " [367 520 115  25]\n",
      " [520  26 115  25]\n",
      " [115  26   6  25]]\n"
     ]
    }
   ],
   "execution_count": 5
  },
  {
   "metadata": {
    "ExecuteTime": {
     "end_time": "2025-04-23T14:25:07.479368Z",
     "start_time": "2025-04-23T14:25:07.473924Z"
    }
   },
   "cell_type": "code",
   "source": [
    "arr = [1, 2, 3, 4]\n",
    "a = np.ones(shape=(14), dtype=np.int64)\n",
    "\n",
    "a[0:4] = arr\n",
    "print(a)"
   ],
   "id": "df579159f5d13c7a",
   "outputs": [
    {
     "name": "stdout",
     "output_type": "stream",
     "text": [
      "[1 2 3 4 1 1 1 1 1 1 1 1 1 1]\n"
     ]
    }
   ],
   "execution_count": 10
  },
  {
   "metadata": {},
   "cell_type": "code",
   "outputs": [],
   "execution_count": null,
   "source": [
    "g_cell_nodeid = m_triangles\n",
    "nb_nodes = len(m_points)\n",
    "max_face_nodeid = 3\n",
    "max_cell_faceid = 4\n",
    "dim = 3\n",
    "\n",
    "nb_cells = len(g_cell_nodeid)\n",
    "\n",
    "# create_node_cellid\n",
    "max_node_cellid = count_max_node_cellid(g_cell_nodeid, nb_nodes)\n",
    "node_cellid = np.ones(shape=(nb_nodes, max_node_cellid + 1), dtype=np.int32) * -1\n",
    "node_cellid[:, -1] = 0\n",
    "create_node_cellid(g_cell_nodeid, node_cellid)\n",
    "\n",
    "# create_cell_cellnid\n",
    "max_cell_cellnid = count_max_cell_cellnid(g_cell_nodeid, node_cellid)\n",
    "cell_cellnid = np.ones(shape=(nb_cells, max_cell_cellnid + 1), dtype=np.int32) * -1\n",
    "cell_cellnid[:, -1] = 0\n",
    "create_cell_cellnid(g_cell_nodeid, node_cellid, cell_cellnid)\n",
    "\n",
    "# create_info\n",
    "tmp_cell_faces = np.zeros(shape=(nb_cells, max_cell_faceid, max_face_nodeid), dtype=np.int32)\n",
    "tmp_size_info = np.zeros(shape=(nb_cells, max_cell_faceid + 1), dtype=np.int32)\n",
    "tmp_cell_faces_map = np.zeros(shape=(nb_cells, max_cell_faceid * 2 + 1), dtype=np.int32)\n",
    "\n",
    "apprx_nb_faces = nb_cells * max_cell_faceid\n",
    "faces = np.ones(shape=(apprx_nb_faces, max_face_nodeid + 1), dtype=np.int32) * -1\n",
    "faces[:, -1] = 0\n",
    "cell_faceid = np.ones(shape=(nb_cells, max_cell_faceid + 1), dtype=np.int32) * -1\n",
    "cell_faceid[:, -1] = 0\n",
    "face_cellid = np.ones(shape=(apprx_nb_faces, 2), dtype=np.int32) * -1\n",
    "cell_cellfid = np.ones(shape=(nb_cells, max_cell_faceid + 1), dtype=np.int32) * -1\n",
    "cell_cellfid[:, -1] = 0\n",
    "face_counter = np.zeros(shape=(1), dtype=np.int32)\n",
    "create_info(g_cell_nodeid, node_cellid, faces, cell_faceid, face_cellid, cell_cellfid,\n",
    "            face_counter, tmp_cell_faces, tmp_size_info, tmp_cell_faces_map, dim)\n",
    "faces = faces[:face_counter[0]]\n",
    "face_cellid = face_cellid[:face_counter[0]]\n",
    "\n",
    "g_node_cellid = node_cellid\n",
    "g_cell_cellnid = cell_cellnid\n",
    "g_face_nodeid = faces\n",
    "g_cell_faceid = cell_faceid\n",
    "g_face_cellid = face_cellid[cell_faceid[:, 0:-1]]\n",
    "g_cell_cellfid = cell_cellfid\n",
    "nb_faces = face_counter[0]"
   ],
   "id": "db9437d4d0f4feb4"
  },
  {
   "metadata": {
    "ExecuteTime": {
     "end_time": "2025-04-28T12:00:42.542191Z",
     "start_time": "2025-04-28T12:00:42.529905Z"
    }
   },
   "cell_type": "code",
   "source": [
    "class Test:\n",
    "  def __init__(self, a, b):\n",
    "    self.a, self.b = a, b\n",
    "\n",
    "\n",
    "a = Test(1, 2)\n",
    "print(a.a, a.b)"
   ],
   "id": "f39d914c63a0031d",
   "outputs": [
    {
     "name": "stdout",
     "output_type": "stream",
     "text": [
      "1 2\n"
     ]
    }
   ],
   "execution_count": 1
  }
 ],
 "metadata": {
  "kernelspec": {
   "display_name": "Python 3",
   "language": "python",
   "name": "python3"
  },
  "language_info": {
   "codemirror_mode": {
    "name": "ipython",
    "version": 2
   },
   "file_extension": ".py",
   "mimetype": "text/x-python",
   "name": "python",
   "nbconvert_exporter": "python",
   "pygments_lexer": "ipython2",
   "version": "2.7.6"
  }
 },
 "nbformat": 4,
 "nbformat_minor": 5
}
