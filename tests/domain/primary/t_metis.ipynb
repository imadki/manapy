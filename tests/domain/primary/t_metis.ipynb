{
 "cells": [
  {
   "cell_type": "code",
   "id": "initial_id",
   "metadata": {
    "collapsed": true,
    "ExecuteTime": {
     "end_time": "2025-05-13T14:39:41.621065Z",
     "start_time": "2025-05-13T14:39:41.612548Z"
    }
   },
   "source": [
    "import meshio, numpy as np\n",
    "import pymetis\n",
    "import os\n",
    "\n",
    "\n",
    "dim = 2\n",
    "float_precision = 'float32'\n",
    "root_file = os.getcwd()\n",
    "mesh_path = 'triangles.msh'\n",
    "mesh_path = os.path.join(root_file, 'mesh', mesh_path)\n"
   ],
   "outputs": [],
   "execution_count": 13
  },
  {
   "metadata": {
    "ExecuteTime": {
     "end_time": "2025-05-13T14:39:43.949624Z",
     "start_time": "2025-05-13T14:39:43.885075Z"
    }
   },
   "cell_type": "code",
   "source": [
    "import importlib\n",
    "\n",
    "module = importlib.import_module(\"create_domain\")\n",
    "importlib.reload(module)\n",
    "Domain = getattr(module, \"Domain\")\n",
    "\n",
    "domain = Domain(mesh_path, dim, float_precision)\n",
    "print(domain.cells.shape)\n",
    "# print(domain.meshio_mesh)\n",
    "#meshio_cells = domain.meshio_mesh.cells_dict['tetra']"
   ],
   "id": "c73b86e9ec1c1376",
   "outputs": [
    {
     "name": "stdout",
     "output_type": "stream",
     "text": [
      "\n",
      "Init\n",
      "line\n",
      "triangle\n",
      "_create_cells\n",
      "node_cellid\n",
      "cell_cellnid\n",
      "_create_info\n",
      "Execution time: 0.038573 seconds\n",
      "(200, 4)\n"
     ]
    }
   ],
   "execution_count": 14
  },
  {
   "metadata": {
    "ExecuteTime": {
     "end_time": "2025-05-17T15:17:32.898917Z",
     "start_time": "2025-05-17T15:17:32.731504Z"
    }
   },
   "cell_type": "code",
   "source": "np.array([[]])",
   "id": "4d9a6a192be4aef1",
   "outputs": [
    {
     "ename": "NameError",
     "evalue": "name 'np' is not defined",
     "output_type": "error",
     "traceback": [
      "\u001B[0;31m---------------------------------------------------------------------------\u001B[0m",
      "\u001B[0;31mNameError\u001B[0m                                 Traceback (most recent call last)",
      "Cell \u001B[0;32mIn[1], line 1\u001B[0m\n\u001B[0;32m----> 1\u001B[0m \u001B[43mnp\u001B[49m\u001B[38;5;241m.\u001B[39marray([[]])\n",
      "\u001B[0;31mNameError\u001B[0m: name 'np' is not defined"
     ]
    }
   ],
   "execution_count": 1
  },
  {
   "metadata": {
    "ExecuteTime": {
     "end_time": "2025-05-13T13:15:13.398544Z",
     "start_time": "2025-05-13T13:15:13.393934Z"
    }
   },
   "cell_type": "code",
   "source": [
    "cell_cellnid = domain.cell_cellnid\n",
    "connectivity = []\n",
    "for item in cell_cellnid:\n",
    "  connectivity.append(item[0:item[-1]])\n"
   ],
   "id": "3db195e65ff2ab86",
   "outputs": [],
   "execution_count": 9
  },
  {
   "metadata": {
    "ExecuteTime": {
     "end_time": "2025-05-13T13:19:31.788795Z",
     "start_time": "2025-05-13T13:19:31.776359Z"
    }
   },
   "cell_type": "code",
   "source": [
    "xadj = [0, 2, 4, 7, 8]\n",
    "adjncy = [1, 2,  0, 2,  0, 1, 3,  2]\n",
    "\n",
    "options = pymetis.Options()\n",
    "#options.__setattr__(\"contig\", 1)\n",
    "# n_cuts, membership, tt = pymetis.part_mesh(n_parts=4, connectivity=connectivity,\n",
    "#         gtype=pymetis.GType.DUAL, ncommon=3)\n",
    "\n",
    "a, b = pymetis.part_graph(nparts=8, adjacency=connectivity, options=options)\n",
    "print(a, np.unique(np.array(b)))\n"
   ],
   "id": "188782e5bb3eac47",
   "outputs": [
    {
     "name": "stdout",
     "output_type": "stream",
     "text": [
      "254 [0 1 2 3 4 5 6 7]\n"
     ]
    }
   ],
   "execution_count": 21
  }
 ],
 "metadata": {
  "kernelspec": {
   "display_name": "Python 3",
   "language": "python",
   "name": "python3"
  },
  "language_info": {
   "codemirror_mode": {
    "name": "ipython",
    "version": 2
   },
   "file_extension": ".py",
   "mimetype": "text/x-python",
   "name": "python",
   "nbconvert_exporter": "python",
   "pygments_lexer": "ipython2",
   "version": "2.7.6"
  }
 },
 "nbformat": 4,
 "nbformat_minor": 5
}
