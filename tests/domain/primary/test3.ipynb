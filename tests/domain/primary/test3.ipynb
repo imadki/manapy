{
 "cells": [
  {
   "cell_type": "markdown",
   "id": "36ac4be8cf9e7131",
   "metadata": {},
   "source": [
    "## Hexa"
   ]
  },
  {
   "cell_type": "code",
   "id": "initial_id",
   "metadata": {
    "collapsed": true
   },
   "source": [
    "import subprocess\n",
    "import os\n",
    "import numpy as np\n",
    "import sys\n",
    "\n",
    "sys.path.append(os.path.join(os.getcwd()))\n",
    "from tests.domain.primary.helpers.DomainTables import DomainTables\n",
    "\n",
    "mpi_exec = \"/usr/bin/mpirun\"\n",
    "python_exec = \"/home/aben-ham/anaconda3/envs/work/bin/python3\"\n",
    "float_precision = 'float32'\n",
    "dim=3\n",
    "mesh_name = 'cube.msh'\n",
    "\n",
    "def create_partitions(nb_partitions, mesh_name, float_precision, dim):\n",
    "  root_file = os.getcwd()\n",
    "  mesh_file_path = os.path.join(root_file, 'mesh', mesh_name)\n",
    "  script_path = os.path.join(root_file, 'helpers', 'create_partitions_mpi_worker.py')\n",
    "  cmd = [mpi_exec, \"-n\", str(nb_partitions), \"--oversubscribe\", python_exec, script_path, mesh_file_path, float_precision, str(dim)]\n",
    "\n",
    "  result = subprocess.run(cmd, env=os.environ.copy(), stderr=subprocess.PIPE)\n",
    "  if result.returncode != 0:\n",
    "    print(result.__str__(), os.getcwd())\n",
    "    raise SystemExit(result.returncode)\n",
    "\n",
    "domain_tables = DomainTables(nb_partitions=1, mesh_name=mesh_name, float_precision=float_precision, dim=dim, create_par_fun=create_partitions)\n",
    "unified_domain = DomainTables(nb_partitions=1, mesh_name=mesh_name, float_precision=float_precision, dim=dim, create_par_fun=create_partitions)"
   ],
   "outputs": [],
   "execution_count": null
  },
  {
   "cell_type": "code",
   "id": "3a0eae1543909de2",
   "metadata": {},
   "source": [
    "import importlib\n",
    "\n",
    "module = importlib.import_module(\"helpers.TablesTestHexa3D\")\n",
    "importlib.reload(module)\n",
    "TestTablesRect2D = getattr(module, \"TablesTestHexa3D\")\n",
    "\n",
    "module = importlib.import_module(\"helpers.Checker3D\")\n",
    "importlib.reload(module)\n",
    "Checker2D = getattr(module, \"Checker3D\")\n",
    "\n",
    "d_cell_loctoglob = domain_tables.d_cell_loctoglob\n",
    "g_cell_nodeid = unified_domain.d_cell_nodeid[0]\n",
    "test_tables = TestTablesRect2D(float_precision, d_cell_loctoglob, g_cell_nodeid)\n",
    "test_tables.init()\n",
    "\n",
    "checker = Checker2D(decimal_precision=4, domain_tables=domain_tables, unified_domain=unified_domain, test_tables=test_tables)\n",
    "checker.test_cell_info()\n",
    "checker.test_face_info()\n",
    "checker.test_node_info()\n",
    "checker.test_halo_info()\n",
    "checker.summary()\n"
   ],
   "outputs": [],
   "execution_count": null
  },
  {
   "metadata": {},
   "cell_type": "markdown",
   "source": "## Tetra",
   "id": "8c3b7404733eb3ca"
  },
  {
   "cell_type": "code",
   "id": "b4e99f32ddc83750",
   "metadata": {},
   "source": [
    "import subprocess\n",
    "import os\n",
    "import numpy as np\n",
    "import sys\n",
    "\n",
    "sys.path.append(os.path.join(os.getcwd()))\n",
    "from tests.domain.primary.helpers.DomainTables import DomainTables\n",
    "\n",
    "mpi_exec = \"/usr/bin/mpirun\"\n",
    "python_exec = \"/home/aben-ham/anaconda3/envs/work/bin/python3\"\n",
    "float_precision = 'float32'\n",
    "dim=3\n",
    "mesh_name = 'tetrahedron.msh'\n",
    "\n",
    "def create_partitions(nb_partitions, mesh_name, float_precision, dim):\n",
    "  root_file = os.getcwd()\n",
    "  mesh_file_path = os.path.join(root_file, 'mesh', mesh_name)\n",
    "  script_path = os.path.join(root_file, 'helpers', 'create_partitions_mpi_worker.py')\n",
    "  cmd = [mpi_exec, \"-n\", str(nb_partitions), \"--oversubscribe\", python_exec, script_path, mesh_file_path, float_precision, str(dim)]\n",
    "\n",
    "  result = subprocess.run(cmd, env=os.environ.copy(), stderr=subprocess.PIPE)\n",
    "  if result.returncode != 0:\n",
    "    print(result.__str__(), os.getcwd())\n",
    "    raise SystemExit(result.returncode)\n",
    "\n",
    "domain_tables = DomainTables(nb_partitions=4, mesh_name=mesh_name, float_precision=float_precision, dim=dim, create_par_fun=create_partitions)\n",
    "unified_domain = DomainTables(nb_partitions=1, mesh_name=mesh_name, float_precision=float_precision, dim=dim, create_par_fun=create_partitions)"
   ],
   "outputs": [],
   "execution_count": null
  },
  {
   "cell_type": "code",
   "id": "13c63986f8a03c78",
   "metadata": {},
   "source": [
    "import importlib\n",
    "\n",
    "module = importlib.import_module(\"helpers.TablesTestTetra3D\")\n",
    "importlib.reload(module)\n",
    "TablesTestTetra3D = getattr(module, \"TablesTestTetra3D\")\n",
    "\n",
    "module = importlib.import_module(\"helpers.TetraChecker3D\")\n",
    "importlib.reload(module)\n",
    "TetraChecker3D = getattr(module, \"TetraChecker3D\")\n",
    "\n",
    "d_cell_loctoglob = domain_tables.d_cell_loctoglob\n",
    "g_cell_nodeid = unified_domain.d_cell_nodeid[0]\n",
    "test_tables = TablesTestTetra3D(float_precision, d_cell_loctoglob, g_cell_nodeid)\n",
    "test_tables.init()\n",
    "\n",
    "checker = TetraChecker3D(decimal_precision=4, domain_tables=domain_tables, unified_domain=unified_domain, test_tables=test_tables)\n",
    "checker.test_cell_info()\n",
    "# checker.test_face_info()\n",
    "# checker.test_node_info()\n",
    "# checker.test_halo_info()\n",
    "checker.summary()\n"
   ],
   "outputs": [],
   "execution_count": null
  },
  {
   "metadata": {},
   "cell_type": "code",
   "source": [
    "i = 0\n",
    "triangle_nf1 = domain_tables.d_cell_cellfid[0]\n",
    "arr = np.arange(0, len(domain_tables.d_cell_cellfid[0]))\n",
    "\n",
    "filter = triangle_nf1[:, -1] == 4\n",
    "\n",
    "\n",
    "a = triangle_nf1[filter] - arr[filter, np.newaxis]\n",
    "a = a[:, 0:4]\n",
    "#a = np.abs(a)\n",
    "#a = np.sort(a, axis=1)\n",
    "# a = np.array([row[np.argsort(np.abs(row))] for row in a])\n",
    "print(np.unique(a.flatten()))\n"
   ],
   "id": "63b989a8b81e93ce",
   "outputs": [],
   "execution_count": null
  },
  {
   "metadata": {},
   "cell_type": "code",
   "source": [
    "triangle_nf1 = unified_domain.d_cell_cellfid[0]\n",
    "arr = np.arange(0, len(unified_domain.d_cell_cellfid[0]))\n",
    "\n",
    "filter = triangle_nf1[:, -1] == 6\n",
    "\n",
    "\n",
    "\n",
    "a = triangle_nf1[filter] - arr[filter, np.newaxis]\n",
    "a = a[:, 0:6]\n",
    "a = np.array([row[np.argsort(np.abs(row))] for row in a])\n",
    "print(np.unique(a, axis=0))\n"
   ],
   "id": "fc2509876271049f",
   "outputs": [],
   "execution_count": null
  },
  {
   "metadata": {},
   "cell_type": "code",
   "source": "sorted_rows = np.array([row[np.argsort(np.abs(row))] for row in arr])",
   "id": "bb447a04d1bef153",
   "outputs": [],
   "execution_count": null
  }
 ],
 "metadata": {
  "kernelspec": {
   "display_name": "Python 3",
   "language": "python",
   "name": "python3"
  },
  "language_info": {
   "codemirror_mode": {
    "name": "ipython",
    "version": 2
   },
   "file_extension": ".py",
   "mimetype": "text/x-python",
   "name": "python",
   "nbconvert_exporter": "python",
   "pygments_lexer": "ipython2",
   "version": "2.7.6"
  }
 },
 "nbformat": 4,
 "nbformat_minor": 5
}
