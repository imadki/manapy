{
 "cells": [
  {
   "metadata": {
    "collapsed": true,
    "ExecuteTime": {
     "end_time": "2025-07-07T16:12:21.661160Z",
     "start_time": "2025-07-07T16:12:08.804566Z"
    }
   },
   "cell_type": "code",
   "source": [
    "import subprocess\n",
    "import os\n",
    "import numpy as np\n",
    "import sys\n",
    "\n",
    "sys.path.append(os.path.join(os.getcwd()))\n",
    "sys.path.append(os.path.join(os.getcwd(), 'domain'))\n",
    "from tests.domain.primary.domain.create_domain import DomainTables\n",
    "\n",
    "mpi_exec = \"/usr/bin/mpirun\"\n",
    "python_exec = \"/home/aben-ham/anaconda3/envs/work/bin/python3\"\n",
    "float_precision = 'float32'\n",
    "dim=3\n",
    "mesh_name = 'tetrahedron.msh'\n",
    "\n",
    "def create_partitions(nb_partitions, mesh_name, float_precision, dim):\n",
    "  root_file = os.getcwd()\n",
    "  mesh_file_path = os.path.join(root_file, 'mesh', mesh_name)\n",
    "  script_path = os.path.join(root_file, 'domain', 'create_partitions_mpi_worker.py')\n",
    "  cmd = [mpi_exec, \"-n\", str(nb_partitions), \"--oversubscribe\", python_exec, script_path, mesh_file_path, float_precision, str(dim)]\n",
    "\n",
    "  result = subprocess.run(cmd, env=os.environ.copy(), stderr=subprocess.PIPE)\n",
    "  if result.returncode != 0:\n",
    "    print(result.__str__(), os.getcwd())\n",
    "    raise SystemExit(result.returncode)\n",
    "\n",
    "domain_tables = DomainTables(nb_partitions=4, mesh_name=mesh_name, float_precision=float_precision, dim=dim, create_par_fun=create_partitions)\n",
    "unified_domain = DomainTables(nb_partitions=1, mesh_name=mesh_name, float_precision=float_precision, dim=dim, create_par_fun=create_partitions)"
   ],
   "id": "initial_id",
   "outputs": [
    {
     "name": "stdout",
     "output_type": "stream",
     "text": [
      "path /home/aben-ham/Desktop/work/manapy/tests/domain/primary/mesh/tetrahedron.msh precision float32 dim 3 rank 3\n",
      "path /home/aben-ham/Desktop/work/manapy/tests/domain/primary/mesh/tetrahedron.msh precision float32 dim 3 rank 2\n",
      "path /home/aben-ham/Desktop/work/manapy/tests/domain/primary/mesh/tetrahedron.msh precision float32 dim 3 rank 1\n",
      "path /home/aben-ham/Desktop/work/manapy/tests/domain/primary/mesh/tetrahedron.msh precision float32 dim 3 rank 0\n",
      "====> Start <=====\n",
      "====> Creating Mesh <=====\n",
      "gmsh:physical => triangle\n",
      "gmsh:physical => tetra\n",
      "node_cellid\n",
      "Execution time: 0.007462 seconds\n",
      "cell_cellnid\n",
      "Execution time: 0.015423 seconds\n",
      "cell_cellfid and boundary_faces\n",
      "Execution time: 0.028742 seconds\n",
      "node_bfid\n",
      "Execution time: 0.029100 seconds\n",
      "Start creating sub domains\n",
      "Parse Input \n",
      "Start Creating SubDomains \n",
      "Make n part\n",
      "Start dense to csr\n",
      "Nb_vertices = 6000\n",
      "size = 22800\n",
      "End dense to csr\n",
      "End METIS_PartGraphKway\n",
      "End function\n",
      "Create local cells\n",
      "Create Physical faces\n",
      "Create local domains struct\n",
      "Create local domains struct p=0\n",
      "Create map_bf_recv, shared_bf_recv\n",
      "Create Tables\n",
      "End Create Tables\n",
      "Cells, CellsType, CellsLocToGlob\n",
      "PhyFaces, PhyFacesName\n",
      "Halo neighsub, Halos\n",
      "End Halo neighsub, Halos\n",
      "Create local domains struct p=1\n",
      "Create map_bf_recv, shared_bf_recv\n",
      "Create Tables\n",
      "End Create Tables\n",
      "Cells, CellsType, CellsLocToGlob\n",
      "PhyFaces, PhyFacesName\n",
      "Halo neighsub, Halos\n",
      "End Halo neighsub, Halos\n",
      "Create local domains struct p=2\n",
      "Create map_bf_recv, shared_bf_recv\n",
      "Create Tables\n",
      "End Create Tables\n",
      "Cells, CellsType, CellsLocToGlob\n",
      "PhyFaces, PhyFacesName\n",
      "Halo neighsub, Halos\n",
      "End Halo neighsub, Halos\n",
      "Create local domains struct p=3\n",
      "Create map_bf_recv, shared_bf_recv\n",
      "Create Tables\n",
      "End Create Tables\n",
      "Cells, CellsType, CellsLocToGlob\n",
      "PhyFaces, PhyFacesName\n",
      "Halo neighsub, Halos\n",
      "End Halo neighsub, Halos\n",
      "End function\n",
      "Return List \n",
      "Execution time: 0.055186 seconds\n",
      "====> End <=====\n",
      "bounds\n",
      "bounds\n",
      "Execution time: 0.000116 seconds\n",
      "node_cellid\n",
      "Execution time: 0.000108 seconds\n",
      "node_cellid\n",
      "bounds\n",
      "Execution time: 0.000163 seconds\n",
      "node_cellid\n",
      "Execution time: 0.000385 seconds\n",
      "cell_cellnid\n",
      "bounds\n",
      "Execution time: 0.000160 seconds\n",
      "node_cellid\n",
      "Execution time: 0.001257 seconds\n",
      "_create_info\n",
      "Execution time: 0.005932 seconds\n",
      "cell_cellnid\n",
      "Execution time: 0.005922 seconds\n",
      "cell_cellnid\n",
      "Execution time: 0.009892 seconds\n",
      "_create_info\n",
      "Execution time: 0.009827 seconds\n",
      "_create_info\n",
      "Execution time: 0.008898 seconds\n",
      "cell_cellnid\n",
      "Execution time: 0.009757 seconds\n",
      "Create cell volume and center\n",
      "Execution time: 0.015752 seconds\n",
      "Create cell volume and center\n",
      "Execution time: 0.015890 seconds\n",
      "Create cell volume and center\n",
      "Execution time: 0.014955 seconds\n",
      "_create_info\n",
      "Execution time: 0.023753 seconds\n",
      "Face measure face center face normal\n",
      "Execution time: 0.023529 seconds\n",
      "Create cell volume and center\n",
      "Execution time: 0.026144 seconds\n",
      "Face measure face center face normal\n",
      "Execution time: 0.026088 seconds\n",
      "Face measure face center face normal\n",
      "Execution time: 0.037384 seconds\n",
      "Face measure face center face normal\n",
      "Execution time: 0.042893 seconds\n",
      "cell_halofid, cell_halonid, face_haloid, node_haloid\n",
      "Execution time: 0.043014 seconds\n",
      "cell_halofid, cell_halonid, face_haloid, node_haloid\n",
      "Execution time: 0.046604 seconds\n",
      "Create face and node names\n",
      "Execution time: 0.046688 seconds\n",
      "Create face and node names\n",
      "Execution time: 0.046629 seconds\n",
      "cell_halofid, cell_halonid, face_haloid, node_haloid\n",
      "Execution time: 0.051768 seconds\n",
      "Create face and node names\n",
      "Execution time: 0.057831 seconds\n",
      "Create shared_ghost_info\n",
      "Execution time: 0.058445 seconds\n",
      "Create shared_ghost_info\n",
      "Execution time: 0.061589 seconds\n",
      "cell_halofid, cell_halonid, face_haloid, node_haloid\n",
      "Execution time: 0.066981 seconds\n",
      "Create face and node names\n",
      "Execution time: 0.068332 seconds\n",
      "Create shared_ghost_info\n",
      "Execution time: 0.072182 seconds\n",
      "Create shared_ghost_info\n",
      "Execution time: 0.072895 seconds\n",
      "Create shared_ghost_info\n",
      "Execution time: 0.080121 seconds\n",
      "_share_ghost_info\n",
      "Execution time: 0.080956 seconds\n",
      "_share_ghost_info\n",
      "Execution time: 0.084682 seconds\n",
      "Create shared_ghost_info\n",
      "Execution time: 0.088117 seconds\n",
      "Create shared_ghost_info\n",
      "Execution time: 0.100566 seconds\n",
      "_share_ghost_info\n",
      "Execution time: 0.101714 seconds\n",
      "Create shared_ghost_info\n",
      "Execution time: 0.109924 seconds\n",
      "_share_ghost_info\n",
      "Execution time: 0.110106 seconds\n",
      "_create_halo_ghost_tables\n",
      "Execution time: 0.110823 seconds\n",
      "_create_halo_ghost_tables\n",
      "Execution time: 0.112407 seconds\n",
      "_create_halo_ghost_tables\n",
      "Execution time: 0.112373 seconds\n",
      "_create_halo_ghost_tables\n",
      "Execution time: 3.241712 seconds\n",
      "face_gradient_info\n",
      "Execution time: 3.375216 seconds\n",
      "face_gradient_info\n",
      "Execution time: 3.735041 seconds\n",
      "face_gradient_info\n",
      "Execution time: 4.076771 seconds\n",
      "face_gradient_info\n",
      "Execution time: 5.179777 seconds\n",
      "_create_halo_ghost_tables\n",
      "Execution time: 5.638003 seconds\n",
      "_create_halo_ghost_tables\n",
      "Execution time: 5.772101 seconds\n",
      "_create_halo_ghost_tables\n",
      "Execution time: 6.425432 seconds\n",
      "_update_boundaries\n",
      "Execution time: 6.425665 seconds\n",
      "_define_BCs\n",
      "Execution time: 6.425676 seconds\n",
      "_create_normal_face_of_cell_2d\n",
      "Execution time: 6.425685 seconds\n",
      "_dist_ortho_function_2d\n",
      "Execution time: 6.425690 seconds\n",
      "Execution time: 6.813172 seconds\n",
      "_create_halo_ghost_tables\n",
      "Execution time: 6.818027 seconds\n",
      "_update_boundaries\n",
      "Execution time: 6.818443 seconds\n",
      "_define_BCs\n",
      "Execution time: 6.818462 seconds\n",
      "_create_normal_face_of_cell_2d\n",
      "Execution time: 6.818475 seconds\n",
      "_dist_ortho_function_2d\n",
      "Execution time: 6.818486 seconds\n",
      "Execution time: 7.107201 seconds\n",
      "_update_boundaries\n",
      "Execution time: 7.107453 seconds\n",
      "_define_BCs\n",
      "Execution time: 7.107468 seconds\n",
      "_create_normal_face_of_cell_2d\n",
      "Execution time: 7.107477 seconds\n",
      "_dist_ortho_function_2d\n",
      "Execution time: 7.107482 seconds\n",
      "Execution time: 7.301066 seconds\n",
      "_update_boundaries\n",
      "Execution time: 7.301469 seconds\n",
      "_define_BCs\n",
      "Execution time: 7.301487 seconds\n",
      "_create_normal_face_of_cell_2d\n",
      "Execution time: 7.301500 seconds\n",
      "_dist_ortho_function_2d\n",
      "Execution time: 7.301510 seconds\n",
      "saving mesh domain_meshes4PROC/mesh1.hdf5\n",
      "saving mesh domain_meshes4PROC/mesh0.hdf5\n",
      "saving mesh domain_meshes4PROC/mesh3.hdf5\n",
      "saving mesh domain_meshes4PROC/mesh2.hdf5\n",
      "path /home/aben-ham/Desktop/work/manapy/tests/domain/primary/mesh/tetrahedron.msh precision float32 dim 3 rank 0\n",
      "gmsh:physical => triangle\n",
      "gmsh:physical => tetra\n",
      "bounds\n",
      "Execution time: 0.000320 seconds\n",
      "node_cellid\n",
      "Execution time: 0.005913 seconds\n",
      "cell_cellnid\n",
      "Execution time: 0.010881 seconds\n",
      "_create_info\n",
      "Execution time: 0.591845 seconds\n",
      "Create cell volume and center\n",
      "Execution time: 0.603508 seconds\n",
      "Face measure face center face normal\n",
      "Execution time: 0.626240 seconds\n",
      "cell_halofid, cell_halonid, face_haloid, node_haloid\n",
      "Execution time: 0.626272 seconds\n",
      "Create face and node names\n",
      "Execution time: 0.646039 seconds\n",
      "Create shared_ghost_info\n",
      "Execution time: 1.612722 seconds\n",
      "Create shared_ghost_info\n",
      "Execution time: 1.621829 seconds\n",
      "_share_ghost_info\n",
      "Execution time: 1.621850 seconds\n",
      "_create_halo_ghost_tables\n",
      "Execution time: 1.621866 seconds\n",
      "face_gradient_info\n",
      "Execution time: 1.637923 seconds\n",
      "_create_halo_ghost_tables\n",
      "Execution time: 1.640876 seconds\n",
      "_update_boundaries\n",
      "Execution time: 1.641162 seconds\n",
      "_define_BCs\n",
      "Execution time: 1.641173 seconds\n",
      "_create_normal_face_of_cell_2d\n",
      "Execution time: 1.641180 seconds\n",
      "_dist_ortho_function_2d\n",
      "Execution time: 1.641185 seconds\n",
      "saving mesh domain_meshes1PROC/mesh0.hdf5\n"
     ]
    }
   ],
   "execution_count": 142
  },
  {
   "metadata": {
    "ExecuteTime": {
     "end_time": "2025-07-07T16:12:38.731686Z",
     "start_time": "2025-07-07T16:12:30.448919Z"
    }
   },
   "cell_type": "code",
   "source": [
    "import importlib\n",
    "\n",
    "module = importlib.import_module(\"helpers.TablesTestTetra3D\")\n",
    "importlib.reload(module)\n",
    "TablesTestTetra3D = getattr(module, \"TablesTestTetra3D\")\n",
    "\n",
    "module = importlib.import_module(\"helpers.TetraChecker3D\")\n",
    "importlib.reload(module)\n",
    "TetraChecker3D = getattr(module, \"TetraChecker3D\")\n",
    "\n",
    "d_cell_loctoglob = domain_tables.d_cell_loctoglob\n",
    "g_cell_nodeid = unified_domain.d_cell_nodeid[0]\n",
    "test_tables = TablesTestTetra3D(float_precision, d_cell_loctoglob, g_cell_nodeid)\n",
    "test_tables.init()\n",
    "\n",
    "checker = TetraChecker3D(decimal_precision=4, domain_tables=domain_tables, unified_domain=unified_domain, test_tables=test_tables)\n",
    "checker.test_cell_info()\n",
    "checker.test_node_info()\n",
    "# checker.test_face_info()\n",
    "checker.summary()\n",
    "# checker.test_halo_info()\n"
   ],
   "id": "5fb429af9d22b515",
   "outputs": [
    {
     "name": "stdout",
     "output_type": "stream",
     "text": [
      "\n",
      "\u001B[33m# ============================== #\u001B[0m\n",
      "\u001B[33m# ========== Summary =========== #\u001B[0m\n",
      "\u001B[33m# ============================== #\u001B[0m\n",
      "\u001B[34m===>\u001B[0m \u001B[32m8 [P]\u001B[0m \u001B[31m1 [F]\u001B[0m \u001B[34mTotal 9\u001B[0m\n",
      "---------------------------------------------------------\n",
      "---------------------------------------------------------\n",
      "\u001B[34m### Entities Details\u001B[0m\n",
      "\u001B[32m[P] 1/9: Cell Vertices\u001B[0m\n",
      "\u001B[32m[P] 2/9: Cell Halo by node\u001B[0m\n",
      "\u001B[32m[P] 3/9: Cell Ghostnid *\u001B[0m\n",
      "\u001B[31m* [F] 4/9: Cell Haloghostnid and Haloghostcenter * 1 / 6000 688 Failed\u001B[0m\n",
      "\u001B[31m\t\n",
      "\tArrays are not almost equal to 4 decimals\n",
      "\t\n",
      "\t(shapes (0, 3), (7, 3) mismatch)\n",
      "\t x: array([], shape=(0, 3), dtype=float32)\n",
      "\t y: array([[ 1.25 , -0.125,  7.875],\n",
      "\t       [-0.25 ,  0.625,  7.875],\n",
      "\t       [ 0.5  , -0.125,  8.25 ],...\u001B[0m\n",
      "\u001B[32m[P] 5/9: Cell Number of cells\u001B[0m\n",
      "\u001B[32m[P] 6/9: Node Cellid\u001B[0m\n",
      "\u001B[32m[P] 7/9: Node Loctoglob\u001B[0m\n",
      "\u001B[32m[P] 8/9: Node Halonid\u001B[0m\n",
      "\u001B[32m[P] 9/9: Node Number of nodes\u001B[0m\n",
      "\n",
      "---------------------------------------------------------\n",
      "---------------------------------------------------------\n",
      "\u001B[34m===>\u001B[0m \u001B[32m8 [P]\u001B[0m \u001B[31m1 [F]\u001B[0m \u001B[34mTotal 9\u001B[0m\n"
     ]
    },
    {
     "data": {
      "text/plain": [
       "False"
      ]
     },
     "execution_count": 144,
     "metadata": {},
     "output_type": "execute_result"
    }
   ],
   "execution_count": 144
  },
  {
   "metadata": {
    "ExecuteTime": {
     "end_time": "2025-07-07T15:48:34.618822Z",
     "start_time": "2025-07-07T15:48:34.614810Z"
    }
   },
   "cell_type": "code",
   "source": [
    "p = 0\n",
    "i = 0\n",
    "loctoglob = domain_tables.d_cell_loctoglob[p]\n",
    "halonid = test_tables.l_cell_ghostnid[39]\n",
    "print(halonid)"
   ],
   "id": "927875793dac7eb2",
   "outputs": [
    {
     "name": "stdout",
     "output_type": "stream",
     "text": [
      "[ 28  29  30  32  57  58 294 295 296  -1  -1  -1  -1  -1  -1  -1  -1  -1\n",
      "  -1  -1   9]\n"
     ]
    }
   ],
   "execution_count": 131
  },
  {
   "metadata": {
    "ExecuteTime": {
     "end_time": "2025-07-07T16:12:27.008720Z",
     "start_time": "2025-07-07T16:12:27.005303Z"
    }
   },
   "cell_type": "code",
   "source": [
    "p = 0\n",
    "i = 2\n",
    "d_cell_ghostnid = domain_tables.d_cell_ghostnid[p]\n",
    "d_face_ghostcenter = domain_tables.d_face_ghostcenter[p]\n",
    "c_ghostnid = d_cell_ghostnid[i]\n",
    "print(c_ghostnid)\n",
    "c_ghostn_center = d_face_ghostcenter[c_ghostnid[0:c_ghostnid[-1]]]\n",
    "print(c_ghostn_center)\n"
   ],
   "id": "e08ca4dd7c525d09",
   "outputs": [
    {
     "name": "stdout",
     "output_type": "stream",
     "text": [
      "[  2 441   5  65  73  15  19 444 456   0   0   0   0   0   0   0   0   9]\n",
      "[[ 0.5        -0.125       9.75       -2.2926512 ]\n",
      " [ 1.25       -0.125       9.375      -2.757817  ]\n",
      " [-0.25        0.25       10.125      -0.08333334]\n",
      " [-0.25        0.75        8.625      -1.5       ]\n",
      " [-0.25        0.625       9.375      -0.4166667 ]\n",
      " [ 0.25       -0.125      10.875      -2.0714288 ]\n",
      " [ 0.5        -0.125      11.25       -4.8333335 ]\n",
      " [ 1.5        -0.125       9.75       -2.9251068 ]\n",
      " [ 1.25       -0.125      10.875      -9.25      ]]\n"
     ]
    }
   ],
   "execution_count": 143
  },
  {
   "metadata": {
    "ExecuteTime": {
     "end_time": "2025-07-07T15:58:30.059461Z",
     "start_time": "2025-07-07T15:58:30.056545Z"
    }
   },
   "cell_type": "code",
   "source": [
    "cell = domain_tables.d_cells[p][i]\n",
    "node_ghostnid = domain_tables.d_node_ghostid[p]\n",
    "nodes = cell[0:cell[-1]]\n",
    "\n",
    "print(node_ghostnid[nodes])"
   ],
   "id": "f4e8c4654f1369e1",
   "outputs": [
    {
     "name": "stdout",
     "output_type": "stream",
     "text": [
      "[[  2 441   0   0   0   0   2]\n",
      " [  5  65  73   0   0   0   3]\n",
      " [  2  15  19 441 444 456   6]\n",
      " [  0   0   0   0   0   0   0]]\n"
     ]
    }
   ],
   "execution_count": 140
  },
  {
   "metadata": {
    "ExecuteTime": {
     "end_time": "2025-07-07T15:55:51.208946Z",
     "start_time": "2025-07-07T15:55:51.205910Z"
    }
   },
   "cell_type": "code",
   "source": "print(domain_tables.d_cell_ghostnid[0][0:10])",
   "id": "a120cf987d5c98db",
   "outputs": [
    {
     "name": "stdout",
     "output_type": "stream",
     "text": [
      "[[  2 441   5  65  73  15  16  19 444 456   0   0   0   0   0   0   0  10]\n",
      " [  2   5  15  16  19 441 444 456  65  73  22  78  87   0   0   0   0  13]\n",
      " [  0   0   0   0   0   0   0   0   0   0   0   0   0   0   0   0   0   0]\n",
      " [  0   0   0   0   0   0   0   0   0   0   0   0   0   0   0   0   0   0]\n",
      " [  0   0   0   0   0   0   0   0   0   0   0   0   0   0   0   0   0   0]\n",
      " [  2   5  15  16  19 441 444 456  22  73  78  87  31  32   0   0   0  14]\n",
      " [  2  15  19 441 444 456   5  16  22  73  78  87  31  32  35 459 470  17]\n",
      " [ 15  16  19  22  31  32  35 456 459 470   5  73  78  87  38  92 101  17]\n",
      " [  0   0   0   0   0   0   0   0   0   0   0   0   0   0   0   0   0   0]\n",
      " [  0   0   0   0   0   0   0   0   0   0   0   0   0   0   0   0   0   0]]\n"
     ]
    }
   ],
   "execution_count": 137
  },
  {
   "metadata": {
    "ExecuteTime": {
     "end_time": "2025-07-07T15:38:43.946170Z",
     "start_time": "2025-07-07T15:38:43.942509Z"
    }
   },
   "cell_type": "code",
   "source": "print(domain_tables.d_cell_ghostnid[p].shape)",
   "id": "12fe30d155a369b3",
   "outputs": [
    {
     "name": "stdout",
     "output_type": "stream",
     "text": [
      "(1500, 25)\n"
     ]
    }
   ],
   "execution_count": 118
  },
  {
   "metadata": {
    "ExecuteTime": {
     "end_time": "2025-07-07T11:57:27.336987Z",
     "start_time": "2025-07-07T11:57:27.333613Z"
    }
   },
   "cell_type": "code",
   "source": "print(domain_tables.d_node_halonid[0])",
   "id": "556768cef916e099",
   "outputs": [
    {
     "name": "stdout",
     "output_type": "stream",
     "text": [
      "[[  0   1   2 ...   0   0   9]\n",
      " [  1   3   4 ...   0   0   6]\n",
      " [  5   0   0 ...   0   0   1]\n",
      " ...\n",
      " [784 824 785 ...   0   0  10]\n",
      " [793 795 796 ...   0   0   9]\n",
      " [807 801 802 ...   0   0   9]]\n"
     ]
    }
   ],
   "execution_count": 48
  },
  {
   "metadata": {
    "ExecuteTime": {
     "end_time": "2025-07-07T12:09:41.113563Z",
     "start_time": "2025-07-07T12:09:41.106384Z"
    }
   },
   "cell_type": "code",
   "source": [
    "def _is_in_array(array: 'int[:]', item: 'int') -> 'int':\n",
    "  for i in range(array[-1]):\n",
    "    if item == array[i]:\n",
    "      return 1\n",
    "  return 0\n",
    "\n",
    "p = 0\n",
    "cells = domain_tables.d_cells[p]\n",
    "nb_cells = len(cells)\n",
    "node_haloid = domain_tables.d_node_halonid[p]\n",
    "\n",
    "cell_halonid = np.zeros(shape=(nb_cells, 20 + 1), dtype=np.int32)\n",
    "for i in range(nb_cells):\n",
    "  print(cells[i])\n",
    "  for j in range(cells[i, -1]):\n",
    "    n_halo = node_haloid[cells[i, j]]\n",
    "    print(\"=>\", n_halo)\n",
    "    for k in range(n_halo[-1]):\n",
    "      if _is_in_array(cell_halonid[i], n_halo[k]) == 0:\n",
    "        size = cell_halonid[i, -1]\n",
    "        cell_halonid[i, -1] += 1\n",
    "        cell_halonid[i, size] = n_halo[k]\n",
    "  print(\"Res: \", cell_halonid[i])\n",
    "  if i == 2:\n",
    "      break\n",
    "\n",
    "# print(cell_halonid[0:10])"
   ],
   "id": "257d2b0b9649e20f",
   "outputs": [
    {
     "name": "stdout",
     "output_type": "stream",
     "text": [
      "[0 1 2 3 4]\n",
      "=> [ 0  1  2  3  4  5  8  9 10  0  0  0  0  0  0  0  0  0  0  0  0  0  9]\n",
      "=> [1 3 4 5 6 7 0 0 0 0 0 0 0 0 0 0 0 0 0 0 0 0 6]\n",
      "=> [5 0 0 0 0 0 0 0 0 0 0 0 0 0 0 0 0 0 0 0 0 0 1]\n",
      "=> [0 0 0 0 0 0 0 0 0 0 0 0 0 0 0 0 0 0 0 0 0 0 0]\n",
      "Res:  [ 0  1  2  3  4  5  8  9 10  6  7  0  0  0  0  0  0  0  0  0 11]\n",
      "[2 3 1 4 4]\n",
      "=> [5 0 0 0 0 0 0 0 0 0 0 0 0 0 0 0 0 0 0 0 0 0 1]\n",
      "=> [0 0 0 0 0 0 0 0 0 0 0 0 0 0 0 0 0 0 0 0 0 0 0]\n",
      "=> [1 3 4 5 6 7 0 0 0 0 0 0 0 0 0 0 0 0 0 0 0 0 6]\n",
      "=> [0 0 0 0 0 0 0 0 0 0 0 0 0 0 0 0 0 0 0 0 0 0 0]\n",
      "Res:  [5 1 3 4 6 7 0 0 0 0 0 0 0 0 0 0 0 0 0 0 6]\n",
      "[0 1 3 5 4]\n",
      "=> [ 0  1  2  3  4  5  8  9 10  0  0  0  0  0  0  0  0  0  0  0  0  0  9]\n",
      "=> [1 3 4 5 6 7 0 0 0 0 0 0 0 0 0 0 0 0 0 0 0 0 6]\n",
      "=> [0 0 0 0 0 0 0 0 0 0 0 0 0 0 0 0 0 0 0 0 0 0 0]\n",
      "=> [ 4  7 11 10 12 13 14 15  0  0  0  0  0  0  0  0  0  0  0  0  0  0  8]\n",
      "Res:  [ 0  1  2  3  4  5  8  9 10  6  7 11 12 13 14 15  0  0  0  0 16]\n"
     ]
    }
   ],
   "execution_count": 68
  },
  {
   "metadata": {
    "ExecuteTime": {
     "end_time": "2025-07-07T12:05:08.555902Z",
     "start_time": "2025-07-07T12:05:08.553005Z"
    }
   },
   "cell_type": "code",
   "source": [
    "d_nodes = domain_tables.d_nodes[p]\n",
    "d_cells = domain_tables.d_cells[p]\n",
    "i = 400\n",
    "c_cell_vertices = d_nodes[d_cells[i][0:d_cells[i][-1]]]\n",
    "print(c_cell_vertices)"
   ],
   "id": "c7b53737b36003e8",
   "outputs": [
    {
     "name": "stdout",
     "output_type": "stream",
     "text": [
      "[[2.  1.  9. ]\n",
      " [3.  1.  9. ]\n",
      " [2.  1.5 7.5]\n",
      " [2.  1.5 9. ]]\n"
     ]
    }
   ],
   "execution_count": 60
  }
 ],
 "metadata": {
  "kernelspec": {
   "display_name": "Python 3",
   "language": "python",
   "name": "python3"
  },
  "language_info": {
   "codemirror_mode": {
    "name": "ipython",
    "version": 2
   },
   "file_extension": ".py",
   "mimetype": "text/x-python",
   "name": "python",
   "nbconvert_exporter": "python",
   "pygments_lexer": "ipython2",
   "version": "2.7.6"
  }
 },
 "nbformat": 4,
 "nbformat_minor": 5
}
