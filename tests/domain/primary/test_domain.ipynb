{
 "cells": [
  {
   "metadata": {
    "collapsed": true,
    "ExecuteTime": {
     "end_time": "2025-07-08T15:47:38.631646Z",
     "start_time": "2025-07-08T15:46:51.614075Z"
    }
   },
   "cell_type": "code",
   "source": [
    "import subprocess\n",
    "import os\n",
    "import numpy as np\n",
    "import sys\n",
    "\n",
    "sys.path.append(os.path.join(os.getcwd()))\n",
    "sys.path.append(os.path.join(os.getcwd(), 'domain'))\n",
    "from tests.domain.primary.domain.create_domain import DomainTables\n",
    "\n",
    "mpi_exec = \"/usr/bin/mpirun\"\n",
    "python_exec = \"/home/aben-ham/anaconda3/envs/work/bin/python3\"\n",
    "float_precision = 'float32'\n",
    "dim=3\n",
    "mesh_name = 'tetrahedron.msh'\n",
    "\n",
    "def create_partitions(nb_partitions, mesh_name, float_precision, dim):\n",
    "  root_file = os.getcwd()\n",
    "  mesh_file_path = os.path.join(root_file, 'mesh', mesh_name)\n",
    "  script_path = os.path.join(root_file, 'domain', 'create_partitions_mpi_worker.py')\n",
    "  cmd = [mpi_exec, \"-n\", str(nb_partitions), \"--oversubscribe\", python_exec, script_path, mesh_file_path, float_precision, str(dim)]\n",
    "\n",
    "  result = subprocess.run(cmd, env=os.environ.copy(), stderr=subprocess.PIPE)\n",
    "  if result.returncode != 0:\n",
    "    print(result.__str__(), os.getcwd())\n",
    "    raise SystemExit(result.returncode)\n",
    "\n",
    "domain_tables = DomainTables(nb_partitions=4, mesh_name=mesh_name, float_precision=float_precision, dim=dim, create_par_fun=create_partitions)\n",
    "unified_domain = DomainTables(nb_partitions=1, mesh_name=mesh_name, float_precision=float_precision, dim=dim, create_par_fun=create_partitions)"
   ],
   "id": "initial_id",
   "outputs": [
    {
     "name": "stdout",
     "output_type": "stream",
     "text": [
      "path /media/aben-ham/SSD/aben-ham/work/manapy/tests/domain/primary/mesh/tetrahedron.msh precision float32 dim 3 rank 0\n",
      "====> Start <=====\n",
      "====> Creating Mesh <=====\n",
      "\n",
      "path /media/aben-ham/SSD/aben-ham/work/manapy/tests/domain/primary/mesh/tetrahedron.msh precision float32 dim 3 rank 3\n",
      "path /media/aben-ham/SSD/aben-ham/work/manapy/tests/domain/primary/mesh/tetrahedron.msh precision float32 dim 3 rank 1\n",
      "path /media/aben-ham/SSD/aben-ham/work/manapy/tests/domain/primary/mesh/tetrahedron.msh precision float32 dim 3 rank 2\n",
      "node_cellid\n",
      "Execution time: 1.669638 seconds\n",
      "cell_cellnid\n",
      "Execution time: 2.144686 seconds\n",
      "cell_cellfid and boundary_faces\n",
      "Execution time: 4.362438 seconds\n",
      "node_bfid\n",
      "Execution time: 4.362970 seconds\n",
      "Start creating sub domains\n",
      "Parse Input \n",
      "Start Creating SubDomains \n",
      "Make n part\n",
      "Start dense to csr\n",
      "Nb_vertices = 6000\n",
      "size = 22800\n",
      "End dense to csr\n",
      "End METIS_PartGraphKway\n",
      "End function\n",
      "Create local cells\n",
      "Create Physical faces\n",
      "Create local domains struct\n",
      "Create local domains struct p=0\n",
      "Create map_bf_recv, shared_bf_recv\n",
      "Create Tables\n",
      "End Create Tables\n",
      "Cells, CellsType, CellsLocToGlob\n",
      "PhyFaces, PhyFacesName\n",
      "Halo neighsub, Halos\n",
      "End Halo neighsub, Halos\n",
      "Create local domains struct p=1\n",
      "Create map_bf_recv, shared_bf_recv\n",
      "Create Tables\n",
      "End Create Tables\n",
      "Cells, CellsType, CellsLocToGlob\n",
      "PhyFaces, PhyFacesName\n",
      "Halo neighsub, Halos\n",
      "End Halo neighsub, Halos\n",
      "Create local domains struct p=2\n",
      "Create map_bf_recv, shared_bf_recv\n",
      "Create Tables\n",
      "End Create Tables\n",
      "Cells, CellsType, CellsLocToGlob\n",
      "PhyFaces, PhyFacesName\n",
      "Halo neighsub, Halos\n",
      "End Halo neighsub, Halos\n",
      "Create local domains struct p=3\n",
      "Create map_bf_recv, shared_bf_recv\n",
      "Create Tables\n",
      "End Create Tables\n",
      "Cells, CellsType, CellsLocToGlob\n",
      "PhyFaces, PhyFacesName\n",
      "Halo neighsub, Halos\n",
      "End Halo neighsub, Halos\n",
      "End function\n",
      "Return List \n",
      "Execution time: 7.163727 seconds\n",
      "====> End <=====\n",
      "bounds\n",
      "Execution time: 0.000200 seconds\n",
      "node_cellid\n",
      "Execution time: 0.000530 seconds\n",
      "cell_cellnid\n",
      "bounds\n",
      "Execution time: 0.000176 seconds\n",
      "node_cellid\n",
      "bounds\n",
      "Execution time: 0.001352 seconds\n",
      "_create_info\n",
      "Execution time: 0.000307 seconds\n",
      "node_cellid\n",
      "bounds\n",
      "Execution time: 0.000280 seconds\n",
      "node_cellid\n",
      "Execution time: 0.009837 seconds\n",
      "cell_cellnid\n",
      "Execution time: 0.010023 seconds\n",
      "cell_cellnid\n",
      "Execution time: 0.014225 seconds\n",
      "cell_cellnid\n",
      "Execution time: 0.017014 seconds\n",
      "_create_info\n",
      "Execution time: 0.016968 seconds\n",
      "_create_info\n",
      "Execution time: 0.021281 seconds\n",
      "_create_info\n",
      "Execution time: 2.534467 seconds\n",
      "Create cell volume and center\n",
      "Execution time: 2.622816 seconds\n",
      "Create cell volume and center\n",
      "Execution time: 2.623083 seconds\n",
      "Create cell volume and center\n",
      "Execution time: 2.649932 seconds\n",
      "Create cell volume and center\n",
      "Execution time: 4.774710 seconds\n",
      "Face measure face center face normal\n",
      "Execution time: 5.231216 seconds\n",
      "Face measure face center face normal\n",
      "Execution time: 5.247939 seconds\n",
      "Face measure face center face normal\n",
      "Execution time: 5.359957 seconds\n",
      "Face measure face center face normal\n",
      "Execution time: 9.444233 seconds\n",
      "cell_halofid, cell_halonid, face_haloid, node_haloid\n",
      "Execution time: 9.488825 seconds\n",
      "cell_halofid, cell_halonid, face_haloid, node_haloid\n",
      "Execution time: 9.505594 seconds\n",
      "cell_halofid, cell_halonid, face_haloid, node_haloid\n",
      "Execution time: 9.680512 seconds\n",
      "cell_halofid, cell_halonid, face_haloid, node_haloid\n",
      "Execution time: 10.293648 seconds\n",
      "Create face and node names\n",
      "Execution time: 10.333391 seconds\n",
      "Create face and node names\n",
      "Execution time: 10.352134 seconds\n",
      "Create face and node names\n",
      "Execution time: 10.379543 seconds\n",
      "Create face and node names\n",
      "Execution time: 12.486189 seconds\n",
      "Create shared_ghost_info\n",
      "Execution time: 13.829882 seconds\n",
      "Create shared_ghost_info\n",
      "Execution time: 13.851306 seconds\n",
      "Create shared_ghost_info\n",
      "Execution time: 13.894627 seconds\n",
      "Create shared_ghost_info\n",
      "Execution time: 16.888340 seconds\n",
      "Create shared_ghost_info\n",
      "Execution time: 16.920442 seconds\n",
      "Create shared_ghost_info\n",
      "Execution time: 18.434486 seconds\n",
      "_share_ghost_info\n",
      "Execution time: 18.471693 seconds\n",
      "_share_ghost_info\n",
      "Execution time: 18.596861 seconds\n",
      "Create shared_ghost_info\n",
      "Execution time: 18.614586 seconds\n",
      "_share_ghost_info\n",
      "Execution time: 18.617509 seconds\n",
      "Create shared_ghost_info\n",
      "Execution time: 18.634491 seconds\n",
      "_share_ghost_info\n",
      "Execution time: 18.634857 seconds\n",
      "_create_halo_ghost_tables\n",
      "Execution time: 18.634672 seconds\n",
      "_create_halo_ghost_tables\n",
      "Execution time: 18.632985 seconds\n",
      "_create_halo_ghost_tables\n",
      "Execution time: 18.635918 seconds\n",
      "_create_halo_ghost_tables\n",
      "Execution time: 23.327911 seconds\n",
      "face_gradient_info\n",
      "Execution time: 23.356706 seconds\n",
      "face_gradient_info\n",
      "Execution time: 23.384225 seconds\n",
      "face_gradient_info\n",
      "Execution time: 23.407250 seconds\n",
      "face_gradient_info\n",
      "Execution time: 26.197169 seconds\n",
      "_create_halo_ghost_tables\n",
      "Execution time: 26.200906 seconds\n",
      "_create_halo_ghost_tables\n",
      "Execution time: 26.224431 seconds\n",
      "_create_halo_ghost_tables\n",
      "Execution time: 26.244058 seconds\n",
      "_create_halo_ghost_tables\n",
      "Execution time: 28.608755 seconds\n",
      "_update_boundaries\n",
      "Execution time: 28.609145 seconds\n",
      "_define_BCs\n",
      "Execution time: 28.609170 seconds\n",
      "_create_normal_face_of_cell_2d\n",
      "Execution time: 28.609185 seconds\n",
      "_dist_ortho_function_2d\n",
      "Execution time: 28.609194 seconds\n",
      "Execution time: 28.665423 seconds\n",
      "_update_boundaries\n",
      "Execution time: 28.665780 seconds\n",
      "_define_BCs\n",
      "Execution time: 28.665799 seconds\n",
      "_create_normal_face_of_cell_2d\n",
      "Execution time: 28.665822 seconds\n",
      "_dist_ortho_function_2d\n",
      "Execution time: 28.665832 seconds\n",
      "Execution time: 28.708034 seconds\n",
      "_update_boundaries\n",
      "Execution time: 28.708362 seconds\n",
      "_define_BCs\n",
      "Execution time: 28.708384 seconds\n",
      "_create_normal_face_of_cell_2d\n",
      "Execution time: 28.708412 seconds\n",
      "_dist_ortho_function_2d\n",
      "Execution time: 28.708430 seconds\n",
      "Execution time: 28.742923 seconds\n",
      "_update_boundaries\n",
      "Execution time: 28.743307 seconds\n",
      "_define_BCs\n",
      "Execution time: 28.743333 seconds\n",
      "_create_normal_face_of_cell_2d\n",
      "Execution time: 28.743357 seconds\n",
      "_dist_ortho_function_2d\n",
      "Execution time: 28.743377 seconds\n",
      "saving mesh domain_meshes4PROC/mesh2.hdf5\n",
      "saving mesh domain_meshes4PROC/mesh0.hdf5\n",
      "saving mesh domain_meshes4PROC/mesh1.hdf5\n",
      "saving mesh domain_meshes4PROC/mesh3.hdf5\n",
      "path /media/aben-ham/SSD/aben-ham/work/manapy/tests/domain/primary/mesh/tetrahedron.msh precision float32 dim 3 rank 0\n",
      "\n",
      "bounds\n",
      "Execution time: 0.000518 seconds\n",
      "node_cellid\n",
      "Execution time: 0.010050 seconds\n",
      "cell_cellnid\n",
      "Execution time: 0.018895 seconds\n",
      "_create_info\n",
      "Execution time: 1.036399 seconds\n",
      "Create cell volume and center\n",
      "Execution time: 1.054276 seconds\n",
      "Face measure face center face normal\n",
      "Execution time: 1.093289 seconds\n",
      "cell_halofid, cell_halonid, face_haloid, node_haloid\n",
      "Execution time: 1.093343 seconds\n",
      "Create face and node names\n",
      "Execution time: 1.133889 seconds\n",
      "Create shared_ghost_info\n",
      "Execution time: 2.651451 seconds\n",
      "Create shared_ghost_info\n",
      "Execution time: 2.666839 seconds\n",
      "_share_ghost_info\n",
      "Execution time: 2.666882 seconds\n",
      "_create_halo_ghost_tables\n",
      "Execution time: 2.666984 seconds\n",
      "face_gradient_info\n",
      "Execution time: 2.692170 seconds\n",
      "_create_halo_ghost_tables\n",
      "Execution time: 2.696990 seconds\n",
      "_update_boundaries\n",
      "Execution time: 2.697583 seconds\n",
      "_define_BCs\n",
      "Execution time: 2.697622 seconds\n",
      "_create_normal_face_of_cell_2d\n",
      "Execution time: 2.697635 seconds\n",
      "_dist_ortho_function_2d\n",
      "Execution time: 2.697662 seconds\n",
      "saving mesh domain_meshes1PROC/mesh0.hdf5\n"
     ]
    }
   ],
   "execution_count": 1
  },
  {
   "metadata": {
    "ExecuteTime": {
     "end_time": "2025-07-08T15:50:00.749742Z",
     "start_time": "2025-07-08T15:49:37.263222Z"
    }
   },
   "cell_type": "code",
   "source": [
    "import importlib\n",
    "\n",
    "module = importlib.import_module(\"helpers.TablesTestTetra3D\")\n",
    "importlib.reload(module)\n",
    "TablesTestTetra3D = getattr(module, \"TablesTestTetra3D\")\n",
    "\n",
    "module = importlib.import_module(\"helpers.TetraChecker3D\")\n",
    "importlib.reload(module)\n",
    "TetraChecker3D = getattr(module, \"TetraChecker3D\")\n",
    "\n",
    "d_cell_loctoglob = domain_tables.d_cell_loctoglob\n",
    "g_cell_nodeid = unified_domain.d_cell_nodeid[0]\n",
    "test_tables = TablesTestTetra3D(float_precision, d_cell_loctoglob, g_cell_nodeid)\n",
    "test_tables.init()\n",
    "\n",
    "checker = TetraChecker3D(decimal_precision=4, domain_tables=domain_tables, unified_domain=unified_domain, test_tables=test_tables)\n",
    "checker.test_cell_info()\n",
    "checker.test_node_info()\n",
    "# checker.test_face_info()\n",
    "checker.summary()\n",
    "# checker.test_halo_info()\n"
   ],
   "id": "5fb429af9d22b515",
   "outputs": [
    {
     "name": "stdout",
     "output_type": "stream",
     "text": [
      "\n",
      "\u001B[33m# ============================== #\u001B[0m\n",
      "\u001B[33m# ========== Summary =========== #\u001B[0m\n",
      "\u001B[33m# ============================== #\u001B[0m\n",
      "\u001B[34m===>\u001B[0m \u001B[32m13 [P]\u001B[0m \u001B[31m1 [F]\u001B[0m \u001B[34mTotal 14\u001B[0m\n",
      "---------------------------------------------------------\n",
      "---------------------------------------------------------\n",
      "\u001B[34m### Entities Details\u001B[0m\n",
      "\u001B[32m[P] 1/14: Cell Vertices\u001B[0m\n",
      "\u001B[32m[P] 2/14: Cell Center\u001B[0m\n",
      "\u001B[32m[P] 3/14: Cell Area\u001B[0m\n",
      "\u001B[32m[P] 4/14: Cell Neighbors by face\u001B[0m\n",
      "\u001B[32m[P] 5/14: Cell Neighbors by node\u001B[0m\n",
      "\u001B[31m* [F] 6/14: Cell Halo by face 1 / 6000 799 Failed\u001B[0m\n",
      "\u001B[31m\t\n",
      "\tArrays are not equal\n",
      "\t\n",
      "\t(shapes (1,), (0,) mismatch)\n",
      "\t x: array([36], dtype=int32)\n",
      "\t y: array([], dtype=int32)\u001B[0m\n",
      "\u001B[32m[P] 7/14: Cell Halo by node\u001B[0m\n",
      "\u001B[32m[P] 8/14: Cell Ghostnid *\u001B[0m\n",
      "\u001B[32m[P] 9/14: Cell Haloghostnid and Haloghostcenter *\u001B[0m\n",
      "\u001B[32m[P] 10/14: Cell Number of cells\u001B[0m\n",
      "\u001B[32m[P] 11/14: Node Cellid\u001B[0m\n",
      "\u001B[32m[P] 12/14: Node Loctoglob\u001B[0m\n",
      "\u001B[32m[P] 13/14: Node Halonid\u001B[0m\n",
      "\u001B[32m[P] 14/14: Node Number of nodes\u001B[0m\n",
      "\n",
      "---------------------------------------------------------\n",
      "---------------------------------------------------------\n",
      "\u001B[34m===>\u001B[0m \u001B[32m13 [P]\u001B[0m \u001B[31m1 [F]\u001B[0m \u001B[34mTotal 14\u001B[0m\n"
     ]
    },
    {
     "data": {
      "text/plain": [
       "False"
      ]
     },
     "execution_count": 3,
     "metadata": {},
     "output_type": "execute_result"
    }
   ],
   "execution_count": 3
  },
  {
   "metadata": {
    "ExecuteTime": {
     "end_time": "2025-07-08T15:27:18.470256Z",
     "start_time": "2025-07-08T15:27:18.465611Z"
    }
   },
   "cell_type": "code",
   "source": [
    "halonid = test_tables.cell_haloghostnid[3363]\n",
    "print(halonid)"
   ],
   "id": "927875793dac7eb2",
   "outputs": [
    {
     "name": "stdout",
     "output_type": "stream",
     "text": [
      "[565 568 569 641 644 720 721  -1  -1  -1  -1  -1  -1  -1  -1  -1  -1  -1\n",
      "  -1  -1   7]\n"
     ]
    }
   ],
   "execution_count": 3
  },
  {
   "metadata": {
    "ExecuteTime": {
     "end_time": "2025-07-08T15:27:40.748213Z",
     "start_time": "2025-07-08T15:27:40.741533Z"
    }
   },
   "cell_type": "code",
   "source": "print(test_tables.node_haloghostid[3363])",
   "id": "a9ee13fe0e69442d",
   "outputs": [
    {
     "name": "stdout",
     "output_type": "stream",
     "text": [
      "[[641 644 720 721  -1  -1   4]\n",
      " [565 568 569 644  -1  -1   4]\n",
      " [ -1  -1  -1  -1  -1  -1   0]\n",
      " [ -1  -1  -1  -1  -1  -1   0]]\n"
     ]
    }
   ],
   "execution_count": 4
  },
  {
   "metadata": {
    "ExecuteTime": {
     "end_time": "2025-07-08T15:28:00.381554Z",
     "start_time": "2025-07-08T15:28:00.368226Z"
    }
   },
   "cell_type": "code",
   "source": [
    "p = 2\n",
    "i = 10\n",
    "\n",
    "for i in range(domain_tables.d_cell_haloghostnid[p].shape[0]):\n",
    "  c_haloghostnid = domain_tables.d_cell_haloghostnid[p][i]\n",
    "  c_haloghostnid = c_haloghostnid[0:c_haloghostnid[-1]]\n",
    "  c_haloghostcenter = domain_tables.d_cell_haloghostcenter[p][c_haloghostnid][:, 0:3] # center (x, y, z)\n",
    "\n",
    "  if (c_haloghostnid.shape[0] != 0 and i == 10):\n",
    "    print(c_haloghostcenter)\n"
   ],
   "id": "e08ca4dd7c525d09",
   "outputs": [],
   "execution_count": 6
  },
  {
   "metadata": {
    "ExecuteTime": {
     "end_time": "2025-07-08T15:38:48.661100Z",
     "start_time": "2025-07-08T15:38:48.652284Z"
    }
   },
   "cell_type": "code",
   "source": [
    "p = 2\n",
    "i = 10\n",
    "\n",
    "cell = domain_tables.d_cells[p][i]\n",
    "nodes = cell[0:cell[-1]]\n",
    "print(nodes)\n",
    "print(domain_tables.d_node_halobfid[p][nodes])\n",
    "\n",
    "for k in range(domain_tables.d_bcell_halobfid[p].shape[0]):\n",
    "  if domain_tables.d_bcell_halobfid[p][k, 0] == i:\n",
    "    print(domain_tables.d_bcell_halobfid[p][k])\n",
    "print(domain_tables.d_cell_haloghostnid[p][i])"
   ],
   "id": "21db116aaa5ff4e5",
   "outputs": [
    {
     "name": "stdout",
     "output_type": "stream",
     "text": [
      "[12 13 14 15]\n",
      "[[ 24  23  32  30   0   4]\n",
      " [ 38  39 407  23   0   4]\n",
      " [  0   0   0   0   0   0]\n",
      " [  0   0   0   0   0   0]]\n",
      "[10  0  0  0  0  0  0  0  0  1]\n",
      "[0 0 0 0 0 0 0 0 0]\n"
     ]
    }
   ],
   "execution_count": 7
  },
  {
   "metadata": {
    "ExecuteTime": {
     "end_time": "2025-07-08T14:18:22.450705Z",
     "start_time": "2025-07-08T14:18:22.443269Z"
    }
   },
   "cell_type": "code",
   "source": [
    "c_haloghostnid = domain_tables.d_cell_haloghostnid[p][i]\n",
    "c_haloghostnid = c_haloghostnid[0:c_haloghostnid[-1]]\n",
    "print(domain_tables.d_cell_haloghostcenter[p].shape)"
   ],
   "id": "f4e8c4654f1369e1",
   "outputs": [
    {
     "name": "stdout",
     "output_type": "stream",
     "text": [
      "(93, 3)\n"
     ]
    }
   ],
   "execution_count": 14
  },
  {
   "metadata": {
    "ExecuteTime": {
     "end_time": "2025-07-08T13:54:26.171165Z",
     "start_time": "2025-07-08T13:54:26.163295Z"
    }
   },
   "cell_type": "code",
   "source": "print(domain_tables.d_cell_ghostnid[0][0:10])",
   "id": "a120cf987d5c98db",
   "outputs": [
    {
     "name": "stdout",
     "output_type": "stream",
     "text": [
      "[[  2 441   5  65  73  15  16  19 444 456   0   0   0   0   0   0   0  10]\n",
      " [  2   5  15  16  19 441 444 456  65  73  22  78  87   0   0   0   0  13]\n",
      " [  2 441   5  65  73  15  19 444 456   0   0   0   0   0   0   0   0   9]\n",
      " [  5  65  73  16  22  78  87   2  15  19 441 444 456   0   0   0   0  13]\n",
      " [  2  15  19 441 444 456   5  16  22  73  78  87   0   0   0   0   0  12]\n",
      " [  2   5  15  16  19 441 444 456  22  73  78  87  31  32   0   0   0  14]\n",
      " [  2  15  19 441 444 456   5  16  22  73  78  87  31  32  35 459 470  17]\n",
      " [ 15  16  19  22  31  32  35 456 459 470   5  73  78  87  38  92 101  17]\n",
      " [  2  15  19 441 444 456   5  16  22  73  78  87  31  35 459 470   0  16]\n",
      " [  5  16  22  73  78  87  32  38  92 101  19  31  35 456 459 470   0  16]]\n"
     ]
    }
   ],
   "execution_count": 6
  },
  {
   "metadata": {
    "ExecuteTime": {
     "end_time": "2025-07-07T15:38:43.946170Z",
     "start_time": "2025-07-07T15:38:43.942509Z"
    }
   },
   "cell_type": "code",
   "source": "print(domain_tables.d_cell_ghostnid[p].shape)",
   "id": "12fe30d155a369b3",
   "outputs": [
    {
     "name": "stdout",
     "output_type": "stream",
     "text": [
      "(1500, 25)\n"
     ]
    }
   ],
   "execution_count": 118
  },
  {
   "metadata": {
    "ExecuteTime": {
     "end_time": "2025-07-07T11:57:27.336987Z",
     "start_time": "2025-07-07T11:57:27.333613Z"
    }
   },
   "cell_type": "code",
   "source": "print(domain_tables.d_node_halonid[0])",
   "id": "556768cef916e099",
   "outputs": [
    {
     "name": "stdout",
     "output_type": "stream",
     "text": [
      "[[  0   1   2 ...   0   0   9]\n",
      " [  1   3   4 ...   0   0   6]\n",
      " [  5   0   0 ...   0   0   1]\n",
      " ...\n",
      " [784 824 785 ...   0   0  10]\n",
      " [793 795 796 ...   0   0   9]\n",
      " [807 801 802 ...   0   0   9]]\n"
     ]
    }
   ],
   "execution_count": 48
  },
  {
   "metadata": {
    "ExecuteTime": {
     "end_time": "2025-07-07T12:09:41.113563Z",
     "start_time": "2025-07-07T12:09:41.106384Z"
    }
   },
   "cell_type": "code",
   "source": [
    "def _is_in_array(array: 'int[:]', item: 'int') -> 'int':\n",
    "  for i in range(array[-1]):\n",
    "    if item == array[i]:\n",
    "      return 1\n",
    "  return 0\n",
    "\n",
    "p = 0\n",
    "cells = domain_tables.d_cells[p]\n",
    "nb_cells = len(cells)\n",
    "node_haloid = domain_tables.d_node_halonid[p]\n",
    "\n",
    "cell_halonid = np.zeros(shape=(nb_cells, 20 + 1), dtype=np.int32)\n",
    "for i in range(nb_cells):\n",
    "  print(cells[i])\n",
    "  for j in range(cells[i, -1]):\n",
    "    n_halo = node_haloid[cells[i, j]]\n",
    "    print(\"=>\", n_halo)\n",
    "    for k in range(n_halo[-1]):\n",
    "      if _is_in_array(cell_halonid[i], n_halo[k]) == 0:\n",
    "        size = cell_halonid[i, -1]\n",
    "        cell_halonid[i, -1] += 1\n",
    "        cell_halonid[i, size] = n_halo[k]\n",
    "  print(\"Res: \", cell_halonid[i])\n",
    "  if i == 2:\n",
    "      break\n",
    "\n",
    "# print(cell_halonid[0:10])"
   ],
   "id": "257d2b0b9649e20f",
   "outputs": [
    {
     "name": "stdout",
     "output_type": "stream",
     "text": [
      "[0 1 2 3 4]\n",
      "=> [ 0  1  2  3  4  5  8  9 10  0  0  0  0  0  0  0  0  0  0  0  0  0  9]\n",
      "=> [1 3 4 5 6 7 0 0 0 0 0 0 0 0 0 0 0 0 0 0 0 0 6]\n",
      "=> [5 0 0 0 0 0 0 0 0 0 0 0 0 0 0 0 0 0 0 0 0 0 1]\n",
      "=> [0 0 0 0 0 0 0 0 0 0 0 0 0 0 0 0 0 0 0 0 0 0 0]\n",
      "Res:  [ 0  1  2  3  4  5  8  9 10  6  7  0  0  0  0  0  0  0  0  0 11]\n",
      "[2 3 1 4 4]\n",
      "=> [5 0 0 0 0 0 0 0 0 0 0 0 0 0 0 0 0 0 0 0 0 0 1]\n",
      "=> [0 0 0 0 0 0 0 0 0 0 0 0 0 0 0 0 0 0 0 0 0 0 0]\n",
      "=> [1 3 4 5 6 7 0 0 0 0 0 0 0 0 0 0 0 0 0 0 0 0 6]\n",
      "=> [0 0 0 0 0 0 0 0 0 0 0 0 0 0 0 0 0 0 0 0 0 0 0]\n",
      "Res:  [5 1 3 4 6 7 0 0 0 0 0 0 0 0 0 0 0 0 0 0 6]\n",
      "[0 1 3 5 4]\n",
      "=> [ 0  1  2  3  4  5  8  9 10  0  0  0  0  0  0  0  0  0  0  0  0  0  9]\n",
      "=> [1 3 4 5 6 7 0 0 0 0 0 0 0 0 0 0 0 0 0 0 0 0 6]\n",
      "=> [0 0 0 0 0 0 0 0 0 0 0 0 0 0 0 0 0 0 0 0 0 0 0]\n",
      "=> [ 4  7 11 10 12 13 14 15  0  0  0  0  0  0  0  0  0  0  0  0  0  0  8]\n",
      "Res:  [ 0  1  2  3  4  5  8  9 10  6  7 11 12 13 14 15  0  0  0  0 16]\n"
     ]
    }
   ],
   "execution_count": 68
  },
  {
   "metadata": {
    "ExecuteTime": {
     "end_time": "2025-07-07T12:05:08.555902Z",
     "start_time": "2025-07-07T12:05:08.553005Z"
    }
   },
   "cell_type": "code",
   "source": [
    "d_nodes = domain_tables.d_nodes[p]\n",
    "d_cells = domain_tables.d_cells[p]\n",
    "i = 400\n",
    "c_cell_vertices = d_nodes[d_cells[i][0:d_cells[i][-1]]]\n",
    "print(c_cell_vertices)"
   ],
   "id": "c7b53737b36003e8",
   "outputs": [
    {
     "name": "stdout",
     "output_type": "stream",
     "text": [
      "[[2.  1.  9. ]\n",
      " [3.  1.  9. ]\n",
      " [2.  1.5 7.5]\n",
      " [2.  1.5 9. ]]\n"
     ]
    }
   ],
   "execution_count": 60
  }
 ],
 "metadata": {
  "kernelspec": {
   "display_name": "Python 3",
   "language": "python",
   "name": "python3"
  },
  "language_info": {
   "codemirror_mode": {
    "name": "ipython",
    "version": 2
   },
   "file_extension": ".py",
   "mimetype": "text/x-python",
   "name": "python",
   "nbconvert_exporter": "python",
   "pygments_lexer": "ipython2",
   "version": "2.7.6"
  }
 },
 "nbformat": 4,
 "nbformat_minor": 5
}
