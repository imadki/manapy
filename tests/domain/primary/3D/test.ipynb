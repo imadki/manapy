{
 "cells": [
  {
   "cell_type": "code",
   "id": "initial_id",
   "metadata": {
    "collapsed": true,
    "ExecuteTime": {
     "end_time": "2024-12-19T16:38:10.440473Z",
     "start_time": "2024-12-19T16:38:10.052477Z"
    }
   },
   "source": [
    "import meshio\n",
    "import os\n",
    "import numpy as np\n",
    "from manapy.ddm import Domain\n",
    "from manapy.partitions import MeshPartition\n",
    "from manapy.base.base import Struct\n",
    "\n",
    "dim = 3\n",
    "float_precision = 'float32'\n",
    "PATH = \"/home/aben-ham/Desktop/work/manapy0.4/tests/domain/primary/3D/\"\n",
    "PATH = os.path.join(PATH, 'mesh', 'tetrahedron.msh')\n",
    "#PATH = os.path.join(PATH, 'mesh', 'cuboid.msh')\n",
    "\n",
    "running_conf = Struct(backend=\"numba\", signature=True, cache=True, float_precision=float_precision)\n",
    "MeshPartition(PATH, dim=dim, conf=running_conf, periodic=[0, 0, 0])\n",
    "domain = Domain(dim=dim, conf=running_conf)\n",
    "m_mesh = meshio.read(PATH)"
   ],
   "outputs": [
    {
     "name": "stdout",
     "output_type": "stream",
     "text": [
      "(int32[:,:], int32[:,:], int32[:,:])\n",
      "Reading gmsh file ...\n",
      "Saving partition files ...\n",
      "Number of Cells: 6000\n",
      "Number of Vertices: 1331\n",
      "Local domain contruction ...\n",
      "(int32[:,:], float64[:,:], int32, float64[:,:], float64[:])\n",
      "(int32[:,:], float64[:,:], int32, int32)\n",
      "(int32[:,:], int32, int32[:,:], int32[:,:])\n",
      "(int32, int64[:], int32[:,:], int32[:,:], int32)\n",
      "(int32[:,:], int32, int32, int32[:,:], int32)\n",
      "(int32[:,:], int32[:,:], int32, int32)\n",
      "(int32[:,:], int32[:,:], int32[:], float64[:,:], float64[:,:], int32, float64[:,:], float64[:,:], float64[:,:], float64[:], float64[:,:], int32[:])\n",
      "(int32[:,:], float64[:,:], float64[:,:])\n",
      "(int32[:,:], int32[:,:], int32[:,:], int32[:], int32[:], int32[:], int32, int32, int32, int32)\n",
      "(float64[:,:,:], int32[:,:])\n",
      "(float64[:,:], int32[:,:], int32[:,:], int32[:,:], int32[:,:], int32[:,:], float64[:,:], float64[:,:], float64[:,:], float64[:,:], float64[:], float64[:], float64[:], float64[:], float64[:], float64[:], int32[:], float64[:,:])\n",
      "(int32[:,:], int32[:,:], float64[:,:], int32[:], float64[:,:], float64[:,:], float64[:,:], int32[:], float64[:,:], float64[:], float64[:], float64[:], float64[:], float64[:,:], float64[:,:], float64[:,:], int32)\n"
     ]
    }
   ],
   "execution_count": 37
  },
  {
   "metadata": {
    "ExecuteTime": {
     "end_time": "2024-12-19T16:38:13.124715Z",
     "start_time": "2024-12-19T16:38:13.120288Z"
    }
   },
   "cell_type": "code",
   "source": [
    "  d_cells = domain._cells._nodeid\n",
    "  d_points = domain._nodes._vertex\n",
    "  d_center = domain._cells._center\n",
    "  d_volume = domain._cells._volume"
   ],
   "id": "c72020bd3ec3beec",
   "outputs": [],
   "execution_count": 38
  },
  {
   "metadata": {
    "ExecuteTime": {
     "end_time": "2024-12-19T16:08:54.325634Z",
     "start_time": "2024-12-19T16:08:54.318922Z"
    }
   },
   "cell_type": "code",
   "source": "d_cells",
   "id": "2a0b4b8f30926b37",
   "outputs": [
    {
     "data": {
      "text/plain": [
       "array([[  6,  62, 106,  61,   4],\n",
       "       [ 62, 106,  61, 520,   4],\n",
       "       [ 61, 520, 106, 431,   4],\n",
       "       ...,\n",
       "       [358, 521,  89,  43,   4],\n",
       "       [521,   8,  89,  43,   4],\n",
       "       [ 89,   8,   0,  43,   4]], dtype=int32)"
      ]
     },
     "execution_count": 23,
     "metadata": {},
     "output_type": "execute_result"
    }
   ],
   "execution_count": 23
  },
  {
   "metadata": {
    "ExecuteTime": {
     "end_time": "2024-12-19T16:04:47.494141Z",
     "start_time": "2024-12-19T16:04:47.480382Z"
    }
   },
   "cell_type": "code",
   "source": [
    "cube = np.array([\n",
    "  [0, 0, 0],\n",
    "  [1, 1, 1],\n",
    "  [2, 2, 2],\n",
    "  [3, 3, 3],\n",
    "  [4, 4, 4],\n",
    "  [5, 5, 5],\n",
    "  [6, 6, 6],\n",
    "  [7, 7, 7],\n",
    "], dtype=np.float64)\n",
    "points = np.array([\n",
    "  [cube[6], cube[7], cube[2], cube[5]],\n",
    "  [cube[7], cube[2], cube[5], cube[4]],\n",
    "  [cube[5], cube[4], cube[2], cube[1]],\n",
    "  [cube[7], cube[2], cube[4], cube[3]],\n",
    "  [cube[2], cube[1], cube[4], cube[3]],\n",
    "  [cube[4], cube[1], cube[0], cube[3]],\n",
    "])\n",
    "\n",
    "points\n"
   ],
   "id": "37c6689c94c34cfd",
   "outputs": [
    {
     "data": {
      "text/plain": [
       "array([[[6., 6., 6.],\n",
       "        [7., 7., 7.],\n",
       "        [2., 2., 2.],\n",
       "        [5., 5., 5.]],\n",
       "\n",
       "       [[7., 7., 7.],\n",
       "        [2., 2., 2.],\n",
       "        [5., 5., 5.],\n",
       "        [4., 4., 4.]],\n",
       "\n",
       "       [[5., 5., 5.],\n",
       "        [4., 4., 4.],\n",
       "        [2., 2., 2.],\n",
       "        [1., 1., 1.]],\n",
       "\n",
       "       [[7., 7., 7.],\n",
       "        [2., 2., 2.],\n",
       "        [4., 4., 4.],\n",
       "        [3., 3., 3.]],\n",
       "\n",
       "       [[2., 2., 2.],\n",
       "        [1., 1., 1.],\n",
       "        [4., 4., 4.],\n",
       "        [3., 3., 3.]],\n",
       "\n",
       "       [[4., 4., 4.],\n",
       "        [1., 1., 1.],\n",
       "        [0., 0., 0.],\n",
       "        [3., 3., 3.]]])"
      ]
     },
     "execution_count": 13,
     "metadata": {},
     "output_type": "execute_result"
    }
   ],
   "execution_count": 13
  },
  {
   "metadata": {
    "ExecuteTime": {
     "end_time": "2024-12-19T16:48:36.179549Z",
     "start_time": "2024-12-19T16:48:36.072433Z"
    }
   },
   "cell_type": "code",
   "source": [
    "def main_test(domain, decimal_precision):\n",
    "  \"\"\"\n",
    "  :param domain: manapy domain\n",
    "  :param decimal_precision: decimal precision for comparison\n",
    "\n",
    "  :details Create a cuboid mesh constructed from cuboid cells, retrieve the cell center and area, and compare them with the corresponding domain values.\n",
    "  \"\"\"\n",
    "  With = 10.0\n",
    "  Height = 5.0\n",
    "  Depth = 15.0\n",
    "  StepX = With / 10.0\n",
    "  StepY = Height / 10.0\n",
    "  StepZ = Depth / 10.0\n",
    "\n",
    "  d_cells = domain._cells._nodeid\n",
    "  d_points = domain._nodes._vertex[:, 0:3]\n",
    "  d_center = domain._cells._center[:, 0:3]\n",
    "  d_volume = domain._cells._volume\n",
    "\n",
    "  cmp = 0\n",
    "  for x in np.arange(With, 0.0, -StepX):\n",
    "    for z in np.arange(Depth, 0.0, -StepZ):\n",
    "      for y in np.arange(Height, 0.0, -StepY):\n",
    "        cuboid_points = np.array([\n",
    "          [x, y, z],\n",
    "          [x - StepX, y, z],\n",
    "          [x - StepX, y, z - StepZ],\n",
    "          [x, y, z - StepZ],\n",
    "\n",
    "          [x, y - StepY, z],\n",
    "          [x - StepX, y - StepY, z],\n",
    "          [x - StepX, y - StepY, z - StepZ],\n",
    "          [x, y - StepY, z - StepZ],\n",
    "        ], dtype=d_points.dtype)\n",
    "\n",
    "        tetrahedrons = np.array([\n",
    "          [cuboid_points[0], cuboid_points[1], cuboid_points[3], cuboid_points[4]],\n",
    "          [cuboid_points[1], cuboid_points[3], cuboid_points[4], cuboid_points[5]],\n",
    "          [cuboid_points[4], cuboid_points[5], cuboid_points[3], cuboid_points[7]],\n",
    "          [cuboid_points[1], cuboid_points[3], cuboid_points[5], cuboid_points[2]],\n",
    "          [cuboid_points[3], cuboid_points[7], cuboid_points[5], cuboid_points[2]],\n",
    "          [cuboid_points[5], cuboid_points[7], cuboid_points[6], cuboid_points[2]],\n",
    "        ])\n",
    "        if cmp == 1:\n",
    "          print(tetrahedrons)\n",
    "        cmp += 1\n",
    "\n",
    "main_test(domain, 4)"
   ],
   "id": "83c43cc6ce554ac2",
   "outputs": [
    {
     "name": "stdout",
     "output_type": "stream",
     "text": [
      "[[[10.   4.5 15. ]\n",
      "  [ 9.   4.5 15. ]\n",
      "  [10.   4.5 13.5]\n",
      "  [10.   4.  15. ]]\n",
      "\n",
      " [[ 9.   4.5 15. ]\n",
      "  [10.   4.5 13.5]\n",
      "  [10.   4.  15. ]\n",
      "  [ 9.   4.  15. ]]\n",
      "\n",
      " [[10.   4.  15. ]\n",
      "  [ 9.   4.  15. ]\n",
      "  [10.   4.5 13.5]\n",
      "  [10.   4.  13.5]]\n",
      "\n",
      " [[ 9.   4.5 15. ]\n",
      "  [10.   4.5 13.5]\n",
      "  [ 9.   4.  15. ]\n",
      "  [ 9.   4.5 13.5]]\n",
      "\n",
      " [[10.   4.5 13.5]\n",
      "  [10.   4.  13.5]\n",
      "  [ 9.   4.  15. ]\n",
      "  [ 9.   4.5 13.5]]\n",
      "\n",
      " [[ 9.   4.  15. ]\n",
      "  [10.   4.  13.5]\n",
      "  [ 9.   4.  13.5]\n",
      "  [ 9.   4.5 13.5]]]\n"
     ]
    }
   ],
   "execution_count": 65
  },
  {
   "metadata": {
    "ExecuteTime": {
     "end_time": "2024-12-19T16:38:35.065079Z",
     "start_time": "2024-12-19T16:38:35.059619Z"
    }
   },
   "cell_type": "code",
   "source": "m_mesh.cells['tetra'][0:6]",
   "id": "507f7b3b0e088d23",
   "outputs": [
    {
     "data": {
      "text/plain": [
       "array([[  6,  62, 106,  61],\n",
       "       [ 62, 106,  61, 520],\n",
       "       [ 61, 520, 106, 431],\n",
       "       [ 62, 106, 520, 197],\n",
       "       [106, 431, 520, 197],\n",
       "       [520, 431, 602, 197]])"
      ]
     },
     "execution_count": 39,
     "metadata": {},
     "output_type": "execute_result"
    }
   ],
   "execution_count": 39
  },
  {
   "metadata": {
    "ExecuteTime": {
     "end_time": "2024-12-19T16:32:43.404146Z",
     "start_time": "2024-12-19T16:32:43.398617Z"
    }
   },
   "cell_type": "code",
   "source": "m_mesh.cells['hexahedron'][0]",
   "id": "1008836ac8de61d",
   "outputs": [
    {
     "data": {
      "text/plain": [
       "array([  6,  62, 197, 106,  61, 520, 602, 431])"
      ]
     },
     "execution_count": 36,
     "metadata": {},
     "output_type": "execute_result"
    }
   ],
   "execution_count": 36
  },
  {
   "metadata": {
    "ExecuteTime": {
     "end_time": "2024-12-19T16:45:35.557289Z",
     "start_time": "2024-12-19T16:45:35.538700Z"
    }
   },
   "cell_type": "code",
   "source": [
    "ids = [6,  62, 197, 106,  61, 520, 602, 431]\n",
    "id_to_idx = {item: idx for idx, item in enumerate(ids)}\n",
    "id_to_idx"
   ],
   "id": "437207e6542c045",
   "outputs": [
    {
     "data": {
      "text/plain": [
       "{6: 0, 62: 1, 197: 2, 106: 3, 61: 4, 520: 5, 602: 6, 431: 7}"
      ]
     },
     "execution_count": 59,
     "metadata": {},
     "output_type": "execute_result"
    }
   ],
   "execution_count": 59
  },
  {
   "metadata": {
    "ExecuteTime": {
     "end_time": "2024-12-19T16:45:55.345893Z",
     "start_time": "2024-12-19T16:45:55.339905Z"
    }
   },
   "cell_type": "code",
   "source": "np.vectorize(lambda x : id_to_idx.get(x))(m_mesh.cells['tetra'][0:6])",
   "id": "4951ee648effd8b2",
   "outputs": [
    {
     "data": {
      "text/plain": [
       "array([[0, 1, 3, 4],\n",
       "       [1, 3, 4, 5],\n",
       "       [4, 5, 3, 7],\n",
       "       [1, 3, 5, 2],\n",
       "       [3, 7, 5, 2],\n",
       "       [5, 7, 6, 2]])"
      ]
     },
     "execution_count": 60,
     "metadata": {},
     "output_type": "execute_result"
    }
   ],
   "execution_count": 60
  },
  {
   "metadata": {
    "ExecuteTime": {
     "end_time": "2024-12-19T16:49:06.558008Z",
     "start_time": "2024-12-19T16:49:06.546190Z"
    }
   },
   "cell_type": "code",
   "source": "m_mesh.points[m_mesh.cells['tetra'][11]]",
   "id": "2750065f6c787580",
   "outputs": [
    {
     "data": {
      "text/plain": [
       "array([[ 9. ,  4. , 15. ],\n",
       "       [10. ,  4. , 13.5],\n",
       "       [ 9. ,  4. , 13.5],\n",
       "       [ 9. ,  4.5, 13.5]])"
      ]
     },
     "execution_count": 68,
     "metadata": {},
     "output_type": "execute_result"
    }
   ],
   "execution_count": 68
  },
  {
   "metadata": {
    "ExecuteTime": {
     "end_time": "2024-12-18T15:50:08.233098Z",
     "start_time": "2024-12-18T15:50:08.227594Z"
    }
   },
   "cell_type": "code",
   "source": "d_cells[0][:-1]",
   "id": "a74868d297a6f00d",
   "outputs": [
    {
     "data": {
      "text/plain": [
       "array([  6,  62, 197, 106,  61, 520, 602, 431], dtype=int32)"
      ]
     },
     "execution_count": 42,
     "metadata": {},
     "output_type": "execute_result"
    }
   ],
   "execution_count": 42
  },
  {
   "metadata": {
    "ExecuteTime": {
     "end_time": "2024-12-18T15:50:40.036838Z",
     "start_time": "2024-12-18T15:50:40.031230Z"
    }
   },
   "cell_type": "code",
   "source": [
    "c_points = d_points[d_cells[0][:-1]][:, 0:3]\n",
    "print(c_points)"
   ],
   "id": "3a449de7a00b7163",
   "outputs": [
    {
     "name": "stdout",
     "output_type": "stream",
     "text": [
      "[[10.   5.  15. ]\n",
      " [ 9.   5.  15. ]\n",
      " [ 9.   5.  13.5]\n",
      " [10.   5.  13.5]\n",
      " [10.   4.5 15. ]\n",
      " [ 9.   4.5 15. ]\n",
      " [ 9.   4.5 13.5]\n",
      " [10.   4.5 13.5]]\n"
     ]
    }
   ],
   "execution_count": 47
  },
  {
   "metadata": {
    "ExecuteTime": {
     "end_time": "2024-12-18T15:45:59.635711Z",
     "start_time": "2024-12-18T15:45:59.338910Z"
    }
   },
   "cell_type": "code",
   "source": [
    "def b():\n",
    "  With = 10.0\n",
    "  Height = 5.0\n",
    "  Depth = 15.0\n",
    "  StepX = With / 10.0\n",
    "  StepY = Height / 10.0\n",
    "  StepZ = Depth / 10.0\n",
    "\n",
    "  cmp = 0\n",
    "  for x in np.arange(With, 0.0, -StepX):\n",
    "    for z in np.arange(Depth, 0.0, -StepZ):\n",
    "      for y in np.arange(Height, 0.0, -StepY):\n",
    "        points = np.array([\n",
    "          [x, y, z],\n",
    "          [x - StepX, y, z],\n",
    "          [x - StepX, y, z - StepZ],\n",
    "          [x, y, z - StepZ],\n",
    "\n",
    "          [x, y - StepY, z],\n",
    "          [x - StepX, y - StepY, z],\n",
    "          [x - StepX, y - StepY, z - StepZ],\n",
    "          [x, y - StepY, z - StepZ],\n",
    "        ], dtype=d_points.dtype)\n",
    "        m_points= m_mesh.points[m_mesh.cells['hexahedron'][cmp]]\n",
    "        np.testing.assert_almost_equal(points, m_points)\n",
    "        cmp = cmp + 1\n",
    "\n",
    "b()"
   ],
   "id": "3218c6f3f5f7f3f9",
   "outputs": [],
   "execution_count": 32
  },
  {
   "metadata": {
    "ExecuteTime": {
     "end_time": "2024-12-18T16:06:14.080828Z",
     "start_time": "2024-12-18T16:06:14.065947Z"
    }
   },
   "cell_type": "code",
   "source": "d_cells[[0, 1]][:, :-1]",
   "id": "bdd53267f7168344",
   "outputs": [
    {
     "data": {
      "text/plain": [
       "array([[  6,  62, 197, 106,  61, 520, 602, 431],\n",
       "       [ 61, 520, 602, 431,  60, 519, 603, 422]], dtype=int32)"
      ]
     },
     "execution_count": 57,
     "metadata": {},
     "output_type": "execute_result"
    }
   ],
   "execution_count": 57
  },
  {
   "metadata": {
    "ExecuteTime": {
     "end_time": "2024-12-18T15:43:23.622232Z",
     "start_time": "2024-12-18T15:43:23.608570Z"
    }
   },
   "cell_type": "code",
   "source": "m_mesh.points[m_mesh.cells['hexahedron'][[998, 999]]]",
   "id": "1bd44c95da748d69",
   "outputs": [
    {
     "data": {
      "text/plain": [
       "array([[[1. , 1. , 1.5],\n",
       "        [0. , 1. , 1.5],\n",
       "        [0. , 1. , 0. ],\n",
       "        [1. , 1. , 0. ],\n",
       "        [1. , 0.5, 1.5],\n",
       "        [0. , 0.5, 1.5],\n",
       "        [0. , 0.5, 0. ],\n",
       "        [1. , 0.5, 0. ]],\n",
       "\n",
       "       [[1. , 0.5, 1.5],\n",
       "        [0. , 0.5, 1.5],\n",
       "        [0. , 0.5, 0. ],\n",
       "        [1. , 0.5, 0. ],\n",
       "        [1. , 0. , 1.5],\n",
       "        [0. , 0. , 1.5],\n",
       "        [0. , 0. , 0. ],\n",
       "        [1. , 0. , 0. ]]])"
      ]
     },
     "execution_count": 29,
     "metadata": {},
     "output_type": "execute_result"
    }
   ],
   "execution_count": 29
  },
  {
   "metadata": {
    "ExecuteTime": {
     "end_time": "2024-12-19T16:57:06.158777Z",
     "start_time": "2024-12-19T16:57:06.150870Z"
    }
   },
   "cell_type": "code",
   "source": [
    "d_cells = domain._cells._nodeid\n",
    "d_points = domain._nodes._vertex[:, 0:3]\n",
    "d_center = domain._cells._center[:, 0:3]\n",
    "d_volume = domain._cells._volume"
   ],
   "id": "14061adbe11d97af",
   "outputs": [],
   "execution_count": 69
  },
  {
   "metadata": {
    "ExecuteTime": {
     "end_time": "2024-12-19T16:57:28.024748Z",
     "start_time": "2024-12-19T16:57:28.018908Z"
    }
   },
   "cell_type": "code",
   "source": "d_volume",
   "id": "42708416397c7a78",
   "outputs": [
    {
     "data": {
      "text/plain": [
       "array([0.125, 0.125, 0.125, ..., 0.125, 0.125, 0.125])"
      ]
     },
     "execution_count": 72,
     "metadata": {},
     "output_type": "execute_result"
    }
   ],
   "execution_count": 72
  }
 ],
 "metadata": {
  "kernelspec": {
   "display_name": "Python 3",
   "language": "python",
   "name": "python3"
  },
  "language_info": {
   "codemirror_mode": {
    "name": "ipython",
    "version": 2
   },
   "file_extension": ".py",
   "mimetype": "text/x-python",
   "name": "python",
   "nbconvert_exporter": "python",
   "pygments_lexer": "ipython2",
   "version": "2.7.6"
  }
 },
 "nbformat": 4,
 "nbformat_minor": 5
}
