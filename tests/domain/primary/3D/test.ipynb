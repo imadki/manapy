{
 "cells": [
  {
   "cell_type": "code",
   "id": "initial_id",
   "metadata": {
    "collapsed": true,
    "ExecuteTime": {
     "end_time": "2024-12-18T15:20:05.018884Z",
     "start_time": "2024-12-18T15:19:57.383929Z"
    }
   },
   "source": [
    "import meshio\n",
    "import os\n",
    "import numpy as np\n",
    "from manapy.ddm import Domain\n",
    "from manapy.partitions import MeshPartition\n",
    "from manapy.base.base import Struct\n",
    "\n",
    "dim = 3\n",
    "float_precision = 'float32'\n",
    "PATH = \"/home/aben-ham/Desktop/work/manapy0.4/tests/domain/primary/3D/\"\n",
    "PATH = os.path.join(PATH, 'mesh', 'cuboid.msh')\n",
    "\n",
    "running_conf = Struct(backend=\"numba\", signature=True, cache=True, float_precision=float_precision)\n",
    "MeshPartition(PATH, dim=dim, conf=running_conf, periodic=[0, 0, 0])\n",
    "domain = Domain(dim=dim, conf=running_conf)"
   ],
   "outputs": [
    {
     "name": "stdout",
     "output_type": "stream",
     "text": [
      "(int32[:,:], int32[:,:], int32[:,:])\n",
      "Reading gmsh file ...\n",
      "Saving partition files ...\n",
      "Number of Cells: 1000\n",
      "Number of Vertices: 1331\n",
      "Local domain contruction ...\n",
      "(int32[:,:], float64[:,:], int32, float64[:,:], float64[:])\n",
      "(int32[:,:], float64[:,:], int32, int32)\n",
      "(int32[:,:], int32, int32[:,:], int32[:,:])\n",
      "(int32, int64[:], int32[:,:], int32[:,:], int32)\n",
      "(int32[:,:], int32, int32, int32[:,:], int32)\n",
      "(int32[:,:], int32[:,:], int32, int32)\n",
      "(int32[:,:], int32[:,:], int32[:], float64[:,:], float64[:,:], int32, float64[:,:], float64[:,:], float64[:,:], float64[:], float64[:,:], int32[:])\n",
      "(int32[:,:], float64[:,:], float64[:,:])\n",
      "(int32[:,:], int32[:,:], int32[:,:], int32[:], int32[:], int32[:], int32, int32, int32, int32)\n",
      "(float64[:,:,:], int32[:,:])\n",
      "(float64[:,:], int32[:,:], int32[:,:], int32[:,:], int32[:,:], int32[:,:], float64[:,:], float64[:,:], float64[:,:], float64[:,:], float64[:], float64[:], float64[:], float64[:], float64[:], float64[:], int32[:], float64[:,:])\n",
      "(int32[:,:], int32[:,:], float64[:,:], int32[:], float64[:,:], float64[:,:], float64[:,:], int32[:], float64[:,:], float64[:], float64[:], float64[:], float64[:], float64[:,:], float64[:,:], float64[:,:], int32)\n"
     ]
    }
   ],
   "execution_count": 1
  },
  {
   "metadata": {
    "ExecuteTime": {
     "end_time": "2024-12-18T15:20:05.051881Z",
     "start_time": "2024-12-18T15:20:05.047696Z"
    }
   },
   "cell_type": "code",
   "source": [
    "  d_cells = domain._cells._nodeid\n",
    "  d_points = domain._nodes._vertex\n",
    "  d_center = domain._cells._center\n",
    "  d_volume = domain._cells._volume"
   ],
   "id": "c72020bd3ec3beec",
   "outputs": [],
   "execution_count": 2
  },
  {
   "metadata": {
    "ExecuteTime": {
     "end_time": "2024-12-13T15:02:06.361453Z",
     "start_time": "2024-12-13T15:02:06.346261Z"
    }
   },
   "cell_type": "code",
   "source": "d_points[d_cells[0:8]][:, :, 0:3]",
   "id": "2a0b4b8f30926b37",
   "outputs": [
    {
     "data": {
      "text/plain": [
       "array([[[10. ,  5. , 15. ],\n",
       "        [ 9. ,  5. , 15. ],\n",
       "        [ 9. ,  5. , 13.5],\n",
       "        [10. ,  5. , 13.5],\n",
       "        [10. ,  4.5, 15. ],\n",
       "        [ 9. ,  4.5, 15. ],\n",
       "        [ 9. ,  4.5, 13.5],\n",
       "        [10. ,  4.5, 13.5],\n",
       "        [ 1. ,  0. ,  0. ]],\n",
       "\n",
       "       [[10. ,  4.5, 15. ],\n",
       "        [ 9. ,  4.5, 15. ],\n",
       "        [ 9. ,  4.5, 13.5],\n",
       "        [10. ,  4.5, 13.5],\n",
       "        [10. ,  4. , 15. ],\n",
       "        [ 9. ,  4. , 15. ],\n",
       "        [ 9. ,  4. , 13.5],\n",
       "        [10. ,  4. , 13.5],\n",
       "        [ 1. ,  0. ,  0. ]],\n",
       "\n",
       "       [[10. ,  4. , 15. ],\n",
       "        [ 9. ,  4. , 15. ],\n",
       "        [ 9. ,  4. , 13.5],\n",
       "        [10. ,  4. , 13.5],\n",
       "        [10. ,  3.5, 15. ],\n",
       "        [ 9. ,  3.5, 15. ],\n",
       "        [ 9. ,  3.5, 13.5],\n",
       "        [10. ,  3.5, 13.5],\n",
       "        [ 1. ,  0. ,  0. ]],\n",
       "\n",
       "       [[10. ,  3.5, 15. ],\n",
       "        [ 9. ,  3.5, 15. ],\n",
       "        [ 9. ,  3.5, 13.5],\n",
       "        [10. ,  3.5, 13.5],\n",
       "        [10. ,  3. , 15. ],\n",
       "        [ 9. ,  3. , 15. ],\n",
       "        [ 9. ,  3. , 13.5],\n",
       "        [10. ,  3. , 13.5],\n",
       "        [ 1. ,  0. ,  0. ]],\n",
       "\n",
       "       [[10. ,  3. , 15. ],\n",
       "        [ 9. ,  3. , 15. ],\n",
       "        [ 9. ,  3. , 13.5],\n",
       "        [10. ,  3. , 13.5],\n",
       "        [10. ,  2.5, 15. ],\n",
       "        [ 9. ,  2.5, 15. ],\n",
       "        [ 9. ,  2.5, 13.5],\n",
       "        [10. ,  2.5, 13.5],\n",
       "        [ 1. ,  0. ,  0. ]],\n",
       "\n",
       "       [[10. ,  2.5, 15. ],\n",
       "        [ 9. ,  2.5, 15. ],\n",
       "        [ 9. ,  2.5, 13.5],\n",
       "        [10. ,  2.5, 13.5],\n",
       "        [10. ,  2. , 15. ],\n",
       "        [ 9. ,  2. , 15. ],\n",
       "        [ 9. ,  2. , 13.5],\n",
       "        [10. ,  2. , 13.5],\n",
       "        [ 1. ,  0. ,  0. ]],\n",
       "\n",
       "       [[10. ,  2. , 15. ],\n",
       "        [ 9. ,  2. , 15. ],\n",
       "        [ 9. ,  2. , 13.5],\n",
       "        [10. ,  2. , 13.5],\n",
       "        [10. ,  1.5, 15. ],\n",
       "        [ 9. ,  1.5, 15. ],\n",
       "        [ 9. ,  1.5, 13.5],\n",
       "        [10. ,  1.5, 13.5],\n",
       "        [ 1. ,  0. ,  0. ]],\n",
       "\n",
       "       [[10. ,  1.5, 15. ],\n",
       "        [ 9. ,  1.5, 15. ],\n",
       "        [ 9. ,  1.5, 13.5],\n",
       "        [10. ,  1.5, 13.5],\n",
       "        [10. ,  1. , 15. ],\n",
       "        [ 9. ,  1. , 15. ],\n",
       "        [ 9. ,  1. , 13.5],\n",
       "        [10. ,  1. , 13.5],\n",
       "        [ 1. ,  0. ,  0. ]]])"
      ]
     },
     "execution_count": 10,
     "metadata": {},
     "output_type": "execute_result"
    }
   ],
   "execution_count": 10
  },
  {
   "metadata": {
    "ExecuteTime": {
     "end_time": "2024-12-18T15:20:42.065556Z",
     "start_time": "2024-12-18T15:20:42.042654Z"
    }
   },
   "cell_type": "code",
   "source": "m_mesh = meshio.read(PATH)",
   "id": "37c6689c94c34cfd",
   "outputs": [],
   "execution_count": 3
  },
  {
   "metadata": {
    "ExecuteTime": {
     "end_time": "2024-12-18T15:20:43.951839Z",
     "start_time": "2024-12-18T15:20:43.939908Z"
    }
   },
   "cell_type": "code",
   "source": "m_mesh.points[m_mesh.cells['hexahedron'][0]]",
   "id": "2750065f6c787580",
   "outputs": [
    {
     "data": {
      "text/plain": [
       "array([[10. ,  5. , 15. ],\n",
       "       [ 9. ,  5. , 15. ],\n",
       "       [ 9. ,  5. , 13.5],\n",
       "       [10. ,  5. , 13.5],\n",
       "       [10. ,  4.5, 15. ],\n",
       "       [ 9. ,  4.5, 15. ],\n",
       "       [ 9. ,  4.5, 13.5],\n",
       "       [10. ,  4.5, 13.5]])"
      ]
     },
     "execution_count": 4,
     "metadata": {},
     "output_type": "execute_result"
    }
   ],
   "execution_count": 4
  },
  {
   "metadata": {
    "ExecuteTime": {
     "end_time": "2024-12-18T15:50:08.233098Z",
     "start_time": "2024-12-18T15:50:08.227594Z"
    }
   },
   "cell_type": "code",
   "source": "d_cells[0][:-1]",
   "id": "a74868d297a6f00d",
   "outputs": [
    {
     "data": {
      "text/plain": [
       "array([  6,  62, 197, 106,  61, 520, 602, 431], dtype=int32)"
      ]
     },
     "execution_count": 42,
     "metadata": {},
     "output_type": "execute_result"
    }
   ],
   "execution_count": 42
  },
  {
   "metadata": {
    "ExecuteTime": {
     "end_time": "2024-12-18T15:50:40.036838Z",
     "start_time": "2024-12-18T15:50:40.031230Z"
    }
   },
   "cell_type": "code",
   "source": [
    "c_points = d_points[d_cells[0][:-1]][:, 0:3]\n",
    "print(c_points)"
   ],
   "id": "3a449de7a00b7163",
   "outputs": [
    {
     "name": "stdout",
     "output_type": "stream",
     "text": [
      "[[10.   5.  15. ]\n",
      " [ 9.   5.  15. ]\n",
      " [ 9.   5.  13.5]\n",
      " [10.   5.  13.5]\n",
      " [10.   4.5 15. ]\n",
      " [ 9.   4.5 15. ]\n",
      " [ 9.   4.5 13.5]\n",
      " [10.   4.5 13.5]]\n"
     ]
    }
   ],
   "execution_count": 47
  },
  {
   "metadata": {
    "ExecuteTime": {
     "end_time": "2024-12-18T15:45:59.635711Z",
     "start_time": "2024-12-18T15:45:59.338910Z"
    }
   },
   "cell_type": "code",
   "source": [
    "def b():\n",
    "  With = 10.0\n",
    "  Height = 5.0\n",
    "  Depth = 15.0\n",
    "  StepX = With / 10.0\n",
    "  StepY = Height / 10.0\n",
    "  StepZ = Depth / 10.0\n",
    "\n",
    "  cmp = 0\n",
    "  for x in np.arange(With, 0.0, -StepX):\n",
    "    for z in np.arange(Depth, 0.0, -StepZ):\n",
    "      for y in np.arange(Height, 0.0, -StepY):\n",
    "        points = np.array([\n",
    "          [x, y, z],\n",
    "          [x - StepX, y, z],\n",
    "          [x - StepX, y, z - StepZ],\n",
    "          [x, y, z - StepZ],\n",
    "\n",
    "          [x, y - StepY, z],\n",
    "          [x - StepX, y - StepY, z],\n",
    "          [x - StepX, y - StepY, z - StepZ],\n",
    "          [x, y - StepY, z - StepZ],\n",
    "        ], dtype=d_points.dtype)\n",
    "        m_points= m_mesh.points[m_mesh.cells['hexahedron'][cmp]]\n",
    "        np.testing.assert_almost_equal(points, m_points)\n",
    "        cmp = cmp + 1\n",
    "\n",
    "b()"
   ],
   "id": "3218c6f3f5f7f3f9",
   "outputs": [],
   "execution_count": 32
  },
  {
   "metadata": {
    "ExecuteTime": {
     "end_time": "2024-12-18T16:06:14.080828Z",
     "start_time": "2024-12-18T16:06:14.065947Z"
    }
   },
   "cell_type": "code",
   "source": "d_cells[[0, 1]][:, :-1]",
   "id": "bdd53267f7168344",
   "outputs": [
    {
     "data": {
      "text/plain": [
       "array([[  6,  62, 197, 106,  61, 520, 602, 431],\n",
       "       [ 61, 520, 602, 431,  60, 519, 603, 422]], dtype=int32)"
      ]
     },
     "execution_count": 57,
     "metadata": {},
     "output_type": "execute_result"
    }
   ],
   "execution_count": 57
  },
  {
   "metadata": {
    "ExecuteTime": {
     "end_time": "2024-12-18T16:06:51.972228Z",
     "start_time": "2024-12-18T16:06:51.964969Z"
    }
   },
   "cell_type": "code",
   "source": "d_points[d_cells[[0, 1]][:, :-1]][:, :, 0:3]",
   "id": "a4ab08b9ff5e23a1",
   "outputs": [
    {
     "data": {
      "text/plain": [
       "array([[[10. ,  5. , 15. ],\n",
       "        [ 9. ,  5. , 15. ],\n",
       "        [ 9. ,  5. , 13.5],\n",
       "        [10. ,  5. , 13.5],\n",
       "        [10. ,  4.5, 15. ],\n",
       "        [ 9. ,  4.5, 15. ],\n",
       "        [ 9. ,  4.5, 13.5],\n",
       "        [10. ,  4.5, 13.5]],\n",
       "\n",
       "       [[10. ,  4.5, 15. ],\n",
       "        [ 9. ,  4.5, 15. ],\n",
       "        [ 9. ,  4.5, 13.5],\n",
       "        [10. ,  4.5, 13.5],\n",
       "        [10. ,  4. , 15. ],\n",
       "        [ 9. ,  4. , 15. ],\n",
       "        [ 9. ,  4. , 13.5],\n",
       "        [10. ,  4. , 13.5]]])"
      ]
     },
     "execution_count": 60,
     "metadata": {},
     "output_type": "execute_result"
    }
   ],
   "execution_count": 60
  },
  {
   "metadata": {
    "ExecuteTime": {
     "end_time": "2024-12-18T16:11:44.434722Z",
     "start_time": "2024-12-18T16:11:44.425324Z"
    }
   },
   "cell_type": "code",
   "source": "d_points[d_cells[[0, 100, 200, 999]][:, :-1]][:, :, 0:3]",
   "id": "44f803bd6991d9e9",
   "outputs": [
    {
     "data": {
      "text/plain": [
       "array([[[10. ,  5. , 15. ],\n",
       "        [ 9. ,  5. , 15. ],\n",
       "        [ 9. ,  5. , 13.5],\n",
       "        [10. ,  5. , 13.5],\n",
       "        [10. ,  4.5, 15. ],\n",
       "        [ 9. ,  4.5, 15. ],\n",
       "        [ 9. ,  4.5, 13.5],\n",
       "        [10. ,  4.5, 13.5]],\n",
       "\n",
       "       [[ 9. ,  5. , 15. ],\n",
       "        [ 8. ,  5. , 15. ],\n",
       "        [ 8. ,  5. , 13.5],\n",
       "        [ 9. ,  5. , 13.5],\n",
       "        [ 9. ,  4.5, 15. ],\n",
       "        [ 8. ,  4.5, 15. ],\n",
       "        [ 8. ,  4.5, 13.5],\n",
       "        [ 9. ,  4.5, 13.5]],\n",
       "\n",
       "       [[ 8. ,  5. , 15. ],\n",
       "        [ 7. ,  5. , 15. ],\n",
       "        [ 7. ,  5. , 13.5],\n",
       "        [ 8. ,  5. , 13.5],\n",
       "        [ 8. ,  4.5, 15. ],\n",
       "        [ 7. ,  4.5, 15. ],\n",
       "        [ 7. ,  4.5, 13.5],\n",
       "        [ 8. ,  4.5, 13.5]],\n",
       "\n",
       "       [[ 1. ,  0.5,  1.5],\n",
       "        [ 0. ,  0.5,  1.5],\n",
       "        [ 0. ,  0.5,  0. ],\n",
       "        [ 1. ,  0.5,  0. ],\n",
       "        [ 1. ,  0. ,  1.5],\n",
       "        [ 0. ,  0. ,  1.5],\n",
       "        [ 0. ,  0. ,  0. ],\n",
       "        [ 1. ,  0. ,  0. ]]])"
      ]
     },
     "execution_count": 64,
     "metadata": {},
     "output_type": "execute_result"
    }
   ],
   "execution_count": 64
  },
  {
   "metadata": {
    "ExecuteTime": {
     "end_time": "2024-12-18T15:43:23.622232Z",
     "start_time": "2024-12-18T15:43:23.608570Z"
    }
   },
   "cell_type": "code",
   "source": "m_mesh.points[m_mesh.cells['hexahedron'][[998, 999]]]",
   "id": "1bd44c95da748d69",
   "outputs": [
    {
     "data": {
      "text/plain": [
       "array([[[1. , 1. , 1.5],\n",
       "        [0. , 1. , 1.5],\n",
       "        [0. , 1. , 0. ],\n",
       "        [1. , 1. , 0. ],\n",
       "        [1. , 0.5, 1.5],\n",
       "        [0. , 0.5, 1.5],\n",
       "        [0. , 0.5, 0. ],\n",
       "        [1. , 0.5, 0. ]],\n",
       "\n",
       "       [[1. , 0.5, 1.5],\n",
       "        [0. , 0.5, 1.5],\n",
       "        [0. , 0.5, 0. ],\n",
       "        [1. , 0.5, 0. ],\n",
       "        [1. , 0. , 1.5],\n",
       "        [0. , 0. , 1.5],\n",
       "        [0. , 0. , 0. ],\n",
       "        [1. , 0. , 0. ]]])"
      ]
     },
     "execution_count": 29,
     "metadata": {},
     "output_type": "execute_result"
    }
   ],
   "execution_count": 29
  },
  {
   "metadata": {
    "ExecuteTime": {
     "end_time": "2024-12-18T15:41:05.514187Z",
     "start_time": "2024-12-18T15:41:05.508612Z"
    }
   },
   "cell_type": "code",
   "source": [
    "With = 10.0\n",
    "Height = 5.0\n",
    "Depth = 15.0\n",
    "StepX = With / 10.0\n",
    "StepY = Height / 10.0\n",
    "StepZ = Depth / 10.0\n",
    "for y in np.arange(Depth, 0.0, -StepZ):\n",
    "  print(y)"
   ],
   "id": "d7ba4f490d9dde3",
   "outputs": [
    {
     "name": "stdout",
     "output_type": "stream",
     "text": [
      "15.0\n",
      "13.5\n",
      "12.0\n",
      "10.5\n",
      "9.0\n",
      "7.5\n",
      "6.0\n",
      "4.5\n",
      "3.0\n",
      "1.5\n"
     ]
    }
   ],
   "execution_count": 23
  }
 ],
 "metadata": {
  "kernelspec": {
   "display_name": "Python 3",
   "language": "python",
   "name": "python3"
  },
  "language_info": {
   "codemirror_mode": {
    "name": "ipython",
    "version": 2
   },
   "file_extension": ".py",
   "mimetype": "text/x-python",
   "name": "python",
   "nbconvert_exporter": "python",
   "pygments_lexer": "ipython2",
   "version": "2.7.6"
  }
 },
 "nbformat": 4,
 "nbformat_minor": 5
}
