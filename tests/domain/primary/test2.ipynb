{
 "cells": [
  {
   "metadata": {},
   "cell_type": "markdown",
   "source": "## RECT",
   "id": "7f780d946c200d1c"
  },
  {
   "metadata": {
    "ExecuteTime": {
     "end_time": "2025-05-13T15:33:13.636040Z",
     "start_time": "2025-05-13T15:33:08.256313Z"
    }
   },
   "cell_type": "code",
   "source": [
    "import subprocess\n",
    "import os\n",
    "import numpy as np\n",
    "import sys\n",
    "\n",
    "sys.path.append(os.path.join(os.getcwd()))\n",
    "from tests.domain.primary.helpers.DomainTables import DomainTables\n",
    "\n",
    "mpi_exec = \"/usr/bin/mpirun\"\n",
    "python_exec = \"/home/aben-ham/anaconda3/envs/work/bin/python3\"\n",
    "float_precision = 'float64'\n",
    "dim=2\n",
    "mesh_name = 'rectangles.msh'\n",
    "\n",
    "def create_partitions(nb_partitions, mesh_name, float_precision, dim):\n",
    "  root_file = os.getcwd()\n",
    "  mesh_file_path = os.path.join(root_file, 'mesh', mesh_name)\n",
    "  script_path = os.path.join(root_file, 'helpers', 'create_partitions_mpi_worker.py')\n",
    "  cmd = [mpi_exec, \"-n\", str(nb_partitions), \"--oversubscribe\", python_exec, script_path, mesh_file_path, float_precision, str(dim)]\n",
    "\n",
    "  result = subprocess.run(cmd, env=os.environ.copy(), stderr=subprocess.PIPE)\n",
    "  if result.returncode != 0:\n",
    "    print(result.__str__(), os.getcwd())\n",
    "    raise SystemExit(result.returncode)\n",
    "\n",
    "domain_tables = DomainTables(nb_partitions=7, mesh_name=mesh_name, float_precision=float_precision, dim=dim, create_par_fun=create_partitions)\n",
    "unified_domain = DomainTables(nb_partitions=1, mesh_name=mesh_name, float_precision=float_precision, dim=dim, create_par_fun=create_partitions)"
   ],
   "id": "8b60d28823175b7e",
   "outputs": [
    {
     "name": "stdout",
     "output_type": "stream",
     "text": [
      "path /media/aben-ham/SSD/aben-ham/work/manapy/tests/domain/primary/mesh/rectangles.msh precision float64 dim 2 rank 2\n",
      "path /media/aben-ham/SSD/aben-ham/work/manapy/tests/domain/primary/mesh/rectangles.msh precision float64 dim 2 rank 5\n",
      "path /media/aben-ham/SSD/aben-ham/work/manapy/tests/domain/primary/mesh/rectangles.msh precision float64 dim 2 rank 6\n",
      "path /media/aben-ham/SSD/aben-ham/work/manapy/tests/domain/primary/mesh/rectangles.msh precision float64 dim 2 rank 3\n",
      "path /media/aben-ham/SSD/aben-ham/work/manapy/tests/domain/primary/mesh/rectangles.msh precision float64 dim 2 rank 1\n",
      "path /media/aben-ham/SSD/aben-ham/work/manapy/tests/domain/primary/mesh/rectangles.msh precision float64 dim 2 rank 0\n",
      "Reading gmsh file ...\n",
      "\n",
      "Mesh partitionning ...\n",
      "path /media/aben-ham/SSD/aben-ham/work/manapy/tests/domain/primary/mesh/rectangles.msh precision float64 dim 2 rank 4\n",
      "Saving partition files ...\n",
      "Number of Cells: 100\n",
      "Number of Vertices: 121\n",
      "Local domain contruction ...\n",
      "Start ...\n",
      "Start ...\n",
      "Start ...\n",
      "Start ...\n",
      "Start ...\n",
      "Start ...\n",
      "Start ...\n",
      "Execution time: 0.071498 seconds\n",
      "Execution time: 0.079970 seconds\n",
      "Execution time: 0.084084 seconds\n",
      "Execution time: 0.084175 seconds\n",
      "Execution time: 0.082186 seconds\n",
      "Execution time: 0.084568 seconds\n",
      "Execution time: 0.085078 seconds\n",
      "CompletedProcess(args=['/usr/bin/mpirun', '-n', '7', '--oversubscribe', '/home/aben-ham/anaconda3/envs/work/bin/python3', '/media/aben-ham/SSD/aben-ham/work/manapy/tests/domain/primary/helpers/create_partitions_mpi_worker.py', '/media/aben-ham/SSD/aben-ham/work/manapy/tests/domain/primary/mesh/rectangles.msh', 'float64', '2'], returncode=1, stderr=b'Traceback (most recent call last):\\n  File \"/media/aben-ham/SSD/aben-ham/work/manapy/tests/domain/primary/helpers/create_partitions_mpi_worker.py\", line 83, in <module>\\n    create_partitions(mesh_file_path, float_precision, dim)\\n  File \"/media/aben-ham/SSD/aben-ham/work/manapy/tests/domain/primary/helpers/create_partitions_mpi_worker.py\", line 72, in create_partitions\\n    domain = Domain(dim=dim, conf=running_conf)\\n  File \"/media/aben-ham/SSD/aben-ham/work/manapy/manapy/ddm/domain.py\", line 128, in __init__\\n    self.create_domain(self._comm.Get_size(), self._comm.Get_rank())\\n  File \"/media/aben-ham/SSD/aben-ham/work/manapy/manapy/ddm/domain.py\", line 159, in create_domain\\n    self._update_boundaries()\\n  File \"/media/aben-ham/SSD/aben-ham/work/manapy/manapy/ddm/domain.py\", line 406, in _update_boundaries\\n    self._innerfaces  = np.where(self._faces._name==0)[0].astype(self.int_precision)\\nAttributeError: _name\\nTraceback (most recent call last):\\n  File \"/media/aben-ham/SSD/aben-ham/work/manapy/tests/domain/primary/helpers/create_partitions_mpi_worker.py\", line 83, in <module>\\n    create_partitions(mesh_file_path, float_precision, dim)\\n  File \"/media/aben-ham/SSD/aben-ham/work/manapy/tests/domain/primary/helpers/create_partitions_mpi_worker.py\", line 72, in create_partitions\\n    domain = Domain(dim=dim, conf=running_conf)\\n  File \"/media/aben-ham/SSD/aben-ham/work/manapy/manapy/ddm/domain.py\", line 128, in __init__\\n    self.create_domain(self._comm.Get_size(), self._comm.Get_rank())\\n  File \"/media/aben-ham/SSD/aben-ham/work/manapy/manapy/ddm/domain.py\", line 159, in create_domain\\n    self._update_boundaries()\\n  File \"/media/aben-ham/SSD/aben-ham/work/manapy/manapy/ddm/domain.py\", line 406, in _update_boundaries\\n    self._innerfaces  = np.where(self._faces._name==0)[0].astype(self.int_precision)\\nAttributeError: _name\\nTraceback (most recent call last):\\n  File \"/media/aben-ham/SSD/aben-ham/work/manapy/tests/domain/primary/helpers/create_partitions_mpi_worker.py\", line 83, in <module>\\n    create_partitions(mesh_file_path, float_precision, dim)\\n  File \"/media/aben-ham/SSD/aben-ham/work/manapy/tests/domain/primary/helpers/create_partitions_mpi_worker.py\", line 72, in create_partitions\\n    domain = Domain(dim=dim, conf=running_conf)\\n  File \"/media/aben-ham/SSD/aben-ham/work/manapy/manapy/ddm/domain.py\", line 128, in __init__\\n    self.create_domain(self._comm.Get_size(), self._comm.Get_rank())\\n  File \"/media/aben-ham/SSD/aben-ham/work/manapy/manapy/ddm/domain.py\", line 159, in create_domain\\n    self._update_boundaries()\\n  File \"/media/aben-ham/SSD/aben-ham/work/manapy/manapy/ddm/domain.py\", line 406, in _update_boundaries\\n    self._innerfaces  = np.where(self._faces._name==0)[0].astype(self.int_precision)\\nAttributeError: _name\\nTraceback (most recent call last):\\n  File \"/media/aben-ham/SSD/aben-ham/work/manapy/tests/domain/primary/helpers/create_partitions_mpi_worker.py\", line 83, in <module>\\n    create_partitions(mesh_file_path, float_precision, dim)\\n  File \"/media/aben-ham/SSD/aben-ham/work/manapy/tests/domain/primary/helpers/create_partitions_mpi_worker.py\", line 72, in create_partitions\\n    domain = Domain(dim=dim, conf=running_conf)\\n  File \"/media/aben-ham/SSD/aben-ham/work/manapy/manapy/ddm/domain.py\", line 128, in __init__\\n    self.create_domain(self._comm.Get_size(), self._comm.Get_rank())\\n  File \"/media/aben-ham/SSD/aben-ham/work/manapy/manapy/ddm/domain.py\", line 159, in create_domain\\n    self._update_boundaries()\\n  File \"/media/aben-ham/SSD/aben-ham/work/manapy/manapy/ddm/domain.py\", line 406, in _update_boundaries\\n    self._innerfaces  = np.where(self._faces._name==0)[0].astype(self.int_precision)\\nAttributeError: _name\\nTraceback (most recent call last):\\n  File \"/media/aben-ham/SSD/aben-ham/work/manapy/tests/domain/primary/helpers/create_partitions_mpi_worker.py\", line 83, in <module>\\n    create_partitions(mesh_file_path, float_precision, dim)\\n  File \"/media/aben-ham/SSD/aben-ham/work/manapy/tests/domain/primary/helpers/create_partitions_mpi_worker.py\", line 72, in create_partitions\\n    domain = Domain(dim=dim, conf=running_conf)\\n  File \"/media/aben-ham/SSD/aben-ham/work/manapy/manapy/ddm/domain.py\", line 128, in __init__\\n    self.create_domain(self._comm.Get_size(), self._comm.Get_rank())\\n  File \"/media/aben-ham/SSD/aben-ham/work/manapy/manapy/ddm/domain.py\", line 159, in create_domain\\n    self._update_boundaries()\\n  File \"/media/aben-ham/SSD/aben-ham/work/manapy/manapy/ddm/domain.py\", line 406, in _update_boundaries\\n    self._innerfaces  = np.where(self._faces._name==0)[0].astype(self.int_precision)\\nAttributeError: _name\\nTraceback (most recent call last):\\n  File \"/media/aben-ham/SSD/aben-ham/work/manapy/tests/domain/primary/helpers/create_partitions_mpi_worker.py\", line 83, in <module>\\n    create_partitions(mesh_file_path, float_precision, dim)\\n  File \"/media/aben-ham/SSD/aben-ham/work/manapy/tests/domain/primary/helpers/create_partitions_mpi_worker.py\", line 72, in create_partitions\\n    domain = Domain(dim=dim, conf=running_conf)\\n  File \"/media/aben-ham/SSD/aben-ham/work/manapy/manapy/ddm/domain.py\", line 128, in __init__\\n    self.create_domain(self._comm.Get_size(), self._comm.Get_rank())\\n  File \"/media/aben-ham/SSD/aben-ham/work/manapy/manapy/ddm/domain.py\", line 159, in create_domain\\n    self._update_boundaries()\\n  File \"/media/aben-ham/SSD/aben-ham/work/manapy/manapy/ddm/domain.py\", line 406, in _update_boundaries\\n    self._innerfaces  = np.where(self._faces._name==0)[0].astype(self.int_precision)\\nAttributeError: _name\\nTraceback (most recent call last):\\n  File \"/media/aben-ham/SSD/aben-ham/work/manapy/tests/domain/primary/helpers/create_partitions_mpi_worker.py\", line 83, in <module>\\n    create_partitions(mesh_file_path, float_precision, dim)\\n  File \"/media/aben-ham/SSD/aben-ham/work/manapy/tests/domain/primary/helpers/create_partitions_mpi_worker.py\", line 72, in create_partitions\\n    domain = Domain(dim=dim, conf=running_conf)\\n  File \"/media/aben-ham/SSD/aben-ham/work/manapy/manapy/ddm/domain.py\", line 128, in __init__\\n    self.create_domain(self._comm.Get_size(), self._comm.Get_rank())\\n  File \"/media/aben-ham/SSD/aben-ham/work/manapy/manapy/ddm/domain.py\", line 159, in create_domain\\n    self._update_boundaries()\\n  File \"/media/aben-ham/SSD/aben-ham/work/manapy/manapy/ddm/domain.py\", line 406, in _update_boundaries\\n    self._innerfaces  = np.where(self._faces._name==0)[0].astype(self.int_precision)\\nAttributeError: _name\\n--------------------------------------------------------------------------\\nPrimary job  terminated normally, but 1 process returned\\na non-zero exit code. Per user-direction, the job has been aborted.\\n--------------------------------------------------------------------------\\n--------------------------------------------------------------------------\\nmpirun detected that one or more processes exited with non-zero status, thus causing\\nthe job to be terminated. The first process to do so was:\\n\\n  Process name: [[46178,1],3]\\n  Exit code:    1\\n--------------------------------------------------------------------------\\n') /media/aben-ham/SSD/aben-ham/work/manapy/tests/domain/primary\n"
     ]
    },
    {
     "ename": "SystemExit",
     "evalue": "1",
     "output_type": "error",
     "traceback": [
      "An exception has occurred, use %tb to see the full traceback.\n",
      "\u001B[0;31mSystemExit\u001B[0m\u001B[0;31m:\u001B[0m 1\n"
     ]
    },
    {
     "name": "stderr",
     "output_type": "stream",
     "text": [
      "/home/aben-ham/anaconda3/envs/work/lib/python3.8/site-packages/IPython/core/interactiveshell.py:3516: UserWarning: To exit: use 'exit', 'quit', or Ctrl-D.\n",
      "  warn(\"To exit: use 'exit', 'quit', or Ctrl-D.\", stacklevel=1)\n"
     ]
    }
   ],
   "execution_count": 1
  },
  {
   "metadata": {},
   "cell_type": "code",
   "source": [
    "import importlib\n",
    "\n",
    "module = importlib.import_module(\"helpers.TablesTestRect2D\")\n",
    "importlib.reload(module)\n",
    "TestTablesRect2D = getattr(module, \"TablesTestRect2D\")\n",
    "\n",
    "module = importlib.import_module(\"helpers.Checker2D\")\n",
    "importlib.reload(module)\n",
    "Checker2D = getattr(module, \"Checker2D\")\n",
    "\n",
    "d_cell_loctoglob = domain_tables.d_cell_loctoglob\n",
    "g_cell_nodeid = unified_domain.d_cell_nodeid[0]\n",
    "test_tables = TestTablesRect2D(float_precision, d_cell_loctoglob, g_cell_nodeid)\n",
    "test_tables.init()\n",
    "\n",
    "checker = Checker2D(decimal_precision=4, domain_tables=domain_tables, unified_domain=unified_domain, test_tables=test_tables)\n",
    "checker.test_cell_info()\n",
    "checker.test_face_info()\n",
    "checker.test_node_info()\n",
    "checker.test_halo_info()\n",
    "checker.summary()\n"
   ],
   "id": "5e84de3fb9917d90",
   "outputs": [],
   "execution_count": null
  },
  {
   "metadata": {},
   "cell_type": "markdown",
   "source": "## Triangles",
   "id": "de66ec60ca0ba12c"
  },
  {
   "metadata": {},
   "cell_type": "code",
   "source": [
    "import subprocess\n",
    "import os\n",
    "import numpy as np\n",
    "import sys\n",
    "\n",
    "sys.path.append(os.path.join(os.getcwd()))\n",
    "from tests.domain.primary.helpers.DomainTables import DomainTables\n",
    "\n",
    "mpi_exec = \"/usr/bin/mpirun\"\n",
    "python_exec = \"/home/aben-ham/anaconda3/envs/work/bin/python3\"\n",
    "float_precision = 'float64'\n",
    "dim=2\n",
    "mesh_name = 'triangles.msh'\n",
    "\n",
    "def create_partitions(nb_partitions, mesh_name, float_precision, dim):\n",
    "  root_file = os.getcwd()\n",
    "  mesh_file_path = os.path.join(root_file, 'mesh', mesh_name)\n",
    "  script_path = os.path.join(root_file, 'helpers', 'create_partitions_mpi_worker.py')\n",
    "  cmd = [mpi_exec, \"-n\", str(nb_partitions), \"--oversubscribe\", python_exec, script_path, mesh_file_path, float_precision, str(dim)]\n",
    "\n",
    "  result = subprocess.run(cmd, env=os.environ.copy(), stderr=subprocess.PIPE)\n",
    "  if result.returncode != 0:\n",
    "    print(result.__str__(), os.getcwd())\n",
    "    raise SystemExit(result.returncode)\n",
    "\n",
    "domain_tables = DomainTables(nb_partitions=7, mesh_name=mesh_name, float_precision=float_precision, dim=dim, create_par_fun=create_partitions)\n",
    "unified_domain = DomainTables(nb_partitions=1, mesh_name=mesh_name, float_precision=float_precision, dim=dim, create_par_fun=create_partitions)"
   ],
   "id": "da05e7f09eb3087e",
   "outputs": [],
   "execution_count": null
  },
  {
   "metadata": {},
   "cell_type": "code",
   "source": [
    "import importlib\n",
    "\n",
    "module = importlib.import_module(\"helpers.TablesTestTriangles2D\")\n",
    "importlib.reload(module)\n",
    "TestTablesTriangles2D = getattr(module, \"TablesTestTriangles2D\")\n",
    "\n",
    "module = importlib.import_module(\"helpers.Checker2D\")\n",
    "importlib.reload(module)\n",
    "Checker2D = getattr(module, \"Checker2D\")\n",
    "\n",
    "d_cell_loctoglob = domain_tables.d_cell_loctoglob\n",
    "g_cell_nodeid = unified_domain.d_cell_nodeid[0]\n",
    "test_tables = TestTablesTriangles2D(float_precision, d_cell_loctoglob, g_cell_nodeid)\n",
    "test_tables.init()\n",
    "\n",
    "checker = Checker2D(decimal_precision=4, domain_tables=domain_tables, unified_domain=unified_domain, test_tables=test_tables)\n",
    "checker.test_cell_info()\n",
    "checker.test_face_info()\n",
    "checker.test_node_info()\n",
    "checker.test_halo_info()\n",
    "checker.summary()"
   ],
   "id": "4207713652960b31",
   "outputs": [],
   "execution_count": null
  },
  {
   "metadata": {},
   "cell_type": "markdown",
   "source": "## Gamma in different domain",
   "id": "294bf04d78864e2d"
  },
  {
   "metadata": {},
   "cell_type": "code",
   "source": [
    "domain_tables_7 = DomainTables(nb_partitions=7, mesh_name=mesh_name, float_precision=float_precision, dim=dim, create_par_fun=create_partitions)\n",
    "domain_tables_5 = DomainTables(nb_partitions=5, mesh_name=mesh_name, float_precision=float_precision, dim=dim, create_par_fun=create_partitions)\n",
    "\n",
    "def glob_to_loc(domain):\n",
    "  loctoglob = domain.d_cell_loctoglob\n",
    "  dic = {}\n",
    "  for p in range(len(loctoglob)):\n",
    "    for i in range(len(loctoglob[p])):\n",
    "      g_index = loctoglob[p][i]\n",
    "      dic[g_index] = (p, i)\n",
    "  return dic\n",
    "\n",
    "dic7 = glob_to_loc(domain_tables)\n",
    "dic5 = glob_to_loc(domain_tables_5)\n",
    "\n",
    "def get_cell_faces_vertices(partitionId, cellId, domain):\n",
    "  c_faces = domain.d_cell_faces[partitionId][cellId]\n",
    "  c_faces = c_faces[0:c_faces[-1]]\n",
    "\n",
    "  c_faces_nodes = domain.d_faces[partitionId][c_faces]\n",
    "  c_faces_nodes = c_faces_nodes[:, 0:2]\n",
    "\n",
    "  node_vertices = domain.d_nodes[partitionId][c_faces_nodes][:, :, 0:2]\n",
    "  return node_vertices\n",
    "\n",
    "a = get_cell_faces_vertices(partitionId=5, cellId=0, domain=domain_tables) # domain split into 7 part\n",
    "b = get_cell_faces_vertices(partitionId=3, cellId=9, domain=domain_tables_5) # domain split into 5 part\n",
    "# (5, 0) and (3, 9) refer to the same cell\n",
    "np.testing.assert_array_almost_equal(a, b) # they have different face nodes arrangement\n",
    "# cell_7 = [[p1, p2], [p1, p2], [p1, p2]]\n",
    "# cell_5 = [[p2, p1], [p1, p2], [p1, p2]]\n",
    "\n",
    "for i in range(200):\n",
    "  print(i, dic7[i], dic5[i])\n",
    "  a = get_cell_faces_vertices(partitionId=5, cellId=0, domain=domain_tables)\n",
    "  b = get_cell_faces_vertices(partitionId=3, cellId=9, domain=domain_tables_5)\n",
    "  np.testing.assert_array_almost_equal(a, b)"
   ],
   "id": "e4a90c636e0de09d",
   "outputs": [],
   "execution_count": null
  }
 ],
 "metadata": {
  "kernelspec": {
   "display_name": "Python 3",
   "language": "python",
   "name": "python3"
  },
  "language_info": {
   "codemirror_mode": {
    "name": "ipython",
    "version": 2
   },
   "file_extension": ".py",
   "mimetype": "text/x-python",
   "name": "python",
   "nbconvert_exporter": "python",
   "pygments_lexer": "ipython2",
   "version": "2.7.6"
  }
 },
 "nbformat": 4,
 "nbformat_minor": 5
}
