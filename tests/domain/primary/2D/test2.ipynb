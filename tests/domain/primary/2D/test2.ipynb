{
 "cells": [
  {
   "metadata": {},
   "cell_type": "markdown",
   "source": "## RECT",
   "id": "7f780d946c200d1c"
  },
  {
   "metadata": {
    "ExecuteTime": {
     "end_time": "2025-03-20T10:23:35.849148Z",
     "start_time": "2025-03-20T10:23:31.759679Z"
    }
   },
   "cell_type": "code",
   "source": [
    "import subprocess\n",
    "import os\n",
    "import numpy as np\n",
    "import sys\n",
    "\n",
    "sys.path.append(os.path.join(os.getcwd()))\n",
    "from helpers.DomainTables import DomainTables\n",
    "from helpers.TablesTestRect2D import TablesTestRect2D\n",
    "\n",
    "mpi_exec = \"/usr/bin/mpirun\"\n",
    "python_exec = \"/home/aben-ham/anaconda3/envs/work/bin/python3\"\n",
    "float_precision = 'float64'\n",
    "dim=2\n",
    "mesh_name = 'rectangles.msh'\n",
    "\n",
    "def create_partitions(nb_partitions, mesh_name, float_precision, dim):\n",
    "  root_file = os.getcwd()\n",
    "  mesh_file_path = os.path.join(root_file, 'mesh', mesh_name)\n",
    "  script_path = os.path.join(root_file, 'helpers', 'create_partitions_mpi_worker.py')\n",
    "  cmd = [mpi_exec, \"-n\", str(nb_partitions), \"--oversubscribe\", python_exec, script_path, mesh_file_path, float_precision, str(dim)]\n",
    "\n",
    "  result = subprocess.run(cmd, env=os.environ.copy(), stderr=subprocess.PIPE)\n",
    "  if result.returncode != 0:\n",
    "    print(result.__str__(), os.getcwd())\n",
    "    raise SystemExit(result.returncode)\n",
    "\n",
    "domain_tables = DomainTables(nb_partitions=9, mesh_name=mesh_name, float_precision=float_precision, dim=dim, create_par_fun=create_partitions)\n",
    "unified_domain = DomainTables(nb_partitions=1, mesh_name=mesh_name, float_precision=float_precision, dim=dim, create_par_fun=create_partitions)"
   ],
   "id": "8b60d28823175b7e",
   "outputs": [
    {
     "name": "stdout",
     "output_type": "stream",
     "text": [
      "path /media/aben-ham/SSD/aben-ham/work/manapy/tests/domain/primary/2D/mesh/rectangles.msh precision float64 dim 2 rank 2\n",
      "path /media/aben-ham/SSD/aben-ham/work/manapy/tests/domain/primary/2D/mesh/rectangles.msh precision float64 dim 2 rank 7\n",
      "path /media/aben-ham/SSD/aben-ham/work/manapy/tests/domain/primary/2D/mesh/rectangles.msh precision float64 dim 2 rank 5\n",
      "path /media/aben-ham/SSD/aben-ham/work/manapy/tests/domain/primary/2D/mesh/rectangles.msh precision float64 dim 2 rank 6\n",
      "path /media/aben-ham/SSD/aben-ham/work/manapy/tests/domain/primary/2D/mesh/rectangles.msh precision float64 dim 2 rank 1\n",
      "path /media/aben-ham/SSD/aben-ham/work/manapy/tests/domain/primary/2D/mesh/rectangles.msh precision float64 dim 2 rank 0\n",
      "path /media/aben-ham/SSD/aben-ham/work/manapy/tests/domain/primary/2D/mesh/rectangles.msh precision float64 dim 2 rank 3\n",
      "Reading gmsh file ...\n",
      "Mesh partitionning ...\n",
      "path /media/aben-ham/SSD/aben-ham/work/manapy/tests/domain/primary/2D/mesh/rectangles.msh precision float64 dim 2 rank 8\n",
      "path /media/aben-ham/SSD/aben-ham/work/manapy/tests/domain/primary/2D/mesh/rectangles.msh precision float64 dim 2 rank 4\n",
      "Saving partition files ...\n",
      "Number of Cells: 100\n",
      "Number of Vertices: 121\n",
      "Local domain contruction ...\n",
      "saving mesh domain_meshes9PROC/mesh4.hdf5\n",
      "saving mesh domain_meshes9PROC/mesh0.hdf5\n",
      "saving mesh domain_meshes9PROC/mesh1.hdf5\n",
      "saving mesh domain_meshes9PROC/mesh6.hdf5\n",
      "saving mesh domain_meshes9PROC/mesh3.hdf5\n",
      "saving mesh domain_meshes9PROC/mesh8.hdf5\n",
      "saving mesh domain_meshes9PROC/mesh7.hdf5\n",
      "saving mesh domain_meshes9PROC/mesh5.hdf5\n",
      "saving mesh domain_meshes9PROC/mesh2.hdf5\n",
      "path /media/aben-ham/SSD/aben-ham/work/manapy/tests/domain/primary/2D/mesh/rectangles.msh precision float64 dim 2 rank 0\n",
      "Reading gmsh file ...\n",
      "Saving partition files ...\n",
      "Number of Cells: 100\n",
      "Number of Vertices: 121\n",
      "Local domain contruction ...\n",
      "saving mesh domain_meshes1PROC/mesh0.hdf5\n"
     ]
    }
   ],
   "execution_count": 1
  },
  {
   "metadata": {
    "ExecuteTime": {
     "end_time": "2025-03-20T10:23:55.644008Z",
     "start_time": "2025-03-20T10:23:55.443Z"
    }
   },
   "cell_type": "code",
   "source": [
    "import importlib\n",
    "\n",
    "module = importlib.import_module(\"helpers.TablesTestRect2D\")\n",
    "importlib.reload(module)\n",
    "TestTablesRect2D = getattr(module, \"TablesTestRect2D\")\n",
    "\n",
    "module = importlib.import_module(\"helpers.Checker2D\")\n",
    "importlib.reload(module)\n",
    "Checker2D = getattr(module, \"Checker2D\")\n",
    "\n",
    "d_cell_loctoglob = domain_tables.d_cell_loctoglob\n",
    "g_cell_nodeid = unified_domain.d_cell_nodeid[0]\n",
    "test_tables = TestTablesRect2D(float_precision, d_cell_loctoglob, g_cell_nodeid)\n",
    "test_tables.init()\n",
    "\n",
    "checker = Checker2D(decimal_precision=4, domain_tables=domain_tables, unified_domain=unified_domain, test_tables=test_tables)\n",
    "checker.test_cell_info()\n",
    "checker.test_face_info()\n",
    "checker.test_node_info()\n",
    "checker.test_halo_info()\n",
    "checker.summary()\n"
   ],
   "id": "5e84de3fb9917d90",
   "outputs": [
    {
     "name": "stdout",
     "output_type": "stream",
     "text": [
      "\n",
      "\u001B[33m# ============================== #\u001B[0m\n",
      "\u001B[33m# ========== Summary =========== #\u001B[0m\n",
      "\u001B[33m# ============================== #\u001B[0m\n",
      "\u001B[34m===>\u001B[0m \u001B[32m33 [P]\u001B[0m \u001B[31m1 [F]\u001B[0m \u001B[34mTotal 34\u001B[0m\n",
      "---------------------------------------------------------\n",
      "---------------------------------------------------------\n",
      "\u001B[34m### Entities Details\u001B[0m\n",
      "\u001B[32m[P] 1/34: Cell Vertices\u001B[0m\n",
      "\u001B[32m[P] 2/34: Cell Center\u001B[0m\n",
      "\u001B[32m[P] 3/34: Cell Area\u001B[0m\n",
      "\u001B[32m[P] 4/34: Cell Neighbors by face\u001B[0m\n",
      "\u001B[32m[P] 5/34: Cell Neighbors by node\u001B[0m\n",
      "\u001B[32m[P] 6/34: Cell Halo by face\u001B[0m\n",
      "\u001B[32m[P] 7/34: Cell Halo by node\u001B[0m\n",
      "\u001B[32m[P] 8/34: Cell Ghostnid *\u001B[0m\n",
      "\u001B[32m[P] 9/34: Cell Haloghostnid and Haloghostcenter *\u001B[0m\n",
      "\u001B[32m[P] 10/34: Cell Number of cells\u001B[0m\n",
      "\u001B[32m[P] 11/34: Face Vertices\u001B[0m\n",
      "\u001B[32m[P] 12/34: Face Measure\u001B[0m\n",
      "\u001B[32m[P] 13/34: Face Center\u001B[0m\n",
      "\u001B[32m[P] 14/34: Face Name\u001B[0m\n",
      "\u001B[32m[P] 15/34: Face Oldname\u001B[0m\n",
      "\u001B[32m[P] 16/34: Face Normal(Only abs)\u001B[0m\n",
      "\u001B[32m[P] 17/34: Face CellId\u001B[0m\n",
      "\u001B[32m[P] 18/34: Face Ghostcenter\u001B[0m\n",
      "\u001B[32m[P] 19/34: Face Cell face normal\u001B[0m\n",
      "\u001B[32m[P] 20/34: Face Number of faces\u001B[0m\n",
      "\u001B[32m[P] 21/34: Node Cellid\u001B[0m\n",
      "\u001B[32m[P] 22/34: Node Loctoglob\u001B[0m\n",
      "\u001B[32m[P] 23/34: Node Halonid\u001B[0m\n",
      "\u001B[32m[P] 24/34: Node Oldname\u001B[0m\n",
      "\u001B[32m[P] 25/34: Node Name\u001B[0m\n",
      "\u001B[32m[P] 26/34: Node ghostid, ghostcenter and ghostfaceinfo *\u001B[0m\n",
      "\u001B[32m[P] 27/34: Node haloghostid, haloghostcenter and haloghostfaceinfo\u001B[0m\n",
      "\u001B[32m[P] 28/34: Node Number of nodes\u001B[0m\n",
      "\u001B[32m[P] 29/34: Halo Halosext\u001B[0m\n",
      "\u001B[32m[P] 30/34: Halo Halosint\u001B[0m\n",
      "\u001B[32m[P] 31/34: Halo neigh\u001B[0m\n",
      "\u001B[32m[P] 32/34: Halo center\u001B[0m\n",
      "\u001B[32m[P] 33/34: Halo vol\u001B[0m\n",
      "\u001B[31m* [F] 34/34: Halo sizehaloghost * 1 / 9 \u001B[0m\n",
      "\u001B[31m\t\n",
      "\tArrays are not equal\n",
      "\t\n",
      "\tMismatched elements: 1 / 9 (11.1%)\n",
      "\tMax absolute difference: 1\n",
      "\tMax relative difference: 0.25\n",
      "\t x: array([2, 2, 2, 2, 2, 3, 4, 4, 4], dtype=int32)\n",
      "\t y: array([2, 2, 2, 2, 2, 4, 4, 4, 4])\u001B[0m\n",
      "\n",
      "---------------------------------------------------------\n",
      "---------------------------------------------------------\n",
      "\u001B[34m===>\u001B[0m \u001B[32m33 [P]\u001B[0m \u001B[31m1 [F]\u001B[0m \u001B[34mTotal 34\u001B[0m\n"
     ]
    },
    {
     "data": {
      "text/plain": [
       "False"
      ]
     },
     "execution_count": 3,
     "metadata": {},
     "output_type": "execute_result"
    }
   ],
   "execution_count": 3
  },
  {
   "metadata": {},
   "cell_type": "markdown",
   "source": "## Triangles",
   "id": "de66ec60ca0ba12c"
  },
  {
   "metadata": {
    "ExecuteTime": {
     "end_time": "2025-03-20T10:25:05.380750Z",
     "start_time": "2025-03-20T10:25:01.340213Z"
    }
   },
   "cell_type": "code",
   "source": [
    "import subprocess\n",
    "import os\n",
    "import numpy as np\n",
    "import sys\n",
    "\n",
    "sys.path.append(os.path.join(os.getcwd()))\n",
    "from helpers.DomainTables import DomainTables\n",
    "from helpers.TablesTestRect2D import TablesTestRect2D\n",
    "\n",
    "mpi_exec = \"/usr/bin/mpirun\"\n",
    "python_exec = \"/home/aben-ham/anaconda3/envs/work/bin/python3\"\n",
    "float_precision = 'float64'\n",
    "dim=2\n",
    "mesh_name = 'triangles.msh'\n",
    "\n",
    "def create_partitions(nb_partitions, mesh_name, float_precision, dim):\n",
    "  root_file = os.getcwd()\n",
    "  mesh_file_path = os.path.join(root_file, 'mesh', mesh_name)\n",
    "  script_path = os.path.join(root_file, 'helpers', 'create_partitions_mpi_worker.py')\n",
    "  cmd = [mpi_exec, \"-n\", str(nb_partitions), \"--oversubscribe\", python_exec, script_path, mesh_file_path, float_precision, str(dim)]\n",
    "\n",
    "  result = subprocess.run(cmd, env=os.environ.copy(), stderr=subprocess.PIPE)\n",
    "  if result.returncode != 0:\n",
    "    print(result.__str__(), os.getcwd())\n",
    "    raise SystemExit(result.returncode)\n",
    "\n",
    "domain_tables = DomainTables(nb_partitions=7, mesh_name=mesh_name, float_precision=float_precision, dim=dim, create_par_fun=create_partitions)\n",
    "unified_domain = DomainTables(nb_partitions=1, mesh_name=mesh_name, float_precision=float_precision, dim=dim, create_par_fun=create_partitions)"
   ],
   "id": "da05e7f09eb3087e",
   "outputs": [
    {
     "name": "stdout",
     "output_type": "stream",
     "text": [
      "path /media/aben-ham/SSD/aben-ham/work/manapy/tests/domain/primary/2D/mesh/triangles.msh precision float64 dim 2 rank 2\n",
      "path /media/aben-ham/SSD/aben-ham/work/manapy/tests/domain/primary/2D/mesh/triangles.msh precision float64 dim 2 rank 3\n",
      "path /media/aben-ham/SSD/aben-ham/work/manapy/tests/domain/primary/2D/mesh/triangles.msh precision float64 dim 2 rank 1\n",
      "path /media/aben-ham/SSD/aben-ham/work/manapy/tests/domain/primary/2D/mesh/triangles.msh precision float64 dim 2 rank 6\n",
      "path /media/aben-ham/SSD/aben-ham/work/manapy/tests/domain/primary/2D/mesh/triangles.msh precision float64 dim 2 rank 0\n",
      "path /media/aben-ham/SSD/aben-ham/work/manapy/tests/domain/primary/2D/mesh/triangles.msh precision float64 dim 2 rank 5\n",
      "path /media/aben-ham/SSD/aben-ham/work/manapy/tests/domain/primary/2D/mesh/triangles.msh precision float64 dim 2 rank 4\n",
      "Reading gmsh file ...\n",
      "Mesh partitionning ...\n",
      "Saving partition files ...\n",
      "Number of Cells: 200\n",
      "Number of Vertices: 121\n",
      "Local domain contruction ...\n",
      "saving mesh domain_meshes7PROC/mesh6.hdf5\n",
      "saving mesh domain_meshes7PROC/mesh3.hdf5\n",
      "saving mesh domain_meshes7PROC/mesh2.hdf5\n",
      "saving mesh domain_meshes7PROC/mesh5.hdf5\n",
      "saving mesh domain_meshes7PROC/mesh4.hdf5\n",
      "saving mesh domain_meshes7PROC/mesh1.hdf5\n",
      "saving mesh domain_meshes7PROC/mesh0.hdf5\n",
      "path /media/aben-ham/SSD/aben-ham/work/manapy/tests/domain/primary/2D/mesh/triangles.msh precision float64 dim 2 rank 0\n",
      "Reading gmsh file ...\n",
      "Saving partition files ...\n",
      "Number of Cells: 200\n",
      "Number of Vertices: 121\n",
      "Local domain contruction ...\n",
      "saving mesh domain_meshes1PROC/mesh0.hdf5\n"
     ]
    }
   ],
   "execution_count": 6
  },
  {
   "metadata": {
    "ExecuteTime": {
     "end_time": "2025-03-20T10:25:05.594938Z",
     "start_time": "2025-03-20T10:25:05.386057Z"
    }
   },
   "cell_type": "code",
   "source": [
    "import importlib\n",
    "\n",
    "module = importlib.import_module(\"helpers.TablesTestTriangles2D\")\n",
    "importlib.reload(module)\n",
    "TestTablesTriangles2D = getattr(module, \"TablesTestTriangles2D\")\n",
    "\n",
    "module = importlib.import_module(\"helpers.Checker2D\")\n",
    "importlib.reload(module)\n",
    "Checker2D = getattr(module, \"Checker2D\")\n",
    "\n",
    "d_cell_loctoglob = domain_tables.d_cell_loctoglob\n",
    "g_cell_nodeid = unified_domain.d_cell_nodeid[0]\n",
    "test_tables = TestTablesTriangles2D(float_precision, d_cell_loctoglob, g_cell_nodeid)\n",
    "test_tables.init()\n",
    "\n",
    "checker = Checker2D(decimal_precision=4, domain_tables=domain_tables, unified_domain=unified_domain, test_tables=test_tables)\n",
    "checker.test_cell_info()\n",
    "checker.test_face_info()\n",
    "checker.test_node_info()\n",
    "checker.test_halo_info()\n",
    "checker.summary()"
   ],
   "id": "4207713652960b31",
   "outputs": [
    {
     "name": "stdout",
     "output_type": "stream",
     "text": [
      "\n",
      "\u001B[33m# ============================== #\u001B[0m\n",
      "\u001B[33m# ========== Summary =========== #\u001B[0m\n",
      "\u001B[33m# ============================== #\u001B[0m\n",
      "\u001B[34m===>\u001B[0m \u001B[32m34 [P]\u001B[0m \u001B[31m0 [F]\u001B[0m \u001B[34mTotal 34\u001B[0m\n",
      "---------------------------------------------------------\n",
      "---------------------------------------------------------\n",
      "\u001B[34m### Entities Details\u001B[0m\n",
      "\u001B[32m[P] 1/34: Cell Vertices\u001B[0m\n",
      "\u001B[32m[P] 2/34: Cell Center\u001B[0m\n",
      "\u001B[32m[P] 3/34: Cell Area\u001B[0m\n",
      "\u001B[32m[P] 4/34: Cell Neighbors by face\u001B[0m\n",
      "\u001B[32m[P] 5/34: Cell Neighbors by node\u001B[0m\n",
      "\u001B[32m[P] 6/34: Cell Halo by face\u001B[0m\n",
      "\u001B[32m[P] 7/34: Cell Halo by node\u001B[0m\n",
      "\u001B[32m[P] 8/34: Cell Ghostnid *\u001B[0m\n",
      "\u001B[32m[P] 9/34: Cell Haloghostnid and Haloghostcenter *\u001B[0m\n",
      "\u001B[32m[P] 10/34: Cell Number of cells\u001B[0m\n",
      "\u001B[32m[P] 11/34: Face Vertices\u001B[0m\n",
      "\u001B[32m[P] 12/34: Face Measure\u001B[0m\n",
      "\u001B[32m[P] 13/34: Face Center\u001B[0m\n",
      "\u001B[32m[P] 14/34: Face Name\u001B[0m\n",
      "\u001B[32m[P] 15/34: Face Oldname\u001B[0m\n",
      "\u001B[32m[P] 16/34: Face Normal(Only abs)\u001B[0m\n",
      "\u001B[32m[P] 17/34: Face CellId\u001B[0m\n",
      "\u001B[32m[P] 18/34: Face Ghostcenter\u001B[0m\n",
      "\u001B[32m[P] 19/34: Face Cell face normal\u001B[0m\n",
      "\u001B[32m[P] 20/34: Face Number of faces\u001B[0m\n",
      "\u001B[32m[P] 21/34: Node Cellid\u001B[0m\n",
      "\u001B[32m[P] 22/34: Node Loctoglob\u001B[0m\n",
      "\u001B[32m[P] 23/34: Node Halonid\u001B[0m\n",
      "\u001B[32m[P] 24/34: Node Oldname\u001B[0m\n",
      "\u001B[32m[P] 25/34: Node Name\u001B[0m\n",
      "\u001B[32m[P] 26/34: Node ghostid, ghostcenter and ghostfaceinfo *\u001B[0m\n",
      "\u001B[32m[P] 27/34: Node haloghostid, haloghostcenter and haloghostfaceinfo\u001B[0m\n",
      "\u001B[32m[P] 28/34: Node Number of nodes\u001B[0m\n",
      "\u001B[32m[P] 29/34: Halo Halosext\u001B[0m\n",
      "\u001B[32m[P] 30/34: Halo Halosint\u001B[0m\n",
      "\u001B[32m[P] 31/34: Halo neigh\u001B[0m\n",
      "\u001B[32m[P] 32/34: Halo center\u001B[0m\n",
      "\u001B[32m[P] 33/34: Halo vol\u001B[0m\n",
      "\u001B[32m[P] 34/34: Halo sizehaloghost *\u001B[0m\n",
      "\n",
      "---------------------------------------------------------\n",
      "---------------------------------------------------------\n",
      "\u001B[34m===>\u001B[0m \u001B[32m34 [P]\u001B[0m \u001B[31m0 [F]\u001B[0m \u001B[34mTotal 34\u001B[0m\n"
     ]
    },
    {
     "data": {
      "text/plain": [
       "True"
      ]
     },
     "execution_count": 7,
     "metadata": {},
     "output_type": "execute_result"
    }
   ],
   "execution_count": 7
  },
  {
   "metadata": {},
   "cell_type": "markdown",
   "source": "## Gamma in different domain",
   "id": "294bf04d78864e2d"
  },
  {
   "metadata": {
    "ExecuteTime": {
     "end_time": "2025-03-13T13:39:30.520153Z",
     "start_time": "2025-03-13T13:39:30.498545Z"
    }
   },
   "cell_type": "code",
   "outputs": [
    {
     "ename": "AssertionError",
     "evalue": "\nArrays are not almost equal to 6 decimals\n\nMismatched elements: 4 / 12 (33.3%)\nMax absolute difference: 1.\nMax relative difference: 1.\n x: array([[[1. , 2. ],\n        [0. , 2.5]],\n...\n y: array([[[0. , 2.5],\n        [1. , 2. ]],\n...",
     "output_type": "error",
     "traceback": [
      "\u001B[0;31m---------------------------------------------------------------------------\u001B[0m",
      "\u001B[0;31mAssertionError\u001B[0m                            Traceback (most recent call last)",
      "Cell \u001B[0;32mIn[38], line 14\u001B[0m\n\u001B[1;32m     12\u001B[0m b \u001B[38;5;241m=\u001B[39m get_cell_faces_vertices(partitionId\u001B[38;5;241m=\u001B[39m\u001B[38;5;241m3\u001B[39m, cellId\u001B[38;5;241m=\u001B[39m\u001B[38;5;241m9\u001B[39m, domain\u001B[38;5;241m=\u001B[39mdomain_tables_5) \u001B[38;5;66;03m# domain split into 5 part\u001B[39;00m\n\u001B[1;32m     13\u001B[0m \u001B[38;5;66;03m# (5, 0) and (3, 9) refer to the same cell\u001B[39;00m\n\u001B[0;32m---> 14\u001B[0m \u001B[43mnp\u001B[49m\u001B[38;5;241;43m.\u001B[39;49m\u001B[43mtesting\u001B[49m\u001B[38;5;241;43m.\u001B[39;49m\u001B[43massert_array_almost_equal\u001B[49m\u001B[43m(\u001B[49m\u001B[43ma\u001B[49m\u001B[43m,\u001B[49m\u001B[43m \u001B[49m\u001B[43mb\u001B[49m\u001B[43m)\u001B[49m\n",
      "File \u001B[0;32m~/anaconda3/envs/work/lib/python3.8/contextlib.py:75\u001B[0m, in \u001B[0;36mContextDecorator.__call__.<locals>.inner\u001B[0;34m(*args, **kwds)\u001B[0m\n\u001B[1;32m     72\u001B[0m \u001B[38;5;129m@wraps\u001B[39m(func)\n\u001B[1;32m     73\u001B[0m \u001B[38;5;28;01mdef\u001B[39;00m \u001B[38;5;21minner\u001B[39m(\u001B[38;5;241m*\u001B[39margs, \u001B[38;5;241m*\u001B[39m\u001B[38;5;241m*\u001B[39mkwds):\n\u001B[1;32m     74\u001B[0m     \u001B[38;5;28;01mwith\u001B[39;00m \u001B[38;5;28mself\u001B[39m\u001B[38;5;241m.\u001B[39m_recreate_cm():\n\u001B[0;32m---> 75\u001B[0m         \u001B[38;5;28;01mreturn\u001B[39;00m \u001B[43mfunc\u001B[49m\u001B[43m(\u001B[49m\u001B[38;5;241;43m*\u001B[39;49m\u001B[43margs\u001B[49m\u001B[43m,\u001B[49m\u001B[43m \u001B[49m\u001B[38;5;241;43m*\u001B[39;49m\u001B[38;5;241;43m*\u001B[39;49m\u001B[43mkwds\u001B[49m\u001B[43m)\u001B[49m\n",
      "    \u001B[0;31m[... skipping hidden 1 frame]\u001B[0m\n",
      "File \u001B[0;32m~/anaconda3/envs/work/lib/python3.8/contextlib.py:75\u001B[0m, in \u001B[0;36mContextDecorator.__call__.<locals>.inner\u001B[0;34m(*args, **kwds)\u001B[0m\n\u001B[1;32m     72\u001B[0m \u001B[38;5;129m@wraps\u001B[39m(func)\n\u001B[1;32m     73\u001B[0m \u001B[38;5;28;01mdef\u001B[39;00m \u001B[38;5;21minner\u001B[39m(\u001B[38;5;241m*\u001B[39margs, \u001B[38;5;241m*\u001B[39m\u001B[38;5;241m*\u001B[39mkwds):\n\u001B[1;32m     74\u001B[0m     \u001B[38;5;28;01mwith\u001B[39;00m \u001B[38;5;28mself\u001B[39m\u001B[38;5;241m.\u001B[39m_recreate_cm():\n\u001B[0;32m---> 75\u001B[0m         \u001B[38;5;28;01mreturn\u001B[39;00m \u001B[43mfunc\u001B[49m\u001B[43m(\u001B[49m\u001B[38;5;241;43m*\u001B[39;49m\u001B[43margs\u001B[49m\u001B[43m,\u001B[49m\u001B[43m \u001B[49m\u001B[38;5;241;43m*\u001B[39;49m\u001B[38;5;241;43m*\u001B[39;49m\u001B[43mkwds\u001B[49m\u001B[43m)\u001B[49m\n",
      "File \u001B[0;32m~/.local/lib/python3.8/site-packages/numpy/testing/_private/utils.py:862\u001B[0m, in \u001B[0;36massert_array_compare\u001B[0;34m(comparison, x, y, err_msg, verbose, header, precision, equal_nan, equal_inf, strict)\u001B[0m\n\u001B[1;32m    858\u001B[0m         err_msg \u001B[38;5;241m+\u001B[39m\u001B[38;5;241m=\u001B[39m \u001B[38;5;124m'\u001B[39m\u001B[38;5;130;01m\\n\u001B[39;00m\u001B[38;5;124m'\u001B[39m \u001B[38;5;241m+\u001B[39m \u001B[38;5;124m'\u001B[39m\u001B[38;5;130;01m\\n\u001B[39;00m\u001B[38;5;124m'\u001B[39m\u001B[38;5;241m.\u001B[39mjoin(remarks)\n\u001B[1;32m    859\u001B[0m         msg \u001B[38;5;241m=\u001B[39m build_err_msg([ox, oy], err_msg,\n\u001B[1;32m    860\u001B[0m                             verbose\u001B[38;5;241m=\u001B[39mverbose, header\u001B[38;5;241m=\u001B[39mheader,\n\u001B[1;32m    861\u001B[0m                             names\u001B[38;5;241m=\u001B[39m(\u001B[38;5;124m'\u001B[39m\u001B[38;5;124mx\u001B[39m\u001B[38;5;124m'\u001B[39m, \u001B[38;5;124m'\u001B[39m\u001B[38;5;124my\u001B[39m\u001B[38;5;124m'\u001B[39m), precision\u001B[38;5;241m=\u001B[39mprecision)\n\u001B[0;32m--> 862\u001B[0m         \u001B[38;5;28;01mraise\u001B[39;00m \u001B[38;5;167;01mAssertionError\u001B[39;00m(msg)\n\u001B[1;32m    863\u001B[0m \u001B[38;5;28;01mexcept\u001B[39;00m \u001B[38;5;167;01mValueError\u001B[39;00m:\n\u001B[1;32m    864\u001B[0m     \u001B[38;5;28;01mimport\u001B[39;00m \u001B[38;5;21;01mtraceback\u001B[39;00m\n",
      "\u001B[0;31mAssertionError\u001B[0m: \nArrays are not almost equal to 6 decimals\n\nMismatched elements: 4 / 12 (33.3%)\nMax absolute difference: 1.\nMax relative difference: 1.\n x: array([[[1. , 2. ],\n        [0. , 2.5]],\n...\n y: array([[[0. , 2.5],\n        [1. , 2. ]],\n..."
     ]
    }
   ],
   "execution_count": 38,
   "source": [
    "domain_tables_7 = DomainTables(nb_partitions=7, mesh_name=mesh_name, float_precision=float_precision, dim=dim, create_par_fun=create_partitions)\n",
    "domain_tables_5 = DomainTables(nb_partitions=5, mesh_name=mesh_name, float_precision=float_precision, dim=dim, create_par_fun=create_partitions)\n",
    "\n",
    "def glob_to_loc(domain):\n",
    "  loctoglob = domain.d_cell_loctoglob\n",
    "  dic = {}\n",
    "  for p in range(len(loctoglob)):\n",
    "    for i in range(len(loctoglob[p])):\n",
    "      g_index = loctoglob[p][i]\n",
    "      dic[g_index] = (p, i)\n",
    "  return dic\n",
    "\n",
    "dic7 = glob_to_loc(domain_tables)\n",
    "dic5 = glob_to_loc(domain_tables_5)\n",
    "\n",
    "def get_cell_faces_vertices(partitionId, cellId, domain):\n",
    "  c_faces = domain.d_cell_faces[partitionId][cellId]\n",
    "  c_faces = c_faces[0:c_faces[-1]]\n",
    "\n",
    "  c_faces_nodes = domain.d_faces[partitionId][c_faces]\n",
    "  c_faces_nodes = c_faces_nodes[:, 0:2]\n",
    "\n",
    "  node_vertices = domain.d_nodes[partitionId][c_faces_nodes][:, :, 0:2]\n",
    "  return node_vertices\n",
    "\n",
    "a = get_cell_faces_vertices(partitionId=5, cellId=0, domain=domain_tables) # domain split into 7 part\n",
    "b = get_cell_faces_vertices(partitionId=3, cellId=9, domain=domain_tables_5) # domain split into 5 part\n",
    "# (5, 0) and (3, 9) refer to the same cell\n",
    "np.testing.assert_array_almost_equal(a, b) # they have different face nodes arrangement\n",
    "# cell_7 = [[p1, p2], [p1, p2], [p1, p2]]\n",
    "# cell_5 = [[p2, p1], [p1, p2], [p1, p2]]\n",
    "\n",
    "for i in range(200):\n",
    "  print(i, dic7[i], dic5[i])\n",
    "  a = get_cell_faces_vertices(partitionId=5, cellId=0, domain=domain_tables)\n",
    "  b = get_cell_faces_vertices(partitionId=3, cellId=9, domain=domain_tables_5)\n",
    "  np.testing.assert_array_almost_equal(a, b)"
   ],
   "id": "e4a90c636e0de09d"
  },
  {
   "metadata": {
    "ExecuteTime": {
     "end_time": "2025-03-19T15:46:47.678260Z",
     "start_time": "2025-03-19T15:46:47.667588Z"
    }
   },
   "cell_type": "code",
   "source": [
    "from termcolor import colored\n",
    "\n",
    "class Entity:\n",
    "  def __init__(self, name):\n",
    "    self.name = name\n",
    "    self.passed = 0\n",
    "    self.failed = 0\n",
    "    self.nbr_tests = 0\n",
    "    self.error = None\n",
    "    self.error_index = None\n",
    "\n",
    "class TestLogger:\n",
    "\n",
    "  def __init__(self):\n",
    "    self.entities = {}\n",
    "    self.sorted_entities = []\n",
    "\n",
    "  def testing(self, label, assert_fun, *args, **keys):\n",
    "    if label not in self.entities.keys():\n",
    "      self.entities[label] = Entity(label)\n",
    "      self.sorted_entities.append(label)\n",
    "    self.entities[label].nbr_tests += 1\n",
    "    try:\n",
    "      assert_fun(*args, **keys)\n",
    "      self.entities[label].passed += 1\n",
    "    except AssertionError as e:\n",
    "      self.entities[label].failed += 1\n",
    "      if not self.entities[label].error:\n",
    "        self.entities[label].error = str(e)\n",
    "        self.entities[label].error_index = self.entities[label].nbr_tests\n",
    "\n",
    "\n",
    "  def summary(self):\n",
    "    failed_tests = 0\n",
    "    passed_tests = 0\n",
    "    for item in self.sorted_entities:\n",
    "      if self.entities[item].error:\n",
    "        failed_tests += 1\n",
    "      else:\n",
    "        passed_tests += 1\n",
    "    number_of_tests = passed_tests + failed_tests\n",
    "\n",
    "    print()\n",
    "    print(colored(\"# ============================== #\", \"yellow\"))\n",
    "    print(colored(\"# ========== Summary =========== #\", \"yellow\"))\n",
    "    print(colored(\"# ============================== #\", \"yellow\"))\n",
    "\n",
    "    print(colored(f\"==> {passed_tests} [P] ## {failed_tests} [F] ## Total {number_of_tests}\", \"blue\"))\n",
    "    print(\"---------------------------------------------------------\")\n",
    "\n",
    "    counter = 0\n",
    "    for item in self.sorted_entities:\n",
    "      counter += 1\n",
    "      entity = self.entities[item]\n",
    "      if entity.error:\n",
    "        print(colored(f\"[F] {counter}/{number_of_tests}: {entity.name}\", \"red\"))\n",
    "      else:\n",
    "        print(colored(f\"[P] {counter}/{number_of_tests}: {entity.name}\", \"green\"))\n",
    "\n",
    "\n",
    "    print(\"---------------------------------------------------------\")\n",
    "    print(colored(f\"### Entities Details\", \"blue\"))\n",
    "    for item in self.sorted_entities:\n",
    "      entity = self.entities[item]\n",
    "      if entity.error:\n",
    "        print(colored(f\"* [F] {entity.name}: {entity.failed} / {entity.nbr_tests} \", \"red\"))\n",
    "        print(colored(f\"First error on: {entity.error_index} / {entity.nbr_tests}\", \"red\"), end=\"\")\n",
    "        print(colored(\"\\n\".join(\"\\t\" + line for line in entity.error.splitlines()), \"red\"), end=\"\")\n",
    "        print()\n",
    "      else:\n",
    "        print(colored(f\"[P] {entity.name}: {entity.passed} / {entity.nbr_tests} \", \"green\"))\n",
    "    return failed_tests == 0\n",
    "\n",
    "logger = TestLogger()\n",
    "\n",
    "logger.testing(\"Test1\", np.testing.assert_almost_equal, 1, 1, decimal=2)\n",
    "logger.testing(\"Test1\", np.testing.assert_almost_equal, 1, 4, decimal=2)\n",
    "logger.testing(\"Test2\", np.testing.assert_almost_equal, 1, 1, decimal=2)\n",
    "\n",
    "logger.summary()"
   ],
   "id": "5bde4c48154ffd18",
   "outputs": [
    {
     "name": "stdout",
     "output_type": "stream",
     "text": [
      "\n",
      "\u001B[33m# ============================== #\u001B[0m\n",
      "\u001B[33m# ========== Summary =========== #\u001B[0m\n",
      "\u001B[33m# ============================== #\u001B[0m\n",
      "\u001B[34m==> 1 [P] ## 1 [F] ## Total 2\u001B[0m\n",
      "---------------------------------------------------------\n",
      "\u001B[31m[F] 1/2: Test1\u001B[0m\n",
      "\u001B[32m[P] 2/2: Test2\u001B[0m\n",
      "---------------------------------------------------------\n",
      "\u001B[34m### Entities Details\u001B[0m\n",
      "\u001B[31m* [F] Test1: 1 / 2 \u001B[0m\n",
      "\u001B[31mFirst error on: 2 / 2\u001B[0m\u001B[31m\t\n",
      "\tArrays are not almost equal to 2 decimals\n",
      "\t ACTUAL: 1\n",
      "\t DESIRED: 4\u001B[0m\n",
      "\u001B[32m[P] Test2: 1 / 1 \u001B[0m\n"
     ]
    },
    {
     "data": {
      "text/plain": [
       "False"
      ]
     },
     "execution_count": 112,
     "metadata": {},
     "output_type": "execute_result"
    }
   ],
   "execution_count": 112
  },
  {
   "metadata": {
    "ExecuteTime": {
     "end_time": "2025-03-19T15:06:09.022394Z",
     "start_time": "2025-03-19T15:06:09.007251Z"
    }
   },
   "cell_type": "code",
   "source": [
    "entities = {}\n",
    "class Entity:\n",
    "  def __init__(self, name):\n",
    "    self.name = name\n",
    "    self.passed = 0\n",
    "    self.failed = 0\n",
    "    self.counter = 0\n",
    "\n",
    "if \"Tent1\" not in entities.keys():\n",
    "  entities[\"Test1\"] = Entity(\"Test1\")\n",
    "\n",
    "entities[\"Test1\"].failed += 1\n",
    "if \"Tent1\" not in entities.keys():\n",
    "  entities[\"Test1\"] = Entity(\"Test1\")\n",
    "\n",
    "print(entities)"
   ],
   "id": "6d4b3d7126845d18",
   "outputs": [
    {
     "ename": "KeyError",
     "evalue": "'Test1'",
     "output_type": "error",
     "traceback": [
      "\u001B[0;31m---------------------------------------------------------------------------\u001B[0m",
      "\u001B[0;31mKeyError\u001B[0m                                  Traceback (most recent call last)",
      "Cell \u001B[0;32mIn[68], line 11\u001B[0m\n\u001B[1;32m      6\u001B[0m     \u001B[38;5;28mself\u001B[39m\u001B[38;5;241m.\u001B[39mfailed \u001B[38;5;241m=\u001B[39m \u001B[38;5;241m0\u001B[39m\n\u001B[1;32m      7\u001B[0m     \u001B[38;5;28mself\u001B[39m\u001B[38;5;241m.\u001B[39mcounter \u001B[38;5;241m=\u001B[39m \u001B[38;5;241m0\u001B[39m\n\u001B[0;32m---> 11\u001B[0m \u001B[43mentities\u001B[49m\u001B[43m[\u001B[49m\u001B[38;5;124;43m\"\u001B[39;49m\u001B[38;5;124;43mTest1\u001B[39;49m\u001B[38;5;124;43m\"\u001B[39;49m\u001B[43m]\u001B[49m\u001B[38;5;241m.\u001B[39mfailed \u001B[38;5;241m+\u001B[39m\u001B[38;5;241m=\u001B[39m \u001B[38;5;241m1\u001B[39m\n\u001B[1;32m     14\u001B[0m \u001B[38;5;28mprint\u001B[39m(entities)\n",
      "\u001B[0;31mKeyError\u001B[0m: 'Test1'"
     ]
    }
   ],
   "execution_count": 68
  },
  {
   "metadata": {
    "ExecuteTime": {
     "end_time": "2025-03-19T15:14:23.977551Z",
     "start_time": "2025-03-19T15:14:23.974343Z"
    }
   },
   "cell_type": "code",
   "source": [
    "for i in range(100):\n",
    "  print(i, end='\\r')"
   ],
   "id": "7227a177f4e98c2e",
   "outputs": [
    {
     "name": "stdout",
     "output_type": "stream",
     "text": [
      "99\r"
     ]
    }
   ],
   "execution_count": 69
  }
 ],
 "metadata": {
  "kernelspec": {
   "display_name": "Python 3",
   "language": "python",
   "name": "python3"
  },
  "language_info": {
   "codemirror_mode": {
    "name": "ipython",
    "version": 2
   },
   "file_extension": ".py",
   "mimetype": "text/x-python",
   "name": "python",
   "nbconvert_exporter": "python",
   "pygments_lexer": "ipython2",
   "version": "2.7.6"
  }
 },
 "nbformat": 4,
 "nbformat_minor": 5
}
