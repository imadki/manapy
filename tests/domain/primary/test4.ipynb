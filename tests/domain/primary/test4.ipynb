{
 "cells": [
  {
   "cell_type": "code",
   "id": "initial_id",
   "metadata": {
    "collapsed": true,
    "ExecuteTime": {
     "end_time": "2025-06-13T08:10:32.107342Z",
     "start_time": "2025-06-13T08:10:32.104038Z"
    }
   },
   "source": [
    "import os\n",
    "import numpy as np\n",
    "\n",
    "\n",
    "float_precision = 'float32'\n",
    "root_file = os.getcwd()\n",
    "dim, mesh_path = (3, 'tetrahedron.msh')\n",
    "mesh_path = os.path.join(root_file, 'mesh', mesh_path)\n",
    "\n",
    "def get_members(a):\n",
    "  return [m for m in dir(a) if not m.startswith(\"__\")]\n"
   ],
   "outputs": [],
   "execution_count": 2
  },
  {
   "metadata": {
    "ExecuteTime": {
     "end_time": "2025-06-11T11:16:44.345084Z",
     "start_time": "2025-06-11T11:16:44.221742Z"
    }
   },
   "cell_type": "code",
   "source": [
    "import importlib\n",
    "\n",
    "module = importlib.import_module(\"create_domain\")\n",
    "importlib.reload(module)\n",
    "Mesh = getattr(module, \"Mesh\")\n",
    "\n",
    "mesh = Mesh(mesh_path, dim)"
   ],
   "id": "db3e96a7be218a26",
   "outputs": [
    {
     "name": "stdout",
     "output_type": "stream",
     "text": [
      "\n"
     ]
    }
   ],
   "execution_count": 2
  },
  {
   "cell_type": "code",
   "id": "34ca1e19a498d0b7",
   "metadata": {
    "ExecuteTime": {
     "end_time": "2025-06-10T16:13:40.678371027Z",
     "start_time": "2025-06-10T16:13:20.244112Z"
    }
   },
   "source": [
    "# Measure Time\n",
    "\n",
    "import os\n",
    "import numpy as np\n",
    "\n",
    "\n",
    "float_precision = 'float32'\n",
    "root_file = os.getcwd()\n",
    "dim, mesh_path = (3, 'tetrahedron.msh')\n",
    "mesh_path = os.path.join(root_file, 'mesh', mesh_path)\n",
    "\n",
    "def get_members(a):\n",
    "  return [m for m in dir(a) if not m.startswith(\"__\")]\n",
    "\n",
    "import importlib\n",
    "\n",
    "module_1 = importlib.import_module(\"create_domain_utils\")\n",
    "importlib.reload(module_1)\n",
    "module = importlib.import_module(\"create_domain\")\n",
    "importlib.reload(module)\n",
    "Mesh = getattr(module, \"Mesh\")\n",
    "Domain = getattr(module, \"Domain\")\n",
    "LocalDomain = getattr(module, \"LocalDomain\")\n",
    "\n",
    "mesh = Mesh(mesh_path, dim)\n",
    "domain = Domain(mesh, float_precision)\n",
    "local_domains_data = domain.c_create_sub_domains(4)\n",
    "# new_nb_part = len(local_domains_data)\n",
    "\n",
    "# PC\n",
    "# 2m 2s -> 30000 (nid)\n",
    "# 37s -> 4 (nid)\n",
    "# c 10s -> 4 (fid)\n",
    "# c 40s -> 30000 (fid)\n",
    "# c 1m 42s -> 30000 (nid)\n",
    "# ---- laptop\n",
    "# 1m 44s -> 4 (nid)\n",
    "# print(local_domains_data)\n",
    "# --- tobkal\n",
    "# 3m 8s -> 48000000 (3000, fid)\n",
    "\n",
    "\n"
   ],
   "outputs": [
    {
     "name": "stdout",
     "output_type": "stream",
     "text": [
      "\n",
      "node_cellid\n",
      "Execution time: 2.476237 seconds\n",
      "cell_cellnid\n"
     ]
    }
   ],
   "execution_count": null
  },
  {
   "metadata": {
    "ExecuteTime": {
     "end_time": "2025-06-11T16:28:04.829273Z",
     "start_time": "2025-06-11T16:28:01.739002Z"
    }
   },
   "cell_type": "code",
   "source": [
    "import importlib\n",
    "\n",
    "module_1 = importlib.import_module(\"create_domain_utils\")\n",
    "importlib.reload(module_1)\n",
    "module = importlib.import_module(\"create_domain\")\n",
    "importlib.reload(module)\n",
    "Mesh = getattr(module, \"Mesh\")\n",
    "Domain = getattr(module, \"Domain\")\n",
    "LocalDomain = getattr(module, \"LocalDomain\")\n",
    "\n",
    "mesh = Mesh(mesh_path, dim)\n",
    "domain = Domain(mesh, float_precision)\n",
    "local_domains_data = domain.c_create_sub_domains(4)\n",
    "\n"
   ],
   "id": "5bfd57a09e4ddec6",
   "outputs": [
    {
     "name": "stdout",
     "output_type": "stream",
     "text": [
      "\n",
      "node_cellid\n",
      "Execution time: 0.047022 seconds\n",
      "cell_cellnid\n",
      "Execution time: 2.075791 seconds\n",
      "cell_cellfid\n",
      "Execution time: 3.060432 seconds\n",
      "Start creating sub domains\n",
      "Parse Input \n",
      "Start Creating SubDomains \n",
      "Make n part\n",
      "Start dense to csr\n",
      "Nb_vertices = 6000\n",
      "size = 22800\n",
      "End dense to csr\n",
      "End METIS_PartGraphKway\n",
      "End function\n",
      "Create local cells\n",
      "Create Physical faces\n",
      "Create local domains struct\n",
      "Create local domains struct p=0\n",
      "Cells, CellsType, CellsLocToGlob\n",
      "PhyFaces, PhyFacesName\n",
      "Halo neighsub, Halos\n",
      "End Halo neighsub, Halos\n",
      "Create local domains struct p=1\n",
      "Cells, CellsType, CellsLocToGlob\n",
      "PhyFaces, PhyFacesName\n",
      "Halo neighsub, Halos\n",
      "End Halo neighsub, Halos\n",
      "Create local domains struct p=2\n",
      "Cells, CellsType, CellsLocToGlob\n",
      "PhyFaces, PhyFacesName\n",
      "Halo neighsub, Halos\n",
      "End Halo neighsub, Halos\n",
      "Create local domains struct p=3\n",
      "Cells, CellsType, CellsLocToGlob\n",
      "PhyFaces, PhyFacesName\n",
      "Halo neighsub, Halos\n",
      "End Halo neighsub, Halos\n",
      "End function\n",
      "Return List \n",
      "Execution time: 3.071522 seconds\n"
     ]
    }
   ],
   "execution_count": 9
  },
  {
   "metadata": {
    "ExecuteTime": {
     "end_time": "2025-06-11T15:48:51.361846Z",
     "start_time": "2025-06-11T15:48:51.145755Z"
    }
   },
   "cell_type": "code",
   "source": [
    "print(local_domains_data[1].max_node_haloid)\n",
    "print(local_domains_data[0].halo_halosext.shape)\n",
    "print(local_domains_data[0].node_haloid.shape)"
   ],
   "id": "f43d0d1f6c776007",
   "outputs": [
    {
     "name": "stdout",
     "output_type": "stream",
     "text": [
      "22\n",
      "(839,)\n"
     ]
    },
    {
     "ename": "AttributeError",
     "evalue": "'LocalDomainStruct' object has no attribute 'node_haloid'",
     "output_type": "error",
     "traceback": [
      "\u001B[0;31m---------------------------------------------------------------------------\u001B[0m",
      "\u001B[0;31mAttributeError\u001B[0m                            Traceback (most recent call last)",
      "Cell \u001B[0;32mIn[6], line 3\u001B[0m\n\u001B[1;32m      1\u001B[0m \u001B[38;5;28mprint\u001B[39m(local_domains_data[\u001B[38;5;241m1\u001B[39m]\u001B[38;5;241m.\u001B[39mmax_node_haloid)\n\u001B[1;32m      2\u001B[0m \u001B[38;5;28mprint\u001B[39m(local_domains_data[\u001B[38;5;241m0\u001B[39m]\u001B[38;5;241m.\u001B[39mhalo_halosext\u001B[38;5;241m.\u001B[39mshape)\n\u001B[0;32m----> 3\u001B[0m \u001B[38;5;28mprint\u001B[39m(\u001B[43mlocal_domains_data\u001B[49m\u001B[43m[\u001B[49m\u001B[38;5;241;43m0\u001B[39;49m\u001B[43m]\u001B[49m\u001B[38;5;241;43m.\u001B[39;49m\u001B[43mnode_haloid\u001B[49m\u001B[38;5;241m.\u001B[39mshape)\n",
      "\u001B[0;31mAttributeError\u001B[0m: 'LocalDomainStruct' object has no attribute 'node_haloid'"
     ]
    }
   ],
   "execution_count": 6
  },
  {
   "metadata": {
    "ExecuteTime": {
     "end_time": "2025-06-11T16:28:06.314583Z",
     "start_time": "2025-06-11T16:28:05.482076Z"
    }
   },
   "cell_type": "code",
   "source": "L1 = LocalDomain(local_domains_data[0])",
   "id": "c65b48b63eb9e78c",
   "outputs": [
    {
     "name": "stdout",
     "output_type": "stream",
     "text": [
      "node_cellid\n",
      "Execution time: 0.011053 seconds\n",
      "cell_cellnid\n",
      "Execution time: 0.471592 seconds\n",
      "_create_info\n",
      "Execution time: 0.734231 seconds\n",
      "Create cell volume and center\n",
      "Execution time: 0.742986 seconds\n",
      "Face measure face center face normal\n",
      "Execution time: 0.773413 seconds\n",
      "cell_halofid, cell_halonid, face_haloid, node_haloid\n",
      "Execution time: 0.818268 seconds\n",
      "Create face and node names\n",
      "Execution time: 0.830575 seconds\n"
     ]
    }
   ],
   "execution_count": 10
  },
  {
   "metadata": {
    "ExecuteTime": {
     "end_time": "2025-06-11T16:28:49.227961Z",
     "start_time": "2025-06-11T16:28:49.225145Z"
    }
   },
   "cell_type": "code",
   "source": [
    "a = L1.node_name\n",
    "b = L1.node_oldname\n",
    "\n",
    "print(a[:100])\n",
    "print(b[:100])"
   ],
   "id": "3a284a1682308869",
   "outputs": [
    {
     "name": "stdout",
     "output_type": "stream",
     "text": [
      "[10 10 10  3  6  0  0  3  3  6  0  3  3  6  0  2  2  2  2 10  6  0  0  6\n",
      "  0  6  0  6  0  2  2 10  6  0  0  6  0  6  0  6  0  2  2 10  6  0  0  6\n",
      "  0  6  0  6  0  6  0  2  2 10 10  0  0  6  0  6  0  6  0  6  0  2 10 10\n",
      "  0  0  6  0 10  0 10  0 10 10 10 10 10 10  0  0  3  0  3  0  2  2  0  0\n",
      "  0  0  0  2]\n",
      "[3 6 3 3 6 0 0 3 3 6 0 3 3 6 0 2 2 2 2 6 6 0 0 6 0 6 0 6 0 2 2 6 6 0 0 6 0\n",
      " 6 0 6 0 2 2 6 6 0 0 6 0 6 0 6 0 6 0 2 2 6 6 0 0 6 0 6 0 6 0 6 0 2 2 6 0 0\n",
      " 6 0 6 0 6 0 6 2 6 6 3 3 0 0 3 0 3 0 2 2 0 0 0 0 0 2]\n"
     ]
    }
   ],
   "execution_count": 16
  },
  {
   "cell_type": "code",
   "id": "c616f4221d8cc6df",
   "metadata": {
    "ExecuteTime": {
     "end_time": "2025-06-13T08:10:39.457896Z",
     "start_time": "2025-06-13T08:10:39.402607Z"
    }
   },
   "source": [
    "from manapy.partitions import MeshPartition\n",
    "from manapy.base.base import Struct\n",
    "\n",
    "running_conf = Struct(backend=\"numba\", signature=True, cache=True, float_precision=float_precision)\n",
    "a = MeshPartition(mesh_path, dim=dim, conf=running_conf, periodic=[0,0,0])\n",
    "\n",
    "# 6m 49 -> 30000\n",
    "# 2m -> 3000\n",
    "# 28s -> 4\n",
    "# ----\n",
    "# 1m 26s -> 4\n"
   ],
   "outputs": [
    {
     "name": "stdout",
     "output_type": "stream",
     "text": [
      "Reading gmsh file ...\n",
      "Saving partition files ...\n",
      "Number of Cells: 6000\n",
      "Number of Vertices: 1331\n"
     ]
    }
   ],
   "execution_count": 3
  },
  {
   "metadata": {
    "ExecuteTime": {
     "end_time": "2025-06-13T08:10:41.778217Z",
     "start_time": "2025-06-13T08:10:41.603927Z"
    }
   },
   "cell_type": "code",
   "source": [
    "from manapy.ddm import Domain\n",
    "domain = Domain(dim=dim, conf=running_conf)"
   ],
   "id": "32e8f9b89fba6bd1",
   "outputs": [
    {
     "name": "stdout",
     "output_type": "stream",
     "text": [
      "Local domain contruction ...\n",
      "Start ...\n",
      "_compute_cells_info`: 0.013672 seconds\n",
      "_make_neighbors: 0.042247 seconds\n",
      "_define_eltypes: 0.042749 seconds\n",
      "_create_faces_cons: 0.069024 seconds\n",
      "Create info 3dfaces ...\n",
      "oriente_3dfacenodeid ...\n",
      "E_define_face_info: 0.099967 seconds\n",
      "_make_halo_info: 0.108881 seconds\n",
      "_update_boundaries: 0.109152 seconds\n",
      "_update_ghost_info: 0.120026 seconds\n",
      "_prepare_communication: 0.120349 seconds\n",
      "_update_periodic_boudaries: 0.120408 seconds\n",
      "_update_haloghost: 0.139847 seconds\n",
      "_compute_diamondCell_info: 0.168605 seconds\n",
      "_compute_orthocenter: 0.168679 seconds\n"
     ]
    }
   ],
   "execution_count": 4
  },
  {
   "metadata": {
    "ExecuteTime": {
     "end_time": "2025-06-13T21:58:07.516366Z",
     "start_time": "2025-06-13T21:58:07.512524Z"
    }
   },
   "cell_type": "code",
   "source": [
    "print(domain.nodes.ghostcenter[1])\n",
    "print(domain.nodes.ghostid[1])"
   ],
   "id": "f9c0620d71d3dada",
   "outputs": [
    {
     "name": "stdout",
     "output_type": "stream",
     "text": [
      "[[ 1.025e+01  2.500e-01  3.750e-01  5.403e+03  4.000e+00  7.000e+00]\n",
      " [ 9.250e+00  1.250e-01 -3.750e-01  5.400e+03  1.000e+00  1.740e+02]\n",
      " [ 9.750e+00  2.500e-01 -3.750e-01  5.403e+03  1.000e+00  1.750e+02]\n",
      " [ 9.250e+00 -1.250e-01  3.750e-01  5.400e+03  3.000e+00  6.140e+02]\n",
      " [ 9.500e+00 -1.250e-01  7.500e-01  5.401e+03  3.000e+00  6.150e+02]\n",
      " [-1.000e+00 -1.000e+00 -1.000e+00 -1.000e+00 -1.000e+00 -1.000e+00]]\n",
      "[  7 174 175 614 615  -1   5]\n"
     ]
    }
   ],
   "execution_count": 34
  },
  {
   "metadata": {
    "ExecuteTime": {
     "end_time": "2025-06-13T08:10:47.939702Z",
     "start_time": "2025-06-13T08:10:47.936208Z"
    }
   },
   "cell_type": "code",
   "source": [
    "def get_members(a):\n",
    "    for m in dir(a):\n",
    "        try:\n",
    "            if not m.startswith(\"__\") and isinstance(getattr(a, m), np.ndarray):\n",
    "                yield m\n",
    "        except:\n",
    "            pass\n",
    "\n",
    "for item in get_members(domain.faces):\n",
    "    print(item)"
   ],
   "id": "ed9509dd88187d31",
   "outputs": [
    {
     "name": "stdout",
     "output_type": "stream",
     "text": [
      "_airDiamond\n",
      "_binormal\n",
      "_cellid\n",
      "_center\n",
      "_dist_ortho\n",
      "_f_1\n",
      "_f_2\n",
      "_f_3\n",
      "_f_4\n",
      "_ghostcenter\n",
      "_halofid\n",
      "_mesure\n",
      "_name\n",
      "_nodeid\n",
      "_normal\n",
      "_oldname\n",
      "_param1\n",
      "_param2\n",
      "_param3\n",
      "_param4\n",
      "_tangent\n",
      "airDiamond\n",
      "binormal\n",
      "cellid\n",
      "center\n",
      "dist_ortho\n",
      "f_1\n",
      "f_2\n",
      "f_3\n",
      "f_4\n",
      "ghostcenter\n",
      "halofid\n",
      "mesure\n",
      "name\n",
      "nodeid\n",
      "normal\n",
      "oldname\n",
      "param1\n",
      "param2\n",
      "param3\n",
      "param4\n",
      "tangent\n"
     ]
    }
   ],
   "execution_count": 5
  }
 ],
 "metadata": {
  "kernelspec": {
   "display_name": "Python 3",
   "language": "python",
   "name": "python3"
  },
  "language_info": {
   "codemirror_mode": {
    "name": "ipython",
    "version": 2
   },
   "file_extension": ".py",
   "mimetype": "text/x-python",
   "name": "python",
   "nbconvert_exporter": "python",
   "pygments_lexer": "ipython2",
   "version": "2.7.6"
  }
 },
 "nbformat": 4,
 "nbformat_minor": 5
}
