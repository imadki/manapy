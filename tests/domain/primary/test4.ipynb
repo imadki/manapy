{
 "cells": [
  {
   "cell_type": "code",
   "id": "initial_id",
   "metadata": {
    "collapsed": true,
    "ExecuteTime": {
     "end_time": "2025-04-29T20:35:57.613421Z",
     "start_time": "2025-04-29T20:35:57.609238Z"
    }
   },
   "source": [
    "import os\n",
    "\n",
    "\n",
    "dim = 3\n",
    "float_precision = 'float32'\n",
    "root_file = os.getcwd()\n",
    "mesh_path = 'tetrahedron_big.msh'\n",
    "mesh_path = os.path.join(root_file, 'mesh', mesh_path)\n",
    "\n"
   ],
   "outputs": [],
   "execution_count": 1
  },
  {
   "metadata": {
    "ExecuteTime": {
     "end_time": "2025-04-29T20:36:20.060882Z",
     "start_time": "2025-04-29T20:36:11.043580Z"
    }
   },
   "cell_type": "code",
   "source": [
    "import importlib\n",
    "\n",
    "module = importlib.import_module(\"create_domain\")\n",
    "importlib.reload(module)\n",
    "Domain = getattr(module, \"Domain\")\n",
    "\n",
    "domain = Domain(mesh_path, dim)\n",
    "print(domain.cells.shape)"
   ],
   "id": "ce07995befbe9590",
   "outputs": [
    {
     "name": "stdout",
     "output_type": "stream",
     "text": [
      "Init\n",
      "triangle\n",
      "tetra\n",
      "_create_cells\n",
      "node_cellid\n",
      "cell_cellnid\n",
      "_create_info\n",
      "Execution time: 5.219851 seconds\n",
      "(5821794, 5)\n"
     ]
    }
   ],
   "execution_count": 3
  },
  {
   "metadata": {
    "ExecuteTime": {
     "end_time": "2025-04-29T12:02:13.975514Z",
     "start_time": "2025-04-29T12:02:13.971390Z"
    }
   },
   "cell_type": "code",
   "source": [
    "# 8.5-10s || 46s\n",
    "#"
   ],
   "id": "b3f91225b1c4772d",
   "outputs": [],
   "execution_count": 3
  },
  {
   "metadata": {
    "ExecuteTime": {
     "end_time": "2025-04-29T20:34:13.805040Z",
     "start_time": "2025-04-29T20:33:41.566905Z"
    }
   },
   "cell_type": "code",
   "source": [
    "from manapy.partitions import MeshPartition\n",
    "from manapy.base.base import Struct\n",
    "from manapy.ddm import Domain\n",
    "\n",
    "def create_partitions(mesh_file_path, float_precision, dim):\n",
    "  running_conf = Struct(backend=\"numba\", signature=True, cache=True, float_precision=float_precision)\n",
    "  MeshPartition(mesh_file_path, dim=dim, conf=running_conf, periodic=[0,0,0])\n",
    "  domain = Domain(dim=dim, conf=running_conf)\n",
    "  return domain\n",
    "\n",
    "create_partitions(mesh_path, float_precision, dim)\n",
    "\n"
   ],
   "id": "55b12c8b27fd522c",
   "outputs": [
    {
     "name": "stdout",
     "output_type": "stream",
     "text": [
      "Reading gmsh file ...\n",
      "Saving partition files ...\n",
      "Number of Cells: 5821794\n",
      "Number of Vertices: 1000000\n",
      "Local domain contruction ...\n",
      "Execution time: 25.724517 seconds\n"
     ]
    },
    {
     "data": {
      "text/plain": [
       "<manapy.ddm.domain.Domain at 0x7cf20e4323d0>"
      ]
     },
     "execution_count": 2,
     "metadata": {},
     "output_type": "execute_result"
    }
   ],
   "execution_count": 2
  },
  {
   "metadata": {
    "ExecuteTime": {
     "end_time": "2025-04-29T20:29:29.450214Z",
     "start_time": "2025-04-29T20:29:26.879933Z"
    }
   },
   "cell_type": "code",
   "source": [
    "import numpy as np\n",
    "\n",
    "def _is_in_array(array: 'int[:]', item: 'int') -> 'int':\n",
    "  \"\"\"\n",
    "    Check if an item is in the array\n",
    "    Return 1 if the item is in the array otherwise 0\n",
    "\n",
    "    Note:\n",
    "      The number of item in the array must be array[-1]\n",
    "  \"\"\"\n",
    "  for i in range(array[-1]):\n",
    "    if item == array[i]:\n",
    "      return 1\n",
    "  return 0\n",
    "\n",
    "def _create_cell_cellnid_old(\n",
    "  cells: 'int[:, :]',\n",
    "  node_cellid: 'int[:, :]',\n",
    "  cell_cellnid: 'int[:, :]',\n",
    "):\n",
    "  \"\"\"\n",
    "    Get all neighboring cells by collecting adjacent cells from each node of the cell.\n",
    "  \"\"\"\n",
    "\n",
    "  for i in range(cells.shape[0]):\n",
    "    for j in range(cells[i][-1]):\n",
    "      node_n = node_cellid[cells[i][j]]\n",
    "      for k in range(node_n[-1]):\n",
    "        if node_n[k] != i and _is_in_array(cell_cellnid[i], node_n[k]) == 0:\n",
    "          size = cell_cellnid[i][-1]\n",
    "          cell_cellnid[i][-1] += 1\n",
    "          cell_cellnid[i][size] = node_n[k]\n",
    "\n",
    "def _create_cell_cellnid_new(\n",
    "  cells: 'int[:, :]',\n",
    "  node_cellid: 'int[:, :]',\n",
    "  cell_cellnid: 'int[:, :]',\n",
    "):\n",
    "  \"\"\"\n",
    "    Get all neighboring cells by collecting adjacent cells from each node of the cell.\n",
    "  \"\"\"\n",
    "\n",
    "  for i in range(cells.shape[0]):\n",
    "    for j in range(cells[i, -1]):\n",
    "      node_n = node_cellid[cells[i][j]]\n",
    "      for k in range(node_n[-1]):\n",
    "        nc = node_n[k]\n",
    "        size = cell_cellnid[nc, -1]\n",
    "        if nc != i and (size <= 0 or cell_cellnid[nc, size - 1] != i):\n",
    "          cell_cellnid[nc, size] = i\n",
    "          cell_cellnid[nc, -1] += 1\n",
    "\n",
    "cell_cellnid_old = np.ones(shape=(domain.nb_cells, domain.max_cell_cellnid + 1), dtype=np.int32) * -1\n",
    "cell_cellnid_new = np.ones(shape=(domain.nb_cells, domain.max_cell_cellnid + 1), dtype=np.int32) * -1\n",
    "cell_cellnid_old[:, -1] = 0\n",
    "cell_cellnid_new[:, -1] = 0\n",
    "_create_cell_cellnid_old(domain.cells, domain.node_cellid, cell_cellnid_old)\n",
    "_create_cell_cellnid_new(domain.cells, domain.node_cellid, cell_cellnid_new)\n"
   ],
   "id": "f79dc1e288c37278",
   "outputs": [],
   "execution_count": 65
  },
  {
   "metadata": {
    "ExecuteTime": {
     "end_time": "2025-04-29T20:29:31.028957Z",
     "start_time": "2025-04-29T20:29:30.946151Z"
    }
   },
   "cell_type": "code",
   "source": [
    "for i in range(domain.nb_cells):\n",
    "  a = cell_cellnid_old[i]\n",
    "  b = cell_cellnid_new[i]\n",
    "  a[:-1].sort()\n",
    "  b[:-1].sort()\n",
    "  try:\n",
    "    np.testing.assert_array_equal(a, b)\n",
    "  except AssertionError:\n",
    "    print(i, a)\n",
    "    print(b)\n",
    "    break"
   ],
   "id": "e0e8118469a5b674",
   "outputs": [],
   "execution_count": 66
  },
  {
   "metadata": {
    "ExecuteTime": {
     "end_time": "2025-04-29T20:18:42.998020Z",
     "start_time": "2025-04-29T20:18:42.995737Z"
    }
   },
   "cell_type": "code",
   "source": "",
   "id": "d20e026203a036f",
   "outputs": [
    {
     "data": {
      "text/plain": [
       "[1, 2]"
      ]
     },
     "execution_count": 50,
     "metadata": {},
     "output_type": "execute_result"
    }
   ],
   "execution_count": 50
  }
 ],
 "metadata": {
  "kernelspec": {
   "display_name": "Python 3",
   "language": "python",
   "name": "python3"
  },
  "language_info": {
   "codemirror_mode": {
    "name": "ipython",
    "version": 2
   },
   "file_extension": ".py",
   "mimetype": "text/x-python",
   "name": "python",
   "nbconvert_exporter": "python",
   "pygments_lexer": "ipython2",
   "version": "2.7.6"
  }
 },
 "nbformat": 4,
 "nbformat_minor": 5
}
