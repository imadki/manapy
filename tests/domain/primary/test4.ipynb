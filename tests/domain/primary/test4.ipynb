{
 "cells": [
  {
   "cell_type": "code",
   "id": "initial_id",
   "metadata": {
    "collapsed": true,
    "ExecuteTime": {
     "end_time": "2025-05-26T09:24:06.695192Z",
     "start_time": "2025-05-26T09:24:06.527819Z"
    }
   },
   "source": [
    "import os\n",
    "import numpy as np\n",
    "\n",
    "dim = 3\n",
    "float_precision = 'float32'\n",
    "root_file = os.getcwd()\n",
    "mesh_path = 'tetrahedron.msh'\n",
    "mesh_path = os.path.join(root_file, 'mesh', mesh_path)\n",
    "\n",
    "def get_members(a):\n",
    "  return [m for m in dir(a) if not m.startswith(\"__\")]\n"
   ],
   "outputs": [],
   "execution_count": 1
  },
  {
   "cell_type": "code",
   "id": "34ca1e19a498d0b7",
   "metadata": {
    "ExecuteTime": {
     "end_time": "2025-05-26T09:34:09.981523Z",
     "start_time": "2025-05-26T09:34:09.804580Z"
    }
   },
   "source": [
    "import os\n",
    "import numpy as np\n",
    "\n",
    "dim = 3\n",
    "float_precision = 'float32'\n",
    "root_file = os.getcwd()\n",
    "mesh_path = 'tetrahedron.msh'\n",
    "mesh_path = os.path.join(root_file, 'mesh', mesh_path)\n",
    "\n",
    "def get_members(a):\n",
    "  return [m for m in dir(a) if not m.startswith(\"__\")]\n",
    "\n",
    "import importlib\n",
    "\n",
    "module_1 = importlib.import_module(\"create_domain_utils\")\n",
    "importlib.reload(module_1)\n",
    "module = importlib.import_module(\"create_domain\")\n",
    "importlib.reload(module)\n",
    "Mesh = getattr(module, \"Mesh\")\n",
    "Domain = getattr(module, \"Domain\")\n",
    "LocalDomain = getattr(module, \"LocalDomain\")\n",
    "\n",
    "mesh = Mesh(mesh_path, dim)\n",
    "domain = Domain(mesh, float_precision)\n",
    "print(domain.cells.shape[0])\n",
    "\n",
    "\n",
    "local_domains_data = domain.c_create_sub_domains(4)\n",
    "# new_nb_part = len(local_domains_data)\n",
    "\n",
    "# PC\n",
    "# 2m 2s -> 30000 (nid)\n",
    "# 37s -> 4 (nid)\n",
    "# c 10s -> 4 (fid)\n",
    "# c 40s -> 30000 (fid)\n",
    "# c 1m 42s -> 30000 (nid)\n",
    "# ---- laptop\n",
    "# 1m 44s -> 4 (nid)\n",
    "# print(local_domains_data)\n"
   ],
   "outputs": [
    {
     "name": "stdout",
     "output_type": "stream",
     "text": [
      "gmsh:physical => triangle\n",
      "gmsh:physical => tetra\n",
      "[1 1 1 ... 6 6 6]\n",
      "{'gmsh:physical': {'triangle': array([1, 1, 1, ..., 6, 6, 6]), 'tetra': array([1, 1, 1, ..., 1, 1, 1])}}\n"
     ]
    },
    {
     "ename": "NotImplementedError",
     "evalue": "",
     "output_type": "error",
     "traceback": [
      "\u001B[0;31m---------------------------------------------------------------------------\u001B[0m",
      "\u001B[0;31mNotImplementedError\u001B[0m                       Traceback (most recent call last)",
      "Cell \u001B[0;32mIn[5], line 23\u001B[0m\n\u001B[1;32m     20\u001B[0m Domain \u001B[38;5;241m=\u001B[39m \u001B[38;5;28mgetattr\u001B[39m(module, \u001B[38;5;124m\"\u001B[39m\u001B[38;5;124mDomain\u001B[39m\u001B[38;5;124m\"\u001B[39m)\n\u001B[1;32m     21\u001B[0m LocalDomain \u001B[38;5;241m=\u001B[39m \u001B[38;5;28mgetattr\u001B[39m(module, \u001B[38;5;124m\"\u001B[39m\u001B[38;5;124mLocalDomain\u001B[39m\u001B[38;5;124m\"\u001B[39m)\n\u001B[0;32m---> 23\u001B[0m mesh \u001B[38;5;241m=\u001B[39m \u001B[43mMesh\u001B[49m\u001B[43m(\u001B[49m\u001B[43mmesh_path\u001B[49m\u001B[43m,\u001B[49m\u001B[43m \u001B[49m\u001B[43mdim\u001B[49m\u001B[43m)\u001B[49m\n\u001B[1;32m     24\u001B[0m domain \u001B[38;5;241m=\u001B[39m Domain(mesh, float_precision)\n\u001B[1;32m     25\u001B[0m \u001B[38;5;28mprint\u001B[39m(domain\u001B[38;5;241m.\u001B[39mcells\u001B[38;5;241m.\u001B[39mshape[\u001B[38;5;241m0\u001B[39m])\n",
      "File \u001B[0;32m~/Desktop/work/manapy_domain/tests/domain/primary/create_domain.py:28\u001B[0m, in \u001B[0;36mMesh.__init__\u001B[0;34m(self, mesh_path, dim)\u001B[0m\n\u001B[1;32m     25\u001B[0m \u001B[38;5;28;01mif\u001B[39;00m \u001B[38;5;129;01mnot\u001B[39;00m (\u001B[38;5;28misinstance\u001B[39m(dim, \u001B[38;5;28mint\u001B[39m) \u001B[38;5;129;01mand\u001B[39;00m dim \u001B[38;5;241m==\u001B[39m \u001B[38;5;241m2\u001B[39m \u001B[38;5;129;01mor\u001B[39;00m dim \u001B[38;5;241m==\u001B[39m \u001B[38;5;241m3\u001B[39m):\n\u001B[1;32m     26\u001B[0m   \u001B[38;5;28;01mraise\u001B[39;00m \u001B[38;5;167;01mValueError\u001B[39;00m(\u001B[38;5;124m'\u001B[39m\u001B[38;5;124mInvalid dimension\u001B[39m\u001B[38;5;124m'\u001B[39m)\n\u001B[0;32m---> 28\u001B[0m mesh, cells_dict, points, cell_data_dict \u001B[38;5;241m=\u001B[39m \u001B[38;5;28;43mself\u001B[39;49m\u001B[38;5;241;43m.\u001B[39;49m\u001B[43m_read_mesh\u001B[49m\u001B[43m(\u001B[49m\u001B[43mmesh_path\u001B[49m\u001B[43m)\u001B[49m\n\u001B[1;32m     29\u001B[0m cells, cells_type, max_cell_nodeid, max_cell_faceid, max_face_nodeid \u001B[38;5;241m=\u001B[39m \u001B[38;5;28mself\u001B[39m\u001B[38;5;241m.\u001B[39m_create_cells(cells_dict, dim)\n\u001B[1;32m     30\u001B[0m phy_faces, phy_faces_name \u001B[38;5;241m=\u001B[39m \u001B[38;5;28mself\u001B[39m\u001B[38;5;241m.\u001B[39m_create_phy_faces(cells_dict, cell_data_dict, dim)\n",
      "File \u001B[0;32m~/Desktop/work/manapy_domain/tests/domain/primary/create_domain.py:58\u001B[0m, in \u001B[0;36mMesh._read_mesh\u001B[0;34m(self, mesh_path)\u001B[0m\n\u001B[1;32m     55\u001B[0m   \u001B[38;5;28mprint\u001B[39m(cell_data)\n\u001B[1;32m     56\u001B[0m   \u001B[38;5;66;03m# print(mesh.cells['triangle'])\u001B[39;00m\n\u001B[1;32m     57\u001B[0m   \u001B[38;5;66;03m#cells_dict = mesh.cells\u001B[39;00m\n\u001B[0;32m---> 58\u001B[0m   \u001B[38;5;28;01mraise\u001B[39;00m \u001B[38;5;167;01mNotImplementedError\u001B[39;00m\n\u001B[1;32m     59\u001B[0m \u001B[38;5;28;01melse\u001B[39;00m:\n\u001B[1;32m     60\u001B[0m   \u001B[38;5;66;03m# print(mesh.cell_data_dict['gmsh:physical']['triangle'])\u001B[39;00m\n\u001B[1;32m     61\u001B[0m   \u001B[38;5;66;03m# print(mesh.cells_dict['triangle'])\u001B[39;00m\n\u001B[1;32m     62\u001B[0m   cells_dict \u001B[38;5;241m=\u001B[39m mesh\u001B[38;5;241m.\u001B[39mcells_dict\n",
      "\u001B[0;31mNotImplementedError\u001B[0m: "
     ]
    }
   ],
   "execution_count": 5
  },
  {
   "cell_type": "code",
   "execution_count": 3,
   "id": "427067b70305c88e",
   "metadata": {
    "ExecuteTime": {
     "end_time": "2025-05-24T11:32:02.649239Z",
     "start_time": "2025-05-24T11:32:02.647200Z"
    }
   },
   "outputs": [
    {
     "name": "stdout",
     "output_type": "stream",
     "text": [
      "76\n"
     ]
    }
   ],
   "source": [
    "print(local_domains_data[0].nodes.shape[0])"
   ]
  },
  {
   "cell_type": "code",
   "execution_count": 2,
   "id": "c616f4221d8cc6df",
   "metadata": {
    "ExecuteTime": {
     "end_time": "2025-05-21T14:04:07.417405Z",
     "start_time": "2025-05-21T14:02:40.677301Z"
    }
   },
   "outputs": [
    {
     "name": "stdout",
     "output_type": "stream",
     "text": [
      "Reading gmsh file ...\n",
      "\n",
      "Mesh partitionning ...\n",
      "Elapsed time: 38.457 s\n",
      "Elapsed time: 71.264 s\n"
     ]
    }
   ],
   "source": [
    "from manapy.partitions import MeshPartition\n",
    "from manapy.base.base import Struct\n",
    "\n",
    "running_conf = Struct(backend=\"numba\", signature=True, cache=True, float_precision=float_precision)\n",
    "a = MeshPartition(mesh_path, dim=dim, conf=running_conf, periodic=[0,0,0])\n",
    "\n",
    "# 6m 49 -> 30000\n",
    "# 2m -> 3000\n",
    "# 28s -> 4\n",
    "# ----\n",
    "# 1m 26s -> 4\n"
   ]
  },
  {
   "cell_type": "code",
   "execution_count": 125,
   "id": "ebeb570fd7af84fb",
   "metadata": {
    "ExecuteTime": {
     "end_time": "2025-05-19T12:44:22.046949Z",
     "start_time": "2025-05-19T12:44:22.034865Z"
    }
   },
   "outputs": [
    {
     "name": "stdout",
     "output_type": "stream",
     "text": [
      "5697 [ 362 1294  110  363    4]\n",
      "5698 [1294  597  110  363    4]\n",
      "5699 [110 597 111 363   4]\n"
     ]
    }
   ],
   "source": [
    "for i in range(domain.cells.shape[0]):\n",
    "  c = domain.cells[i]\n",
    "  if 110 in c and 363 in c:\n",
    "    print(i, c)"
   ]
  },
  {
   "cell_type": "code",
   "execution_count": 116,
   "id": "53bb6f74b1cd0cba",
   "metadata": {
    "ExecuteTime": {
     "end_time": "2025-05-19T12:08:57.852436Z",
     "start_time": "2025-05-19T12:08:57.849814Z"
    }
   },
   "outputs": [
    {
     "data": {
      "text/plain": [
       "array([ 608,  609,  610, 1189, 1190, 1191,    6], dtype=int32)"
      ]
     },
     "execution_count": 116,
     "metadata": {},
     "output_type": "execute_result"
    }
   ],
   "source": [
    "domain.node_phyfaceid[111]"
   ]
  },
  {
   "cell_type": "code",
   "execution_count": 119,
   "id": "eb3a568f1a27cf01",
   "metadata": {
    "ExecuteTime": {
     "end_time": "2025-05-19T12:14:06.569394Z",
     "start_time": "2025-05-19T12:14:06.567006Z"
    }
   },
   "outputs": [
    {
     "name": "stdout",
     "output_type": "stream",
     "text": [
      "[110 597 111 363   4]\n",
      "[11987 11986 11988 11989     4]\n",
      "[[110 597 111   3]\n",
      " [597 110 363   3]\n",
      " [110 111 363   3]\n",
      " [597 111 363   3]]\n"
     ]
    }
   ],
   "source": [
    "c = 5699\n",
    "print(domain.cells[c])\n",
    "r = domain.cell_faceid[5699]\n",
    "print(r)\n",
    "print(domain.faces[r[0:-1]])"
   ]
  },
  {
   "cell_type": "code",
   "execution_count": 96,
   "id": "d04b13b94552cece",
   "metadata": {
    "ExecuteTime": {
     "end_time": "2025-05-19T11:52:20.223225Z",
     "start_time": "2025-05-19T11:52:20.220707Z"
    }
   },
   "outputs": [
    {
     "name": "stdout",
     "output_type": "stream",
     "text": [
      "[[ 399  799  980  981    0    0    4]\n",
      " [ 380  381  580  581  780  781    6]\n",
      " [ 400  600 1180 1181    0    0    4]\n",
      " [ 180  181  218  219  800    0    5]\n",
      " [   0  200  599    0    0    0    3]\n",
      " [ 199  818  819 1018 1019    0    5]\n",
      " [ 618  619  999 1199    0    0    4]\n",
      " [  18   19  418  419 1000    0    5]\n",
      " [ 219  238  239  800  801  820    6]\n",
      " [ 239  258  259  820  821  840    6]\n",
      " [ 259  278  279  840  841  860    6]\n",
      " [ 279  298  299  860  861  880    6]\n",
      " [ 299  318  319  880  881  900    6]\n",
      " [ 319  338  339  900  901  920    6]\n",
      " [ 339  358  359  920  921  940    6]\n",
      " [ 359  378  379  940  941  960    6]\n",
      " [ 379  398  399  960  961  980    6]\n",
      " [ 779  798  799  981  982  983    6]\n",
      " [ 759  778  779  983  984  985    6]\n",
      " [ 739  758  759  985  986  987    6]\n",
      " [ 719  738  739  987  988  989    6]\n",
      " [ 699  718  719  989  990  991    6]\n",
      " [ 679  698  699  991  992  993    6]\n",
      " [ 659  678  679  993  994  995    6]\n",
      " [ 639  658  659  995  996  997    6]\n",
      " [ 619  638  639  997  998  999    6]\n",
      " [ 979  998  999 1179 1198 1199    6]\n",
      " [ 959  978  979 1159 1178 1179    6]\n",
      " [ 939  958  959 1139 1158 1159    6]\n",
      " [ 919  938  939 1119 1138 1139    6]\n",
      " [ 899  918  919 1099 1118 1119    6]\n",
      " [ 879  898  899 1079 1098 1099    6]\n",
      " [ 859  878  879 1059 1078 1079    6]\n",
      " [ 839  858  859 1039 1058 1059    6]\n",
      " [ 819  838  839 1019 1038 1039    6]\n",
      " [ 179  198  199 1016 1017 1018    6]\n",
      " [ 159  178  179 1014 1015 1016    6]\n",
      " [ 139  158  159 1012 1013 1014    6]\n",
      " [ 119  138  139 1010 1011 1012    6]\n",
      " [  99  118  119 1008 1009 1010    6]\n",
      " [  79   98   99 1006 1007 1008    6]\n",
      " [  59   78   79 1004 1005 1006    6]\n",
      " [  39   58   59 1002 1003 1004    6]\n",
      " [  19   38   39 1000 1001 1002    6]\n",
      " [  16   17   18  419  438  439    6]\n",
      " [  14   15   16  439  458  459    6]\n",
      " [  12   13   14  459  478  479    6]\n",
      " [  10   11   12  479  498  499    6]\n",
      " [   8    9   10  499  518  519    6]\n",
      " [   6    7    8  519  538  539    6]\n",
      " [   4    5    6  539  558  559    6]\n",
      " [   2    3    4  559  578  579    6]\n",
      " [   0    1    2  579  598  599    6]\n",
      " [ 200  201  220  597  598  599    6]\n",
      " [ 220  221  240  595  596  597    6]\n",
      " [ 240  241  260  593  594  595    6]\n",
      " [ 260  261  280  591  592  593    6]\n",
      " [ 280  281  300  589  590  591    6]\n",
      " [ 300  301  320  587  588  589    6]\n",
      " [ 320  321  340  585  586  587    6]\n",
      " [ 340  341  360  583  584  585    6]\n",
      " [ 360  361  380  581  582  583    6]\n",
      " [ 381  382  383  781  782  783    6]\n",
      " [ 383  384  385  783  784  785    6]\n",
      " [ 385  386  387  785  786  787    6]\n",
      " [ 387  388  389  787  788  789    6]\n",
      " [ 389  390  391  789  790  791    6]\n",
      " [ 391  392  393  791  792  793    6]\n",
      " [ 393  394  395  793  794  795    6]\n",
      " [ 395  396  397  795  796  797    6]\n",
      " [ 397  398  399  797  798  799    6]\n",
      " [   0    1   20  200  201  202    6]\n",
      " [  20   21   40  202  203  204    6]\n",
      " [  40   41   60  204  205  206    6]\n",
      " [  60   61   80  206  207  208    6]\n",
      " [  80   81  100  208  209  210    6]\n",
      " [ 100  101  120  210  211  212    6]\n",
      " [ 120  121  140  212  213  214    6]\n",
      " [ 140  141  160  214  215  216    6]\n",
      " [ 160  161  180  216  217  218    6]\n",
      " [ 181  182  183  800  801  802    6]\n",
      " [ 183  184  185  802  803  804    6]\n",
      " [ 185  186  187  804  805  806    6]\n",
      " [ 187  188  189  806  807  808    6]\n",
      " [ 189  190  191  808  809  810    6]\n",
      " [ 191  192  193  810  811  812    6]\n",
      " [ 193  194  195  812  813  814    6]\n",
      " [ 195  196  197  814  815  816    6]\n",
      " [ 197  198  199  816  817  818    6]\n",
      " [ 416  417  418 1000 1001 1020    6]\n",
      " [ 414  415  416 1020 1021 1040    6]\n",
      " [ 412  413  414 1040 1041 1060    6]\n",
      " [ 410  411  412 1060 1061 1080    6]\n",
      " [ 408  409  410 1080 1081 1100    6]\n",
      " [ 406  407  408 1100 1101 1120    6]\n",
      " [ 404  405  406 1120 1121 1140    6]\n",
      " [ 402  403  404 1140 1141 1160    6]\n",
      " [ 400  401  402 1160 1161 1180    6]\n",
      " [ 400  401  420  600  601  620    6]\n",
      " [ 420  421  440  620  621  640    6]]\n"
     ]
    }
   ],
   "source": [
    "a = domain.node_phyfaceid\n",
    "print(a[0:100])"
   ]
  },
  {
   "cell_type": "code",
   "execution_count": 155,
   "id": "6675b243e9ee9f81",
   "metadata": {
    "ExecuteTime": {
     "end_time": "2025-05-19T14:20:36.031249Z",
     "start_time": "2025-05-19T14:20:36.029130Z"
    }
   },
   "outputs": [
    {
     "name": "stdout",
     "output_type": "stream",
     "text": [
      "0\n"
     ]
    }
   ],
   "source": [
    "a = domain.face_name\n",
    "print(len(a[a == 2]))"
   ]
  },
  {
   "cell_type": "code",
   "execution_count": 49,
   "id": "6e2d112d601b568e",
   "metadata": {
    "ExecuteTime": {
     "end_time": "2025-05-19T10:13:08.210548Z",
     "start_time": "2025-05-19T10:13:08.203285Z"
    }
   },
   "outputs": [
    {
     "name": "stdout",
     "output_type": "stream",
     "text": [
      "[100 101 296   3]\n",
      "[100 101 377   3]\n"
     ]
    }
   ],
   "source": [
    "for item in domain.phy_faces:\n",
    "  a = item[0:item[-1]-1]\n",
    "  a = np.sort(a)\n",
    "  #print(a)\n",
    "  if np.all(a == np.array([100, 101])):\n",
    "    print(item)"
   ]
  },
  {
   "cell_type": "code",
   "execution_count": 32,
   "id": "d6ccde71899c7715",
   "metadata": {
    "ExecuteTime": {
     "end_time": "2025-05-19T09:54:57.085071Z",
     "start_time": "2025-05-19T09:54:57.082911Z"
    }
   },
   "outputs": [
    {
     "name": "stdout",
     "output_type": "stream",
     "text": [
      "None\n",
      "None\n",
      "None\n",
      "383\n"
     ]
    }
   ],
   "source": [
    "for p in range(4):\n",
    "  a = local_domains[p].map_nodes.get(110)\n",
    "  print(a)"
   ]
  },
  {
   "cell_type": "code",
   "execution_count": 23,
   "id": "d31fa95438ed2eb6",
   "metadata": {
    "ExecuteTime": {
     "end_time": "2025-05-19T09:48:03.120972Z",
     "start_time": "2025-05-19T09:48:03.118692Z"
    }
   },
   "outputs": [
    {
     "name": "stdout",
     "output_type": "stream",
     "text": [
      "351\n",
      "254\n",
      "243\n",
      "350\n",
      "1198\n"
     ]
    }
   ],
   "source": [
    "c = 0\n",
    "for p in range(4):\n",
    "  a = local_domains[p].map_phy_faces.values()\n",
    "  a = np.array(list(a))\n",
    "  a.sort()\n",
    "  #print(a)\n",
    "  print(len(a))\n",
    "  c += len(a)\n",
    "print(c)\n",
    "\n"
   ]
  },
  {
   "cell_type": "code",
   "execution_count": 4,
   "id": "34b4a7b51e0f40ad",
   "metadata": {
    "ExecuteTime": {
     "end_time": "2025-05-17T20:54:54.784634Z",
     "start_time": "2025-05-17T20:54:54.782433Z"
    }
   },
   "outputs": [
    {
     "name": "stdout",
     "output_type": "stream",
     "text": [
      "{0: 0}\n"
     ]
    }
   ],
   "source": [
    "a = {}\n",
    "a[0] = len(a)\n",
    "print(a)"
   ]
  },
  {
   "cell_type": "code",
   "execution_count": 4,
   "id": "ce07995befbe9590",
   "metadata": {
    "ExecuteTime": {
     "end_time": "2025-05-14T11:53:39.522568Z",
     "start_time": "2025-05-14T11:53:39.507458Z"
    }
   },
   "outputs": [
    {
     "name": "stdout",
     "output_type": "stream",
     "text": [
      "\n",
      "Init\n",
      "triangle\n",
      "tetra\n",
      "_create_cells\n",
      "node_cellid\n",
      "cell_cellnid\n",
      "_create_info\n",
      "Warning create_cell_info_3d is not implemented\n",
      "Execution time: 0.004878 seconds\n",
      "(6000, 5)\n"
     ]
    }
   ],
   "source": [
    "import importlib\n",
    "\n",
    "module = importlib.import_module(\"create_domain\")\n",
    "importlib.reload(module)\n",
    "Domain = getattr(module, \"Domain\")\n",
    "\n",
    "domain = Domain(mesh_path, dim, float_precision)\n",
    "print(domain.cells.shape)"
   ]
  },
  {
   "cell_type": "code",
   "execution_count": 5,
   "id": "5ab169c72384d1d4",
   "metadata": {
    "ExecuteTime": {
     "end_time": "2025-05-12T18:59:07.875033Z",
     "start_time": "2025-05-12T18:59:07.872749Z"
    }
   },
   "outputs": [
    {
     "name": "stdout",
     "output_type": "stream",
     "text": [
      "[[  -1   -1   -1    1    1]\n",
      " [   0    3   -1    2    3]\n",
      " [   1    6   -1    4    3]\n",
      " ...\n",
      " [5995 5993   -1 5998    3]\n",
      " [5996   -1 5997 5999    3]\n",
      " [  -1 5998   -1   -1    1]]\n"
     ]
    }
   ],
   "source": [
    "print(domain.cell_cellfid)"
   ]
  },
  {
   "cell_type": "code",
   "execution_count": 3,
   "id": "b3f91225b1c4772d",
   "metadata": {
    "ExecuteTime": {
     "end_time": "2025-05-07T13:26:42.487231Z",
     "start_time": "2025-05-07T13:26:42.481604Z"
    }
   },
   "outputs": [
    {
     "name": "stdout",
     "output_type": "stream",
     "text": [
      "['cell_data', 'cells', 'element_sets', 'field_data', 'gmsh_periodic', 'info', 'node_sets', 'point_data', 'points', 'prune', 'read', 'write']\n",
      "{'triangle': {'gmsh:physical': array([1, 1, 1, ..., 4, 4, 4])}, 'tetra': {'gmsh:physical': array([66, 66, 66, ..., 66, 66, 66])}}\n"
     ]
    }
   ],
   "source": [
    "# 511104 -> 1.3s\n",
    "# 5821794 -> 17.9s\n",
    "members = [m for m in dir(domain.meshio_mesh) if not m.startswith(\"__\")]\n",
    "print(members)\n",
    "\n",
    "print(domain.meshio_mesh.cell_data)"
   ]
  },
  {
   "cell_type": "code",
   "execution_count": 12,
   "id": "6ccc320a84b853fa",
   "metadata": {
    "ExecuteTime": {
     "end_time": "2025-04-30T11:24:46.438736Z",
     "start_time": "2025-04-30T11:24:46.436768Z"
    }
   },
   "outputs": [
    {
     "name": "stdout",
     "output_type": "stream",
     "text": [
      "[66 66 66 ... 66 66 66]\n"
     ]
    }
   ],
   "source": [
    "print(domain.meshio_mesh.cell_data['tetra']['gmsh:physical'])"
   ]
  },
  {
   "cell_type": "code",
   "execution_count": 4,
   "id": "55b12c8b27fd522c",
   "metadata": {
    "ExecuteTime": {
     "end_time": "2025-05-16T21:29:20.972924Z",
     "start_time": "2025-05-16T21:29:19.533442Z"
    }
   },
   "outputs": [
    {
     "name": "stdout",
     "output_type": "stream",
     "text": [
      "Reading gmsh file ...\n",
      "\n",
      "Saving partition files ...\n",
      "Number of Cells: 6000\n",
      "Number of Vertices: 1331\n",
      "Local domain contruction ...\n",
      "Start ...\n",
      "Execution time: 0.046104 seconds\n"
     ]
    }
   ],
   "source": [
    "from manapy.partitions import MeshPartition\n",
    "from manapy.base.base import Struct\n",
    "from manapy.ddm import Domain\n",
    "\n",
    "def create_partitions(mesh_file_path, float_precision, dim):\n",
    "  running_conf = Struct(backend=\"numba\", signature=True, cache=True, float_precision=float_precision)\n",
    "  MeshPartition(mesh_file_path, dim=dim, conf=running_conf, periodic=[0,0,0])\n",
    "  domain = Domain(dim=dim, conf=running_conf)\n",
    "  return domain\n",
    "\n",
    "domain = create_partitions(mesh_path, float_precision, dim)"
   ]
  },
  {
   "cell_type": "code",
   "execution_count": 8,
   "id": "b46020e89fd78992",
   "metadata": {
    "ExecuteTime": {
     "end_time": "2025-05-16T21:30:03.583911Z",
     "start_time": "2025-05-16T21:30:03.581706Z"
    }
   },
   "outputs": [
    {
     "data": {
      "text/plain": [
       "12600"
      ]
     },
     "execution_count": 8,
     "metadata": {},
     "output_type": "execute_result"
    }
   ],
   "source": [
    "domain.faces.nodeid.shape[0]"
   ]
  },
  {
   "cell_type": "code",
   "execution_count": null,
   "id": "e0fd9db79eaf0b1d",
   "metadata": {},
   "outputs": [],
   "source": []
  },
  {
   "cell_type": "code",
   "execution_count": 26,
   "id": "9a98f834d3e9876f",
   "metadata": {
    "ExecuteTime": {
     "end_time": "2025-05-07T13:57:32.753726Z",
     "start_time": "2025-05-07T13:57:32.746281Z"
    }
   },
   "outputs": [
    {
     "data": {
      "text/plain": [
       "array([66, 66, 66, 66, 66, 66, 66, 66, 66, 66, 66, 66, 66, 66, 66, 66, 66,\n",
       "       66, 66, 66, 66, 66, 66, 66, 66, 66, 66, 66, 66, 66, 66, 66, 66, 66,\n",
       "       66, 66, 66, 66, 66, 66, 66, 66, 66, 66, 66, 66, 66, 66, 66, 66, 66,\n",
       "       66, 66, 66, 66, 66, 66, 66, 66, 66, 66, 66, 66, 66, 66, 66, 66, 66,\n",
       "       66, 66, 66, 66, 66, 66, 66, 66, 66, 66, 66, 66, 66, 66, 66, 66, 66,\n",
       "       66, 66, 66, 66, 66, 66, 66, 66, 66, 66, 66, 66, 66, 66, 66, 66, 66,\n",
       "       66, 66, 66, 66, 66, 66, 66, 66, 66, 66, 66, 66, 66, 66, 66, 66, 66,\n",
       "       66, 66, 66, 66, 66, 66, 66, 66, 66, 66, 66, 66, 66, 66, 66, 66, 66,\n",
       "       66, 66, 66, 66, 66, 66, 66, 66, 66, 66, 66, 66, 66, 66, 66, 66, 66,\n",
       "       66, 66, 66, 66, 66, 66, 66, 66, 66, 66, 66, 66, 66, 66, 66, 66, 66,\n",
       "       66, 66, 66, 66, 66, 66, 66, 66, 66, 66, 66, 66, 66, 66, 66, 66, 66,\n",
       "       66, 66, 66, 66, 66, 66, 66, 66, 66, 66, 66, 66, 66, 66, 66, 66, 66,\n",
       "       66, 66, 66, 66, 66, 66, 66, 66, 66, 66, 66, 66, 66, 66, 66, 66, 66,\n",
       "       66, 66, 66, 66, 66, 66, 66, 66, 66, 66, 66, 66, 66, 66, 66, 66, 66,\n",
       "       66, 66, 66, 66, 66, 66, 66, 66, 66, 66, 66, 66, 66, 66, 66, 66, 66,\n",
       "       66, 66, 66, 66, 66, 66, 66, 66, 66, 66, 66, 66, 66, 66, 66, 66, 66,\n",
       "       66, 66, 66, 66, 66, 66, 66, 66, 66, 66, 66, 66, 66, 66, 66, 66, 66,\n",
       "       66, 66, 66, 66, 66, 66, 66, 66, 66, 66, 66, 66, 66, 66, 66, 66, 66,\n",
       "       66, 66, 66, 66, 66, 66, 66, 66, 66, 66, 66, 66, 66, 66, 66, 66, 66,\n",
       "       66, 66, 66, 66, 66, 66, 66, 66, 66, 66, 66, 66, 66, 66, 66, 66, 66,\n",
       "       66, 66, 66, 66, 66, 66, 66, 66, 66, 66, 66, 66, 66, 66, 66, 66, 66,\n",
       "       66, 66, 66, 66, 66, 66, 66, 66, 66, 66, 66, 66, 66, 66, 66, 66, 66,\n",
       "       66, 66, 66, 66, 66, 66, 66, 66, 66, 66, 66, 66, 66, 66, 66, 66, 66,\n",
       "       66, 66, 66, 66, 66, 66, 66, 66, 66, 66, 66, 66, 66, 66, 66, 66, 66,\n",
       "       66, 66, 66, 66, 66, 66, 66, 66, 66, 66, 66, 66, 66, 66, 66, 66, 66,\n",
       "       66, 66, 66, 66, 66, 66, 66, 66, 66, 66, 66, 66, 66, 66, 66, 66, 66,\n",
       "       66, 66, 66, 66, 66, 66, 66, 66, 66, 66, 66, 66, 66, 66, 66, 66, 66,\n",
       "       66, 66, 66, 66, 66, 66, 66, 66, 66, 66, 66, 66, 66, 66, 66, 66, 66,\n",
       "       66, 66, 66, 66, 66, 66, 66, 66, 66, 66, 66, 66, 66, 66, 66, 66, 66,\n",
       "       66, 66, 66, 66, 66, 66, 66, 66, 66, 66, 66, 66, 66, 66, 66, 66, 66,\n",
       "       66, 66, 66, 66, 66, 66, 66, 66, 66, 66, 66, 66, 66, 66, 66, 66, 66,\n",
       "       66, 66, 66, 66, 66, 66, 66, 66, 66, 66, 66, 66, 66, 66, 66, 66, 66,\n",
       "       66, 66, 66, 66, 66, 66, 66, 66, 66, 66, 66, 66, 66, 66, 66, 66, 66,\n",
       "       66, 66, 66, 66, 66, 66, 66, 66, 66, 66, 66, 66, 66, 66, 66, 66, 66,\n",
       "       66, 66, 66, 66, 66, 66, 66, 66, 66, 66, 66, 66, 66, 66, 66, 66, 66,\n",
       "       66, 66, 66, 66, 66])"
      ]
     },
     "execution_count": 26,
     "metadata": {},
     "output_type": "execute_result"
    }
   ],
   "source": [
    "domain.meshio_mesh.cell_data['tetra']['gmsh:physical'][0::10]"
   ]
  }
 ],
 "metadata": {
  "kernelspec": {
   "display_name": "Python 3",
   "language": "python",
   "name": "python3"
  },
  "language_info": {
   "codemirror_mode": {
    "name": "ipython",
    "version": 2
   },
   "file_extension": ".py",
   "mimetype": "text/x-python",
   "name": "python",
   "nbconvert_exporter": "python",
   "pygments_lexer": "ipython2",
   "version": "2.7.6"
  }
 },
 "nbformat": 4,
 "nbformat_minor": 5
}
