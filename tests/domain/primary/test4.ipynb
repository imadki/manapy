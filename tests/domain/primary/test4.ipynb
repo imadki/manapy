{
 "cells": [
  {
   "cell_type": "code",
   "id": "initial_id",
   "metadata": {
    "collapsed": true,
    "ExecuteTime": {
     "end_time": "2025-05-28T17:34:48.258494Z",
     "start_time": "2025-05-28T17:34:48.253221Z"
    }
   },
   "source": [
    "import os\n",
    "import numpy as np\n",
    "\n",
    "\n",
    "float_precision = 'float32'\n",
    "root_file = os.getcwd()\n",
    "dim, mesh_path = (3, 'tetrahedron_big.msh')\n",
    "mesh_path = os.path.join(root_file, 'mesh', mesh_path)\n",
    "\n",
    "def get_members(a):\n",
    "  return [m for m in dir(a) if not m.startswith(\"__\")]\n"
   ],
   "outputs": [],
   "execution_count": 3
  },
  {
   "metadata": {},
   "cell_type": "code",
   "source": [
    "import importlib\n",
    "\n",
    "module = importlib.import_module(\"create_domain\")\n",
    "importlib.reload(module)\n",
    "Mesh = getattr(module, \"Mesh\")\n",
    "\n",
    "mesh = Mesh(mesh_path, dim)"
   ],
   "id": "db3e96a7be218a26",
   "outputs": [],
   "execution_count": null
  },
  {
   "cell_type": "code",
   "id": "34ca1e19a498d0b7",
   "metadata": {
    "ExecuteTime": {
     "end_time": "2025-05-27T16:53:52.424885Z",
     "start_time": "2025-05-27T16:53:51.583030Z"
    }
   },
   "source": [
    "import os\n",
    "import numpy as np\n",
    "\n",
    "dim = 3\n",
    "float_precision = 'float32'\n",
    "root_file = os.getcwd()\n",
    "mesh_path = 'tetrahedron.msh'\n",
    "mesh_path = os.path.join(root_file, 'mesh', mesh_path)\n",
    "\n",
    "def get_members(a):\n",
    "  return [m for m in dir(a) if not m.startswith(\"__\")]\n",
    "\n",
    "import importlib\n",
    "\n",
    "module_1 = importlib.import_module(\"create_domain_utils\")\n",
    "importlib.reload(module_1)\n",
    "module = importlib.import_module(\"create_domain\")\n",
    "importlib.reload(module)\n",
    "Mesh = getattr(module, \"Mesh\")\n",
    "Domain = getattr(module, \"Domain\")\n",
    "LocalDomain = getattr(module, \"LocalDomain\")\n",
    "\n",
    "mesh = Mesh(mesh_path, dim)\n",
    "domain = Domain(mesh, float_precision)\n",
    "print(domain.cells.shape[0])\n",
    "\n",
    "\n",
    "local_domains_data = domain.c_create_sub_domains(4)\n",
    "# new_nb_part = len(local_domains_data)\n",
    "\n",
    "# PC\n",
    "# 2m 2s -> 30000 (nid)\n",
    "# 37s -> 4 (nid)\n",
    "# c 10s -> 4 (fid)\n",
    "# c 40s -> 30000 (fid)\n",
    "# c 1m 42s -> 30000 (nid)\n",
    "# ---- laptop\n",
    "# 1m 44s -> 4 (nid)\n",
    "# print(local_domains_data)\n",
    "# --- tobkal\n",
    "# 3m 8s -> 48000000 (3000, fid)\n",
    "\n",
    "\n"
   ],
   "outputs": [
    {
     "name": "stdout",
     "output_type": "stream",
     "text": [
      "\n",
      "node_cellid\n",
      "Execution time: 0.009691 seconds\n",
      "cell_cellnid\n",
      "Execution time: 0.019255 seconds\n",
      "cell_cellfid\n",
      "Execution time: 0.033810 seconds\n",
      "6000\n",
      "Start creating sub domains\n",
      "Execution time: 0.043528 seconds\n"
     ]
    }
   ],
   "execution_count": 1
  },
  {
   "metadata": {
    "ExecuteTime": {
     "end_time": "2025-05-28T11:01:58.017179Z",
     "start_time": "2025-05-28T11:01:57.850618Z"
    }
   },
   "cell_type": "code",
   "source": [
    "import numpy as np\n",
    "\n",
    "a = np.array([1, 3, 4])\n",
    "b = np.array([5, 3, 2])\n",
    "\n",
    "cross = np.cross(a, b)\n",
    "print(cross)"
   ],
   "id": "c65b48b63eb9e78c",
   "outputs": [
    {
     "name": "stdout",
     "output_type": "stream",
     "text": [
      "[ -6  18 -12]\n"
     ]
    }
   ],
   "execution_count": 1
  },
  {
   "metadata": {
    "ExecuteTime": {
     "end_time": "2025-05-27T16:54:00.340255Z",
     "start_time": "2025-05-27T16:54:00.271519Z"
    }
   },
   "cell_type": "code",
   "source": [
    "local_domain = LocalDomain(local_domains_data[0])\n",
    "local_domain.cell_volume"
   ],
   "id": "3a284a1682308869",
   "outputs": [
    {
     "name": "stdout",
     "output_type": "stream",
     "text": [
      "Nice\n",
      "node_cellid\n",
      "Execution time: 0.000360 seconds\n",
      "cell_cellnid\n",
      "Execution time: 0.002423 seconds\n",
      "_create_info\n",
      "Execution time: 0.020906 seconds\n",
      "Create face and node names\n",
      "Execution time: 0.046166 seconds\n",
      "Create cell volume and center\n",
      "Execution time: 0.061154 seconds\n"
     ]
    },
    {
     "data": {
      "text/plain": [
       "array([0.125, 0.125, 0.125, ..., 0.125, 0.125, 0.125], dtype=float32)"
      ]
     },
     "execution_count": 2,
     "metadata": {},
     "output_type": "execute_result"
    }
   ],
   "execution_count": 2
  },
  {
   "cell_type": "code",
   "id": "c616f4221d8cc6df",
   "metadata": {
    "ExecuteTime": {
     "end_time": "2025-05-28T17:35:14.584296Z",
     "start_time": "2025-05-28T17:35:01.039920Z"
    }
   },
   "source": [
    "from manapy.partitions import MeshPartition\n",
    "from manapy.base.base import Struct\n",
    "\n",
    "running_conf = Struct(backend=\"numba\", signature=True, cache=True, float_precision=float_precision)\n",
    "a = MeshPartition(mesh_path, dim=dim, conf=running_conf, periodic=[0,0,0])\n",
    "\n",
    "# 6m 49 -> 30000\n",
    "# 2m -> 3000\n",
    "# 28s -> 4\n",
    "# ----\n",
    "# 1m 26s -> 4\n"
   ],
   "outputs": [
    {
     "name": "stdout",
     "output_type": "stream",
     "text": [
      "Reading gmsh file ...\n",
      "\n",
      "Saving partition files ...\n",
      "Number of Cells: 6000000\n",
      "Number of Vertices: 1030301\n"
     ]
    }
   ],
   "execution_count": 4
  },
  {
   "metadata": {
    "ExecuteTime": {
     "end_time": "2025-05-28T17:40:55.833229399Z",
     "start_time": "2025-05-28T17:35:20.014790Z"
    }
   },
   "cell_type": "code",
   "source": [
    "from manapy.ddm import Domain\n",
    "domain = Domain(dim=dim, conf=running_conf)"
   ],
   "id": "32e8f9b89fba6bd1",
   "outputs": [
    {
     "name": "stdout",
     "output_type": "stream",
     "text": [
      "Local domain contruction ...\n",
      "Start ...\n",
      "Execution time: 3.363985 seconds\n",
      "Execution time: 46.285284 seconds\n",
      "Execution time: 85.945270 seconds\n"
     ]
    }
   ],
   "execution_count": null
  }
 ],
 "metadata": {
  "kernelspec": {
   "display_name": "Python 3",
   "language": "python",
   "name": "python3"
  },
  "language_info": {
   "codemirror_mode": {
    "name": "ipython",
    "version": 2
   },
   "file_extension": ".py",
   "mimetype": "text/x-python",
   "name": "python",
   "nbconvert_exporter": "python",
   "pygments_lexer": "ipython2",
   "version": "2.7.6"
  }
 },
 "nbformat": 4,
 "nbformat_minor": 5
}
