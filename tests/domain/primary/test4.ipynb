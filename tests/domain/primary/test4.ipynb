{
 "cells": [
  {
   "cell_type": "code",
   "id": "initial_id",
   "metadata": {
    "collapsed": true,
    "ExecuteTime": {
     "end_time": "2025-05-26T10:43:54.885003Z",
     "start_time": "2025-05-26T10:43:54.882716Z"
    }
   },
   "source": [
    "import os\n",
    "import numpy as np\n",
    "\n",
    "dim = 3\n",
    "float_precision = 'float32'\n",
    "root_file = os.getcwd()\n",
    "mesh_path = 'triangles.msh'\n",
    "mesh_path = os.path.join(root_file, 'mesh', mesh_path)\n",
    "\n",
    "def get_members(a):\n",
    "  return [m for m in dir(a) if not m.startswith(\"__\")]\n"
   ],
   "outputs": [],
   "execution_count": 3
  },
  {
   "metadata": {
    "ExecuteTime": {
     "end_time": "2025-05-26T10:43:56.473912Z",
     "start_time": "2025-05-26T10:43:56.469568Z"
    }
   },
   "cell_type": "code",
   "source": [
    "import importlib\n",
    "\n",
    "module = importlib.import_module(\"create_domain\")\n",
    "importlib.reload(module)\n",
    "Mesh = getattr(module, \"Mesh\")\n",
    "\n",
    "mesh = Mesh(mesh_path, dim)"
   ],
   "id": "db3e96a7be218a26",
   "outputs": [
    {
     "name": "stdout",
     "output_type": "stream",
     "text": [
      "\n"
     ]
    }
   ],
   "execution_count": 4
  },
  {
   "metadata": {
    "ExecuteTime": {
     "end_time": "2025-05-26T10:48:12.318939Z",
     "start_time": "2025-05-26T10:48:12.308737Z"
    }
   },
   "cell_type": "code",
   "source": [
    "print(get_members(mesh.mesh))\n",
    "print(get_members(mesh.mesh.cells[4]))\n",
    "print(mesh.cells_dict)"
   ],
   "id": "da759840f9767e2",
   "outputs": [
    {
     "name": "stdout",
     "output_type": "stream",
     "text": [
      "['cell_data', 'cell_data_dict', 'cell_data_to_sets', 'cell_sets', 'cell_sets_dict', 'cell_sets_to_data', 'cells', 'cells_dict', 'copy', 'field_data', 'get_cell_data', 'get_cells_type', 'gmsh_periodic', 'info', 'point_data', 'point_data_to_sets', 'point_sets', 'point_sets_to_data', 'points', 'read', 'write']\n",
      "['data', 'dim', 'tags', 'type']\n"
     ]
    },
    {
     "ename": "AttributeError",
     "evalue": "'Mesh' object has no attribute 'cells_dict'",
     "output_type": "error",
     "traceback": [
      "\u001B[0;31m---------------------------------------------------------------------------\u001B[0m",
      "\u001B[0;31mAttributeError\u001B[0m                            Traceback (most recent call last)",
      "Cell \u001B[0;32mIn[21], line 3\u001B[0m\n\u001B[1;32m      1\u001B[0m \u001B[38;5;28mprint\u001B[39m(get_members(mesh\u001B[38;5;241m.\u001B[39mmesh))\n\u001B[1;32m      2\u001B[0m \u001B[38;5;28mprint\u001B[39m(get_members(mesh\u001B[38;5;241m.\u001B[39mmesh\u001B[38;5;241m.\u001B[39mcells[\u001B[38;5;241m4\u001B[39m]))\n\u001B[0;32m----> 3\u001B[0m \u001B[38;5;28mprint\u001B[39m(\u001B[43mmesh\u001B[49m\u001B[38;5;241;43m.\u001B[39;49m\u001B[43mcells_dict\u001B[49m)\n",
      "\u001B[0;31mAttributeError\u001B[0m: 'Mesh' object has no attribute 'cells_dict'"
     ]
    }
   ],
   "execution_count": 21
  },
  {
   "cell_type": "code",
   "id": "34ca1e19a498d0b7",
   "metadata": {},
   "source": [
    "import os\n",
    "import numpy as np\n",
    "\n",
    "dim = 3\n",
    "float_precision = 'float32'\n",
    "root_file = os.getcwd()\n",
    "mesh_path = 'tetrahedron.msh'\n",
    "mesh_path = os.path.join(root_file, 'mesh', mesh_path)\n",
    "\n",
    "def get_members(a):\n",
    "  return [m for m in dir(a) if not m.startswith(\"__\")]\n",
    "\n",
    "import importlib\n",
    "\n",
    "module_1 = importlib.import_module(\"create_domain_utils\")\n",
    "importlib.reload(module_1)\n",
    "module = importlib.import_module(\"create_domain\")\n",
    "importlib.reload(module)\n",
    "Mesh = getattr(module, \"Mesh\")\n",
    "Domain = getattr(module, \"Domain\")\n",
    "LocalDomain = getattr(module, \"LocalDomain\")\n",
    "\n",
    "mesh = Mesh(mesh_path, dim)\n",
    "domain = Domain(mesh, float_precision)\n",
    "print(domain.cells.shape[0])\n",
    "\n",
    "\n",
    "local_domains_data = domain.c_create_sub_domains(4)\n",
    "# new_nb_part = len(local_domains_data)\n",
    "\n",
    "# PC\n",
    "# 2m 2s -> 30000 (nid)\n",
    "# 37s -> 4 (nid)\n",
    "# c 10s -> 4 (fid)\n",
    "# c 40s -> 30000 (fid)\n",
    "# c 1m 42s -> 30000 (nid)\n",
    "# ---- laptop\n",
    "# 1m 44s -> 4 (nid)\n",
    "# print(local_domains_data)\n"
   ],
   "outputs": [],
   "execution_count": null
  },
  {
   "cell_type": "code",
   "id": "427067b70305c88e",
   "metadata": {},
   "source": [
    "print(local_domains_data[0].nodes.shape[0])"
   ],
   "outputs": [],
   "execution_count": null
  },
  {
   "cell_type": "code",
   "id": "c616f4221d8cc6df",
   "metadata": {},
   "source": [
    "from manapy.partitions import MeshPartition\n",
    "from manapy.base.base import Struct\n",
    "\n",
    "running_conf = Struct(backend=\"numba\", signature=True, cache=True, float_precision=float_precision)\n",
    "a = MeshPartition(mesh_path, dim=dim, conf=running_conf, periodic=[0,0,0])\n",
    "\n",
    "# 6m 49 -> 30000\n",
    "# 2m -> 3000\n",
    "# 28s -> 4\n",
    "# ----\n",
    "# 1m 26s -> 4\n"
   ],
   "outputs": [],
   "execution_count": null
  },
  {
   "cell_type": "code",
   "id": "ebeb570fd7af84fb",
   "metadata": {},
   "source": [
    "for i in range(domain.cells.shape[0]):\n",
    "  c = domain.cells[i]\n",
    "  if 110 in c and 363 in c:\n",
    "    print(i, c)"
   ],
   "outputs": [],
   "execution_count": null
  },
  {
   "cell_type": "code",
   "id": "53bb6f74b1cd0cba",
   "metadata": {},
   "source": [
    "domain.node_phyfaceid[111]"
   ],
   "outputs": [],
   "execution_count": null
  },
  {
   "cell_type": "code",
   "id": "eb3a568f1a27cf01",
   "metadata": {},
   "source": [
    "c = 5699\n",
    "print(domain.cells[c])\n",
    "r = domain.cell_faceid[5699]\n",
    "print(r)\n",
    "print(domain.faces[r[0:-1]])"
   ],
   "outputs": [],
   "execution_count": null
  },
  {
   "cell_type": "code",
   "id": "d04b13b94552cece",
   "metadata": {},
   "source": [
    "a = domain.node_phyfaceid\n",
    "print(a[0:100])"
   ],
   "outputs": [],
   "execution_count": null
  },
  {
   "cell_type": "code",
   "id": "6675b243e9ee9f81",
   "metadata": {},
   "source": [
    "a = domain.face_name\n",
    "print(len(a[a == 2]))"
   ],
   "outputs": [],
   "execution_count": null
  },
  {
   "cell_type": "code",
   "id": "6e2d112d601b568e",
   "metadata": {},
   "source": [
    "for item in domain.phy_faces:\n",
    "  a = item[0:item[-1]-1]\n",
    "  a = np.sort(a)\n",
    "  #print(a)\n",
    "  if np.all(a == np.array([100, 101])):\n",
    "    print(item)"
   ],
   "outputs": [],
   "execution_count": null
  },
  {
   "cell_type": "code",
   "id": "d6ccde71899c7715",
   "metadata": {},
   "source": [
    "for p in range(4):\n",
    "  a = local_domains[p].map_nodes.get(110)\n",
    "  print(a)"
   ],
   "outputs": [],
   "execution_count": null
  },
  {
   "cell_type": "code",
   "id": "d31fa95438ed2eb6",
   "metadata": {},
   "source": [
    "c = 0\n",
    "for p in range(4):\n",
    "  a = local_domains[p].map_phy_faces.values()\n",
    "  a = np.array(list(a))\n",
    "  a.sort()\n",
    "  #print(a)\n",
    "  print(len(a))\n",
    "  c += len(a)\n",
    "print(c)\n",
    "\n"
   ],
   "outputs": [],
   "execution_count": null
  },
  {
   "cell_type": "code",
   "id": "34b4a7b51e0f40ad",
   "metadata": {},
   "source": [
    "a = {}\n",
    "a[0] = len(a)\n",
    "print(a)"
   ],
   "outputs": [],
   "execution_count": null
  },
  {
   "cell_type": "code",
   "id": "ce07995befbe9590",
   "metadata": {},
   "source": [
    "import importlib\n",
    "\n",
    "module = importlib.import_module(\"create_domain\")\n",
    "importlib.reload(module)\n",
    "Domain = getattr(module, \"Domain\")\n",
    "\n",
    "domain = Domain(mesh_path, dim, float_precision)\n",
    "print(domain.cells.shape)"
   ],
   "outputs": [],
   "execution_count": null
  },
  {
   "cell_type": "code",
   "id": "5ab169c72384d1d4",
   "metadata": {},
   "source": [
    "print(domain.cell_cellfid)"
   ],
   "outputs": [],
   "execution_count": null
  },
  {
   "cell_type": "code",
   "id": "b3f91225b1c4772d",
   "metadata": {},
   "source": [
    "# 511104 -> 1.3s\n",
    "# 5821794 -> 17.9s\n",
    "members = [m for m in dir(domain.meshio_mesh) if not m.startswith(\"__\")]\n",
    "print(members)\n",
    "\n",
    "print(domain.meshio_mesh.cell_data)"
   ],
   "outputs": [],
   "execution_count": null
  },
  {
   "cell_type": "code",
   "id": "6ccc320a84b853fa",
   "metadata": {},
   "source": [
    "print(domain.meshio_mesh.cell_data['tetra']['gmsh:physical'])"
   ],
   "outputs": [],
   "execution_count": null
  },
  {
   "cell_type": "code",
   "id": "55b12c8b27fd522c",
   "metadata": {},
   "source": [
    "from manapy.partitions import MeshPartition\n",
    "from manapy.base.base import Struct\n",
    "from manapy.ddm import Domain\n",
    "\n",
    "def create_partitions(mesh_file_path, float_precision, dim):\n",
    "  running_conf = Struct(backend=\"numba\", signature=True, cache=True, float_precision=float_precision)\n",
    "  MeshPartition(mesh_file_path, dim=dim, conf=running_conf, periodic=[0,0,0])\n",
    "  domain = Domain(dim=dim, conf=running_conf)\n",
    "  return domain\n",
    "\n",
    "domain = create_partitions(mesh_path, float_precision, dim)"
   ],
   "outputs": [],
   "execution_count": null
  },
  {
   "cell_type": "code",
   "id": "b46020e89fd78992",
   "metadata": {},
   "source": [
    "domain.faces.nodeid.shape[0]"
   ],
   "outputs": [],
   "execution_count": null
  },
  {
   "cell_type": "code",
   "id": "e0fd9db79eaf0b1d",
   "metadata": {},
   "source": [],
   "outputs": [],
   "execution_count": null
  },
  {
   "cell_type": "code",
   "id": "9a98f834d3e9876f",
   "metadata": {},
   "source": [
    "domain.meshio_mesh.cell_data['tetra']['gmsh:physical'][0::10]"
   ],
   "outputs": [],
   "execution_count": null
  }
 ],
 "metadata": {
  "kernelspec": {
   "display_name": "Python 3",
   "language": "python",
   "name": "python3"
  },
  "language_info": {
   "codemirror_mode": {
    "name": "ipython",
    "version": 2
   },
   "file_extension": ".py",
   "mimetype": "text/x-python",
   "name": "python",
   "nbconvert_exporter": "python",
   "pygments_lexer": "ipython2",
   "version": "2.7.6"
  }
 },
 "nbformat": 4,
 "nbformat_minor": 5
}
