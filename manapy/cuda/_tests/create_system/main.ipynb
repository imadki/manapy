{
 "cells": [
  {
   "cell_type": "code",
   "execution_count": 12,
   "metadata": {},
   "outputs": [],
   "source": [
    "from CreateSystem import CreateSystem\n",
    "import os\n",
    "\n",
    "# The idea here is to use a template file that represents a general system solver and replace every token ($$[token])\n",
    "# with the appropriate code using a set of configurations extracted from the equation or system of equations expression.\n",
    "\n",
    "class SystemConfig():\n",
    "  def __init__(self):\n",
    "    self.order = 2\n",
    "    self.advection = True\n",
    "    self.diffusion = True\n",
    "    self.dim = 2\n",
    "    self.mesh_path = \"mesh.msh\"\n",
    "    self.backend = \"numba\"\n",
    "    self.template = \"./template/template.py\"\n",
    "\n",
    "# Obtain the configuration specifying which system solver we want to generate (e.g., order, advection, diffusion, dimension...).\n",
    "#? Next step: Obtain the SystemConfig dynamically from the equation expression that\n",
    "#?  The equation expression will be limited solely to advection, diffusion, and advection-diffusion equations.\n",
    "config = SystemConfig()\n",
    "\n",
    "\n",
    "# generate the system solver using the `SystemConfig` and redirect the output to `path`\n",
    "os.makedirs(\"out\", exist_ok=True)\n",
    "path = \"./out/out_file.py\"\n",
    "CreateSystem(path, config).generate()\n",
    "\n",
    "#! there are some small changes to manapy original system solver regarding (__init__ parameters, _parameters, process_conf)"
   ]
  }
 ],
 "metadata": {
  "kernelspec": {
   "display_name": "stage",
   "language": "python",
   "name": "python3"
  },
  "language_info": {
   "codemirror_mode": {
    "name": "ipython",
    "version": 3
   },
   "file_extension": ".py",
   "mimetype": "text/x-python",
   "name": "python",
   "nbconvert_exporter": "python",
   "pygments_lexer": "ipython3",
   "version": "3.8.18"
  }
 },
 "nbformat": 4,
 "nbformat_minor": 2
}
