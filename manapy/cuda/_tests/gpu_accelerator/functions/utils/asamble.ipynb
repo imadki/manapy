{
 "cells": [
  {
   "cell_type": "code",
   "execution_count": 2,
   "metadata": {},
   "outputs": [],
   "source": [
    "import numba\n",
    "import numpy as np\n",
    "from numba import cuda, float32, int32\n",
    "from timeit import default_timer as timer\n",
    "\n",
    "def test_time(iter, fun):\n",
    "  #fun()\n",
    "  start_time = timer()\n",
    "  for _ in range(iter):\n",
    "    fun()\n",
    "  end_time = timer()\n",
    "  elapsed_time = (end_time - start_time) / iter\n",
    "  print(f\"{elapsed_time * 1000:.5f} ms\")\n",
    "  #print(f\"{elapsed_time * 1000000:.5f} micros\")\n",
    "\n",
    "\n",
    "@cuda.jit\n",
    "def kernel_get_triplet_2d_assemble_data(arr_in_1, arr_out_1, prefix_sum):\n",
    "  thId = cuda.grid(1)\n",
    "  \n",
    "  if thId + 1 >= prefix_sum.shape[0]:\n",
    "    return\n",
    "\n",
    "  start = prefix_sum[thId]\n",
    "  end = prefix_sum[thId + 1]\n",
    "  for i in range(start, end):\n",
    "    arr_out_1[i] = arr_in_1[i - start][thId]\n",
    "\n"
   ]
  },
  {
   "cell_type": "code",
   "execution_count": 10,
   "metadata": {},
   "outputs": [
    {
     "name": "stdout",
     "output_type": "stream",
     "text": [
      "[[     1      2      3 ... 158337 158338 158339]\n",
      " [     1      2      3 ... 158337 158338 158339]\n",
      " [     1      2      3 ... 158337 158338 158339]\n",
      " ...\n",
      " [     0      0      0 ... 158337      0      0]\n",
      " [     0      0      0 ...      0      0      0]\n",
      " [     0      0      0 ...      0      0      0]]\n",
      "[ 0 30 31 ... 38 30 31]\n",
      "[      0      30      61 ... 5383458 5383488 5383519]\n"
     ]
    }
   ],
   "source": [
    "N = 158339\n",
    "host_arr_in = np.zeros(shape=(40, N), dtype=np.int32)\n",
    "host_arr_len = np.zeros(shape=(N + 1), dtype=int)\n",
    "for i in range(N):\n",
    "  l = 30 + (i) % (9)\n",
    "  host_arr_in[:l, i] = i + 1\n",
    "  host_arr_len[i + 1] = l\n",
    "host_prefix_sum = np.cumsum(host_arr_len.astype(int))\n",
    "print(host_arr_in.astype(int))\n",
    "print(host_arr_len)\n",
    "print(host_prefix_sum)"
   ]
  },
  {
   "cell_type": "code",
   "execution_count": 16,
   "metadata": {},
   "outputs": [],
   "source": [
    "d_arr_in_1 = cuda.to_device(host_arr_in)\n",
    "d_prefix_sum = cuda.to_device(host_prefix_sum)\n",
    "\n",
    "d_arr_out_1 = cuda.device_array(shape=(int(host_prefix_sum[-1])), dtype=np.float64)"
   ]
  },
  {
   "cell_type": "code",
   "execution_count": 19,
   "metadata": {},
   "outputs": [
    {
     "name": "stdout",
     "output_type": "stream",
     "text": [
      "155\n"
     ]
    },
    {
     "data": {
      "text/plain": [
       "array([     1,      1,      1, ..., 158339, 158339, 158339])"
      ]
     },
     "execution_count": 19,
     "metadata": {},
     "output_type": "execute_result"
    }
   ],
   "source": [
    "nb_threads = 1024\n",
    "nb_blocks = d_prefix_sum.shape[0] // nb_threads + 1\n",
    "print(nb_blocks)\n",
    "kernel_get_triplet_2d_assemble_data[nb_blocks, nb_threads](d_arr_in_1, d_arr_out_1, d_prefix_sum)\n",
    "host_arr_out = d_arr_out_1.copy_to_host()\n",
    "host_arr_out.astype(int)"
   ]
  },
  {
   "cell_type": "code",
   "execution_count": 17,
   "metadata": {},
   "outputs": [
    {
     "name": "stdout",
     "output_type": "stream",
     "text": [
      "int32\n",
      "float64\n"
     ]
    }
   ],
   "source": [
    "print(d_arr_in_1.dtype)\n",
    "print(d_arr_out_1.dtype)"
   ]
  },
  {
   "cell_type": "code",
   "execution_count": 18,
   "metadata": {},
   "outputs": [
    {
     "name": "stdout",
     "output_type": "stream",
     "text": [
      "3.71633 ms\n"
     ]
    }
   ],
   "source": [
    "def test():\n",
    "  kernel_get_triplet_2d_assemble_data[nb_blocks, nb_threads](\n",
    "    d_arr_in_1,\n",
    "    d_arr_out_1,\n",
    "    d_prefix_sum\n",
    "  )\n",
    "  cuda.synchronize()\n",
    "\n",
    "test()\n",
    "test_time(70, test)"
   ]
  },
  {
   "cell_type": "code",
   "execution_count": 29,
   "metadata": {},
   "outputs": [
    {
     "data": {
      "text/plain": [
       "array([     1,      2,      2, ..., 158339, 158339, 158339])"
      ]
     },
     "execution_count": 29,
     "metadata": {},
     "output_type": "execute_result"
    }
   ],
   "source": [
    "\n",
    "def host_kernel_get_triplet_2d_assemble_data(arr_in, arr_out, prefix_sum, N):\n",
    "  for thId in range(N):\n",
    "    start = prefix_sum[thId]\n",
    "    end = prefix_sum[thId + 1]\n",
    "    for i in range(start, end):\n",
    "      arr_out[i] = arr_in[i - start][thId]\n",
    "\n",
    "host_arr_out = np.zeros(shape=(int(host_prefix_sum[-1])), dtype=np.float32)\n",
    "host_kernel_get_triplet_2d_assemble_data(host_arr_in, host_arr_out, host_prefix_sum, N)\n",
    "host_arr_out.astype(int)"
   ]
  },
  {
   "cell_type": "markdown",
   "metadata": {},
   "source": [
    "# Test 2"
   ]
  },
  {
   "cell_type": "code",
   "execution_count": 21,
   "metadata": {},
   "outputs": [],
   "source": [
    "import numba\n",
    "import numpy as np\n",
    "from numba import cuda, float32, int32\n",
    "from timeit import default_timer as timer\n",
    "\n",
    "def test_time(iter, fun):\n",
    "  #fun()\n",
    "  start_time = timer()\n",
    "  for _ in range(iter):\n",
    "    fun()\n",
    "  end_time = timer()\n",
    "  elapsed_time = (end_time - start_time) / iter\n",
    "  print(f\"{elapsed_time * 1000:.5f} ms\")\n",
    "  #print(f\"{elapsed_time * 1000000:.5f} micros\")\n",
    "\n",
    "\n",
    "@cuda.jit\n",
    "def kernel_get_triplet_2d_assemble_data(arr_in_1, arr_out_1, prefix_sum):\n",
    "  thId = cuda.grid(1)\n",
    "\n",
    "  if thId + 1 >= prefix_sum.shape[0]:\n",
    "    return\n",
    "  \n",
    "  start = prefix_sum[thId]\n",
    "  #end = \n",
    "  for i in range(start, prefix_sum[thId + 1]):\n",
    "    p = i - start\n",
    "    arr_out_1[i] = arr_in_1[thId][p]\n",
    "\n"
   ]
  },
  {
   "cell_type": "code",
   "execution_count": 38,
   "metadata": {},
   "outputs": [
    {
     "data": {
      "text/plain": [
       "0.8915130436195355"
      ]
     },
     "execution_count": 38,
     "metadata": {},
     "output_type": "execute_result"
    }
   ],
   "source": [
    "np.random.rand()"
   ]
  },
  {
   "cell_type": "code",
   "execution_count": 41,
   "metadata": {},
   "outputs": [
    {
     "name": "stdout",
     "output_type": "stream",
     "text": [
      "[[0.38386584 0.38386584 0.38386584 ... 0.         0.         0.        ]\n",
      " [0.76185161 0.76185161 0.76185161 ... 0.         0.         0.        ]\n",
      " [0.5672524  0.5672524  0.5672524  ... 0.         0.         0.        ]\n",
      " ...\n",
      " [0.9569907  0.9569907  0.9569907  ... 0.9569907  0.         0.        ]\n",
      " [0.00669746 0.00669746 0.00669746 ... 0.         0.         0.        ]\n",
      " [0.28924507 0.28924507 0.28924507 ... 0.         0.         0.        ]]\n",
      "[ 0 30 31 ... 38 30 31]\n",
      "[      0      30      61 ... 5383458 5383488 5383519]\n"
     ]
    }
   ],
   "source": [
    "N = 158339\n",
    "host_arr_in = np.zeros(shape=(40, N), dtype=np.float64)\n",
    "host_arr_len = np.zeros(shape=(N + 1), dtype=int)\n",
    "for i in range(N):\n",
    "  l = 30 + (i % 9)\n",
    "  host_arr_in[:l, i] = np.random.rand()\n",
    "  host_arr_len[i + 1] = l\n",
    "host_prefix_sum = np.cumsum(host_arr_len.astype(int))\n",
    "host_arr_in = host_arr_in.T\n",
    "print(host_arr_in)\n",
    "print(host_arr_len)\n",
    "print(host_prefix_sum)"
   ]
  },
  {
   "cell_type": "code",
   "execution_count": 42,
   "metadata": {},
   "outputs": [],
   "source": [
    "d_arr_in_1 = cuda.to_device(host_arr_in)\n",
    "d_prefix_sum = cuda.to_device(host_prefix_sum)\n",
    "\n",
    "d_arr_out_1 = cuda.device_array(shape=(int(host_prefix_sum[-1])), dtype=np.float64)"
   ]
  },
  {
   "cell_type": "code",
   "execution_count": 43,
   "metadata": {},
   "outputs": [
    {
     "data": {
      "text/plain": [
       "array([0, 0, 0, ..., 0, 0, 0])"
      ]
     },
     "execution_count": 43,
     "metadata": {},
     "output_type": "execute_result"
    }
   ],
   "source": [
    "nb_threads = 1024\n",
    "nb_blocks = N // nb_threads + 1\n",
    "kernel_get_triplet_2d_assemble_data[nb_blocks, nb_threads](d_arr_in_1, d_arr_out_1, d_prefix_sum)\n",
    "host_arr_out = d_arr_out_1.copy_to_host()\n",
    "host_arr_out.astype(int)"
   ]
  },
  {
   "cell_type": "code",
   "execution_count": 44,
   "metadata": {},
   "outputs": [
    {
     "name": "stdout",
     "output_type": "stream",
     "text": [
      "(158339, 40)\n",
      "float64\n",
      "(5383519,)\n",
      "float64\n"
     ]
    }
   ],
   "source": [
    "print(d_arr_in_1.shape)\n",
    "print(d_arr_in_1.dtype)\n",
    "print(d_arr_out_1.shape)\n",
    "print(d_arr_out_1.dtype)"
   ]
  },
  {
   "cell_type": "code",
   "execution_count": 45,
   "metadata": {},
   "outputs": [
    {
     "name": "stdout",
     "output_type": "stream",
     "text": [
      "4.88637 ms\n"
     ]
    }
   ],
   "source": [
    "def test():\n",
    "  kernel_get_triplet_2d_assemble_data[nb_blocks, nb_threads](d_arr_in_1, d_arr_out_1, d_prefix_sum)\n",
    "  cuda.synchronize()\n",
    "\n",
    "test()\n",
    "test_time(700, test)"
   ]
  },
  {
   "cell_type": "markdown",
   "metadata": {},
   "source": [
    "# Test 3"
   ]
  },
  {
   "cell_type": "code",
   "execution_count": 2,
   "metadata": {},
   "outputs": [],
   "source": [
    "import numba\n",
    "import numpy as np\n",
    "from numba import cuda, float32, int32\n",
    "from timeit import default_timer as timer\n",
    "\n",
    "def test_time(iter, fun):\n",
    "  #fun()\n",
    "  start_time = timer()\n",
    "  for _ in range(iter):\n",
    "    fun()\n",
    "  end_time = timer()\n",
    "  elapsed_time = (end_time - start_time) / iter\n",
    "  print(f\"{elapsed_time * 1000:.5f} ms\")\n",
    "  #print(f\"{elapsed_time * 1000000:.5f} micros\")"
   ]
  },
  {
   "cell_type": "code",
   "execution_count": 84,
   "metadata": {},
   "outputs": [
    {
     "name": "stdout",
     "output_type": "stream",
     "text": [
      "[[0. 0. 0. ... 0. 0. 0.]\n",
      " [0. 0. 0. ... 0. 0. 0.]\n",
      " [0. 0. 0. ... 0. 0. 0.]\n",
      " ...\n",
      " [0. 0. 0. ... 0. 0. 0.]\n",
      " [0. 0. 0. ... 0. 0. 0.]\n",
      " [0. 0. 0. ... 0. 0. 0.]]\n",
      "[ 0 29 29 ...  0  0  0]\n",
      "[      0      29      58 ... 4496676 4496676 4496676]\n"
     ]
    }
   ],
   "source": [
    "OUT_N = 4496676\n",
    "SIZE = 40\n",
    "N = 158339\n",
    "\n",
    "\n",
    "host_a_loc = np.zeros(shape=(OUT_N), dtype=np.float64)\n",
    "host_jcn_loc = np.zeros(shape=(OUT_N), dtype=np.int32)\n",
    "host_irn_loc = np.zeros(shape=(OUT_N), dtype=np.int32)\n",
    "\n",
    "host_a_loc_2 = np.zeros(shape=(SIZE, N), dtype=np.float64)\n",
    "host_jcn_loc_2 = np.zeros(shape=(SIZE, N), dtype=np.int32)\n",
    "host_irn_loc_2 = np.zeros(shape=(SIZE, N), dtype=np.int32)\n",
    "\n",
    "host_arr_len = np.zeros(shape=(158720), dtype=np.int32)\n",
    "temp = OUT_N\n",
    "for i in range(N):\n",
    "  l = 29\n",
    "  if temp == 0:\n",
    "    break\n",
    "  if temp >= l:\n",
    "    temp -= l\n",
    "  else:\n",
    "    l = temp\n",
    "    temp = 0\n",
    "  host_a_loc_2[:l, i] = 0.0\n",
    "  host_jcn_loc_2[:l, i] = 0.0\n",
    "  host_irn_loc_2[:l, i] = 0.0\n",
    "  host_arr_len[i + 1] = l\n",
    "\n",
    "host_a_loc_2 = host_a_loc_2.T\n",
    "host_jcn_loc_2 = host_jcn_loc_2.T\n",
    "host_irn_loc_2 = host_irn_loc_2.T\n",
    "\n",
    "host_prefix_sum = np.cumsum(host_arr_len.astype(np.int32))\n",
    "host_prefix_sum = host_prefix_sum.astype(np.int32)\n",
    "print(host_a_loc_2)\n",
    "print(host_arr_len)\n",
    "print(host_prefix_sum)"
   ]
  },
  {
   "cell_type": "code",
   "execution_count": 85,
   "metadata": {},
   "outputs": [],
   "source": [
    "d_a_loc = cuda.to_device(host_a_loc)\n",
    "d_jcn_loc = cuda.to_device(host_jcn_loc)\n",
    "d_irn_loc = cuda.to_device(host_irn_loc)\n",
    "d_a_loc_2 = cuda.to_device(host_a_loc_2)\n",
    "d_jcn_loc_2 = cuda.to_device(host_jcn_loc_2)\n",
    "d_irn_loc_2 = cuda.to_device(host_irn_loc_2)\n",
    "d_prefix_sum = cuda.to_device(host_prefix_sum)"
   ]
  },
  {
   "cell_type": "code",
   "execution_count": 86,
   "metadata": {},
   "outputs": [
    {
     "name": "stdout",
     "output_type": "stream",
     "text": [
      "float64\n",
      "float64\n",
      "int32\n",
      "int32\n",
      "int32\n",
      "int32\n",
      "int32\n"
     ]
    }
   ],
   "source": [
    "print(d_a_loc.dtype)\n",
    "print(d_a_loc_2.dtype)\n",
    "print(d_jcn_loc.dtype)\n",
    "print(d_jcn_loc_2.dtype)\n",
    "print(d_irn_loc.dtype)\n",
    "print(d_irn_loc_2.dtype)\n",
    "print(d_prefix_sum.dtype)"
   ]
  },
  {
   "cell_type": "code",
   "execution_count": 87,
   "metadata": {},
   "outputs": [
    {
     "name": "stdout",
     "output_type": "stream",
     "text": [
      "(4496676,)\n",
      "(158339, 40)\n",
      "(4496676,)\n",
      "(158339, 40)\n",
      "(4496676,)\n",
      "(158339, 40)\n",
      "(158720,)\n"
     ]
    }
   ],
   "source": [
    "print(d_a_loc.shape)\n",
    "print(d_a_loc_2.shape)\n",
    "print(d_jcn_loc.shape)\n",
    "print(d_jcn_loc_2.shape)\n",
    "print(d_irn_loc.shape)\n",
    "print(d_irn_loc_2.shape)\n",
    "print(d_prefix_sum.shape)"
   ]
  },
  {
   "cell_type": "code",
   "execution_count": 78,
   "metadata": {},
   "outputs": [
    {
     "name": "stdout",
     "output_type": "stream",
     "text": [
      "[      0      29      58 ... 4496676 4496676 4496676]\n"
     ]
    }
   ],
   "source": [
    "print(host_prefix_sum)"
   ]
  },
  {
   "cell_type": "code",
   "execution_count": 88,
   "metadata": {},
   "outputs": [
    {
     "name": "stdout",
     "output_type": "stream",
     "text": [
      "156\n",
      "7.19451 ms\n"
     ]
    }
   ],
   "source": [
    "@cuda.jit\n",
    "def kernel_get_triplet_2d_assemble_data(\n",
    "    a_loc,\n",
    "    jcn_loc,\n",
    "    irn_loc,\n",
    "    a_loc_2,\n",
    "    jcn_loc_2,\n",
    "    irn_loc_2,\n",
    "    prefix_sum,\n",
    "):\n",
    "\n",
    "  idx = cuda.grid(1)\n",
    "\n",
    "  if idx + 1 >= prefix_sum.shape[0]:\n",
    "    return\n",
    "\n",
    "  s = prefix_sum[idx]\n",
    "  e = prefix_sum[idx + 1]\n",
    "  for i in range(s, e):\n",
    "    p = i - s\n",
    "    jcn_loc[i] = jcn_loc_2[idx][p]\n",
    "  for i in range(s, e):\n",
    "    p = i - s\n",
    "    irn_loc[i] = irn_loc_2[idx][p]\n",
    "  for i in range(s, e):\n",
    "    p = i - s\n",
    "    a_loc[i] = a_loc_2[idx][p]\n",
    "\n",
    "nb_element = d_prefix_sum.shape[0]\n",
    "nb_threads = 1024\n",
    "nb_blocks = nb_element // 1024 + 1\n",
    "print(nb_blocks)\n",
    "\n",
    "def cuda_numba_get_triplet_2d_assemble_data():\n",
    "  kernel_get_triplet_2d_assemble_data[nb_blocks, nb_threads](\n",
    "    d_a_loc,\n",
    "    d_jcn_loc,\n",
    "    d_irn_loc,\n",
    "    d_a_loc_2,\n",
    "    d_jcn_loc_2,\n",
    "    d_irn_loc_2,\n",
    "    d_prefix_sum,\n",
    "  )\n",
    "  cuda.synchronize()\n",
    "\n",
    "cuda_numba_get_triplet_2d_assemble_data()\n",
    "test_time(100, cuda_numba_get_triplet_2d_assemble_data)"
   ]
  },
  {
   "cell_type": "code",
   "execution_count": 80,
   "metadata": {},
   "outputs": [
    {
     "data": {
      "text/plain": [
       "[<matplotlib.lines.Line2D at 0x764fd2bd8430>]"
      ]
     },
     "execution_count": 80,
     "metadata": {},
     "output_type": "execute_result"
    },
    {
     "data": {
      "image/png": "[encoded data removed]",
      "text/plain": [
       "<Figure size 640x480 with 1 Axes>"
      ]
     },
     "metadata": {},
     "output_type": "display_data"
    }
   ],
   "source": [
    "import matplotlib.pyplot as plt\n",
    "\n",
    "plt.plot(host_a_loc)"
   ]
  }
 ],
 "metadata": {
  "kernelspec": {
   "display_name": "stage",
   "language": "python",
   "name": "python3"
  },
  "language_info": {
   "codemirror_mode": {
    "name": "ipython",
    "version": 3
   },
   "file_extension": ".py",
   "mimetype": "text/x-python",
   "name": "python",
   "nbconvert_exporter": "python",
   "pygments_lexer": "ipython3",
   "version": "3.8.18"
  }
 },
 "nbformat": 4,
 "nbformat_minor": 2
}
