{
 "cells": [
  {
   "cell_type": "code",
   "execution_count": null,
   "metadata": {},
   "outputs": [],
   "source": [
    "from mpi4py import MPI\n",
    "from manapy.ast import Variable\n",
    "from manapy.base.base import Struct\n",
    "from manapy.ddm import Domain\n",
    "from manapy.partitions import MeshPartition\n",
    "from manapy.solvers.advec.tools_utils import initialisation_gaussian_2d\n",
    "import numpy as np\n",
    "import time\n",
    "from numba import cuda\n",
    "\n",
    "from manapy.partitions import MeshPartition\n",
    "from manapy.ddm import Domain\n",
    "from manapy.solvers.advec.tools_utils import initialisation_gaussian_2d\n",
    "from manapy.solvers.advec import AdvectionSolver\n",
    "from manapy.ast import Variable\n",
    "from manapy.base.base import Struct\n",
    "import os\n",
    "\n",
    "def init(dim, mesh_path):\n",
    "  running_conf = Struct(backend=\"numba\", signature=True, cache=True, float_precision=\"single\")\n",
    "  MeshPartition(mesh_path, dim=dim, conf=running_conf, periodic=[0,0,0])\n",
    "\n",
    "  domain = Domain(dim=dim, conf=running_conf)\n",
    "  ne = Variable(domain=domain)\n",
    "  u  = Variable(domain=domain)\n",
    "  v  = Variable(domain=domain)\n",
    "  w  = Variable(domain=domain)\n",
    "  \n",
    "  P = Variable(domain=domain)\n",
    "  Pinit = 2.0\n",
    "  cells = domain.cells\n",
    "  initialisation_gaussian_2d(ne.cell, u.cell, v.cell, P.cell, cells.center, Pinit)\n",
    "\n",
    "  u.face[:] = 2.\n",
    "  v.face[:] = 0.\n",
    "  w.face[:] = 0.\n",
    "  \n",
    "  u.interpolate_facetocell()\n",
    "  v.interpolate_facetocell()\n",
    "  w.interpolate_facetocell()\n",
    "  return (domain, ne, u, v, w, P)\n",
    "\n",
    "\n",
    "\n",
    "\n",
    "\n",
    "\n",
    "\n",
    "\n",
    "\n",
    "\n",
    "\n",
    "\n"
   ]
  },
  {
   "cell_type": "code",
   "execution_count": null,
   "metadata": {},
   "outputs": [],
   "source": [
    "conf = Struct(order=2, cfl=0.8)\n",
    "S = AdvectionSolver(ne, vel=(u, v), conf=conf)"
   ]
  }
 ],
 "metadata": {
  "language_info": {
   "name": "python"
  }
 },
 "nbformat": 4,
 "nbformat_minor": 2
}
