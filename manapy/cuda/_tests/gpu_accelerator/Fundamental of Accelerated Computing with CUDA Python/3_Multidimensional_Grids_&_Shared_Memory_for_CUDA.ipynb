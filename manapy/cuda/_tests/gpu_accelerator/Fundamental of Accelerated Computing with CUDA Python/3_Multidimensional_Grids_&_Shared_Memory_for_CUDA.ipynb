{
  "cells": [
    {
      "cell_type": "markdown",
      "metadata": {
        "id": "mYfOFNaIlVcs"
      },
      "source": [
        "**This is a 3 Notebook Series on:**\n",
        "# Fundamental of Accelerated Computing with CUDA Python\n",
        "In this 3 Notebook Series you will learn about:\n",
        "1. [Introduction to CUDA Python with Numba](https://www.kaggle.com/harshwalia/1-introduction-to-cuda-python-with-numba)\n",
        "2. [Custom CUDA Kernels in Python with Numba](https://www.kaggle.com/harshwalia/2-custom-cuda-kernels-in-python-with-numba)\n",
        "3. [Multidimensional Grids and Shared Memory for CUDA Python with Numba](https://www.kaggle.com/harshwalia/3-multidimensional-grids-shared-memory-for-cuda)"
      ]
    },
    {
      "cell_type": "markdown",
      "metadata": {
        "id": "F0ZSbz9slVcu"
      },
      "source": [
        "![image.png](attachment:70810d3a-d5c9-4682-989d-3843cf3eb977.png)"
      ]
    },
    {
      "cell_type": "markdown",
      "metadata": {
        "id": "eI9bAJ2OlVcv"
      },
      "source": [
        "If you Gain some knowledge then **Please Upvote**\n",
        "\n",
        "Thanks to NVIDIA Deeplearning Institute for such a Good Content."
      ]
    },
    {
      "cell_type": "markdown",
      "metadata": {
        "id": "QC93KdkhlVcw"
      },
      "source": [
        "# 3-Multidimensional Grids & Shared Memory for CUDA"
      ]
    },
    {
      "cell_type": "markdown",
      "metadata": {
        "id": "5kJxpr-dlVcx"
      },
      "source": [
        "Now that you can write correct CUDA kernels, and understand the importance of launching grids that give the GPU sufficient opportunity to hide latency, you are going to learn techniques to effectively utilize GPU memory subsystems. These techniques are widely applicable to a variety of CUDA applications, and some of the most important when it comes time to make your CUDA code go fast.\n",
        "\n",
        "You are going to begin by learning about memory coalescing. To challenge your ability to reason about memory coalescing, and to expose important details relevent to many CUDA applications, you will then learn about 2-dimensional grids and thread blocks. Next you will learn about a very fast, user-controlled, on-demand memory space called shared memory, and will use shared memory to facilitate memory coalescing where it would not have otherwise been possible. Finally, you will learn about shared memory bank conflicts, which can spoil the performance possibilities of using shared memory, and a technique to address them."
      ]
    },
    {
      "cell_type": "markdown",
      "metadata": {
        "id": "Ki936YGqlVcx"
      },
      "source": [
        "## Objectives"
      ]
    },
    {
      "cell_type": "markdown",
      "metadata": {
        "id": "X3qF5rvwlVcy"
      },
      "source": [
        "By the time you complete this section, you will be able to:\n",
        "* Write CUDA kernels that benefit from coalesced memory access patterns.\n",
        "* Work with multi-dimensional grids and thread blocks.\n",
        "* Use shared memory to coordinate threads within a block.\n",
        "* Use shared memory to facilitate coalesced memory access patterns.\n",
        "* Resolve shared memory bank conflicts."
      ]
    },
    {
      "cell_type": "markdown",
      "metadata": {
        "id": "vNmyudBGlVcz"
      },
      "source": [
        "## The Problem: Uncoalesced Memory Access Hurts Performance"
      ]
    },
    {
      "cell_type": "markdown",
      "metadata": {
        "id": "s4cDde_klVcz"
      },
      "source": [
        "Before you learn the details about what **coalesced memory access** is, run the following cells to observe the performance implications for a seemingly trivial change to the data access pattern within a kernel."
      ]
    },
    {
      "cell_type": "markdown",
      "metadata": {
        "id": "AkrlA9GelVc1"
      },
      "source": [
        "### Imports"
      ]
    },
    {
      "cell_type": "code",
      "execution_count": 1,
      "metadata": {
        "execution": {
          "iopub.execute_input": "2021-09-25T04:12:23.740816Z",
          "iopub.status.busy": "2021-09-25T04:12:23.740522Z",
          "iopub.status.idle": "2021-09-25T04:12:24.56941Z",
          "shell.execute_reply": "2021-09-25T04:12:24.568479Z",
          "shell.execute_reply.started": "2021-09-25T04:12:23.740739Z"
        },
        "id": "J-kI5QPZlVc2",
        "trusted": true
      },
      "outputs": [],
      "source": [
        "import numpy as np\n",
        "from numba import cuda"
      ]
    },
    {
      "cell_type": "markdown",
      "metadata": {
        "id": "QADaP_IWlVc2"
      },
      "source": [
        "### Data Creation"
      ]
    },
    {
      "cell_type": "markdown",
      "metadata": {
        "id": "SGX1pYe5lVc4"
      },
      "source": [
        "In this cell we define `n` and create a grid with threads equal to `n`. We also create an output vector with length `n`. For the inputs we create vectors of size `stride * n` for reasons that will be made clear below:"
      ]
    },
    {
      "cell_type": "code",
      "execution_count": 2,
      "metadata": {
        "execution": {
          "iopub.execute_input": "2021-09-25T04:12:24.573007Z",
          "iopub.status.busy": "2021-09-25T04:12:24.572792Z",
          "iopub.status.idle": "2021-09-25T04:12:24.887753Z",
          "shell.execute_reply": "2021-09-25T04:12:24.886756Z",
          "shell.execute_reply.started": "2021-09-25T04:12:24.572979Z"
        },
        "id": "YRe1XrcplVc4",
        "trusted": true
      },
      "outputs": [],
      "source": [
        "n = 1024*1024 # 1M\n",
        "\n",
        "threads_per_block = 1024\n",
        "blocks = int(n / threads_per_block)\n",
        "\n",
        "stride = 16\n",
        "\n",
        "# Input Vectors of length stride * n\n",
        "a = np.ones(stride * n).astype(np.float32)\n",
        "b = a.copy().astype(np.float32)\n",
        "\n",
        "# Output Vector\n",
        "out = np.zeros(n).astype(np.float32)\n",
        "\n",
        "d_a = cuda.to_device(a)\n",
        "d_b = cuda.to_device(b)\n",
        "d_out = cuda.to_device(out)"
      ]
    },
    {
      "cell_type": "markdown",
      "metadata": {
        "id": "oLgIqTRllVc5"
      },
      "source": [
        "### Kernel Definition"
      ]
    },
    {
      "cell_type": "markdown",
      "metadata": {
        "id": "m9xbhx04lVc6"
      },
      "source": [
        "In `add_experiment`, every thread in the grid will add an item in `a`, and an item in `b` and write the result to `out`. The kernel has been written such that we can pass a `coalesced` value of either `True` or `False` to affect how it indexes into the `a` and `b` vectors. You will see the performance comparison of the two modes below."
      ]
    },
    {
      "cell_type": "code",
      "execution_count": 3,
      "metadata": {
        "execution": {
          "iopub.execute_input": "2021-09-25T04:12:24.88919Z",
          "iopub.status.busy": "2021-09-25T04:12:24.888929Z",
          "iopub.status.idle": "2021-09-25T04:12:24.8965Z",
          "shell.execute_reply": "2021-09-25T04:12:24.895192Z",
          "shell.execute_reply.started": "2021-09-25T04:12:24.889158Z"
        },
        "id": "F4Vf6EZhlVc6",
        "trusted": true
      },
      "outputs": [],
      "source": [
        "@cuda.jit\n",
        "def add_experiment(a, b, out, stride, coalesced):\n",
        "    i = cuda.grid(1)\n",
        "    # The above line is equivalent to\n",
        "    # i = cuda.blockIdx.x * cuda.blockDim.x + cuda.threadIdx.x\n",
        "    if coalesced == True:\n",
        "        out[i] = a[i] + b[i]\n",
        "    else:\n",
        "        out[i] = a[stride*i] + b[stride*i]"
      ]
    },
    {
      "cell_type": "code",
      "execution_count": 4,
      "metadata": {},
      "outputs": [],
      "source": [
        "add_experiment[blocks, threads_per_block](d_a, d_b, d_out, stride, True)\n"
      ]
    },
    {
      "cell_type": "markdown",
      "metadata": {
        "id": "kAvtLYP6lVc7"
      },
      "source": [
        "### Launch Kernel Using Coalesced Access"
      ]
    },
    {
      "cell_type": "markdown",
      "metadata": {
        "id": "T5PrDAPwlVc7"
      },
      "source": [
        "Here we pass `True` as the `coalesced` value, and observe the performance of the kernel over several runs:"
      ]
    },
    {
      "cell_type": "code",
      "execution_count": 5,
      "metadata": {
        "execution": {
          "iopub.execute_input": "2021-09-25T04:12:24.898953Z",
          "iopub.status.busy": "2021-09-25T04:12:24.898601Z",
          "iopub.status.idle": "2021-09-25T04:12:25.480967Z",
          "shell.execute_reply": "2021-09-25T04:12:25.480239Z",
          "shell.execute_reply.started": "2021-09-25T04:12:24.89892Z"
        },
        "id": "_PlagQYPlVc8",
        "scrolled": true,
        "trusted": true
      },
      "outputs": [
        {
          "name": "stdout",
          "output_type": "stream",
          "text": [
            "413 µs ± 34.7 ns per loop (mean ± std. dev. of 7 runs, 10,000 loops each)\n"
          ]
        }
      ],
      "source": [
        "%timeit add_experiment[blocks, threads_per_block](d_a, d_b, d_out, stride, True); cuda.synchronize"
      ]
    },
    {
      "cell_type": "markdown",
      "metadata": {
        "id": "3QER4-NGlVc8"
      },
      "source": [
        "Here we make sure the kernel ran as expected:"
      ]
    },
    {
      "cell_type": "code",
      "execution_count": null,
      "metadata": {
        "execution": {
          "iopub.execute_input": "2021-09-25T04:12:25.482725Z",
          "iopub.status.busy": "2021-09-25T04:12:25.48244Z",
          "iopub.status.idle": "2021-09-25T04:12:25.491856Z",
          "shell.execute_reply": "2021-09-25T04:12:25.491181Z",
          "shell.execute_reply.started": "2021-09-25T04:12:25.482691Z"
        },
        "id": "dQsdGYb0lVc-",
        "trusted": true
      },
      "outputs": [],
      "source": [
        "result = d_out.copy_to_host()\n",
        "truth = a[:n] + b[:n]"
      ]
    },
    {
      "cell_type": "code",
      "execution_count": null,
      "metadata": {
        "execution": {
          "iopub.execute_input": "2021-09-25T04:12:25.493666Z",
          "iopub.status.busy": "2021-09-25T04:12:25.493355Z",
          "iopub.status.idle": "2021-09-25T04:12:25.503615Z",
          "shell.execute_reply": "2021-09-25T04:12:25.502828Z",
          "shell.execute_reply.started": "2021-09-25T04:12:25.493634Z"
        },
        "id": "ku4iHaRRlVc-",
        "scrolled": true,
        "trusted": true
      },
      "outputs": [],
      "source": [
        "np.array_equal(result, truth)"
      ]
    },
    {
      "cell_type": "markdown",
      "metadata": {
        "id": "mmSrPKNmlVc-"
      },
      "source": [
        "### Launch Kernel Using Uncoalesced Access"
      ]
    },
    {
      "cell_type": "markdown",
      "metadata": {
        "id": "Q-py5XUIlVc_"
      },
      "source": [
        "In this cell we pass `False`, to observe the perfomance of the uncoalesced data access pattern for `add_experiment`:"
      ]
    },
    {
      "cell_type": "code",
      "execution_count": 6,
      "metadata": {
        "execution": {
          "iopub.execute_input": "2021-09-25T04:12:25.505436Z",
          "iopub.status.busy": "2021-09-25T04:12:25.505154Z",
          "iopub.status.idle": "2021-09-25T04:12:36.110958Z",
          "shell.execute_reply": "2021-09-25T04:12:36.1101Z",
          "shell.execute_reply.started": "2021-09-25T04:12:25.505402Z"
        },
        "id": "w2vs8yMylVc_",
        "trusted": true
      },
      "outputs": [
        {
          "name": "stdout",
          "output_type": "stream",
          "text": [
            "2.32 ms ± 62.9 ns per loop (mean ± std. dev. of 7 runs, 10,000 loops each)\n"
          ]
        }
      ],
      "source": [
        "%timeit add_experiment[blocks, threads_per_block](d_a, d_b, d_out, stride, False); cuda.synchronize"
      ]
    },
    {
      "cell_type": "markdown",
      "metadata": {
        "id": "dOOd0VO_lVdA"
      },
      "source": [
        "Here we make sure the kernel ran as expected:"
      ]
    },
    {
      "cell_type": "code",
      "execution_count": null,
      "metadata": {
        "execution": {
          "iopub.execute_input": "2021-09-25T04:12:36.11258Z",
          "iopub.status.busy": "2021-09-25T04:12:36.112315Z",
          "iopub.status.idle": "2021-09-25T04:12:36.255277Z",
          "shell.execute_reply": "2021-09-25T04:12:36.254661Z",
          "shell.execute_reply.started": "2021-09-25T04:12:36.112546Z"
        },
        "id": "4nKcaeg5lVdB",
        "trusted": true
      },
      "outputs": [],
      "source": [
        "result = d_out.copy_to_host()\n",
        "truth = a[::stride] + b[::stride]"
      ]
    },
    {
      "cell_type": "code",
      "execution_count": null,
      "metadata": {
        "execution": {
          "iopub.execute_input": "2021-09-25T04:12:36.256717Z",
          "iopub.status.busy": "2021-09-25T04:12:36.256473Z",
          "iopub.status.idle": "2021-09-25T04:12:36.263049Z",
          "shell.execute_reply": "2021-09-25T04:12:36.262291Z",
          "shell.execute_reply.started": "2021-09-25T04:12:36.256686Z"
        },
        "id": "2N8Ll7-_lVdB",
        "trusted": true
      },
      "outputs": [],
      "source": [
        "np.array_equal(result, truth)"
      ]
    },
    {
      "cell_type": "markdown",
      "metadata": {
        "id": "s_ZsUu5qlVdB"
      },
      "source": [
        "### Results"
      ]
    },
    {
      "cell_type": "markdown",
      "metadata": {
        "id": "RXNGyKkflVdB"
      },
      "source": [
        "The performance of the uncoalesced data access pattern was far worse. Now you will learn why, and how to think about data access patterns in your kernels to obtain high performing kernels."
      ]
    },
    {
      "cell_type": "markdown",
      "metadata": {
        "id": "VE75oX7FlVdC"
      },
      "source": [
        "## Presentation: Global Memory Coalescing"
      ]
    },
    {
      "cell_type": "markdown",
      "metadata": {
        "id": "mIpynpdDlVdC"
      },
      "source": [
        "Execute the following cell to load the slides, then click on \"Start Slide Show\" to make them full screen."
      ]
    },
    {
      "cell_type": "markdown",
      "metadata": {
        "id": "wDuW5yxllVdD"
      },
      "source": [
        "`Please go through the slides first before Moving ahead this will explain you the concept of Global Memory Coalescing`"
      ]
    },
    {
      "cell_type": "code",
      "execution_count": null,
      "metadata": {
        "execution": {
          "iopub.execute_input": "2021-09-25T04:12:36.266633Z",
          "iopub.status.busy": "2021-09-25T04:12:36.266376Z",
          "iopub.status.idle": "2021-09-25T04:12:36.273413Z",
          "shell.execute_reply": "2021-09-25T04:12:36.272495Z",
          "shell.execute_reply.started": "2021-09-25T04:12:36.266602Z"
        },
        "id": "MRlEWrV5lVdD",
        "scrolled": true,
        "trusted": true
      },
      "outputs": [],
      "source": [
        "from IPython.display import IFrame\n",
        "IFrame('https://view.officeapps.live.com/op/view.aspx?src=https://developer.download.nvidia.com/training/courses/C-AC-02-V1/coalescing-v3.pptx', 800, 450)"
      ]
    },
    {
      "cell_type": "markdown",
      "metadata": {
        "id": "X7p2iLn-lVdD"
      },
      "source": [
        "> _**Footnote**: for additional details about global memory segment size across a variety of devices, and with regards to caching, see [The CUDA Best Practices Guide](https://docs.nvidia.com/cuda/cuda-c-best-practices-guide/index.html#coalesced-access-to-global-memory)._"
      ]
    },
    {
      "cell_type": "markdown",
      "metadata": {
        "id": "bQh3QsqdlVdD"
      },
      "source": [
        "## Exercise: Column and Row Sums"
      ]
    },
    {
      "cell_type": "markdown",
      "metadata": {
        "id": "w6nVUuAalVdE"
      },
      "source": [
        "For this exercise you will be asked to write a column sums kernel that uses fully coalesced memory access patterns. To begin you will observe the performance of a row sums kernel that makes uncoalesced memory accesses."
      ]
    },
    {
      "cell_type": "markdown",
      "metadata": {
        "id": "q5d55EytlVdE"
      },
      "source": [
        "### Row Sums"
      ]
    },
    {
      "cell_type": "markdown",
      "metadata": {
        "id": "Eq3BuzySlVdF"
      },
      "source": [
        "**Imports**"
      ]
    },
    {
      "cell_type": "code",
      "execution_count": null,
      "metadata": {
        "execution": {
          "iopub.execute_input": "2021-09-25T04:12:36.275189Z",
          "iopub.status.busy": "2021-09-25T04:12:36.274911Z",
          "iopub.status.idle": "2021-09-25T04:12:36.28116Z",
          "shell.execute_reply": "2021-09-25T04:12:36.279997Z",
          "shell.execute_reply.started": "2021-09-25T04:12:36.275156Z"
        },
        "id": "1v1FS71nlVdF",
        "trusted": true
      },
      "outputs": [],
      "source": [
        "import numpy as np\n",
        "from numba import cuda"
      ]
    },
    {
      "cell_type": "markdown",
      "metadata": {
        "id": "96XmhD43lVdF"
      },
      "source": [
        "**Data Creation**"
      ]
    },
    {
      "cell_type": "markdown",
      "metadata": {
        "id": "TSYWrqb5lVdF"
      },
      "source": [
        "In this cell we create an input matrix, as well as a vector for storing the solution, and transfer each of them to the device. We also define the grid and block dimensions to be used when we launch the kernel below. We set an arbitrary row of data to some arbitrary value to facilitate checking for correctness below."
      ]
    },
    {
      "cell_type": "code",
      "execution_count": null,
      "metadata": {
        "execution": {
          "iopub.execute_input": "2021-09-25T04:12:36.283114Z",
          "iopub.status.busy": "2021-09-25T04:12:36.282842Z",
          "iopub.status.idle": "2021-09-25T04:12:37.48242Z",
          "shell.execute_reply": "2021-09-25T04:12:37.48166Z",
          "shell.execute_reply.started": "2021-09-25T04:12:36.28308Z"
        },
        "id": "DOdWLT2SlVdG",
        "trusted": true
      },
      "outputs": [],
      "source": [
        "n = 16384 # matrix side size\n",
        "threads_per_block = 256\n",
        "blocks = int(n / threads_per_block)\n",
        "\n",
        "# Input Matrix\n",
        "a = np.ones(n*n).reshape(n, n).astype(np.float32)\n",
        "# Here we set an arbitrary row to an arbitrary value to facilitate a check for correctness below.\n",
        "a[3] = 9\n",
        "\n",
        "# Output vector\n",
        "sums = np.zeros(n).astype(np.float32)\n",
        "\n",
        "d_a = cuda.to_device(a)\n",
        "d_sums = cuda.to_device(sums)"
      ]
    },
    {
      "cell_type": "markdown",
      "metadata": {
        "id": "_nbFXxGUlVdG"
      },
      "source": [
        "** Kernel Definition**"
      ]
    },
    {
      "cell_type": "markdown",
      "metadata": {
        "id": "dfdA9JK0lVdG"
      },
      "source": [
        "`row_sums` will use each thread to iterate over a row of data, summing it, and then store its row sum in `sums`."
      ]
    },
    {
      "cell_type": "code",
      "execution_count": null,
      "metadata": {
        "execution": {
          "iopub.execute_input": "2021-09-25T04:12:37.484458Z",
          "iopub.status.busy": "2021-09-25T04:12:37.48389Z",
          "iopub.status.idle": "2021-09-25T04:12:37.489854Z",
          "shell.execute_reply": "2021-09-25T04:12:37.489215Z",
          "shell.execute_reply.started": "2021-09-25T04:12:37.484423Z"
        },
        "id": "B30jmnUPlVdH",
        "trusted": true
      },
      "outputs": [],
      "source": [
        "@cuda.jit\n",
        "def row_sums(a, sums, n):\n",
        "    idx = cuda.grid(1)\n",
        "    sum = 0.0\n",
        "\n",
        "    for i in range(n):\n",
        "        # Each thread will sum a row of `a`\n",
        "        sum += a[idx][i]\n",
        "\n",
        "    sums[idx] = sum"
      ]
    },
    {
      "cell_type": "markdown",
      "metadata": {
        "id": "gEsuHaCSlVdH"
      },
      "source": [
        "**Row Sums Performance**"
      ]
    },
    {
      "cell_type": "code",
      "execution_count": null,
      "metadata": {
        "execution": {
          "iopub.execute_input": "2021-09-25T04:12:37.491758Z",
          "iopub.status.busy": "2021-09-25T04:12:37.491314Z",
          "iopub.status.idle": "2021-09-25T04:12:37.820476Z",
          "shell.execute_reply": "2021-09-25T04:12:37.819145Z",
          "shell.execute_reply.started": "2021-09-25T04:12:37.491723Z"
        },
        "id": "TOihwPt0lVdH",
        "trusted": true
      },
      "outputs": [],
      "source": [
        "%timeit row_sums[blocks, threads_per_block](d_a, d_sums, n); cuda.synchronize()"
      ]
    },
    {
      "cell_type": "markdown",
      "metadata": {
        "id": "wefd0gTNlVdI"
      },
      "source": [
        "**Check for Correctness**"
      ]
    },
    {
      "cell_type": "code",
      "execution_count": null,
      "metadata": {
        "execution": {
          "iopub.execute_input": "2021-09-25T04:12:37.822074Z",
          "iopub.status.busy": "2021-09-25T04:12:37.821835Z",
          "iopub.status.idle": "2021-09-25T04:12:37.922423Z",
          "shell.execute_reply": "2021-09-25T04:12:37.921783Z",
          "shell.execute_reply.started": "2021-09-25T04:12:37.822041Z"
        },
        "id": "e1jlTAX6lVdI",
        "trusted": true
      },
      "outputs": [],
      "source": [
        "result = d_sums.copy_to_host()\n",
        "truth = a.sum(axis=1)"
      ]
    },
    {
      "cell_type": "code",
      "execution_count": null,
      "metadata": {
        "execution": {
          "iopub.execute_input": "2021-09-25T04:12:37.923975Z",
          "iopub.status.busy": "2021-09-25T04:12:37.923717Z",
          "iopub.status.idle": "2021-09-25T04:12:37.929723Z",
          "shell.execute_reply": "2021-09-25T04:12:37.929044Z",
          "shell.execute_reply.started": "2021-09-25T04:12:37.923941Z"
        },
        "id": "H7CtEm4FlVdI",
        "trusted": true
      },
      "outputs": [],
      "source": [
        "np.array_equal(truth, result)"
      ]
    },
    {
      "cell_type": "markdown",
      "metadata": {
        "id": "q8qJD72glVdI"
      },
      "source": [
        "### Column Sums"
      ]
    },
    {
      "cell_type": "markdown",
      "metadata": {
        "id": "koWcIEa7lVdJ"
      },
      "source": [
        "**Imports**"
      ]
    },
    {
      "cell_type": "code",
      "execution_count": null,
      "metadata": {
        "execution": {
          "iopub.execute_input": "2021-09-25T04:12:37.931712Z",
          "iopub.status.busy": "2021-09-25T04:12:37.931274Z",
          "iopub.status.idle": "2021-09-25T04:12:37.938921Z",
          "shell.execute_reply": "2021-09-25T04:12:37.938185Z",
          "shell.execute_reply.started": "2021-09-25T04:12:37.931679Z"
        },
        "id": "BRZNCRM2lVdJ",
        "trusted": true
      },
      "outputs": [],
      "source": [
        "import numpy as np\n",
        "from numba import cuda"
      ]
    },
    {
      "cell_type": "markdown",
      "metadata": {
        "id": "xmuudN4elVdJ"
      },
      "source": [
        "**Data Creation**"
      ]
    },
    {
      "cell_type": "markdown",
      "metadata": {
        "id": "BRXBirerlVdK"
      },
      "source": [
        "In this cell we create an input matrix, as well as a vector for storing the solution, and transfer each of them to the device. We also define the grid and block dimensions to be used when we launch the kernel below. We set an arbitrary column of data to some arbitrary value to facilitate checking for correctness below."
      ]
    },
    {
      "cell_type": "code",
      "execution_count": null,
      "metadata": {
        "execution": {
          "iopub.execute_input": "2021-09-25T04:12:37.942008Z",
          "iopub.status.busy": "2021-09-25T04:12:37.941785Z",
          "iopub.status.idle": "2021-09-25T04:12:39.071143Z",
          "shell.execute_reply": "2021-09-25T04:12:39.070416Z",
          "shell.execute_reply.started": "2021-09-25T04:12:37.941965Z"
        },
        "id": "XQrukZL-lVdK",
        "trusted": true
      },
      "outputs": [],
      "source": [
        "n = 16384 # matrix side size\n",
        "threads_per_block = 256\n",
        "blocks = int(n / threads_per_block)\n",
        "\n",
        "a = np.ones(n*n).reshape(n, n).astype(np.float32)\n",
        "# Here we set an arbitrary column to an arbitrary value to facilitate a check for correctness below.\n",
        "a[:, 3] = 9\n",
        "sums = np.zeros(n).astype(np.float32)\n",
        "\n",
        "d_a = cuda.to_device(a)\n",
        "d_sums = cuda.to_device(sums)"
      ]
    },
    {
      "cell_type": "markdown",
      "metadata": {
        "id": "JBSlPJsblVdL"
      },
      "source": [
        "** Kernel Definition**"
      ]
    },
    {
      "cell_type": "markdown",
      "metadata": {
        "id": "WQHpMOKvlVdL"
      },
      "source": [
        "`col_sums` will use each thread to iterate over a column of data, summing it, and then store its column sum in `sums`."
      ]
    },
    {
      "cell_type": "code",
      "execution_count": null,
      "metadata": {
        "id": "Fqtod3l8lVdL"
      },
      "outputs": [],
      "source": [
        "@cuda.jit\n",
        "def col_sums(a, sums, ds):\n",
        "    # TODO: Write this kernel to store the sum of each column in matrix `a` to the `sums` vector.\n",
        "    idx = cuda.grid(1)\n",
        "    sum = 0.0\n",
        "\n",
        "    for i in range(ds):\n",
        "        # Each thread will sum a row of `a`\n",
        "        sum += a[i][idx]\n",
        "\n",
        "    sums[idx] = sum"
      ]
    },
    {
      "cell_type": "markdown",
      "metadata": {
        "id": "Bb0ghpEvlVdM"
      },
      "source": [
        "**Check Performance**"
      ]
    },
    {
      "cell_type": "markdown",
      "metadata": {
        "id": "wDgi0LELlVdM"
      },
      "source": [
        "Assuming you have written `col_sums` to use coalesced access patterns, you should see a significant (almost 2x) speed up compared to the uncoalesced `row_sums` you ran above:"
      ]
    },
    {
      "cell_type": "code",
      "execution_count": null,
      "metadata": {
        "execution": {
          "iopub.execute_input": "2021-09-25T04:12:39.080712Z",
          "iopub.status.busy": "2021-09-25T04:12:39.080404Z",
          "iopub.status.idle": "2021-09-25T04:12:46.027192Z",
          "shell.execute_reply": "2021-09-25T04:12:46.025809Z",
          "shell.execute_reply.started": "2021-09-25T04:12:39.080679Z"
        },
        "id": "jNbYVLhslVdM",
        "scrolled": true,
        "trusted": true
      },
      "outputs": [],
      "source": [
        "%timeit col_sums[blocks, threads_per_block](d_a, d_sums, n); cuda.synchronize()"
      ]
    },
    {
      "cell_type": "markdown",
      "metadata": {
        "id": "qa24VMnmlVdN"
      },
      "source": [
        "**Check Correctness**"
      ]
    },
    {
      "cell_type": "markdown",
      "metadata": {
        "id": "-znLkexWlVdN"
      },
      "source": [
        "Confirm your kernel is working as expected."
      ]
    },
    {
      "cell_type": "code",
      "execution_count": null,
      "metadata": {
        "execution": {
          "iopub.execute_input": "2021-09-25T04:12:46.028941Z",
          "iopub.status.busy": "2021-09-25T04:12:46.028525Z",
          "iopub.status.idle": "2021-09-25T04:12:46.138177Z",
          "shell.execute_reply": "2021-09-25T04:12:46.137504Z",
          "shell.execute_reply.started": "2021-09-25T04:12:46.028905Z"
        },
        "id": "DTaVkaG9lVdN",
        "trusted": true
      },
      "outputs": [],
      "source": [
        "result = d_sums.copy_to_host()\n",
        "truth = a.sum(axis=0)"
      ]
    },
    {
      "cell_type": "code",
      "execution_count": null,
      "metadata": {
        "execution": {
          "iopub.execute_input": "2021-09-25T04:12:46.139752Z",
          "iopub.status.busy": "2021-09-25T04:12:46.139504Z",
          "iopub.status.idle": "2021-09-25T04:12:46.145906Z",
          "shell.execute_reply": "2021-09-25T04:12:46.145052Z",
          "shell.execute_reply.started": "2021-09-25T04:12:46.139721Z"
        },
        "id": "xEcvot-mlVdO",
        "scrolled": true,
        "trusted": true
      },
      "outputs": [],
      "source": [
        "np.array_equal(truth, result)"
      ]
    },
    {
      "cell_type": "markdown",
      "metadata": {
        "id": "msOd1HpPlVdO"
      },
      "source": [
        "## 2 and 3 Dimensional Blocks and Grids"
      ]
    },
    {
      "cell_type": "markdown",
      "metadata": {
        "id": "XUdE8uxWlVdP"
      },
      "source": [
        "Both grids and blocks can be configured to contain a 2 or 3 dimensional collection of blocks or threads, respectively. This is done mostly as a matter of convenience for programmers who often work with 2 or 3 dimensional datasets. Here is a very trivial example to highlight the syntax. You may need to read *both* the kernel definition and its launch before the concept makes sense."
      ]
    },
    {
      "cell_type": "code",
      "execution_count": null,
      "metadata": {
        "execution": {
          "iopub.execute_input": "2021-09-25T04:12:46.14771Z",
          "iopub.status.busy": "2021-09-25T04:12:46.147419Z",
          "iopub.status.idle": "2021-09-25T04:12:46.154923Z",
          "shell.execute_reply": "2021-09-25T04:12:46.154276Z",
          "shell.execute_reply.started": "2021-09-25T04:12:46.147652Z"
        },
        "id": "SlNNU6ktlVdP",
        "trusted": true
      },
      "outputs": [],
      "source": [
        "import numpy as np\n",
        "from numba import cuda"
      ]
    },
    {
      "cell_type": "code",
      "execution_count": null,
      "metadata": {
        "execution": {
          "iopub.execute_input": "2021-09-25T04:12:46.156639Z",
          "iopub.status.busy": "2021-09-25T04:12:46.156385Z",
          "iopub.status.idle": "2021-09-25T04:12:46.16445Z",
          "shell.execute_reply": "2021-09-25T04:12:46.163759Z",
          "shell.execute_reply.started": "2021-09-25T04:12:46.156609Z"
        },
        "id": "OhTZXi8WlVdP",
        "trusted": true
      },
      "outputs": [],
      "source": [
        "A = np.zeros((4,4)) # A 4x4 Matrix of 0's\n",
        "d_A = cuda.to_device(A)\n",
        "\n",
        "# Here we create a 2D grid with 4 blocks in a 2x2 structure, each with 4 threads in a 2x2 structure\n",
        "# by using a Python tuple to signify grid and block dimensions.\n",
        "blocks = (2, 2)\n",
        "threads_per_block = (2, 2)"
      ]
    },
    {
      "cell_type": "markdown",
      "metadata": {
        "id": "NPSbf1fglVdP"
      },
      "source": [
        "This kernel will take an input matrix of 0s and write to each of its elements, its (x,y) coordinates within the grid in the format of `X.Y`:"
      ]
    },
    {
      "cell_type": "code",
      "execution_count": null,
      "metadata": {
        "execution": {
          "iopub.execute_input": "2021-09-25T04:12:46.16603Z",
          "iopub.status.busy": "2021-09-25T04:12:46.165839Z",
          "iopub.status.idle": "2021-09-25T04:12:46.173522Z",
          "shell.execute_reply": "2021-09-25T04:12:46.172842Z",
          "shell.execute_reply.started": "2021-09-25T04:12:46.166004Z"
        },
        "id": "c4rwBRfmlVdQ",
        "trusted": true
      },
      "outputs": [],
      "source": [
        "@cuda.jit\n",
        "def get_2D_indices(A):\n",
        "    # By passing `2`, we get the thread's unique x and y coordinates in the 2D grid\n",
        "    x, y = cuda.grid(2)\n",
        "    # The above is equivalent to the following 2 lines of code:\n",
        "    # x = cuda.blockIdx.x * cuda.blockDim.x + cuda.threadIdx.x\n",
        "    # y = cuda.blockIdx.y * cuda.blockDim.y + cuda.threadIdx.y\n",
        "\n",
        "    # Write the x index followed by a decimal and the y index.\n",
        "    A[x][y] = x + y / 10"
      ]
    },
    {
      "cell_type": "code",
      "execution_count": null,
      "metadata": {
        "execution": {
          "iopub.execute_input": "2021-09-25T04:12:46.175069Z",
          "iopub.status.busy": "2021-09-25T04:12:46.174696Z",
          "iopub.status.idle": "2021-09-25T04:12:46.315266Z",
          "shell.execute_reply": "2021-09-25T04:12:46.314459Z",
          "shell.execute_reply.started": "2021-09-25T04:12:46.175034Z"
        },
        "id": "3x9z7lbylVdQ",
        "trusted": true
      },
      "outputs": [],
      "source": [
        "get_2D_indices[blocks, threads_per_block](d_A)"
      ]
    },
    {
      "cell_type": "code",
      "execution_count": null,
      "metadata": {
        "execution": {
          "iopub.execute_input": "2021-09-25T04:12:46.317556Z",
          "iopub.status.busy": "2021-09-25T04:12:46.317079Z",
          "iopub.status.idle": "2021-09-25T04:12:46.324308Z",
          "shell.execute_reply": "2021-09-25T04:12:46.32351Z",
          "shell.execute_reply.started": "2021-09-25T04:12:46.317522Z"
        },
        "id": "n45XU8ublVdQ",
        "trusted": true
      },
      "outputs": [],
      "source": [
        "result = d_A.copy_to_host()\n",
        "result"
      ]
    },
    {
      "cell_type": "markdown",
      "metadata": {
        "id": "PmXr-aj-lVdR"
      },
      "source": [
        "## Exercise: Coalesced 2-Dimensional Matrix Add"
      ]
    },
    {
      "cell_type": "markdown",
      "metadata": {
        "id": "jmAwXk9FlVdR"
      },
      "source": [
        "### Imports"
      ]
    },
    {
      "cell_type": "code",
      "execution_count": null,
      "metadata": {
        "execution": {
          "iopub.execute_input": "2021-09-25T04:12:46.330149Z",
          "iopub.status.busy": "2021-09-25T04:12:46.329953Z",
          "iopub.status.idle": "2021-09-25T04:12:46.334112Z",
          "shell.execute_reply": "2021-09-25T04:12:46.333348Z",
          "shell.execute_reply.started": "2021-09-25T04:12:46.330127Z"
        },
        "id": "R3tdezDelVdR",
        "trusted": true
      },
      "outputs": [],
      "source": [
        "import numpy as np\n",
        "from numba import cuda"
      ]
    },
    {
      "cell_type": "markdown",
      "metadata": {
        "id": "ZyM4QWkflVdR"
      },
      "source": [
        "### Data Creation"
      ]
    },
    {
      "cell_type": "markdown",
      "metadata": {
        "id": "iTDVhIEHlVdR"
      },
      "source": [
        "In this cell we define 2048x2048 elmement input matrices `a` and `b`, as well as a 2048x2048 0-initialized output matrix. We copy these matrices to the device.\n",
        "\n",
        "We also define the 2-dimensional block and grid dimensions to be used below. Note that we are creating a grid with the same number of total threads as there are input and output elements, such that each thread in the grid will calculate the sum for a single element in the output matrix."
      ]
    },
    {
      "cell_type": "code",
      "execution_count": null,
      "metadata": {
        "execution": {
          "iopub.execute_input": "2021-09-25T04:12:46.335958Z",
          "iopub.status.busy": "2021-09-25T04:12:46.33546Z",
          "iopub.status.idle": "2021-09-25T04:12:46.394735Z",
          "shell.execute_reply": "2021-09-25T04:12:46.393964Z",
          "shell.execute_reply.started": "2021-09-25T04:12:46.335925Z"
        },
        "id": "SZZtI0UilVdS",
        "trusted": true
      },
      "outputs": [],
      "source": [
        "n = 2048*2048 # 4M\n",
        "\n",
        "# 2D blocks\n",
        "threads_per_block = (32, 32)\n",
        "# 2D grid\n",
        "blocks = (64, 64)\n",
        "\n",
        "# 2048x2048 input matrices\n",
        "a = np.arange(n).reshape(2048,2048).astype(np.float32)\n",
        "b = a.copy().astype(np.float32)\n",
        "\n",
        "# 2048x2048 0-initialized output matrix\n",
        "out = np.zeros_like(a).astype(np.float32)\n",
        "\n",
        "d_a = cuda.to_device(a)\n",
        "d_b = cuda.to_device(b)\n",
        "d_out = cuda.to_device(out)"
      ]
    },
    {
      "cell_type": "markdown",
      "metadata": {
        "id": "Nf3Ft6kKlVdS"
      },
      "source": [
        "### 2D Matrix Add"
      ]
    },
    {
      "cell_type": "markdown",
      "metadata": {
        "id": "EJFRIi3ylVdT"
      },
      "source": [
        "Your job is to complete the TODOs in `matrix_add` to correctly sum `a` and `b` into `out`. As a challenge to your understanding of coalesced access patterns, `matrix_add` will accept a `coalesced` boolean indicating whether the access patterns should be coalesced or not. Both modes (coalesced and uncoalesced) should produce correct results, however, you should observe significant speedups below when running with `coalesced` set to `True`.\n",
        "\n"
      ]
    },
    {
      "cell_type": "code",
      "execution_count": null,
      "metadata": {
        "execution": {
          "iopub.execute_input": "2021-09-25T04:12:46.396293Z",
          "iopub.status.busy": "2021-09-25T04:12:46.395916Z",
          "iopub.status.idle": "2021-09-25T04:12:46.40316Z",
          "shell.execute_reply": "2021-09-25T04:12:46.402195Z",
          "shell.execute_reply.started": "2021-09-25T04:12:46.396243Z"
        },
        "id": "TqgZIR75lVdT",
        "trusted": true
      },
      "outputs": [],
      "source": [
        "@cuda.jit\n",
        "def matrix_add(a, b, out, coalesced):\n",
        "    # TODO: set x and y to index correctly such that each thread\n",
        "    # accesses one element in the data.\n",
        "    x, y = cuda.grid(2)\n",
        "\n",
        "    if coalesced == True:\n",
        "        # TODO: write the sum of one element in `a` and `b` to `out`\n",
        "        out[y][x] = a[y][x] + b[y][x]\n",
        "    else:\n",
        "        out[x][y] = a[x][y] + b[x][y]   # TODO: write the sum of one element in `a` and `b` to `out`\n",
        "                                        # using an uncoalesced memory access pattern."
      ]
    },
    {
      "cell_type": "markdown",
      "metadata": {
        "id": "5f9FeqpRlVdT"
      },
      "source": [
        "### Check Performance"
      ]
    },
    {
      "cell_type": "markdown",
      "metadata": {
        "id": "a4sdMsivlVdT"
      },
      "source": [
        "Run both cells below to launch `matrix_add` with both the coalesced and uncoalesced access patterns you wrote into it, and observe the performance difference. Additional cells have been provided to confirm the correctness of your kernel."
      ]
    },
    {
      "cell_type": "markdown",
      "metadata": {
        "id": "OcHafJ-glVdU"
      },
      "source": [
        "**Coalesced**"
      ]
    },
    {
      "cell_type": "code",
      "execution_count": null,
      "metadata": {
        "execution": {
          "iopub.execute_input": "2021-09-25T04:12:46.404686Z",
          "iopub.status.busy": "2021-09-25T04:12:46.404405Z",
          "iopub.status.idle": "2021-09-25T04:12:55.552322Z",
          "shell.execute_reply": "2021-09-25T04:12:55.551592Z",
          "shell.execute_reply.started": "2021-09-25T04:12:46.404654Z"
        },
        "id": "iDSal6RGlVdV",
        "trusted": true
      },
      "outputs": [],
      "source": [
        "%timeit matrix_add[blocks, threads_per_block](d_a, d_b, d_out, True); cuda.synchronize"
      ]
    },
    {
      "cell_type": "code",
      "execution_count": null,
      "metadata": {
        "execution": {
          "iopub.execute_input": "2021-09-25T04:12:55.553886Z",
          "iopub.status.busy": "2021-09-25T04:12:55.55361Z",
          "iopub.status.idle": "2021-09-25T04:12:55.677402Z",
          "shell.execute_reply": "2021-09-25T04:12:55.676645Z",
          "shell.execute_reply.started": "2021-09-25T04:12:55.553851Z"
        },
        "id": "_1nuvjSAlVdV",
        "trusted": true
      },
      "outputs": [],
      "source": [
        "result = d_out.copy_to_host()\n",
        "truth = a+b"
      ]
    },
    {
      "cell_type": "code",
      "execution_count": null,
      "metadata": {
        "execution": {
          "iopub.execute_input": "2021-09-25T04:12:55.679159Z",
          "iopub.status.busy": "2021-09-25T04:12:55.678659Z",
          "iopub.status.idle": "2021-09-25T04:12:55.688638Z",
          "shell.execute_reply": "2021-09-25T04:12:55.68773Z",
          "shell.execute_reply.started": "2021-09-25T04:12:55.679116Z"
        },
        "id": "FDdWwo7QlVdV",
        "trusted": true
      },
      "outputs": [],
      "source": [
        "np.array_equal(result, truth)"
      ]
    },
    {
      "cell_type": "markdown",
      "metadata": {
        "id": "Kti7CIBzlVdV"
      },
      "source": [
        "**Uncoalesced**"
      ]
    },
    {
      "cell_type": "code",
      "execution_count": null,
      "metadata": {
        "execution": {
          "iopub.execute_input": "2021-09-25T04:12:55.690632Z",
          "iopub.status.busy": "2021-09-25T04:12:55.690237Z",
          "iopub.status.idle": "2021-09-25T04:13:17.640398Z",
          "shell.execute_reply": "2021-09-25T04:13:17.639627Z",
          "shell.execute_reply.started": "2021-09-25T04:12:55.69054Z"
        },
        "id": "aDD7RahMlVdW",
        "trusted": true
      },
      "outputs": [],
      "source": [
        "%timeit matrix_add[blocks, threads_per_block](d_a, d_b, d_out, False); cuda.synchronize"
      ]
    },
    {
      "cell_type": "code",
      "execution_count": null,
      "metadata": {
        "execution": {
          "iopub.execute_input": "2021-09-25T04:13:17.642046Z",
          "iopub.status.busy": "2021-09-25T04:13:17.641508Z",
          "iopub.status.idle": "2021-09-25T04:13:17.930892Z",
          "shell.execute_reply": "2021-09-25T04:13:17.930294Z",
          "shell.execute_reply.started": "2021-09-25T04:13:17.642008Z"
        },
        "id": "09_-88W7lVdW",
        "trusted": true
      },
      "outputs": [],
      "source": [
        "result = d_out.copy_to_host()\n",
        "truth = a+b"
      ]
    },
    {
      "cell_type": "code",
      "execution_count": null,
      "metadata": {
        "execution": {
          "iopub.execute_input": "2021-09-25T04:13:17.932278Z",
          "iopub.status.busy": "2021-09-25T04:13:17.931944Z",
          "iopub.status.idle": "2021-09-25T04:13:17.942627Z",
          "shell.execute_reply": "2021-09-25T04:13:17.941782Z",
          "shell.execute_reply.started": "2021-09-25T04:13:17.932232Z"
        },
        "id": "PmuycQAplVdX",
        "trusted": true
      },
      "outputs": [],
      "source": [
        "np.array_equal(result, truth)"
      ]
    },
    {
      "cell_type": "markdown",
      "metadata": {
        "id": "pniavKKrlVdX"
      },
      "source": [
        "## Shared Memory"
      ]
    },
    {
      "cell_type": "markdown",
      "metadata": {
        "id": "wHOXtWdOlVdX"
      },
      "source": [
        "So far we have been differentiating between host and device memory, as if device memory were a single kind of memory. But in fact, CUDA has an even more fine-grained [memory hierarchy](https://docs.nvidia.com/cuda/cuda-c-programming-guide/index.html#memory-hierarchy). The device memory we have been utilizing thus far is called **global memory** which is available to any thread or block on the device, can persist for the lifetime of the application, and is a relatively large memory space.\n",
        "\n",
        "We will now discuss how to utilize a region of on-chip device memory called **shared memory**. Shared memory is a programmer defined cache of limited size that [depends on the GPU](https://docs.nvidia.com/cuda/cuda-c-programming-guide/index.html#compute-capabilities) being used and is **shared** between all threads in a block. It is a scarce resource, cannot be accessed by threads outside of the block where it was allocated, and does not persist after a kernel finishes executing. Shared memory however has a much higher bandwidth than global memory and can be used to great effect in many kernels, especially to optimize performance.\n",
        "\n",
        "Here are a few common use cases for shared memory:\n",
        "\n",
        " * Caching memory read from global memory that will need to be read multiple times within a block.\n",
        " * Buffering output from threads so it can be coalesced before writing it back to global memory.\n",
        " * Staging data for scatter/gather operations within a block."
      ]
    },
    {
      "cell_type": "markdown",
      "metadata": {
        "id": "_d8mUFyJlVdX"
      },
      "source": [
        "### Shared Memory Syntax"
      ]
    },
    {
      "cell_type": "markdown",
      "metadata": {
        "id": "WrMYoJ0ElVdY"
      },
      "source": [
        "Numba provides [functions](https://numba.pydata.org/numba-doc/dev/cuda/memory.html#shared-memory-and-thread-synchronization) for allocating shared memory as well as for synchronizing between threads in a block, which is often necessary after parallel threads read from or write to shared memory.\n",
        "\n",
        "When declaring shared memory, you provide the shape of the shared array, as well as its type, using a [Numba type](https://numba.pydata.org/numba-doc/dev/reference/types.html#numba-types). **The shape of the array must be a constant value**, and therefore, you cannot use arguments passed into the function, or, provided variables like `numba.cuda.blockDim.x`, or the calculated values of `cuda.griddim`. Here is a convoluted example to demonstrate the syntax with comments pointing out the movement from host memory to global device memory, to shared memory, back to global device memory, and finally back to host memory:"
      ]
    },
    {
      "cell_type": "markdown",
      "metadata": {
        "id": "CUTTXk4nlVdY"
      },
      "source": [
        "**Imports**"
      ]
    },
    {
      "cell_type": "markdown",
      "metadata": {
        "id": "QeI21UxvlVda"
      },
      "source": [
        "We will use `numba.types` to define the types of values in shared memory."
      ]
    },
    {
      "cell_type": "code",
      "execution_count": null,
      "metadata": {
        "execution": {
          "iopub.execute_input": "2021-09-25T04:13:17.94431Z",
          "iopub.status.busy": "2021-09-25T04:13:17.944017Z",
          "iopub.status.idle": "2021-09-25T04:13:17.948271Z",
          "shell.execute_reply": "2021-09-25T04:13:17.947211Z",
          "shell.execute_reply.started": "2021-09-25T04:13:17.944231Z"
        },
        "id": "9Nbov0o8lVda",
        "trusted": true
      },
      "outputs": [],
      "source": [
        "import numpy as np\n",
        "from numba import types, cuda"
      ]
    },
    {
      "cell_type": "markdown",
      "metadata": {
        "id": "cg0o4Vc2lVda"
      },
      "source": [
        "**Swap Elements Using Shared Memory**"
      ]
    },
    {
      "cell_type": "markdown",
      "metadata": {
        "id": "UbQQ22G-lVda"
      },
      "source": [
        "The following kernel takes an input vector, where each thread will first write one element of the vector to shared memory, and then, after syncing such that all elements have been written to shared memory, will write one element out of shared memory into the swapped output vector.\n",
        "\n",
        "Worth noting is that each thread will be writing a swapped value from shared memory that was written into shared memory by another thread."
      ]
    },
    {
      "cell_type": "code",
      "execution_count": null,
      "metadata": {
        "execution": {
          "iopub.execute_input": "2021-09-25T04:13:17.949862Z",
          "iopub.status.busy": "2021-09-25T04:13:17.949491Z",
          "iopub.status.idle": "2021-09-25T04:13:17.958359Z",
          "shell.execute_reply": "2021-09-25T04:13:17.957614Z",
          "shell.execute_reply.started": "2021-09-25T04:13:17.94983Z"
        },
        "id": "g2KjhQ5SlVdb",
        "trusted": true
      },
      "outputs": [],
      "source": [
        "@cuda.jit\n",
        "def swap_with_shared(vector, swapped):\n",
        "    # Allocate a 4 element vector containing int32 values in shared memory.\n",
        "    temp = cuda.shared.array(4, dtype=types.int32)\n",
        "\n",
        "    idx = cuda.grid(1)\n",
        "\n",
        "    # Move an element from global memory into shared memory\n",
        "    temp[idx] = vector[idx]\n",
        "\n",
        "    # cuda.syncthreads will force all threads in the block to synchronize here, which is necessary because...\n",
        "    cuda.syncthreads()\n",
        "    #...the following operation is reading an element written to shared memory by another thread.\n",
        "\n",
        "    # Move an element from shared memory back into global memory\n",
        "    swapped[idx] = temp[3 - cuda.threadIdx.x] # swap elements"
      ]
    },
    {
      "cell_type": "markdown",
      "metadata": {
        "id": "NPiuXUfUlVdb"
      },
      "source": [
        "**Data Creation**"
      ]
    },
    {
      "cell_type": "code",
      "execution_count": null,
      "metadata": {
        "execution": {
          "iopub.execute_input": "2021-09-25T04:13:17.959953Z",
          "iopub.status.busy": "2021-09-25T04:13:17.959701Z",
          "iopub.status.idle": "2021-09-25T04:13:17.969Z",
          "shell.execute_reply": "2021-09-25T04:13:17.968313Z",
          "shell.execute_reply.started": "2021-09-25T04:13:17.959924Z"
        },
        "id": "jADe_eDPlVdb",
        "trusted": true
      },
      "outputs": [],
      "source": [
        "vector = np.arange(4).astype(np.int32)\n",
        "swapped = np.zeros_like(vector)\n",
        "\n",
        "# Move host memory to device (global) memory\n",
        "d_vector = cuda.to_device(vector)\n",
        "d_swapped = cuda.to_device(swapped)"
      ]
    },
    {
      "cell_type": "code",
      "execution_count": null,
      "metadata": {
        "execution": {
          "iopub.execute_input": "2021-09-25T04:13:17.970526Z",
          "iopub.status.busy": "2021-09-25T04:13:17.970182Z",
          "iopub.status.idle": "2021-09-25T04:13:17.983479Z",
          "shell.execute_reply": "2021-09-25T04:13:17.982851Z",
          "shell.execute_reply.started": "2021-09-25T04:13:17.970422Z"
        },
        "id": "DUzPE2D3lVdc",
        "scrolled": true,
        "trusted": true
      },
      "outputs": [],
      "source": [
        "vector"
      ]
    },
    {
      "cell_type": "markdown",
      "metadata": {
        "id": "_mhNSpK7lVdc"
      },
      "source": [
        "** Run Kernel**"
      ]
    },
    {
      "cell_type": "code",
      "execution_count": null,
      "metadata": {
        "execution": {
          "iopub.execute_input": "2021-09-25T04:13:17.984952Z",
          "iopub.status.busy": "2021-09-25T04:13:17.984699Z",
          "iopub.status.idle": "2021-09-25T04:13:18.232631Z",
          "shell.execute_reply": "2021-09-25T04:13:18.231917Z",
          "shell.execute_reply.started": "2021-09-25T04:13:17.98492Z"
        },
        "id": "_9G6dwQ8lVdc",
        "trusted": true
      },
      "outputs": [],
      "source": [
        "swap_with_shared[1, 4](d_vector, d_swapped)"
      ]
    },
    {
      "cell_type": "markdown",
      "metadata": {
        "id": "WYhb251blVdd"
      },
      "source": [
        "**Check Results**"
      ]
    },
    {
      "cell_type": "code",
      "execution_count": null,
      "metadata": {
        "execution": {
          "iopub.execute_input": "2021-09-25T04:13:18.235403Z",
          "iopub.status.busy": "2021-09-25T04:13:18.234871Z",
          "iopub.status.idle": "2021-09-25T04:13:18.242739Z",
          "shell.execute_reply": "2021-09-25T04:13:18.241737Z",
          "shell.execute_reply.started": "2021-09-25T04:13:18.235365Z"
        },
        "id": "M48SCEPElVdd",
        "trusted": true
      },
      "outputs": [],
      "source": [
        "# Move device (global) memory back to the host\n",
        "result = d_swapped.copy_to_host()\n",
        "result"
      ]
    },
    {
      "cell_type": "markdown",
      "metadata": {
        "id": "cmqSpR3WlVdd"
      },
      "source": [
        "## Presentation: Shared Memory for Memory Coalescing"
      ]
    },
    {
      "cell_type": "markdown",
      "metadata": {
        "id": "NC9_HjaolVdd"
      },
      "source": [
        "Execute the following cell to load the slides, then click on \"Start Slide Show\" to make them full screen."
      ]
    },
    {
      "cell_type": "code",
      "execution_count": null,
      "metadata": {
        "execution": {
          "iopub.execute_input": "2021-09-25T04:13:18.244617Z",
          "iopub.status.busy": "2021-09-25T04:13:18.244358Z",
          "iopub.status.idle": "2021-09-25T04:13:18.251219Z",
          "shell.execute_reply": "2021-09-25T04:13:18.250319Z",
          "shell.execute_reply.started": "2021-09-25T04:13:18.244586Z"
        },
        "id": "7KJpWmHWlVdd",
        "trusted": true
      },
      "outputs": [],
      "source": [
        "from IPython.display import IFrame\n",
        "IFrame('https://view.officeapps.live.com/op/view.aspx?src=https://developer.download.nvidia.com/training/courses/C-AC-02-V1/shared_coalescing.pptx', 800, 450)"
      ]
    },
    {
      "cell_type": "markdown",
      "metadata": {
        "id": "tjEvH1OQlVdd"
      },
      "source": [
        "## Excercise: Used Shared Memory for Coalesced Reads and Writes With Matrix Transpose"
      ]
    },
    {
      "cell_type": "markdown",
      "metadata": {
        "id": "9UNSATqtlVde"
      },
      "source": [
        "In this exercise you will implement what was just demonstrated in the presentation by writing a matrix transpose kernel which, using shared memory, makes coalesced reads and writes to the output matrix in global memory."
      ]
    },
    {
      "cell_type": "markdown",
      "metadata": {
        "id": "cvxcoOCElVde"
      },
      "source": [
        "### Coalesced Reads, Uncoalesced Writes"
      ]
    },
    {
      "cell_type": "markdown",
      "metadata": {
        "id": "n1JQSlTPlVde"
      },
      "source": [
        "As reference, and for performance comparison, here is a naive matrix transpose kernel that makes coalesced reads from input, but uncoalesced writes to output."
      ]
    },
    {
      "cell_type": "markdown",
      "metadata": {
        "id": "cNSwPtn1lVde"
      },
      "source": [
        "**Imports**"
      ]
    },
    {
      "cell_type": "code",
      "execution_count": 7,
      "metadata": {
        "execution": {
          "iopub.execute_input": "2021-09-25T04:13:18.25322Z",
          "iopub.status.busy": "2021-09-25T04:13:18.252819Z",
          "iopub.status.idle": "2021-09-25T04:13:18.25911Z",
          "shell.execute_reply": "2021-09-25T04:13:18.258376Z",
          "shell.execute_reply.started": "2021-09-25T04:13:18.253185Z"
        },
        "id": "BfZqSc4vlVde",
        "trusted": true
      },
      "outputs": [],
      "source": [
        "from numba import cuda\n",
        "import numpy as np"
      ]
    },
    {
      "cell_type": "markdown",
      "metadata": {
        "id": "lKXb9IbflVdf"
      },
      "source": [
        "**Data Creation**"
      ]
    },
    {
      "cell_type": "markdown",
      "metadata": {
        "id": "c9wYJO3zlVdf"
      },
      "source": [
        "Here we create a 4096x4096 input matrix `a` as well as a 4096x4096 output matrix `transposed`, and copy them to the device.\n",
        "\n",
        "We also define a 2-dimensional grid with 2-dimensional blocks to be used below. Note that we have created a grid with a total number of threads equal to the number of elments in the input matrix."
      ]
    },
    {
      "cell_type": "code",
      "execution_count": 8,
      "metadata": {
        "execution": {
          "iopub.execute_input": "2021-09-25T04:13:18.261006Z",
          "iopub.status.busy": "2021-09-25T04:13:18.26052Z",
          "iopub.status.idle": "2021-09-25T04:13:18.398959Z",
          "shell.execute_reply": "2021-09-25T04:13:18.398238Z",
          "shell.execute_reply.started": "2021-09-25T04:13:18.260973Z"
        },
        "id": "NReUmbXtlVdf",
        "trusted": true
      },
      "outputs": [],
      "source": [
        "n = 4096*4096 # 16M\n",
        "\n",
        "# 2D blocks\n",
        "threads_per_block = (32, 32)\n",
        "#2D grid\n",
        "blocks = (128, 128)\n",
        "\n",
        "# 4096x4096 input and output matrices\n",
        "a = np.arange(n).reshape((4096,4096)).astype(np.float32)\n",
        "transposed = np.zeros_like(a).astype(np.float32)\n",
        "\n",
        "d_a = cuda.to_device(a)\n",
        "d_transposed = cuda.to_device(transposed)"
      ]
    },
    {
      "cell_type": "markdown",
      "metadata": {
        "id": "F0OCEuEhlVdg"
      },
      "source": [
        "**Naive Matrix Transpose Kernel**"
      ]
    },
    {
      "cell_type": "markdown",
      "metadata": {
        "id": "aMajkN1ilVdg"
      },
      "source": [
        "This kernel correctly transposes `a`, writing the transposition to `transposed`. It makes reads from `a` in a coalesced fashion, however, its writes to `transposed` are uncoalesced."
      ]
    },
    {
      "cell_type": "code",
      "execution_count": 9,
      "metadata": {
        "execution": {
          "iopub.execute_input": "2021-09-25T04:13:18.400298Z",
          "iopub.status.busy": "2021-09-25T04:13:18.400036Z",
          "iopub.status.idle": "2021-09-25T04:13:18.404914Z",
          "shell.execute_reply": "2021-09-25T04:13:18.404196Z",
          "shell.execute_reply.started": "2021-09-25T04:13:18.400266Z"
        },
        "id": "aRxWMxsdlVdg",
        "trusted": true
      },
      "outputs": [],
      "source": [
        "@cuda.jit\n",
        "def transpose(a, transposed):\n",
        "    x, y = cuda.grid(2)\n",
        "\n",
        "    transposed[x][y] = a[y][x]"
      ]
    },
    {
      "cell_type": "markdown",
      "metadata": {
        "id": "Q1PziUaClVdh"
      },
      "source": [
        "**Check Performance**"
      ]
    },
    {
      "cell_type": "code",
      "execution_count": 54,
      "metadata": {
        "execution": {
          "iopub.execute_input": "2021-09-25T04:13:18.406739Z",
          "iopub.status.busy": "2021-09-25T04:13:18.405958Z",
          "iopub.status.idle": "2021-09-25T04:13:27.209944Z",
          "shell.execute_reply": "2021-09-25T04:13:27.20917Z",
          "shell.execute_reply.started": "2021-09-25T04:13:18.406704Z"
        },
        "id": "ysV5uH9elVdh",
        "trusted": true
      },
      "outputs": [
        {
          "name": "stdout",
          "output_type": "stream",
          "text": [
            "6.88 ms ± 11.2 µs per loop (mean ± std. dev. of 7 runs, 100 loops each)\n"
          ]
        }
      ],
      "source": [
        "%timeit transpose[blocks, threads_per_block](d_a, d_transposed); cuda.synchronize()"
      ]
    },
    {
      "cell_type": "markdown",
      "metadata": {
        "id": "Fo0Yqru-lVdh"
      },
      "source": [
        "**Check Correctness**"
      ]
    },
    {
      "cell_type": "code",
      "execution_count": 11,
      "metadata": {
        "execution": {
          "iopub.execute_input": "2021-09-25T04:13:27.211786Z",
          "iopub.status.busy": "2021-09-25T04:13:27.211353Z",
          "iopub.status.idle": "2021-09-25T04:13:27.242092Z",
          "shell.execute_reply": "2021-09-25T04:13:27.241486Z",
          "shell.execute_reply.started": "2021-09-25T04:13:27.21175Z"
        },
        "id": "hlgCcnRzlVdh",
        "trusted": true
      },
      "outputs": [],
      "source": [
        "result = d_transposed.copy_to_host()\n",
        "expected = a.T"
      ]
    },
    {
      "cell_type": "code",
      "execution_count": 12,
      "metadata": {
        "execution": {
          "iopub.execute_input": "2021-09-25T04:13:27.243597Z",
          "iopub.status.busy": "2021-09-25T04:13:27.243224Z",
          "iopub.status.idle": "2021-09-25T04:13:27.414433Z",
          "shell.execute_reply": "2021-09-25T04:13:27.413608Z",
          "shell.execute_reply.started": "2021-09-25T04:13:27.243565Z"
        },
        "id": "HJWkB2NwlVdi",
        "trusted": true
      },
      "outputs": [
        {
          "data": {
            "text/plain": [
              "True"
            ]
          },
          "execution_count": 12,
          "metadata": {},
          "output_type": "execute_result"
        }
      ],
      "source": [
        "np.array_equal(result, expected)"
      ]
    },
    {
      "cell_type": "markdown",
      "metadata": {
        "id": "2aRfaLCLlVdi"
      },
      "source": [
        "### Refactor for Coalesced Reads and Writes"
      ]
    },
    {
      "cell_type": "markdown",
      "metadata": {
        "id": "HVJ_FvMAlVdi"
      },
      "source": [
        "Your job will be to refactor the `transpose` kernel to use shared memory and make both reads to and writes from global memory in a coalesced fashion."
      ]
    },
    {
      "cell_type": "markdown",
      "metadata": {
        "id": "RiXM4uyUlVdi"
      },
      "source": [
        "**Imports**"
      ]
    },
    {
      "cell_type": "code",
      "execution_count": 13,
      "metadata": {
        "execution": {
          "iopub.execute_input": "2021-09-25T04:13:27.41613Z",
          "iopub.status.busy": "2021-09-25T04:13:27.415853Z",
          "iopub.status.idle": "2021-09-25T04:13:27.420245Z",
          "shell.execute_reply": "2021-09-25T04:13:27.419313Z",
          "shell.execute_reply.started": "2021-09-25T04:13:27.416097Z"
        },
        "id": "CPERvsYklVdj",
        "trusted": true
      },
      "outputs": [],
      "source": [
        "import numpy as np\n",
        "from numba import cuda, types as numba_types"
      ]
    },
    {
      "cell_type": "markdown",
      "metadata": {
        "id": "zvzGDgjOlVdj"
      },
      "source": [
        "**Data Creation**"
      ]
    },
    {
      "cell_type": "code",
      "execution_count": 14,
      "metadata": {
        "execution": {
          "iopub.execute_input": "2021-09-25T04:13:27.422159Z",
          "iopub.status.busy": "2021-09-25T04:13:27.421612Z",
          "iopub.status.idle": "2021-09-25T04:13:27.562025Z",
          "shell.execute_reply": "2021-09-25T04:13:27.561301Z",
          "shell.execute_reply.started": "2021-09-25T04:13:27.422127Z"
        },
        "id": "Fm6oVWd-lVdj",
        "trusted": true
      },
      "outputs": [],
      "source": [
        "n = 4096*4096 # 16M\n",
        "\n",
        "# 2D blocks\n",
        "threads_per_block = (32, 32)\n",
        "#2D grid\n",
        "blocks = (128, 128)\n",
        "\n",
        "# 4096x4096 input and output matrices\n",
        "a = np.arange(n).reshape((4096,4096)).astype(np.float32)\n",
        "transposed = np.zeros_like(a).astype(np.float32)\n",
        "\n",
        "d_a = cuda.to_device(a)\n",
        "d_transposed = cuda.to_device(transposed)"
      ]
    },
    {
      "cell_type": "markdown",
      "metadata": {
        "id": "UmfEUWCylVdk"
      },
      "source": [
        "**Write a Transpose Kernel that Uses Shared Memory**"
      ]
    },
    {
      "cell_type": "markdown",
      "metadata": {
        "id": "evUgqTXtlVdk"
      },
      "source": [
        "Complete the TODOs inside the `tile_transpose` kernel definition.\n",
        "\n",
        "If you get stuck, feel free to check out [the solution](../edit/solutions/tile_transpose_solution.py)."
      ]
    },
    {
      "cell_type": "code",
      "execution_count": 15,
      "metadata": {
        "execution": {
          "iopub.execute_input": "2021-09-25T04:13:27.563642Z",
          "iopub.status.busy": "2021-09-25T04:13:27.563382Z",
          "iopub.status.idle": "2021-09-25T04:13:27.571345Z",
          "shell.execute_reply": "2021-09-25T04:13:27.570666Z",
          "shell.execute_reply.started": "2021-09-25T04:13:27.563606Z"
        },
        "id": "Y_oCNMTqlVdk",
        "trusted": true
      },
      "outputs": [],
      "source": [
        "@cuda.jit\n",
        "def tile_transpose(a, transposed):\n",
        "    # `tile_transpose` assumes it is launched with a 32x32 block dimension,\n",
        "    # and that `a` is a multiple of these dimensions.\n",
        "\n",
        "    # 1) Create 32x32 shared memory array.\n",
        "\n",
        "    tile = cuda.shared.array((32, 32), numba_types.int32)\n",
        "\n",
        "\n",
        "    # Compute offsets into global input array. Recall for coalesced access we want to map threadIdx.x increments to\n",
        "    # the fastest changing index in the data, i.e. the column in our array.\n",
        "    # Note: `a_col` and `a_row` are already correct.\n",
        "    a_col = cuda.blockIdx.x * cuda.blockDim.x + cuda.threadIdx.x\n",
        "    a_row = cuda.blockIdx.y * cuda.blockDim.y + cuda.threadIdx.y\n",
        "\n",
        "    # 2) Make coalesced read from global memory (using grid indices)\n",
        "    # into shared memory array (using thread indices).\n",
        "\n",
        "    tile[cuda.threadIdx.y, cuda.threadIdx.x] = a[a_row, a_col]\n",
        "\n",
        "    # 3) Wait for all threads in the block to finish updating shared memory.\n",
        "\n",
        "    cuda.syncthreads()\n",
        "\n",
        "\n",
        "    # 4) Calculate transposed location for the shared memory array tile\n",
        "    # to be written back to global memory. Note that blockIdx.y*blockDim.y\n",
        "    # and blockIdx.x* blockDim.x are swapped (because we want to write to the\n",
        "    # transpose locations), but we want to keep access coalesced, so match up the\n",
        "    # threadIdx.x to the fastest changing index, i.e. the column./\n",
        "    # Note: `t_col` and `t_row` are already correct.\n",
        "    t_col = cuda.blockIdx.y * cuda.blockDim.y + cuda.threadIdx.x\n",
        "    t_row = cuda.blockIdx.x * cuda.blockDim.x + cuda.threadIdx.y\n",
        "\n",
        "    # 5) Write from shared memory (using thread indices)\n",
        "    # back to global memory (using grid indices)\n",
        "    # transposing each element within the shared memory array.\n",
        "\n",
        "    transposed[t_row, t_col] = tile[cuda.threadIdx.x, cuda.threadIdx.y]"
      ]
    },
    {
      "cell_type": "markdown",
      "metadata": {
        "id": "n3wt0E4olVdk"
      },
      "source": [
        "**Check Performance**"
      ]
    },
    {
      "cell_type": "markdown",
      "metadata": {
        "id": "ij4P9BLylVdk"
      },
      "source": [
        "Check the performance of your refactored transpose kernel. You should see a speedup compared to the baseline transpose performance above."
      ]
    },
    {
      "cell_type": "code",
      "execution_count": 52,
      "metadata": {
        "execution": {
          "iopub.execute_input": "2021-09-25T04:13:27.573169Z",
          "iopub.status.busy": "2021-09-25T04:13:27.572702Z",
          "iopub.status.idle": "2021-09-25T04:13:33.747547Z",
          "shell.execute_reply": "2021-09-25T04:13:33.746643Z",
          "shell.execute_reply.started": "2021-09-25T04:13:27.573112Z"
        },
        "id": "phQAoG7DlVdl",
        "trusted": true
      },
      "outputs": [
        {
          "name": "stdout",
          "output_type": "stream",
          "text": [
            "6.27 ms ± 14.9 µs per loop (mean ± std. dev. of 7 runs, 100 loops each)\n"
          ]
        }
      ],
      "source": [
        "%timeit tile_transpose[blocks, threads_per_block](d_a, d_transposed); cuda.synchronize()"
      ]
    },
    {
      "cell_type": "markdown",
      "metadata": {
        "id": "6E79UEVZlVdl"
      },
      "source": [
        "**Check Correctness**"
      ]
    },
    {
      "cell_type": "code",
      "execution_count": null,
      "metadata": {
        "execution": {
          "iopub.execute_input": "2021-09-25T04:13:33.749038Z",
          "iopub.status.busy": "2021-09-25T04:13:33.748781Z",
          "iopub.status.idle": "2021-09-25T04:13:33.780976Z",
          "shell.execute_reply": "2021-09-25T04:13:33.780345Z",
          "shell.execute_reply.started": "2021-09-25T04:13:33.748997Z"
        },
        "id": "b3mFvZvElVdm",
        "trusted": true
      },
      "outputs": [],
      "source": [
        "result = d_transposed.copy_to_host()\n",
        "expected = a.T"
      ]
    },
    {
      "cell_type": "code",
      "execution_count": null,
      "metadata": {
        "execution": {
          "iopub.execute_input": "2021-09-25T04:13:33.782389Z",
          "iopub.status.busy": "2021-09-25T04:13:33.78207Z",
          "iopub.status.idle": "2021-09-25T04:13:33.961127Z",
          "shell.execute_reply": "2021-09-25T04:13:33.960074Z",
          "shell.execute_reply.started": "2021-09-25T04:13:33.782354Z"
        },
        "id": "EqIfzBVNlVdm",
        "scrolled": true,
        "trusted": true
      },
      "outputs": [],
      "source": [
        "np.array_equal(result, expected)"
      ]
    },
    {
      "cell_type": "markdown",
      "metadata": {
        "id": "X0dbgNu0lVdm"
      },
      "source": [
        "### Why Such a Small Improvement?"
      ]
    },
    {
      "cell_type": "markdown",
      "metadata": {
        "id": "8W5Kq8-WlVdm"
      },
      "source": [
        "While this is a significant speedup for only a few lines of code, but you might think that the performance improvement is not as stark as you expected based on earlier performance improvements to use coalesced access patterns. There are 2 main reasons for this:\n",
        "\n",
        "1. The naive transpose kernel was making coalesced reads, so, your refactored version only optimized half of the global memory access throughout the execution of the kernel.\n",
        "2. Your code as written suffers from something called shared memory bank conflicts, a topic to which we will now turn our attention."
      ]
    },
    {
      "cell_type": "markdown",
      "metadata": {
        "id": "yhHeNZwjlVdm"
      },
      "source": [
        "## Presentation: Memory Bank Conflicts"
      ]
    },
    {
      "cell_type": "markdown",
      "metadata": {
        "id": "8LOZKswqlVdm"
      },
      "source": [
        "Execute the following cell to load the slides, then click on \"Start Slide Show\" to make them full screen."
      ]
    },
    {
      "cell_type": "code",
      "execution_count": 1,
      "metadata": {
        "colab": {
          "base_uri": "https://localhost:8080/",
          "height": 471
        },
        "execution": {
          "iopub.execute_input": "2021-09-25T04:13:33.964014Z",
          "iopub.status.busy": "2021-09-25T04:13:33.962985Z",
          "iopub.status.idle": "2021-09-25T04:13:33.971236Z",
          "shell.execute_reply": "2021-09-25T04:13:33.97015Z",
          "shell.execute_reply.started": "2021-09-25T04:13:33.963952Z"
        },
        "id": "6GS4Ml0GlVdn",
        "outputId": "8fbcfebb-127e-4abc-c61e-0f2aaaebb3c9",
        "trusted": true
      },
      "outputs": [
        {
          "data": {
            "text/html": [
              "\n",
              "        <iframe\n",
              "            width=\"800\"\n",
              "            height=\"450\"\n",
              "            src=\"https://view.officeapps.live.com/op/view.aspx?src=https://developer.download.nvidia.com/training/courses/C-AC-02-V1/bank_conflicts.pptx\"\n",
              "            frameborder=\"0\"\n",
              "            allowfullscreen\n",
              "            \n",
              "        ></iframe>\n",
              "        "
            ],
            "text/plain": [
              "<IPython.lib.display.IFrame at 0x7f9114b40b20>"
            ]
          },
          "execution_count": 1,
          "metadata": {},
          "output_type": "execute_result"
        }
      ],
      "source": [
        "from IPython.display import IFrame\n",
        "IFrame('https://view.officeapps.live.com/op/view.aspx?src=https://developer.download.nvidia.com/training/courses/C-AC-02-V1/bank_conflicts.pptx', 800, 450)"
      ]
    },
    {
      "cell_type": "markdown",
      "metadata": {
        "id": "7IcFswcUlVdn"
      },
      "source": [
        "## Assessment: Resolve Memory Bank Conflicts"
      ]
    },
    {
      "cell_type": "markdown",
      "metadata": {
        "id": "M4WcTRl3lVdn"
      },
      "source": [
        "As a final exercise, and to get credit towards a certificate in the course for this final section of the workshop, you will refactor the transpose kernel utilizing shared memory to be shared memory bank conflict free."
      ]
    },
    {
      "cell_type": "markdown",
      "metadata": {
        "id": "_IzrukmDlVdn"
      },
      "source": [
        "### Imports"
      ]
    },
    {
      "cell_type": "code",
      "execution_count": 46,
      "metadata": {
        "execution": {
          "iopub.execute_input": "2021-09-25T04:13:33.973667Z",
          "iopub.status.busy": "2021-09-25T04:13:33.972876Z",
          "iopub.status.idle": "2021-09-25T04:13:33.981189Z",
          "shell.execute_reply": "2021-09-25T04:13:33.980333Z",
          "shell.execute_reply.started": "2021-09-25T04:13:33.973634Z"
        },
        "id": "H-MCLwZwlVdo",
        "trusted": true
      },
      "outputs": [],
      "source": [
        "import numpy as np\n",
        "from numba import cuda, types as numba_types"
      ]
    },
    {
      "cell_type": "markdown",
      "metadata": {
        "id": "Pp8zyseplVdo"
      },
      "source": [
        "### Data Creation"
      ]
    },
    {
      "cell_type": "code",
      "execution_count": 47,
      "metadata": {
        "colab": {
          "base_uri": "https://localhost:8080/",
          "height": 618
        },
        "execution": {
          "iopub.execute_input": "2021-09-25T04:13:33.983112Z",
          "iopub.status.busy": "2021-09-25T04:13:33.982381Z",
          "iopub.status.idle": "2021-09-25T04:13:34.165624Z",
          "shell.execute_reply": "2021-09-25T04:13:34.164822Z",
          "shell.execute_reply.started": "2021-09-25T04:13:33.983077Z"
        },
        "id": "0hiBUp_HlVdo",
        "outputId": "7ee1e016-90d9-418b-bf6f-719ae1afe486",
        "trusted": true
      },
      "outputs": [],
      "source": [
        "n = 4096*4096 # 16M\n",
        "threads_per_block = (32, 32)\n",
        "blocks = (128, 128)\n",
        "\n",
        "a = np.arange(n).reshape((4096,4096)).astype(np.float32)\n",
        "transposed = np.zeros_like(a).astype(np.float32)\n",
        "\n",
        "d_a = cuda.to_device(a)\n",
        "d_transposed = cuda.to_device(transposed)"
      ]
    },
    {
      "cell_type": "markdown",
      "metadata": {
        "id": "ntrjaolIlVdo"
      },
      "source": [
        "### Make the Kernel Bank Conflict Free"
      ]
    },
    {
      "cell_type": "markdown",
      "metadata": {
        "id": "x3b3z36nlVdp"
      },
      "source": [
        "The `tile_transpose_conflict_free` kernel is a working matrix transpose kernel which utilizes shared memory so that both reads from and writes to global memory are coalesced. Your job is to refactor the kernel so that it does not suffer from memory bank conflicts.\n",
        "\n",
        "**Note:** Because this final exercise counts towards certification in the course, a solution will not be provided."
      ]
    },
    {
      "cell_type": "code",
      "execution_count": 48,
      "metadata": {
        "execution": {
          "iopub.execute_input": "2021-09-25T04:13:34.167392Z",
          "iopub.status.busy": "2021-09-25T04:13:34.166865Z",
          "iopub.status.idle": "2021-09-25T04:13:34.175907Z",
          "shell.execute_reply": "2021-09-25T04:13:34.175124Z",
          "shell.execute_reply.started": "2021-09-25T04:13:34.167355Z"
        },
        "id": "7a4aFYdrlVdp",
        "trusted": true
      },
      "outputs": [],
      "source": [
        "@cuda.jit\n",
        "def tile_transpose_conflict_free(a, transposed):\n",
        "    # `tile_transpose` assumes it is launched with a 32x32 block dimension,\n",
        "    # and that `a` is a multiple of these dimensions.\n",
        "\n",
        "    # 1) Create 32x32 shared memory array.\n",
        "    tile = cuda.shared.array((32, 33), numba_types.int32)\n",
        "\n",
        "    # Compute offsets into global input array.\n",
        "    x = cuda.blockIdx.x * cuda.blockDim.x + cuda.threadIdx.x\n",
        "    y = cuda.blockIdx.y * cuda.blockDim.y + cuda.threadIdx.y\n",
        "\n",
        "    # 2) Make coalesced read from global memory into shared memory array.\n",
        "    # Note the use of local thread indices for the shared memory write,\n",
        "    # and global offsets for global memory read.\n",
        "    tile[cuda.threadIdx.y, cuda.threadIdx.x] = a[y, x]\n",
        "\n",
        "    # 3) Wait for all threads in the block to finish updating shared memory.\n",
        "    cuda.syncthreads()\n",
        "\n",
        "    # 4) Calculate transposed location for the shared memory array tile\n",
        "    # to be written back to global memory.\n",
        "    t_x = cuda.blockIdx.y * cuda.blockDim.y + cuda.threadIdx.x\n",
        "    t_y = cuda.blockIdx.x * cuda.blockDim.x + cuda.threadIdx.y\n",
        "\n",
        "    # 5) Write back to global memory,\n",
        "    # transposing each element within the shared memory array.\n",
        "    transposed[t_y, t_x] = tile[cuda.threadIdx.x, cuda.threadIdx.y]"
      ]
    },
    {
      "cell_type": "markdown",
      "metadata": {
        "id": "3i9CV1emlVdp"
      },
      "source": [
        "### Check Performance"
      ]
    },
    {
      "cell_type": "markdown",
      "metadata": {
        "id": "PMp24SJ1lVdp"
      },
      "source": [
        "Assuming you have correctly resolved the bank conflicts, this kernel should run significantly faster than both the naive transpose kernel, and, the shared memory (with bank conflicts) transpose kernel. In order to pass the assessment, your kernel will need to run on average in less than 840 µs.\n",
        "\n",
        "The first value printed by running the following cell will give you the average run time of your kernel."
      ]
    },
    {
      "cell_type": "code",
      "execution_count": 53,
      "metadata": {
        "execution": {
          "iopub.execute_input": "2021-09-25T04:13:34.177643Z",
          "iopub.status.busy": "2021-09-25T04:13:34.177396Z",
          "iopub.status.idle": "2021-09-25T04:13:39.252552Z",
          "shell.execute_reply": "2021-09-25T04:13:39.251494Z",
          "shell.execute_reply.started": "2021-09-25T04:13:34.177605Z"
        },
        "id": "4OvybOLQlVdp",
        "scrolled": true,
        "trusted": true
      },
      "outputs": [
        {
          "name": "stdout",
          "output_type": "stream",
          "text": [
            "4.76 ms ± 2.8 µs per loop (mean ± std. dev. of 7 runs, 100 loops each)\n"
          ]
        }
      ],
      "source": [
        "%timeit tile_transpose_conflict_free[blocks, threads_per_block](d_a, d_transposed); cuda.synchronize()"
      ]
    },
    {
      "cell_type": "markdown",
      "metadata": {
        "id": "6wIKw679lVdq"
      },
      "source": [
        "### Check Correctness"
      ]
    },
    {
      "cell_type": "markdown",
      "metadata": {
        "id": "h-wVnTcelVdq"
      },
      "source": [
        "In order to pass the assessment, your kernel also needs to work correctly. Run the following 2 cells to confirm this is true."
      ]
    },
    {
      "cell_type": "code",
      "execution_count": 50,
      "metadata": {
        "execution": {
          "iopub.execute_input": "2021-09-25T04:13:39.254563Z",
          "iopub.status.busy": "2021-09-25T04:13:39.254233Z",
          "iopub.status.idle": "2021-09-25T04:13:39.286273Z",
          "shell.execute_reply": "2021-09-25T04:13:39.285612Z",
          "shell.execute_reply.started": "2021-09-25T04:13:39.254524Z"
        },
        "id": "WezlHidklVdq",
        "trusted": true
      },
      "outputs": [],
      "source": [
        "result = d_transposed.copy_to_host()\n",
        "expected = a.T"
      ]
    },
    {
      "cell_type": "code",
      "execution_count": 51,
      "metadata": {
        "execution": {
          "iopub.execute_input": "2021-09-25T04:13:39.287747Z",
          "iopub.status.busy": "2021-09-25T04:13:39.287493Z",
          "iopub.status.idle": "2021-09-25T04:13:39.460995Z",
          "shell.execute_reply": "2021-09-25T04:13:39.460212Z",
          "shell.execute_reply.started": "2021-09-25T04:13:39.287714Z"
        },
        "id": "Y1edtnPYlVdq",
        "trusted": true
      },
      "outputs": [
        {
          "data": {
            "text/plain": [
              "True"
            ]
          },
          "execution_count": 51,
          "metadata": {},
          "output_type": "execute_result"
        }
      ],
      "source": [
        "np.array_equal(result, expected)"
      ]
    },
    {
      "cell_type": "markdown",
      "metadata": {
        "id": "leKeVN8slVdr"
      },
      "source": [
        "### Run the Assessment"
      ]
    },
    {
      "cell_type": "markdown",
      "metadata": {
        "id": "tDMxBzW7lVdr"
      },
      "source": [
        "If you have completed the refactor, observed it's run time to be less than 840 µs, and confirmed that it runs correctly, execute the following cells to run the assessment against your kernel definition."
      ]
    },
    {
      "cell_type": "markdown",
      "metadata": {
        "id": "yi2qj5zWlVdr"
      },
      "source": [
        "## Summary"
      ]
    },
    {
      "cell_type": "markdown",
      "metadata": {
        "id": "60a0VAh_lVds"
      },
      "source": [
        "Now that you have completed this session you are able to:\n",
        "\n",
        "* Write CUDA kernels that benefit from coalesced memory access patterns.\n",
        "* Work with multi-dimensional grids and thread blocks.\n",
        "* Use shared memory to coordinate threads within a block.\n",
        "* Use shared memory to facilitate coalesced memory access patterns.\n",
        "* Resolve shared memory bank conflicts."
      ]
    },
    {
      "cell_type": "code",
      "execution_count": null,
      "metadata": {
        "id": "Z_wiBe-KlVds"
      },
      "outputs": [],
      "source": []
    }
  ],
  "metadata": {
    "accelerator": "GPU",
    "colab": {
      "gpuType": "T4",
      "name": "3-Multidimensional Grids & Shared Memory for CUDA",
      "provenance": []
    },
    "kernelspec": {
      "display_name": "Python 3",
      "name": "python3"
    },
    "language_info": {
      "codemirror_mode": {
        "name": "ipython",
        "version": 3
      },
      "file_extension": ".py",
      "mimetype": "text/x-python",
      "name": "python",
      "nbconvert_exporter": "python",
      "pygments_lexer": "ipython3",
      "version": "3.8.18"
    }
  },
  "nbformat": 4,
  "nbformat_minor": 0
}
