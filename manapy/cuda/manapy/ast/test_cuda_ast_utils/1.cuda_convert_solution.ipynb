{
 "cells": [
  {
   "cell_type": "code",
   "execution_count": null,
   "metadata": {},
   "outputs": [],
   "source": [
    "from mpi4py import MPI\n",
    "from manapy.ast import Variable\n",
    "from manapy.base.base import Struct\n",
    "from manapy.ddm import Domain\n",
    "from manapy.partitions import MeshPartition\n",
    "from manapy.solvers.advec.tools_utils import initialisation_gaussian_2d\n",
    "import numpy as np\n",
    "import time\n",
    "from numba import cuda\n",
    "\n",
    "import matplotlib.pyplot as plt\n",
    "\n",
    "from timeit import default_timer as timer\n",
    "from manapy.cuda.utils import VarClass\n",
    "\n",
    "###############\n",
    "# test_time\n",
    "###############\n",
    "\n",
    "def test_time(iter, fun):\n",
    "  #fun()\n",
    "  start_time = timer()\n",
    "  for _ in range(iter):\n",
    "    fun()\n",
    "  end_time = timer()\n",
    "  elapsed_time = (end_time - start_time) / iter\n",
    "  print(f\"{elapsed_time * 1000:.5f} ms\")\n",
    "  #print(f\"{elapsed_time * 1000000:.5f} micros\")\n",
    "\n",
    "###############\n",
    "# init\n",
    "###############\n",
    "def init(dim, mesh_path):\n",
    "  running_conf = Struct(backend=\"numba\", signature=True, cache=True, float_precision=\"single\")\n",
    "  MeshPartition(mesh_path, dim=dim, conf=running_conf, periodic=[0,0,0])\n",
    "\n",
    "  running_conf = Struct(backend=\"numba\", signature=True, cache =True, float_precision=\"single\")\n",
    "  domain = Domain(dim=dim, conf=running_conf)\n",
    "  ne = Variable(domain=domain)\n",
    "  u  = Variable(domain=domain)\n",
    "  v  = Variable(domain=domain)\n",
    "  w  = Variable(domain=domain)\n",
    "  \n",
    "  P = Variable(domain=domain)\n",
    "  Pinit = 2.0\n",
    "  cells = domain.cells\n",
    "  initialisation_gaussian_2d(ne.cell, u.cell, v.cell, P.cell, cells.center, Pinit)\n",
    "\n",
    "  u.face[:] = 2.\n",
    "  v.face[:] = 0.\n",
    "  w.face[:] = 0.\n",
    "  \n",
    "  u.interpolate_facetocell()\n",
    "  v.interpolate_facetocell()\n",
    "  w.interpolate_facetocell()\n",
    "  return (domain, ne, u, v, w, P)\n",
    "\n",
    "dim = 2\n",
    "mesh_file = \"/home/aben-ham/Desktop/work/stage/my_manapy/manapy/mesh/2D/carre.msh\"\n",
    "#mesh_file = \"/home/ayoub.hamou/mesh/square.msh\"\n",
    "#mesh_file = \"/home/aben-ham/Desktop/work/stage/my_manapy/gpu_accelerator/functions/square.msh\"\n",
    "domain, ne, u, v, w, P = init(dim=dim, mesh_path=mesh_file)\n",
    "\n",
    "from manapy.solvers.ls import PETScKrylovSolver\n",
    "\n",
    "conf = Struct(reuse_mtx=True, scheme='diamond', verbose=False)\n",
    "L = PETScKrylovSolver(domain=domain, var=P, conf=conf)"
   ]
  },
  {
   "cell_type": "code",
   "execution_count": null,
   "metadata": {},
   "outputs": [],
   "source": [
    "\n",
    "#? The order is imported of the argument list\n",
    "\n",
    "VarClass.convert_to_var_class([\n",
    "    L,\n",
    "    domain.cells\n",
    "])\n",
    "\n",
    "\n",
    "args = [\n",
    "  L.recvbuf, #! ???????????\n",
    "  L.x1converted,\n",
    "  L.domain.cells.tc,\n",
    "  L.globalsize\n",
    "]\n"
   ]
  },
  {
   "cell_type": "code",
   "execution_count": null,
   "metadata": {},
   "outputs": [],
   "source": [
    "from manapy.ast.ast_utils import convert_solution as cpu_function\n",
    "from manapy.cuda.manapy.ast.cuda_ast_utils import get_kernel_convert_solution as gpu_function\n",
    "\n",
    "numba_fun = domain.backend.compile(cpu_function, echo=True, signature=True)\n",
    "cuda_fun = gpu_function()"
   ]
  },
  {
   "cell_type": "code",
   "execution_count": null,
   "metadata": {},
   "outputs": [],
   "source": [
    "numba_fun(*args)\n",
    "%timeit numba_fun(*args)numba_convert_solution(*args[0])"
   ]
  },
  {
   "cell_type": "code",
   "execution_count": null,
   "metadata": {},
   "outputs": [],
   "source": [
    "cuda_fun(*args)\n",
    "%timeit cuda_fun(*args)"
   ]
  },
  {
   "cell_type": "code",
   "execution_count": null,
   "metadata": {},
   "outputs": [],
   "source": [
    "def verify(a, decimal, plot):\n",
    "  b = VarClass.to_device(a)\n",
    "  if plot == True:\n",
    "    plt.plot(a, label=\"cpu\")\n",
    "    plt.plot(b, label=\"gpu\")\n",
    "    plt.legend()\n",
    "    plt.show()\n",
    "  np.testing.assert_almost_equal(a, b, decimal=decimal)\n",
    "\n",
    "\n",
    "for i, arg in enumerate(args):\n",
    "  print(f\"{i + 1} => test arg {arg}\")\n",
    "  verify(arg, decimal=2, plot=False)"
   ]
  }
 ],
 "metadata": {
  "kernelspec": {
   "display_name": "stage",
   "language": "python",
   "name": "python3"
  },
  "language_info": {
   "codemirror_mode": {
    "name": "ipython",
    "version": 3
   },
   "file_extension": ".py",
   "mimetype": "text/x-python",
   "name": "python",
   "nbconvert_exporter": "python",
   "pygments_lexer": "ipython3",
   "version": "3.8.18"
  }
 },
 "nbformat": 4,
 "nbformat_minor": 2
}
