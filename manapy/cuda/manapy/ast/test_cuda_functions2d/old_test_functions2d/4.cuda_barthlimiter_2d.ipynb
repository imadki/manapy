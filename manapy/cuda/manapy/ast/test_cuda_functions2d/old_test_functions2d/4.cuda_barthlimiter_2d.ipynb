{
 "cells": [
  {
   "cell_type": "code",
   "execution_count": 1,
   "metadata": {},
   "outputs": [],
   "source": [
    "from mpi4py import MPI\n",
    "from manapy.ast import Variable\n",
    "from manapy.base.base import Struct\n",
    "from manapy.ddm import Domain\n",
    "from manapy.partitions import MeshPartition\n",
    "from manapy.solvers.advec.tools_utils import initialisation_gaussian_2d\n",
    "import numpy as np\n",
    "import time\n",
    "from numba import cuda\n",
    "\n",
    "import matplotlib.pyplot as plt\n",
    "\n",
    "from timeit import default_timer as timer\n",
    "\n",
    "###############\n",
    "# test_time\n",
    "###############\n",
    "\n",
    "def test_time(iter, fun):\n",
    "  #fun()\n",
    "  start_time = timer()\n",
    "  for _ in range(iter):\n",
    "    fun()\n",
    "  end_time = timer()\n",
    "  elapsed_time = (end_time - start_time) / iter\n",
    "  print(f\"{elapsed_time * 1000:.5f} ms\")\n",
    "  #print(f\"{elapsed_time * 1000000:.5f} micros\")\n",
    "\n",
    "###############\n",
    "# init\n",
    "###############\n",
    "def init(dim, mesh_path):\n",
    "  running_conf = Struct(backend=\"numba\", signature=True, cache=True, precision=\"double\")\n",
    "  MeshPartition(mesh_path, dim=dim, conf=running_conf, periodic=[0,0,0])\n",
    "\n",
    "  running_conf = Struct(backend=\"numba\", signature=True, cache =True, precision=\"double\")\n",
    "  domain = Domain(dim=dim, conf=running_conf)\n",
    "  ne = Variable(domain=domain)\n",
    "  u  = Variable(domain=domain)\n",
    "  v  = Variable(domain=domain)\n",
    "  w  = Variable(domain=domain)\n",
    "  \n",
    "  P = Variable(domain=domain)\n",
    "  Pinit = 2.0\n",
    "  cells = domain.cells\n",
    "  initialisation_gaussian_2d(ne.cell, u.cell, v.cell, P.cell, cells.center, Pinit)\n",
    "\n",
    "  u.face[:] = 2.\n",
    "  v.face[:] = 0.\n",
    "  w.face[:] = 0.\n",
    "  \n",
    "  u.interpolate_facetocell()\n",
    "  v.interpolate_facetocell()\n",
    "  w.interpolate_facetocell()\n",
    "  return (domain, ne, u, v, w, P)"
   ]
  },
  {
   "cell_type": "code",
   "execution_count": 12,
   "metadata": {},
   "outputs": [
    {
     "name": "stdout",
     "output_type": "stream",
     "text": [
      "Reading gmsh file ...\n",
      "Saving partition files ...\n",
      "Number of Cells: 578304\n",
      "Number of Vertices: 290153\n",
      "Local domain contruction ...\n"
     ]
    }
   ],
   "source": [
    "dim = 2\n",
    "#mesh_file = \"/home/aben-ham/Desktop/work/stage/my_manapy/manapy/mesh/2D/carre.msh\"\n",
    "#mesh_file = \"/home/aben-ham/Desktop/work/stage/my_manapy/gpu_accelerator/functions/square_larger.msh\"\n",
    "#mesh_file = \"/home/aben-ham/Desktop/work/stage/my_manapy/gpu_accelerator/functions/square.msh\"\n",
    "mesh_file = \"/home/ayoub.hamou/mesh/square.msh\"\n",
    "mesh_file = \"/home/ayoub.hamou/mesh/square_larger.msh\"\n",
    "domain, ne, u, v, w, P = init(dim=dim, mesh_path=mesh_file)"
   ]
  },
  {
   "cell_type": "code",
   "execution_count": 13,
   "metadata": {},
   "outputs": [],
   "source": [
    "from numba import cuda\n",
    "\n",
    "def create_var(v):\n",
    "  return (v, cuda.to_device(v))\n",
    "\n",
    "host_w_c, d_w_c = create_var(ne.cell)\n",
    "host_w_ghost, d_w_ghost = create_var(ne.ghost)\n",
    "host_w_halo, d_w_halo = create_var(ne.halo)\n",
    "host_w_gradcellx, d_w_gradcellx = create_var(ne.gradcellx)\n",
    "host_w_gradcelly, d_w_gradcelly = create_var(ne.gradcelly)\n",
    "host_w_gradcellz, d_w_gradcellz = create_var(ne.gradcellz)\n",
    "host_psi, d_psi = create_var(ne.psi)\n",
    "host_cellid, d_cellid = create_var(ne.domain.faces.cellid)\n",
    "host_faceid, d_faceid = create_var(ne.domain.cells.faceid)\n",
    "host_namef, d_namef = create_var(ne.domain.faces.name)\n",
    "host_halofid, d_halofid = create_var(ne.domain.faces.halofid)\n",
    "host_centerc, d_centerc = create_var(ne.domain.cells.center)\n",
    "host_centerf, d_centerf = create_var(ne.domain.faces.center)\n",
    "\n"
   ]
  },
  {
   "cell_type": "code",
   "execution_count": 14,
   "metadata": {},
   "outputs": [
    {
     "data": {
      "text/plain": [
       "578304"
      ]
     },
     "execution_count": 14,
     "metadata": {},
     "output_type": "execute_result"
    }
   ],
   "source": [
    "len(host_psi)"
   ]
  },
  {
   "cell_type": "code",
   "execution_count": 15,
   "metadata": {},
   "outputs": [
    {
     "data": {
      "image/png": "[encoded data removed]",
      "text/plain": [
       "<Figure size 640x480 with 1 Axes>"
      ]
     },
     "metadata": {},
     "output_type": "display_data"
    }
   ],
   "source": [
    "plt.plot(host_psi)\n",
    "plt.plot(d_psi.copy_to_host())\n",
    "plt.show()"
   ]
  },
  {
   "cell_type": "code",
   "execution_count": 16,
   "metadata": {},
   "outputs": [],
   "source": [
    "#The original function from functions2d.py\n",
    "\n",
    "from numpy import  int32, float32, uint32\n",
    "import numpy as np\n",
    "\n",
    "def barthlimiter_2d(w_c:'float[:]', w_ghost:'float[:]', w_halo:'float[:]',\n",
    "                    w_x:'float[:]', w_y:'float[:]',  w_z:'float[:]', psi:'float[:]', \n",
    "                    cellid:'int32[:,:]', faceid:'int32[:,:]', namef:'uint32[:]',\n",
    "                    halofid:'int32[:]', centerc:'float[:,:]', centerf:'float[:,:]'):\n",
    "    \n",
    "    nbelement = len(w_c)\n",
    "    val  = 1.\n",
    "    psi[:] = val\n",
    "\n",
    "    for i in range(nbelement):\n",
    "        w_max = w_c[i]\n",
    "        w_min = w_c[i]\n",
    "\n",
    "        for j in range(faceid[i][-1]):\n",
    "            face = faceid[i][j]\n",
    "            if namef[face] == 0 or namef[face] > 10:#\n",
    "            #11 or namef[face] == 22 or namef[face] == 33 or namef[face] == 44:\n",
    "                w_max = max(w_max, w_c[cellid[face][0]], w_c[cellid[face][1]])\n",
    "                w_min = min(w_min, w_c[cellid[face][0]], w_c[cellid[face][1]])\n",
    "            elif namef[face] == 1 or namef[face] == 2 or namef[face] == 3 or namef[face] == 4:\n",
    "                w_max = max(w_max,  w_c[cellid[face][0]], w_ghost[face])\n",
    "                w_min = min(w_min,  w_c[cellid[face][0]], w_ghost[face])\n",
    "            else:\n",
    "                w_max = max(w_max,  w_c[cellid[face][0]], w_halo[halofid[face]])\n",
    "                w_min = min(w_min,  w_c[cellid[face][0]], w_halo[halofid[face]])\n",
    "        \n",
    "        for j in range(faceid[i][-1]):\n",
    "            face = faceid[i][j]\n",
    "\n",
    "            r_xyz1 = centerf[face][0] - centerc[i][0] \n",
    "            r_xyz2 = centerf[face][1] - centerc[i][1]\n",
    "            \n",
    "            delta2 = w_x[i] * r_xyz1 + w_y[i] * r_xyz2 \n",
    "            \n",
    "            #TODO choice of epsilon\n",
    "            if np.fabs(delta2) < 1e-8:\n",
    "                psi_ij = 1.\n",
    "            else:\n",
    "                if delta2 > 0.:\n",
    "                    value = (w_max - w_c[i]) / delta2\n",
    "                    psi_ij = min(val, value)\n",
    "                if delta2 < 0.:\n",
    "                    value = (w_min - w_c[i]) / delta2\n",
    "                    psi_ij = min(val, value)\n",
    "\n",
    "            psi[i] = min(psi[i], psi_ij)\n",
    "\n"
   ]
  },
  {
   "cell_type": "code",
   "execution_count": 17,
   "metadata": {},
   "outputs": [],
   "source": [
    "#? using numba jit -> backend.py\n",
    "#! Using parallel=True yields poor results.\n",
    "import numba\n",
    "\n",
    "numba_barthlimiter_2d = numba.jit(barthlimiter_2d, nopython=True, fastmath=True, parallel=False, cache=True)\n",
    "def cpu_numba_barthlimiter_2d():\n",
    "  numba_barthlimiter_2d(\n",
    "    host_w_c,\n",
    "    host_w_ghost,\n",
    "    host_w_halo,\n",
    "    host_w_gradcellx,\n",
    "    host_w_gradcelly,\n",
    "    host_w_gradcellz,\n",
    "    host_psi,\n",
    "    host_cellid,\n",
    "    host_faceid,\n",
    "    host_namef,\n",
    "    host_halofid,\n",
    "    host_centerc,\n",
    "    host_centerf,\n",
    "  )\n"
   ]
  },
  {
   "cell_type": "code",
   "execution_count": 18,
   "metadata": {},
   "outputs": [
    {
     "name": "stdout",
     "output_type": "stream",
     "text": [
      "54.5 ms ± 129 µs per loop (mean ± std. dev. of 7 runs, 10 loops each)\n"
     ]
    }
   ],
   "source": [
    "#time taken by cpu_numba_barthlimiter_2d\n",
    "\n",
    "initialisation_gaussian_2d(ne.cell, u.cell, v.cell, P.cell, domain.cells.center, 2.0)\n",
    "\n",
    "%timeit cpu_numba_barthlimiter_2d()"
   ]
  },
  {
   "cell_type": "code",
   "execution_count": 19,
   "metadata": {},
   "outputs": [
    {
     "data": {
      "text/plain": [
       "(578304, 4)"
      ]
     },
     "execution_count": 19,
     "metadata": {},
     "output_type": "execute_result"
    }
   ],
   "source": [
    "host_faceid.shape"
   ]
  },
  {
   "cell_type": "code",
   "execution_count": 20,
   "metadata": {},
   "outputs": [
    {
     "name": "stdout",
     "output_type": "stream",
     "text": [
      "3.22683 ms\n"
     ]
    }
   ],
   "source": [
    "@cuda.jit\n",
    "def kernel_barthlimiter_2d(w_c:'float[:]', w_ghost:'float[:]', w_halo:'float[:]',\n",
    "                    w_x:'float[:]', w_y:'float[:]',  w_z:'float[:]', psi:'float[:]', \n",
    "                    cellid:'int32[:,:]', faceid:'int32[:,:]', namef:'uint32[:]',\n",
    "                    halofid:'int32[:]', centerc:'float[:,:]', centerf:'float[:,:]'):\n",
    "    \n",
    "    i = cuda.grid(1)\n",
    "    \n",
    "    if i > w_c.shape[0]:\n",
    "        return\n",
    "\n",
    "    val  = 1.\n",
    "    psi[i] = val\n",
    "\n",
    " \n",
    "    \n",
    "    w_max = w_c[i]\n",
    "    w_min = w_c[i]\n",
    "\n",
    "\n",
    "    for j in range(faceid[i][-1]):\n",
    "        face = faceid[i][j]\n",
    "        if namef[face] == 0 or namef[face] > 10:\n",
    "        #11 or namef[face] == 22 or namef[face] == 33 or namef[face] == 44:\n",
    "            w_max = max(w_max, w_c[cellid[face][0]], w_c[cellid[face][1]])\n",
    "            w_min = min(w_min, w_c[cellid[face][0]], w_c[cellid[face][1]])\n",
    "        elif namef[face] == 1 or namef[face] == 2 or namef[face] == 3 or namef[face] == 4:\n",
    "            w_max = max(w_max,  w_c[cellid[face][0]], w_ghost[face])\n",
    "            w_min = min(w_min,  w_c[cellid[face][0]], w_ghost[face])\n",
    "        else:\n",
    "            w_max = max(w_max,  w_c[cellid[face][0]], w_halo[halofid[face]])\n",
    "            w_min = min(w_min,  w_c[cellid[face][0]], w_halo[halofid[face]])\n",
    "    \n",
    "    for j in range(faceid[i][-1]):\n",
    "        face = faceid[i][j]\n",
    "\n",
    "        r_xyz1 = centerf[face][0] - centerc[i][0] \n",
    "        r_xyz2 = centerf[face][1] - centerc[i][1]\n",
    "        \n",
    "        delta2 = w_x[i] * r_xyz1 + w_y[i] * r_xyz2 \n",
    "        \n",
    "        #TODO choice of epsilon\n",
    "        #!np.fabs\n",
    "        #!if abs(delta2) < 1e-8:\n",
    "        psi_ij = 1.\n",
    "\n",
    "        if abs(delta2) >= 1e-8:\n",
    "            if delta2 > 0.:\n",
    "                value = (w_max - w_c[i]) / delta2\n",
    "                psi_ij = min(val, value)\n",
    "            if delta2 < 0.:\n",
    "                value = (w_min - w_c[i]) / delta2\n",
    "                psi_ij = min(val, value)\n",
    "\n",
    "        psi[i] = min(psi[i], psi_ij)\n",
    "\n",
    "\n",
    "\n",
    "\n",
    "\n",
    "def cuda_numba_barthlimiter_2d():\n",
    "  nb_element = len(host_w_c)\n",
    "  nb_threads = 32\n",
    "  nb_blocks = nb_element // 32 + 1\n",
    "\n",
    "\n",
    "  kernel_barthlimiter_2d[nb_blocks, nb_threads](\n",
    "    d_w_c,\n",
    "    d_w_ghost,\n",
    "    d_w_halo,\n",
    "    d_w_gradcellx,\n",
    "    d_w_gradcelly,\n",
    "    d_w_gradcellz,\n",
    "    d_psi,\n",
    "    d_cellid,\n",
    "    d_faceid,\n",
    "    d_namef,\n",
    "    d_halofid,\n",
    "    d_centerc,\n",
    "    d_centerf,\n",
    "  )\n",
    "  cuda.synchronize()\n",
    "\n",
    "test_time(700, cuda_numba_barthlimiter_2d)"
   ]
  },
  {
   "cell_type": "code",
   "execution_count": 11,
   "metadata": {},
   "outputs": [
    {
     "data": {
      "image/png": "[encoded data removed]",
      "text/plain": [
       "<Figure size 640x480 with 1 Axes>"
      ]
     },
     "metadata": {},
     "output_type": "display_data"
    }
   ],
   "source": [
    "def verify(a, b):\n",
    "  b = b.copy_to_host()\n",
    "  plt.plot(a)\n",
    "  plt.plot(b)\n",
    "\n",
    "  #assert\n",
    "  np.testing.assert_almost_equal(a, b, decimal=2, )\n",
    "  plt.show()\n",
    "\n",
    "verify(host_psi, d_psi)"
   ]
  }
 ],
 "metadata": {
  "kernelspec": {
   "display_name": "Python [conda env:.conda-stage] *",
   "language": "python",
   "name": "conda-env-.conda-stage-py"
  },
  "language_info": {
   "codemirror_mode": {
    "name": "ipython",
    "version": 3
   },
   "file_extension": ".py",
   "mimetype": "text/x-python",
   "name": "python",
   "nbconvert_exporter": "python",
   "pygments_lexer": "ipython3",
   "version": "3.8.18"
  }
 },
 "nbformat": 4,
 "nbformat_minor": 2
}
