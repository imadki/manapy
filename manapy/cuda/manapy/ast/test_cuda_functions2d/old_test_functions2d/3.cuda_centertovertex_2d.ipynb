{
 "cells": [
  {
   "cell_type": "code",
   "execution_count": 1,
   "metadata": {},
   "outputs": [],
   "source": [
    "from mpi4py import MPI\n",
    "from manapy.ast import Variable\n",
    "from manapy.base.base import Struct\n",
    "from manapy.ddm import Domain\n",
    "from manapy.partitions import MeshPartition\n",
    "from manapy.solvers.advec.tools_utils import initialisation_gaussian_2d\n",
    "import numpy as np\n",
    "import time\n",
    "from numba import cuda\n",
    "\n",
    "import matplotlib.pyplot as plt\n",
    "\n",
    "from timeit import default_timer as timer\n",
    "\n",
    "###############\n",
    "# test_time\n",
    "###############\n",
    "\n",
    "def test_time(iter, fun):\n",
    "  #fun()\n",
    "  start_time = timer()\n",
    "  for _ in range(iter):\n",
    "    fun()\n",
    "  end_time = timer()\n",
    "  elapsed_time = (end_time - start_time) / iter\n",
    "  print(f\"{elapsed_time * 1000:.5f} ms\")\n",
    "  #print(f\"{elapsed_time * 1000000:.5f} micros\")\n",
    "\n",
    "###############\n",
    "# init\n",
    "###############\n",
    "def init(dim, mesh_path):\n",
    "  running_conf = Struct(backend=\"numba\", signature=True, cache=True, precision=\"double\")\n",
    "  MeshPartition(mesh_path, dim=dim, conf=running_conf, periodic=[0,0,0])\n",
    "\n",
    "  running_conf = Struct(backend=\"numba\", signature=True, cache =True, precision=\"double\")\n",
    "  domain = Domain(dim=dim, conf=running_conf)\n",
    "  ne = Variable(domain=domain)\n",
    "  u  = Variable(domain=domain)\n",
    "  v  = Variable(domain=domain)\n",
    "  w  = Variable(domain=domain)\n",
    "  \n",
    "  P = Variable(domain=domain)\n",
    "  Pinit = 2.0\n",
    "  cells = domain.cells\n",
    "  initialisation_gaussian_2d(ne.cell, u.cell, v.cell, P.cell, cells.center, Pinit)\n",
    "\n",
    "  u.face[:] = 2.\n",
    "  v.face[:] = 0.\n",
    "  w.face[:] = 0.\n",
    "  \n",
    "  u.interpolate_facetocell()\n",
    "  v.interpolate_facetocell()\n",
    "  w.interpolate_facetocell()\n",
    "  return (domain, ne, u, v, w, P)"
   ]
  },
  {
   "cell_type": "code",
   "execution_count": 2,
   "metadata": {},
   "outputs": [
    {
     "name": "stdout",
     "output_type": "stream",
     "text": [
      "Reading gmsh file ...\n",
      "Saving partition files ...\n",
      "Number of Cells: 105826\n",
      "Number of Vertices: 53314\n",
      "Local domain contruction ...\n"
     ]
    }
   ],
   "source": [
    "dim = 2\n",
    "mesh_file = \"/home/aben-ham/Desktop/work/stage/my_manapy/manapy/mesh/2D/carre.msh\"\n",
    "#mesh_file = \"/home/aben-ham/Desktop/work/stage/my_manapy/gpu_accelerator/functions/square_larger.msh\"\n",
    "#mesh_file = \"/home/aben-ham/Desktop/work/stage/my_manapy/gpu_accelerator/functions/square.msh\"\n",
    "domain, ne, u, v, w, P = init(dim=dim, mesh_path=mesh_file)"
   ]
  },
  {
   "cell_type": "code",
   "execution_count": 3,
   "metadata": {},
   "outputs": [],
   "source": [
    "from numba import cuda\n",
    "\n",
    "def create_var(v):\n",
    "  return (v, cuda.to_device(v))\n",
    "\n",
    "host_w_c, d_w_c = create_var(ne.cell)\n",
    "host_w_ghost, d_w_ghost = create_var(ne.ghost)\n",
    "host_w_halo, d_w_halo = create_var(ne.halo)\n",
    "host_w_haloghost, d_w_haloghost = create_var(ne.haloghost)\n",
    "host_centerc, d_centerc = create_var(ne.domain.cells.center)\n",
    "host_centerh, d_centerh = create_var(ne.domain.halos.centvol)\n",
    "host_cellid, d_cellid = create_var(ne.domain.nodes.cellid)\n",
    "host_ghostid, d_ghostid = create_var(ne.domain.nodes.ghostid)\n",
    "host_haloghostid, d_haloghostid = create_var(ne.domain.nodes.haloghostid)\n",
    "host_periodicid, d_periodicid = create_var(ne.domain.nodes.periodicid)\n",
    "host_haloid, d_haloid = create_var(ne.domain.nodes.halonid)\n",
    "host_vertexn, d_vertexn = create_var(ne.domain.nodes.vertex)\n",
    "host_centergf, d_centergf = create_var(ne.domain.faces.ghostcenter)\n",
    "host_halocenterg, d_halocenterg = create_var(ne.domain.cells.haloghostcenter)\n",
    "host_R_x, d_R_x = create_var(ne.domain.nodes.R_x)\n",
    "host_R_y, d_R_y = create_var(ne.domain.nodes.R_y)\n",
    "host_R_z, d_R_z = create_var(ne.domain.nodes.R_z)\n",
    "host_lambda_x, d_lambda_x = create_var(ne.domain.nodes.lambda_x)\n",
    "host_lambda_y, d_lambda_y = create_var(ne.domain.nodes.lambda_y)\n",
    "host_lambda_z, d_lambda_z = create_var(ne.domain.nodes.lambda_z)\n",
    "host_number, d_number = create_var(ne.domain.nodes.number)\n",
    "host_shift, d_shift = create_var(ne.domain.cells.shift)\n",
    "host_w_n, d_w_n = create_var(ne.node)\n",
    "        "
   ]
  },
  {
   "cell_type": "code",
   "execution_count": 4,
   "metadata": {},
   "outputs": [
    {
     "data": {
      "text/plain": [
       "53314"
      ]
     },
     "execution_count": 4,
     "metadata": {},
     "output_type": "execute_result"
    }
   ],
   "source": [
    "len(host_w_n)"
   ]
  },
  {
   "cell_type": "code",
   "execution_count": 7,
   "metadata": {},
   "outputs": [
    {
     "data": {
      "image/png": "[encoded data removed]",
      "text/plain": [
       "<Figure size 640x480 with 1 Axes>"
      ]
     },
     "metadata": {},
     "output_type": "display_data"
    }
   ],
   "source": [
    "plt.plot(host_w_n)\n",
    "plt.plot(d_w_n.copy_to_host())\n",
    "plt.show()"
   ]
  },
  {
   "cell_type": "code",
   "execution_count": 8,
   "metadata": {},
   "outputs": [],
   "source": [
    "#The original function from functions2d.py\n",
    "\n",
    "from numpy import  int32, float32, uint32\n",
    "import numpy as np\n",
    "\n",
    "def centertovertex_2d(w_c:'float[:]', w_ghost:'float[:]', w_halo:'float[:]', w_haloghost:'float[:]',\n",
    "                      centerc:'float[:,:]', centerh:'float[:,:]', cellid:'int32[:,:]', ghostid:'int32[:,:]', haloghostid:'int32[:,:]',\n",
    "                      periodicid:'int32[:,:]',\n",
    "                      haloid:'int32[:,:]', vertexn:'float[:,:]', centergf:'float[:,:]', halocenterg:'float[:,:]',\n",
    "                      R_x:'float[:]', R_y:'float[:]', R_z:'float[:]', lambda_x:'float[:]',lambda_y:'float[:]', \n",
    "                      lambda_z:'float[:]', number:'uint32[:]', shift:'float[:,:]',  w_n:'float[:]'):\n",
    "   \n",
    "\n",
    "    w_n[:] = 0.\n",
    "    \n",
    "    nbnode = len(vertexn)\n",
    "    center = np.zeros(3)\n",
    "    \n",
    "    for i in range(nbnode):\n",
    "        for j in range(cellid[i][-1]):\n",
    "            cell = cellid[i][j]\n",
    "            center[:] = centerc[cell][:]\n",
    "           \n",
    "            xdiff = center[0] - vertexn[i][0]\n",
    "            ydiff = center[1] - vertexn[i][1]\n",
    "            alpha = (1. + lambda_x[i]*xdiff + lambda_y[i]*ydiff)/(number[i] + lambda_x[i]*R_x[i] + lambda_y[i]*R_y[i])\n",
    "            \n",
    "            w_n[i]  += alpha * w_c[cell]\n",
    "            \n",
    "        for j in range(ghostid[i][-1]):\n",
    "            cell = ghostid[i][j]\n",
    "            center[:] = centergf[cell][0:3]\n",
    "           \n",
    "            xdiff = center[0] - vertexn[i][0]\n",
    "            ydiff = center[1] - vertexn[i][1]\n",
    "            alpha = (1. + lambda_x[i]*xdiff + lambda_y[i]*ydiff)/(number[i] + lambda_x[i]*R_x[i] + lambda_y[i]*R_y[i])\n",
    "            \n",
    "            w_n[i]  += alpha * w_ghost[cell]\n",
    "            \n",
    "            \n",
    "        for j in range(haloghostid[i][-1]):\n",
    "            cell = haloghostid[i][j]\n",
    "            center[:] = halocenterg[cell][0:3]\n",
    "          \n",
    "            xdiff = center[0] - vertexn[i][0]\n",
    "            ydiff = center[1] - vertexn[i][1]\n",
    "            \n",
    "            alpha = (1. + lambda_x[i]*xdiff + lambda_y[i]*ydiff)/(number[i] + lambda_x[i]*R_x[i] + lambda_y[i]*R_y[i])\n",
    "            \n",
    "            w_n[i]  += alpha * w_haloghost[cell]\n",
    "            \n",
    "        for j in range(haloid[i][-1]):\n",
    "                cell = haloid[i][j]\n",
    "                center[:] = centerh[cell][0:3]\n",
    "              \n",
    "                xdiff = center[0] - vertexn[i][0]\n",
    "                ydiff = center[1] - vertexn[i][1]\n",
    "                alpha = (1. + lambda_x[i]*xdiff + lambda_y[i]*ydiff)/(number[i] + lambda_x[i]*R_x[i] + lambda_y[i]*R_y[i])\n",
    "             \n",
    "                w_n[i]  += alpha * w_halo[cell]\n",
    "                \n",
    "        #TODO Must be keeped like that checked ok ;)\n",
    "        if vertexn[i][3] == 11 or vertexn[i][3] == 22 :\n",
    "            for j in range(periodicid[i][-1]):\n",
    "                cell = periodicid[i][j]\n",
    "                center[:] = centerc[cell][0:3] \n",
    "                \n",
    "                xdiff = center[0] + shift[cell][0] - vertexn[i][0]\n",
    "                ydiff = center[1] - vertexn[i][1]\n",
    "                alpha = (1. + lambda_x[i]*xdiff + lambda_y[i]*ydiff)/(number[i] + lambda_x[i]*R_x[i] + lambda_y[i]*R_y[i])\n",
    "                \n",
    "                w_n[i]  += alpha * w_c[cell]\n",
    "                    \n",
    "        elif vertexn[i][3] == 33 or vertexn[i][3] ==44:\n",
    "            for j in range(periodicid[i][-1]):\n",
    "                cell = periodicid[i][j]\n",
    "                center[:] = centerc[cell][0:3] \n",
    "                \n",
    "                xdiff = center[0] - vertexn[i][0]\n",
    "                ydiff = center[1] + shift[cell][1] - vertexn[i][1]\n",
    "                alpha = (1. + lambda_x[i]*xdiff + lambda_y[i]*ydiff)/(number[i] + lambda_x[i]*R_x[i] + lambda_y[i]*R_y[i])\n",
    "                \n",
    "                w_n[i]  += alpha * w_c[cell]\n",
    "\n"
   ]
  },
  {
   "cell_type": "code",
   "execution_count": 9,
   "metadata": {},
   "outputs": [],
   "source": [
    "#? using numba jit -> backend.py\n",
    "#! Using parallel=True yields poor results.\n",
    "import numba\n",
    "\n",
    "numba_centertovertex_2d = numba.jit(centertovertex_2d, nopython=True, fastmath=True, parallel=False, cache=True)\n",
    "def cpu_numba_centertovertex_2d():\n",
    "  numba_centertovertex_2d(\n",
    "    host_w_c,\n",
    "    host_w_ghost,\n",
    "    host_w_halo,\n",
    "    host_w_haloghost,\n",
    "    host_centerc,\n",
    "    host_centerh,\n",
    "    host_cellid,\n",
    "    host_ghostid,\n",
    "    host_haloghostid,\n",
    "    host_periodicid,\n",
    "    host_haloid,\n",
    "    host_vertexn,\n",
    "    host_centergf,\n",
    "    host_halocenterg,\n",
    "    host_R_x,\n",
    "    host_R_y,\n",
    "    host_R_z,\n",
    "    host_lambda_x,\n",
    "    host_lambda_y,\n",
    "    host_lambda_z,\n",
    "    host_number,\n",
    "    host_shift,\n",
    "    host_w_n,\n",
    "  )\n"
   ]
  },
  {
   "cell_type": "code",
   "execution_count": 10,
   "metadata": {},
   "outputs": [
    {
     "name": "stdout",
     "output_type": "stream",
     "text": [
      "8.64 ms ± 2.1 ms per loop (mean ± std. dev. of 7 runs, 1 loop each)\n"
     ]
    }
   ],
   "source": [
    "#time taken by cpu_numba_centertovertex_2d\n",
    "\n",
    "initialisation_gaussian_2d(ne.cell, u.cell, v.cell, P.cell, domain.cells.center, 2.0)\n",
    "\n",
    "%timeit cpu_numba_centertovertex_2d()"
   ]
  },
  {
   "cell_type": "code",
   "execution_count": 17,
   "metadata": {},
   "outputs": [
    {
     "data": {
      "text/plain": [
       "array([0, 0], dtype=int32)"
      ]
     },
     "execution_count": 17,
     "metadata": {},
     "output_type": "execute_result"
    }
   ],
   "source": [
    "host_haloghostid[0]"
   ]
  },
  {
   "cell_type": "code",
   "execution_count": 18,
   "metadata": {},
   "outputs": [
    {
     "name": "stdout",
     "output_type": "stream",
     "text": [
      "3.32850 ms\n"
     ]
    }
   ],
   "source": [
    "@cuda.jit\n",
    "def kernel_centertovertex_2d(w_c:'float[:]', w_ghost:'float[:]', w_halo:'float[:]', w_haloghost:'float[:]',\n",
    "                      centerc:'float[:,:]', centerh:'float[:,:]', cellid:'int32[:,:]', ghostid:'int32[:,:]', haloghostid:'int32[:,:]',\n",
    "                      periodicid:'int32[:,:]',\n",
    "                      haloid:'int32[:,:]', vertexn:'float[:,:]', centergf:'float[:,:]', halocenterg:'float[:,:]',\n",
    "                      R_x:'float[:]', R_y:'float[:]', R_z:'float[:]', lambda_x:'float[:]',lambda_y:'float[:]', \n",
    "                      lambda_z:'float[:]', number:'uint32[:]', shift:'float[:,:]',  w_n:'float[:]'):\n",
    "   \n",
    "    i = cuda.grid(1)\n",
    "\n",
    "    if i >= vertexn.shape[0]:\n",
    "      return\n",
    "\n",
    "    w_n[i] = 0.\n",
    "    \n",
    "  \n",
    "    for j in range(cellid[i][-1]):\n",
    "      cell = cellid[i][j]\n",
    "      #!center[:] = centerc[cell][:]\n",
    "      \n",
    "      xdiff = centerc[cell][0] - vertexn[i][0]\n",
    "      ydiff = centerc[cell][1] - vertexn[i][1]\n",
    "      alpha = (1. + lambda_x[i]*xdiff + lambda_y[i]*ydiff)/(number[i] + lambda_x[i]*R_x[i] + lambda_y[i]*R_y[i])\n",
    "      \n",
    "      w_n[i]  += alpha * w_c[cell]\n",
    "        \n",
    "    for j in range(ghostid[i][-1]):\n",
    "      cell = ghostid[i][j]\n",
    "      #!center[:] = centergf[cell][0:3]\n",
    "      \n",
    "      xdiff = centergf[cell][0] - vertexn[i][0]\n",
    "      ydiff = centergf[cell][1] - vertexn[i][1]\n",
    "      alpha = (1. + lambda_x[i]*xdiff + lambda_y[i]*ydiff)/(number[i] + lambda_x[i]*R_x[i] + lambda_y[i]*R_y[i])\n",
    "      \n",
    "      w_n[i]  += alpha * w_ghost[cell]\n",
    "        \n",
    "        \n",
    "    for j in range(haloghostid[i][-1]):\n",
    "      cell = haloghostid[i][j]\n",
    "      #!center[:] = halocenterg[cell][0:3]\n",
    "    \n",
    "      xdiff = halocenterg[cell][0] - vertexn[i][0]\n",
    "      ydiff = halocenterg[cell][1] - vertexn[i][1]\n",
    "      \n",
    "      alpha = (1. + lambda_x[i]*xdiff + lambda_y[i]*ydiff)/(number[i] + lambda_x[i]*R_x[i] + lambda_y[i]*R_y[i])\n",
    "      \n",
    "      w_n[i]  += alpha * w_haloghost[cell]\n",
    "      \n",
    "    for j in range(haloid[i][-1]):\n",
    "      cell = haloid[i][j]\n",
    "      #!center[:] = centerh[cell][0:3]\n",
    "    \n",
    "      xdiff = centerh[cell][0] - vertexn[i][0]\n",
    "      ydiff = centerh[cell][1] - vertexn[i][1]\n",
    "      alpha = (1. + lambda_x[i]*xdiff + lambda_y[i]*ydiff)/(number[i] + lambda_x[i]*R_x[i] + lambda_y[i]*R_y[i])\n",
    "    \n",
    "      w_n[i]  += alpha * w_halo[cell]\n",
    "            \n",
    "    #TODO Must be keeped like that checked ok ;)\n",
    "    if vertexn[i][3] == 11 or vertexn[i][3] == 22 :\n",
    "      for j in range(periodicid[i][-1]):\n",
    "        cell = periodicid[i][j]\n",
    "        #!center[:] = centerc[cell][0:3] \n",
    "        \n",
    "        xdiff = centerc[cell][0] + shift[cell][0] - vertexn[i][0]\n",
    "        ydiff = centerc[cell][1] - vertexn[i][1]\n",
    "        alpha = (1. + lambda_x[i]*xdiff + lambda_y[i]*ydiff)/(number[i] + lambda_x[i]*R_x[i] + lambda_y[i]*R_y[i])\n",
    "        \n",
    "        w_n[i]  += alpha * w_c[cell]\n",
    "                \n",
    "    elif vertexn[i][3] == 33 or vertexn[i][3] ==44:\n",
    "      for j in range(periodicid[i][-1]):\n",
    "        cell = periodicid[i][j]\n",
    "        #!center[:] = centerc[cell][0:3] \n",
    "        \n",
    "        xdiff =  centerc[cell][0] - vertexn[i][0]\n",
    "        ydiff =  centerc[cell][1] + shift[cell][1] - vertexn[i][1]\n",
    "        alpha = (1. + lambda_x[i]*xdiff + lambda_y[i]*ydiff)/(number[i] + lambda_x[i]*R_x[i] + lambda_y[i]*R_y[i])\n",
    "        \n",
    "        w_n[i]  += alpha * w_c[cell]\n",
    "\n",
    "\n",
    "\n",
    "\n",
    "def cuda_numba_centertovertex_2d():\n",
    "  nb_element = len(d_vertexn)\n",
    "  nb_threads = 32\n",
    "  nb_blocks = nb_element // 32 + 1\n",
    "\n",
    "\n",
    "  kernel_centertovertex_2d[nb_blocks, nb_threads](\n",
    "    d_w_c,\n",
    "    d_w_ghost,\n",
    "    d_w_halo,\n",
    "    d_w_haloghost,\n",
    "    d_centerc,\n",
    "    d_centerh,\n",
    "    d_cellid,\n",
    "    d_ghostid,\n",
    "    d_haloghostid,\n",
    "    d_periodicid,\n",
    "    d_haloid,\n",
    "    d_vertexn,\n",
    "    d_centergf,\n",
    "    d_halocenterg,\n",
    "    d_R_x,\n",
    "    d_R_y,\n",
    "    d_R_z,\n",
    "    d_lambda_x,\n",
    "    d_lambda_y,\n",
    "    d_lambda_z,\n",
    "    d_number,\n",
    "    d_shift,\n",
    "    d_w_n,\n",
    "  )\n",
    "  cuda.synchronize()\n",
    "\n",
    "test_time(700, cuda_numba_centertovertex_2d)"
   ]
  },
  {
   "cell_type": "code",
   "execution_count": 19,
   "metadata": {},
   "outputs": [
    {
     "data": {
      "image/png": "[encoded data removed]",
      "text/plain": [
       "<Figure size 640x480 with 1 Axes>"
      ]
     },
     "metadata": {},
     "output_type": "display_data"
    }
   ],
   "source": [
    "def verify(a, b):\n",
    "  b = b.copy_to_host()\n",
    "  plt.plot(a)\n",
    "  plt.plot(b)\n",
    "\n",
    "  #assert\n",
    "  np.testing.assert_almost_equal(a, b, decimal=2, )\n",
    "  plt.show()\n",
    "\n",
    "verify(host_w_n, d_w_n)"
   ]
  }
 ],
 "metadata": {
  "kernelspec": {
   "display_name": "stage",
   "language": "python",
   "name": "python3"
  },
  "language_info": {
   "codemirror_mode": {
    "name": "ipython",
    "version": 3
   },
   "file_extension": ".py",
   "mimetype": "text/x-python",
   "name": "python",
   "nbconvert_exporter": "python",
   "pygments_lexer": "ipython3",
   "version": "3.8.18"
  }
 },
 "nbformat": 4,
 "nbformat_minor": 2
}
