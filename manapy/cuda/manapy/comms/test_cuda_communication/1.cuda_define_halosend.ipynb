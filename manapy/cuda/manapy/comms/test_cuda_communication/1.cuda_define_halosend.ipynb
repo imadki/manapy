{
 "cells": [
  {
   "cell_type": "code",
   "execution_count": 1,
   "metadata": {},
   "outputs": [],
   "source": [
    "from mpi4py import MPI\n",
    "from manapy.ast import Variable\n",
    "from manapy.base.base import Struct\n",
    "from manapy.ddm import Domain\n",
    "from manapy.partitions import MeshPartition\n",
    "from manapy.solvers.advec.tools_utils import initialisation_gaussian_2d\n",
    "import numpy as np\n",
    "import time\n",
    "from numba import cuda\n",
    "from manapy.solvers.advec import AdvectionSolver\n",
    "\n",
    "import matplotlib.pyplot as plt\n",
    "\n",
    "from timeit import default_timer as timer\n",
    "from manapy.cuda.utils import (VarClass, GPU_Backend)\n",
    "\n",
    "###############\n",
    "# test_time\n",
    "###############\n",
    "\n",
    "def test_time(iter, fun):\n",
    "  #fun()\n",
    "  start_time = timer()\n",
    "  for _ in range(iter):\n",
    "    fun()\n",
    "  end_time = timer()\n",
    "  elapsed_time = (end_time - start_time) / iter\n",
    "  print(f\"{elapsed_time * 1000:.5f} ms\")\n",
    "  #print(f\"{elapsed_time * 1000000:.5f} micros\")\n",
    "\n",
    "###############\n",
    "# init\n",
    "###############\n",
    "def init(dim, mesh_path):\n",
    "  GPU_Backend.float_precision = 'float64'\n",
    "  running_conf = Struct(backend=\"numba\", signature=True, cache=True, float_precision=\"double\")\n",
    "  MeshPartition(mesh_path, dim=dim, conf=running_conf, periodic=[0,0,0])\n",
    "\n",
    "  domain = Domain(dim=dim, conf=running_conf)\n",
    "  ne = Variable(domain=domain)\n",
    "  u  = Variable(domain=domain)\n",
    "  v  = Variable(domain=domain)\n",
    "  w  = Variable(domain=domain)\n",
    "  \n",
    "  P = Variable(domain=domain)\n",
    "  Pinit = 2.0\n",
    "  cells = domain.cells\n",
    "  initialisation_gaussian_2d(ne.cell, u.cell, v.cell, P.cell, cells.center, Pinit)\n",
    "\n",
    "  u.face[:] = 2.\n",
    "  v.face[:] = 2.\n",
    "  w.face[:] = 1.\n",
    "  \n",
    "  u.interpolate_facetocell()\n",
    "  v.interpolate_facetocell()\n",
    "  w.interpolate_facetocell()\n",
    "\n",
    "  \n",
    "  return (domain, ne, u, v, w, P, running_conf)"
   ]
  },
  {
   "cell_type": "code",
   "execution_count": 6,
   "metadata": {},
   "outputs": [
    {
     "name": "stdout",
     "output_type": "stream",
     "text": [
      "Reading gmsh file ...\n",
      "Saving partition files ...\n",
      "Number of Cells: 105826\n",
      "Number of Vertices: 53314\n",
      "Local domain contruction ...\n"
     ]
    }
   ],
   "source": [
    "dim = 2\n",
    "mesh_file = \"/home/aben-ham/Desktop/work/stage/my_manapy/manapy/mesh/2D/carre.msh\"\n",
    "#mesh_file = \"/home/ayoub.hamou/mesh/square.msh\"\n",
    "#mesh_file = \"/home/aben-ham/Desktop/work/stage/my_manapy/gpu_accelerator/functions/square.msh\"\n",
    "domain, ne, u, v, w, P, running_conf = init(dim=dim, mesh_path=mesh_file)"
   ]
  },
  {
   "cell_type": "code",
   "execution_count": 33,
   "metadata": {},
   "outputs": [
    {
     "name": "stdout",
     "output_type": "stream",
     "text": [
      "<class 'manapy.cuda.utils.VarClass.VarClass'> (100,) float64\n",
      "<class 'manapy.cuda.utils.VarClass.VarClass'> (2,) float64\n",
      "<class 'manapy.cuda.utils.VarClass.VarClass'> (1,) int32\n"
     ]
    }
   ],
   "source": [
    "# args list\n",
    "#? The order is imported of the argument list\n",
    "\n",
    "w_c = np.array(np.arange(0, 100), dtype=GPU_Backend.float_precision)\n",
    "w_halosend = np.array([0, 0], dtype=GPU_Backend.float_precision)\n",
    "indsend = np.array([8], dtype='int32')\n",
    "\n",
    "args = [\n",
    "  VarClass(w_c),\n",
    "  VarClass(w_halosend),\n",
    "  VarClass(indsend),\n",
    "]\n",
    "\n",
    "for arg in args:\n",
    "  print(type(arg), arg.shape, arg.dtype)"
   ]
  },
  {
   "cell_type": "code",
   "execution_count": 19,
   "metadata": {},
   "outputs": [
    {
     "name": "stdout",
     "output_type": "stream",
     "text": [
      "compile define_halosend to cpu => signature=(float64[:], float64[:], int32[:])\n",
      "compile kernel_define_halosend to cuda => signature=void(float64[:], float64[:], int32[:])\n"
     ]
    }
   ],
   "source": [
    "from manapy.comms.communication import define_halosend as cpu_function\n",
    "from manapy.cuda.manapy.comms.cuda_communication import get_kernel_define_halosend as gpu_function\n",
    "\n",
    "numba_fun = domain.backend.compile(cpu_function, echo=True, signature=True)\n",
    "cuda_fun = gpu_function()"
   ]
  },
  {
   "cell_type": "code",
   "execution_count": 34,
   "metadata": {},
   "outputs": [],
   "source": [
    "numba_fun(*args)\n",
    "#%timeit numba_fun(*args)"
   ]
  },
  {
   "cell_type": "code",
   "execution_count": 35,
   "metadata": {},
   "outputs": [],
   "source": [
    "cuda_fun(*args)\n",
    "#%timeit cuda_fun(*args)"
   ]
  },
  {
   "cell_type": "code",
   "execution_count": 36,
   "metadata": {},
   "outputs": [
    {
     "name": "stdout",
     "output_type": "stream",
     "text": [
      "1 => test arg [ 0.  1.  2.  3.  4.  5.  6.  7.  8.  9. 10. 11. 12. 13. 14. 15. 16. 17.\n",
      " 18. 19. 20. 21. 22. 23. 24. 25. 26. 27. 28. 29. 30. 31. 32. 33. 34. 35.\n",
      " 36. 37. 38. 39. 40. 41. 42. 43. 44. 45. 46. 47. 48. 49. 50. 51. 52. 53.\n",
      " 54. 55. 56. 57. 58. 59. 60. 61. 62. 63. 64. 65. 66. 67. 68. 69. 70. 71.\n",
      " 72. 73. 74. 75. 76. 77. 78. 79. 80. 81. 82. 83. 84. 85. 86. 87. 88. 89.\n",
      " 90. 91. 92. 93. 94. 95. 96. 97. 98. 99.]\n",
      "2 => test arg [8. 8.]\n"
     ]
    },
    {
     "ename": "AssertionError",
     "evalue": "\nArrays are not almost equal to 2 decimals\n\nMismatched elements: 1 / 2 (50%)\nMax absolute difference: 8.\nMax relative difference: 0.\n x: VarClass([8., 8.])\n y: array([8., 0.])",
     "output_type": "error",
     "traceback": [
      "\u001b[0;31m---------------------------------------------------------------------------\u001b[0m",
      "\u001b[0;31mAssertionError\u001b[0m                            Traceback (most recent call last)",
      "Cell \u001b[0;32mIn[36], line 17\u001b[0m\n\u001b[1;32m     15\u001b[0m \u001b[38;5;28;01mfor\u001b[39;00m i, arg \u001b[38;5;129;01min\u001b[39;00m \u001b[38;5;28menumerate\u001b[39m(args):\n\u001b[1;32m     16\u001b[0m   \u001b[38;5;28mprint\u001b[39m(\u001b[38;5;124mf\u001b[39m\u001b[38;5;124m\"\u001b[39m\u001b[38;5;132;01m{\u001b[39;00mi\u001b[38;5;250m \u001b[39m\u001b[38;5;241m+\u001b[39m\u001b[38;5;250m \u001b[39m\u001b[38;5;241m1\u001b[39m\u001b[38;5;132;01m}\u001b[39;00m\u001b[38;5;124m => test arg \u001b[39m\u001b[38;5;132;01m{\u001b[39;00marg\u001b[38;5;132;01m}\u001b[39;00m\u001b[38;5;124m\"\u001b[39m)\n\u001b[0;32m---> 17\u001b[0m   \u001b[43mverify\u001b[49m\u001b[43m(\u001b[49m\u001b[43marg\u001b[49m\u001b[43m,\u001b[49m\u001b[43m \u001b[49m\u001b[43mdecimal\u001b[49m\u001b[38;5;241;43m=\u001b[39;49m\u001b[38;5;241;43m2\u001b[39;49m\u001b[43m)\u001b[49m\n",
      "Cell \u001b[0;32mIn[36], line 12\u001b[0m, in \u001b[0;36mverify\u001b[0;34m(a, decimal)\u001b[0m\n\u001b[1;32m     10\u001b[0m \u001b[38;5;28;01mdef\u001b[39;00m \u001b[38;5;21mverify\u001b[39m(a, decimal):\n\u001b[1;32m     11\u001b[0m   b \u001b[38;5;241m=\u001b[39m VarClass\u001b[38;5;241m.\u001b[39mto_device(a)\n\u001b[0;32m---> 12\u001b[0m   \u001b[43mnp\u001b[49m\u001b[38;5;241;43m.\u001b[39;49m\u001b[43mtesting\u001b[49m\u001b[38;5;241;43m.\u001b[39;49m\u001b[43massert_almost_equal\u001b[49m\u001b[43m(\u001b[49m\u001b[43ma\u001b[49m\u001b[43m,\u001b[49m\u001b[43m \u001b[49m\u001b[43mb\u001b[49m\u001b[43m,\u001b[49m\u001b[43m \u001b[49m\u001b[43mdecimal\u001b[49m\u001b[38;5;241;43m=\u001b[39;49m\u001b[43mdecimal\u001b[49m\u001b[43m)\u001b[49m\n",
      "    \u001b[0;31m[... skipping hidden 2 frame]\u001b[0m\n",
      "File \u001b[0;32m~/.local/lib/python3.8/site-packages/numpy/testing/_private/utils.py:844\u001b[0m, in \u001b[0;36massert_array_compare\u001b[0;34m(comparison, x, y, err_msg, verbose, header, precision, equal_nan, equal_inf)\u001b[0m\n\u001b[1;32m    840\u001b[0m         err_msg \u001b[38;5;241m+\u001b[39m\u001b[38;5;241m=\u001b[39m \u001b[38;5;124m'\u001b[39m\u001b[38;5;130;01m\\n\u001b[39;00m\u001b[38;5;124m'\u001b[39m \u001b[38;5;241m+\u001b[39m \u001b[38;5;124m'\u001b[39m\u001b[38;5;130;01m\\n\u001b[39;00m\u001b[38;5;124m'\u001b[39m\u001b[38;5;241m.\u001b[39mjoin(remarks)\n\u001b[1;32m    841\u001b[0m         msg \u001b[38;5;241m=\u001b[39m build_err_msg([ox, oy], err_msg,\n\u001b[1;32m    842\u001b[0m                             verbose\u001b[38;5;241m=\u001b[39mverbose, header\u001b[38;5;241m=\u001b[39mheader,\n\u001b[1;32m    843\u001b[0m                             names\u001b[38;5;241m=\u001b[39m(\u001b[38;5;124m'\u001b[39m\u001b[38;5;124mx\u001b[39m\u001b[38;5;124m'\u001b[39m, \u001b[38;5;124m'\u001b[39m\u001b[38;5;124my\u001b[39m\u001b[38;5;124m'\u001b[39m), precision\u001b[38;5;241m=\u001b[39mprecision)\n\u001b[0;32m--> 844\u001b[0m         \u001b[38;5;28;01mraise\u001b[39;00m \u001b[38;5;167;01mAssertionError\u001b[39;00m(msg)\n\u001b[1;32m    845\u001b[0m \u001b[38;5;28;01mexcept\u001b[39;00m \u001b[38;5;167;01mValueError\u001b[39;00m:\n\u001b[1;32m    846\u001b[0m     \u001b[38;5;28;01mimport\u001b[39;00m \u001b[38;5;21;01mtraceback\u001b[39;00m\n",
      "\u001b[0;31mAssertionError\u001b[0m: \nArrays are not almost equal to 2 decimals\n\nMismatched elements: 1 / 2 (50%)\nMax absolute difference: 8.\nMax relative difference: 0.\n x: VarClass([8., 8.])\n y: array([8., 0.])"
     ]
    }
   ],
   "source": [
    "# verify\n",
    "\n",
    "def plot(a):\n",
    "  b = VarClass.to_device(a).copy_to_host()\n",
    "  plt.plot(a, label=\"cpu\")\n",
    "  plt.plot(b, label=\"gpu\")\n",
    "  plt.legend()\n",
    "  plt.show()\n",
    "\n",
    "def verify(a, decimal):\n",
    "  b = VarClass.to_device(a)\n",
    "  np.testing.assert_almost_equal(a, b, decimal=decimal)\n",
    "\n",
    "\n",
    "for i, arg in enumerate(args):\n",
    "  print(f\"{i + 1} => test arg {arg}\")\n",
    "  verify(arg, decimal=2)"
   ]
  }
 ],
 "metadata": {
  "kernelspec": {
   "display_name": "stage",
   "language": "python",
   "name": "python3"
  },
  "language_info": {
   "codemirror_mode": {
    "name": "ipython",
    "version": 3
   },
   "file_extension": ".py",
   "mimetype": "text/x-python",
   "name": "python",
   "nbconvert_exporter": "python",
   "pygments_lexer": "ipython3",
   "version": "3.8.18"
  }
 },
 "nbformat": 4,
 "nbformat_minor": 2
}
