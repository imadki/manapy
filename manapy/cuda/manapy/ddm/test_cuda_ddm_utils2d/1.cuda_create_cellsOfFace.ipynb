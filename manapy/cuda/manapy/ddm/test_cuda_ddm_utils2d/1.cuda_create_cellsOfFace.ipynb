{
 "cells": [
  {
   "cell_type": "code",
   "execution_count": 99,
   "metadata": {},
   "outputs": [],
   "source": [
    "from mpi4py import MPI\n",
    "from manapy.ast import Variable\n",
    "from manapy.base.base import Struct\n",
    "from manapy.ddm import Domain\n",
    "from manapy.partitions import MeshPartition\n",
    "from manapy.solvers.advec.tools_utils import initialisation_gaussian_2d\n",
    "import numpy as np\n",
    "import time\n",
    "from numba import cuda\n",
    "\n",
    "import matplotlib.pyplot as plt\n",
    "\n",
    "from timeit import default_timer as timer\n",
    "from manapy.cuda.utils import VarClass\n",
    "from manapy.cuda.utils import GPU_Backend\n",
    "\n",
    "###############\n",
    "# test_time\n",
    "###############\n",
    "\n",
    "def test_time(iter, fun):\n",
    "  #fun()\n",
    "  start_time = timer()\n",
    "  for _ in range(iter):\n",
    "    fun()\n",
    "  end_time = timer()\n",
    "  elapsed_time = (end_time - start_time) / iter\n",
    "  print(f\"{elapsed_time * 1000:.5f} ms\")\n",
    "  #print(f\"{elapsed_time * 1000000:.5f} micros\")\n",
    "\n",
    "###############\n",
    "# init\n",
    "###############\n",
    "def init(dim, mesh_path):\n",
    "  running_conf = Struct(backend=\"numba\", signature=True, cache=True, float_precision=\"single\")\n",
    "  MeshPartition(mesh_path, dim=dim, conf=running_conf, periodic=[0,0,0])\n",
    "\n",
    "  running_conf = Struct(backend=\"numba\", signature=True, cache =True, float_precision=\"single\")\n",
    "  domain = Domain(dim=dim, conf=running_conf)\n",
    "  ne = Variable(domain=domain)\n",
    "  u  = Variable(domain=domain)\n",
    "  v  = Variable(domain=domain)\n",
    "  w  = Variable(domain=domain)\n",
    "  \n",
    "  P = Variable(domain=domain)\n",
    "  Pinit = 2.0\n",
    "  cells = domain.cells\n",
    "  initialisation_gaussian_2d(ne.cell, u.cell, v.cell, P.cell, cells.center, Pinit)\n",
    "\n",
    "  u.face[:] = 2.\n",
    "  v.face[:] = 0.\n",
    "  w.face[:] = 0.\n",
    "  \n",
    "  u.interpolate_facetocell()\n",
    "  v.interpolate_facetocell()\n",
    "  w.interpolate_facetocell()\n",
    "  return (domain, ne, u, v, w, P)"
   ]
  },
  {
   "cell_type": "code",
   "execution_count": 100,
   "metadata": {},
   "outputs": [
    {
     "name": "stdout",
     "output_type": "stream",
     "text": [
      "I am the rank 0 i'm using this GPU b'NVIDIA GeForce GTX 950M' with id 0\n",
      "Reading gmsh file ...\n",
      "Saving partition files ...\n",
      "Number of Cells: 4006\n",
      "Number of Vertices: 1721\n",
      "Local domain contruction ...\n"
     ]
    }
   ],
   "source": [
    "GPU_Backend.init_stream()\n",
    "dim = 3\n",
    "#mesh_file = \"/home/aben-ham/Desktop/work/stage/my_manapy/manapy/mesh/2D/carre.msh\"\n",
    "mesh_file = \"/home/aben-ham/Desktop/work/stage/manapy/mesh/3D/cube_bis.msh\"\n",
    "#mesh_file = \"/home/ayoub.hamou/mesh/square.msh\"\n",
    "#mesh_file = \"/home/aben-ham/Desktop/work/stage/my_manapy/gpu_accelerator/functions/square.msh\"\n",
    "domain, ne, u, v, w, P = init(dim=dim, mesh_path=mesh_file)"
   ]
  },
  {
   "cell_type": "code",
   "execution_count": 102,
   "metadata": {},
   "outputs": [
    {
     "data": {
      "text/plain": [
       "array([1453, 1482, 1422, 1564,    0,    0,    0,    0,    4], dtype=int32)"
      ]
     },
     "execution_count": 102,
     "metadata": {},
     "output_type": "execute_result"
    }
   ],
   "source": [
    "# domain._cells._tc\n",
    "domain._cells._nodeid[0]\n",
    "# domain._nodes._vertex\n",
    "# domain._halos._halosint\n",
    "# domain._halos._halosext\n",
    "# domain._halos._centvol\n",
    "# domain._cells._globtoloc\n",
    "# domain._cells._loctoglob\n",
    "# domain._nodes._loctoglob\n",
    "# domain._halos._neigh\n",
    "# domain._nodes._nparts"
   ]
  },
  {
   "cell_type": "code",
   "execution_count": null,
   "metadata": {},
   "outputs": [],
   "source": [
    "print(domain._nbcells)\n",
    "print(domain._cells._nodeid.shape)"
   ]
  },
  {
   "cell_type": "code",
   "execution_count": null,
   "metadata": {},
   "outputs": [],
   "source": [
    "domain._typeOfCells"
   ]
  },
  {
   "cell_type": "code",
   "execution_count": null,
   "metadata": {},
   "outputs": [],
   "source": [
    "# args list\n",
    "#? The order is imported of the argument list\n",
    "\n",
    "VarClass.convert_to_var_class([\n",
    "    domain.nodes,\n",
    "    domain.faces,\n",
    "    domain.cells,\n",
    "    domain.halos,\n",
    "])\n",
    "\n",
    "args = [\n",
    "  domain._cells._faceid,\n",
    "  domain._nbcells,\n",
    "  domain._nbfaces,\n",
    "  domain._faces._cellid, \n",
    "  domain._maxcellfid\n",
    "]\n",
    "\n"
   ]
  },
  {
   "cell_type": "code",
   "execution_count": null,
   "metadata": {},
   "outputs": [],
   "source": [
    "def create_cellsOfFace(faceid:'int32[:,:]', nbelements:'int32', nbfaces:'int32', cellid:'int32[:,:]', maxcellfid:'int32'):\n",
    "    for i in range(nbelements):\n",
    "        for j in range(faceid[i][-1]):\n",
    "            if cellid[faceid[i][j]][0] == -1 :\n",
    "              cellid[faceid[i][j]][0] = i\n",
    "            else:\n",
    "              cellid[faceid[i][j]][1] = i\n",
    "\n"
   ]
  },
  {
   "cell_type": "code",
   "execution_count": null,
   "metadata": {},
   "outputs": [],
   "source": [
    "res = domain._faces._cellid"
   ]
  },
  {
   "cell_type": "code",
   "execution_count": null,
   "metadata": {},
   "outputs": [],
   "source": [
    "res"
   ]
  },
  {
   "cell_type": "code",
   "execution_count": null,
   "metadata": {},
   "outputs": [],
   "source": [
    "domain._faces._cellid"
   ]
  },
  {
   "cell_type": "code",
   "execution_count": null,
   "metadata": {},
   "outputs": [],
   "source": [
    "domain._faces._cellid == res"
   ]
  },
  {
   "cell_type": "code",
   "execution_count": null,
   "metadata": {},
   "outputs": [],
   "source": [
    "# def find_duplicates(arr):\n",
    "#     unique_elements, counts = np.unique(arr, return_counts=True)\n",
    "#     duplicates = unique_elements[counts > 1]\n",
    "#     return duplicates\n",
    "\n",
    "# #? There are duplicate elements on host_cellfid.\n",
    "# #? Data race; use atomic operations to prevent it.\n",
    "# # host_cellfid\n",
    "# find_duplicates(domain._cells._faceid.ravel())"
   ]
  },
  {
   "cell_type": "code",
   "execution_count": null,
   "metadata": {},
   "outputs": [],
   "source": [
    "arr = domain._cells._faceid\n",
    "for i in range(len(arr)):\n",
    "  if find_duplicates(arr[i][:-1]).shape[0] != 0:\n",
    "    print(arr[i])"
   ]
  },
  {
   "cell_type": "code",
   "execution_count": null,
   "metadata": {},
   "outputs": [],
   "source": [
    "from manapy.ddm.ddm_utils2d import create_cellsOfFace as cpu_function\n",
    "from manapy.cuda.manapy.ddm.cuda_ddm_utils2d import get_kernel_create_cellsOfFace as gpu_function\n",
    "\n",
    "numba_fun = domain.backend.compile(cpu_function, echo=True, signature=True)\n",
    "cuda_fun = gpu_function()"
   ]
  },
  {
   "cell_type": "code",
   "execution_count": null,
   "metadata": {},
   "outputs": [],
   "source": [
    "numba_fun(*args)\n",
    "#%timeit numba_fun(*args)"
   ]
  },
  {
   "cell_type": "code",
   "execution_count": null,
   "metadata": {},
   "outputs": [],
   "source": [
    "cuda_fun(*args)\n",
    "#%timeit cuda_fun(*args)"
   ]
  },
  {
   "cell_type": "code",
   "execution_count": null,
   "metadata": {},
   "outputs": [],
   "source": [
    "# verify\n",
    "\n",
    "def verify(a, decimal, plot):\n",
    "  b = VarClass.to_device(a)\n",
    "  if plot == True:\n",
    "    plt.plot(a, label=\"cpu\")\n",
    "    plt.plot(b, label=\"gpu\")\n",
    "    plt.legend()\n",
    "    plt.show()\n",
    "  np.testing.assert_almost_equal(a, b, decimal=decimal)\n",
    "\n",
    "\n",
    "for i, arg in enumerate(args):\n",
    "  print(f\"{i + 1} => test arg {arg}\")\n",
    "  verify(arg, decimal=2, plot=False)\n"
   ]
  },
  {
   "cell_type": "code",
   "execution_count": null,
   "metadata": {},
   "outputs": [],
   "source": [
    "dir(np.random)"
   ]
  },
  {
   "cell_type": "code",
   "execution_count": null,
   "metadata": {},
   "outputs": [],
   "source": [
    "import numpy as np\n",
    "\n",
    "p_faces = (np.random.rand(100).reshape((10, 10)) * 100).astype(np.int32)\n",
    "res = np.sort(p_faces[:, :-1], axis=1, kind='quicksort')[:, ::-1]\n",
    "res\n",
    "#[:, ::-1]"
   ]
  },
  {
   "cell_type": "code",
   "execution_count": null,
   "metadata": {},
   "outputs": [],
   "source": [
    "np.unique(res, axis=0, return_inverse=True)"
   ]
  },
  {
   "cell_type": "code",
   "execution_count": null,
   "metadata": {},
   "outputs": [],
   "source": [
    "from numba import cuda\n",
    "import numpy as np\n",
    "\n",
    "a = np.ones(100000000)\n",
    "\n",
    "\n",
    "@cuda.jit\n",
    "def test(a: 'int[:]', res: 'int[:]'):\n",
    "  start = cuda.grid(1)\n",
    "  grid_size = cuda.gridsize(1)\n",
    "\n",
    "  if start == 0:\n",
    "    res[0] = 0\n",
    "  for idx in range(start, a.shape[0], grid_size):\n",
    "    cuda.atomic.add(res, -1, a[idx])\n",
    "\n",
    "d_a = cuda.to_device(a)\n",
    "d_sum = cuda.to_device(np.zeros(1, dtype=np.int32))\n",
    "test[1000, 1000](d_a, d_sum)\n",
    "cuda.synchronize()"
   ]
  },
  {
   "cell_type": "code",
   "execution_count": null,
   "metadata": {},
   "outputs": [],
   "source": [
    "d_sum[0]"
   ]
  },
  {
   "cell_type": "code",
   "execution_count": null,
   "metadata": {},
   "outputs": [],
   "source": [
    "def run():\n",
    "  test[1000, 1000](d_a, d_sum)\n",
    "  cuda.synchronize()\n",
    "\n",
    "%timeit run()"
   ]
  },
  {
   "cell_type": "code",
   "execution_count": null,
   "metadata": {},
   "outputs": [],
   "source": [
    "#    'hex': {'quad': [[0, 1, 2, 3], [0, 1, 4, 5], [1, 2, 5, 6],\n",
    "#                     [2, 3, 6, 7], [0, 3, 4, 7], [4, 5, 6, 7]]},\n",
    "\n",
    "import numba\n",
    "from numba import cuda\n",
    "import numpy as np\n",
    "\n",
    "@numba.jit\n",
    "def create_mesh(nb_x):\n",
    "  cells = np.zeros(shape=(nb_x, 8), dtype=np.int32)\n",
    "  cells[0][0] = 0\n",
    "  cells[0][1] = 1\n",
    "  cells[0][2] = 2\n",
    "  cells[0][3] = 3\n",
    "  for i in range(nb_x):\n",
    "    cells[i][4] = cells[i][0] + 4\n",
    "    cells[i][5] = cells[i][1] + 4\n",
    "    cells[i][6] = cells[i][2] + 4\n",
    "    cells[i][7] = cells[i][3] + 4\n",
    "\n",
    "    if i + 1 < nb_x:\n",
    "      cells[i + 1][0] = cells[i][4]\n",
    "      cells[i + 1][1] = cells[i][5]\n",
    "      cells[i + 1][2] = cells[i][6]\n",
    "      cells[i + 1][3] = cells[i][7]\n",
    "  return cells\n",
    "\n"
   ]
  },
  {
   "cell_type": "code",
   "execution_count": null,
   "metadata": {},
   "outputs": [],
   "source": [
    "cell"
   ]
  },
  {
   "cell_type": "code",
   "execution_count": null,
   "metadata": {},
   "outputs": [],
   "source": [
    "nb_cell = 1000000\n",
    "cell = create_mesh(nb_cell)\n",
    "neighbors = np.zeros(shape=(nb_cell * 4 + 4, 8 + 1), dtype=np.int32)\n",
    "\n",
    "@cuda.jit\n",
    "def create_neighbors_by_vertex(cells: 'int[:, :]', res: 'int[:, :]'):\n",
    "  start = cuda.grid(1)\n",
    "  stride = cuda.gridsize(1)\n",
    "  nb_elements = cells.shape[0]\n",
    "\n",
    "  for idx in range(start, nb_elements, stride):\n",
    "    for i in range(cells[idx].shape[0]):\n",
    "      node = cells[idx][i]\n",
    "      j = cuda.atomic.add(res[node], -1, 1)\n",
    "      j = j % 8\n",
    "      res[node][j] = idx\n",
    "\n",
    "d_cells = cuda.to_device(cell)\n",
    "d_neighbors = cuda.to_device(neighbors)\n",
    "\n",
    "create_neighbors_by_vertex[1000, 1000](d_cells, d_neighbors)\n",
    "\n",
    "res = d_neighbors.copy_to_host()\n",
    "res"
   ]
  },
  {
   "cell_type": "code",
   "execution_count": null,
   "metadata": {},
   "outputs": [],
   "source": [
    "def run():\n",
    "  create_neighbors_by_vertex[1000, 1000](d_cells, d_neighbors)\n",
    "  cuda.synchronize()\n",
    "\n",
    "%timeit run()"
   ]
  },
  {
   "cell_type": "code",
   "execution_count": null,
   "metadata": {},
   "outputs": [],
   "source": [
    "res = d_neighbors.copy_to_host()\n",
    "res"
   ]
  },
  {
   "cell_type": "code",
   "execution_count": null,
   "metadata": {},
   "outputs": [],
   "source": [
    "@cuda.jit(device=True)\n",
    "def insertion_sort(arr : 'int[:]'):\n",
    "    for i in range(1, len(arr)):\n",
    "        key = arr[i]\n",
    "        j = i - 1\n",
    "        while j >= 0 and key < arr[j]:\n",
    "            arr[j + 1] = arr[j]\n",
    "            j -= 1\n",
    "        arr[j + 1] = key\n",
    "\n",
    "@cuda.jit\n",
    "def sort_arr(arr : 'int[:, :]'):\n",
    "  start = cuda.grid(1)\n",
    "  stride = cuda.gridsize(1)\n",
    "\n",
    "  for idx in range(start, arr.shape[0], stride):\n",
    "    insertion_sort(arr[idx])\n"
   ]
  },
  {
   "cell_type": "code",
   "execution_count": null,
   "metadata": {},
   "outputs": [],
   "source": [
    "a = np.array(np.random.rand(100000000) * 100, dtype=np.int32)\n",
    "a = a.reshape(1000000, 100)\n",
    "\n",
    "d_a = cuda.to_device(a)\n",
    "sort_arr[1000, 128](d_a)\n",
    "h_a = d_a.copy_to_host()\n",
    "h_a"
   ]
  },
  {
   "cell_type": "code",
   "execution_count": null,
   "metadata": {},
   "outputs": [],
   "source": [
    "\n",
    "\n",
    "\n",
    "\n"
   ]
  },
  {
   "cell_type": "code",
   "execution_count": null,
   "metadata": {},
   "outputs": [
    {
     "data": {
      "text/plain": [
       "array([[0., 0., 0., ..., 0., 0., 8.],\n",
       "       [0., 0., 0., ..., 0., 0., 8.],\n",
       "       [0., 0., 0., ..., 0., 0., 8.],\n",
       "       ...,\n",
       "       [0., 0., 0., ..., 0., 0., 8.],\n",
       "       [0., 0., 0., ..., 0., 0., 8.],\n",
       "       [0., 0., 0., ..., 0., 0., 8.]])"
      ]
     },
     "execution_count": 4,
     "metadata": {},
     "output_type": "execute_result"
    }
   ],
   "source": [
    "arr = np.zeros(shape=(1024, 100))\n",
    "arr[:, -1] = 8\n",
    "arr"
   ]
  },
  {
   "cell_type": "code",
   "execution_count": null,
   "metadata": {},
   "outputs": [
    {
     "data": {
      "text/plain": [
       "1024"
      ]
     },
     "execution_count": 3,
     "metadata": {},
     "output_type": "execute_result"
    }
   ],
   "source": [
    "arr.shape[0]"
   ]
  },
  {
   "cell_type": "code",
   "execution_count": null,
   "metadata": {},
   "outputs": [
    {
     "data": {
      "text/plain": [
       "<numba.cuda.cudadrv.devicearray.DeviceNDArray at 0x745124af7fa0>"
      ]
     },
     "execution_count": 22,
     "metadata": {},
     "output_type": "execute_result"
    }
   ],
   "source": [
    "from numba import cuda\n",
    "import numpy as np\n",
    "\n",
    "@cuda.jit\n",
    "def test(arr):\n",
    "  start = cuda.grid(1)\n",
    "  stride = cuda.gridsize(1)\n",
    "\n",
    "  for idx in range(start, 102400, stride):\n",
    "    for i in range(1, arr[idx][0] + 1):\n",
    "      arr[idx][i] = 1\n",
    "\n",
    "size = 64\n",
    "arr = np.zeros(shape=(102400, size + 1), dtype=np.int32)\n",
    "arr[:, 0] = size\n",
    "arr[:, -1] = size\n",
    "\n",
    "d_arr = cuda.to_device(arr)\n",
    "test[3200, 32](d_arr)\n",
    "d_arr[0]"
   ]
  },
  {
   "cell_type": "code",
   "execution_count": null,
   "metadata": {},
   "outputs": [
    {
     "name": "stderr",
     "output_type": "stream",
     "text": [
      "/home/aben-ham/anaconda3/envs/stage/lib/python3.8/site-packages/numba/cuda/dispatcher.py:536: NumbaPerformanceWarning: Grid size 32 will likely result in GPU under-utilization due to low occupancy.\n",
      "  warn(NumbaPerformanceWarning(msg))\n"
     ]
    },
    {
     "name": "stdout",
     "output_type": "stream",
     "text": [
      "3 ms ± 32.6 µs per loop (mean ± std. dev. of 7 runs, 100 loops each)\n"
     ]
    }
   ],
   "source": [
    "%timeit test[32, 32](d_arr) ;cuda.synchronize()"
   ]
  },
  {
   "cell_type": "code",
   "execution_count": 71,
   "metadata": {},
   "outputs": [],
   "source": [
    "import numpy as np\n",
    "from numba import cuda\n",
    "from numba import jit\n",
    "\n",
    "#@jit(nopython=True)\n",
    "def insertion_sort(arr : 'int[:]'):\n",
    "  for i in range(1, len(arr)):\n",
    "    key = arr[i]\n",
    "    j = i - 1\n",
    "    while j >= 0 and key < arr[j]:\n",
    "      arr[j + 1] = arr[j]\n",
    "      j -= 1\n",
    "    arr[j + 1] = key\n",
    "\n",
    "#@jit(nopython=True)\n",
    "def _is_in_array(array: 'int[:]', item : 'int') -> 'int':\n",
    "  \"\"\"\n",
    "    check if item is in array\n",
    "    return 1 if item in array otherwise 0\n",
    "\n",
    "    Note:\n",
    "      the number of item in the array is array[-1]\n",
    "  \"\"\"\n",
    "  for i in range(array[-1]):\n",
    "    if item == array[i]:\n",
    "      return 1\n",
    "  return 0\n",
    "\n",
    "#@jit(nopython=True)\n",
    "def _intersect_nodes(face_nodes : 'int[:]', nb_nodes : 'int', neighbors_by_node : 'int[:, :]', intersect_cell : 'int[:]'):\n",
    "  \"\"\"\n",
    "    Get the intersection cells of the face nodes\n",
    "\n",
    "    Args:\n",
    "      face_nodes: nodes of the face\n",
    "      nb_nodes : number of nodes of the face\n",
    "      neighbors_by_node: for each node get the neighbor cells\n",
    "\n",
    "    Results:\n",
    "      intersect_cell: common cells between all neighbors of each node (two at most)\n",
    "  \"\"\"\n",
    "  index = 0\n",
    "\n",
    "  intersect_cell[0] = -1\n",
    "  intersect_cell[1] = -1\n",
    "  \n",
    "  cells = neighbors_by_node[face_nodes[0]]\n",
    "  for i in range(cells[-1]):\n",
    "    intersect_cell[index] = cells[i]\n",
    "    for j in range(1, nb_nodes):\n",
    "      if _is_in_array(neighbors_by_node[face_nodes[j]], cells[i]) == 0:\n",
    "        intersect_cell[index] = -1\n",
    "        break\n",
    "    if intersect_cell[index] != -1:\n",
    "      index = index + 1\n",
    "    if index >= 2:\n",
    "      return\n",
    "\n",
    "#@jit(nopython=True)\n",
    "def _create_faces(nodes : 'int[:]', out_faces: 'int[:, :]', size_info: 'int[:]', cell_type : 'int'):\n",
    "  \"\"\"\n",
    "    create cell faces\n",
    "\n",
    "    Args:\n",
    "      nodes : nodes of the cell\n",
    "      cell_type :\n",
    "        # 4 => tetra\n",
    "        # 8 => hexahedron\n",
    "        # 5 => pyramid\n",
    "    \n",
    "    Return:\n",
    "      out_faces: faces of the cell\n",
    "      size_info: \n",
    "        contains number of nodes of each face\n",
    "        and the total number of faces of the cell\n",
    "\n",
    "    Used Map:\n",
    "    'tet': {'tri': [[0, 1, 2], [0, 1, 3], [0, 2, 3], [1, 2, 3]]},\n",
    "\n",
    "    'hex': {'quad': [[0, 1, 2, 3], [0, 1, 4, 5], [1, 2, 5, 6],\n",
    "                     [2, 3, 6, 7], [0, 3, 4, 7], [4, 5, 6, 7]]},\n",
    "\n",
    "    'pri': {'quad': [[0, 1, 3, 4], [1, 2, 4, 5], [0, 2, 3, 5]],\n",
    "            'tri': [[0, 1, 2], [3, 4, 5]]},\n",
    "\n",
    "    'pyr': {'quad': [[0, 1, 2, 3]],\n",
    "            'tri': [[0, 1, 4], [1, 2, 4], [2, 3, 4], [0, 3, 4]]}\n",
    "\n",
    "  \"\"\"\n",
    "\n",
    "\n",
    "  if cell_type == 4:\n",
    "    out_faces[0][0] = nodes[0]\n",
    "    out_faces[0][1] = nodes[1]\n",
    "    out_faces[0][2] = nodes[2]\n",
    "    size_info[0] = 3 #number of nodes\n",
    "\n",
    "    out_faces[1][0] = nodes[0]\n",
    "    out_faces[1][1] = nodes[1]\n",
    "    out_faces[1][2] = nodes[3]\n",
    "    size_info[1] = 3\n",
    "\n",
    "    out_faces[2][0] = nodes[0]\n",
    "    out_faces[2][1] = nodes[2]\n",
    "    out_faces[2][2] = nodes[3]\n",
    "    size_info[2] = 3\n",
    "\n",
    "    out_faces[3][0] = nodes[1]\n",
    "    out_faces[3][1] = nodes[2]\n",
    "    out_faces[3][2] = nodes[3]\n",
    "    size_info[3] = 3\n",
    "    \n",
    "    size_info[-1] = 4 #number of faces\n",
    "\n",
    "  if cell_type == 8:\n",
    "    out_faces[0][0] = nodes[0]\n",
    "    out_faces[0][1] = nodes[1]\n",
    "    out_faces[0][2] = nodes[2]\n",
    "    out_faces[0][3] = nodes[3]\n",
    "    size_info[0] = 4\n",
    "\n",
    "    out_faces[1][0] = nodes[0]\n",
    "    out_faces[1][1] = nodes[1]\n",
    "    out_faces[1][2] = nodes[4]\n",
    "    out_faces[1][3] = nodes[5]\n",
    "    size_info[1] = 4\n",
    "\n",
    "    out_faces[2][0] = nodes[1]\n",
    "    out_faces[2][1] = nodes[2]\n",
    "    out_faces[2][2] = nodes[5]\n",
    "    out_faces[2][3] = nodes[6]\n",
    "    size_info[2] = 4\n",
    "\n",
    "    out_faces[3][0] = nodes[2]\n",
    "    out_faces[3][1] = nodes[3]\n",
    "    out_faces[3][2] = nodes[6]\n",
    "    out_faces[3][3] = nodes[7]\n",
    "    size_info[3] = 4\n",
    "\n",
    "    out_faces[4][0] = nodes[0]\n",
    "    out_faces[4][1] = nodes[3]\n",
    "    out_faces[4][2] = nodes[4]\n",
    "    out_faces[4][3] = nodes[7]\n",
    "    size_info[4] = 4\n",
    "\n",
    "    out_faces[5][0] = nodes[4]\n",
    "    out_faces[5][1] = nodes[5]\n",
    "    out_faces[5][2] = nodes[6]\n",
    "    out_faces[5][3] = nodes[7]\n",
    "    size_info[5] = 4\n",
    "\n",
    "    size_info[-1] = 6\n",
    "  \n",
    "  if cell_type == 5:\n",
    "    out_faces[0][0] = nodes[0]\n",
    "    out_faces[0][1] = nodes[1]\n",
    "    out_faces[0][2] = nodes[2]\n",
    "    out_faces[0][3] = nodes[3]\n",
    "    size_info[0] = 4\n",
    "\n",
    "    out_faces[1][0] = nodes[0]\n",
    "    out_faces[1][1] = nodes[1]\n",
    "    out_faces[1][2] = nodes[4]\n",
    "    size_info[1] = 3\n",
    "\n",
    "    out_faces[2][0] = nodes[1]\n",
    "    out_faces[2][1] = nodes[2]\n",
    "    out_faces[2][2] = nodes[4]\n",
    "    size_info[2] = 3\n",
    "\n",
    "    out_faces[3][0] = nodes[2]\n",
    "    out_faces[3][1] = nodes[3]\n",
    "    out_faces[3][2] = nodes[4]\n",
    "    size_info[3] = 3\n",
    "\n",
    "    out_faces[4][0] = nodes[0]\n",
    "    out_faces[4][1] = nodes[3]\n",
    "    out_faces[4][2] = nodes[4]\n",
    "    size_info[4] = 3\n",
    "\n",
    "    size_info[-1] = 5\n",
    "\n",
    "#@jit(nopython=True)\n",
    "def _has_the_same_items(arr1 : 'int[:]', arr2 : 'int[:]', size : 'int'):\n",
    "  \"\"\"\n",
    "    check if all items of arr1 are in arr2\n",
    "  \"\"\"\n",
    "  for i in range(size):\n",
    "    found = 0\n",
    "    for j in range(size):\n",
    "      if arr1[j] == arr2[i]:\n",
    "        found = 1\n",
    "        break\n",
    "    if found == 0:\n",
    "      return 0\n",
    "  return 1\n",
    "\n",
    "#@jit(nopython=True)\n",
    "def _has_face(cell_faces : 'int[:]', face : 'int[:]', face_size : 'int', faces : 'int[:, :]'):\n",
    "  \"\"\"\n",
    "    - check `face` is in `cell_faces`\n",
    "  \"\"\"\n",
    "  for i in range(cell_faces[-1]):\n",
    "    face_nodes = faces[cell_faces[i]]\n",
    "    if face_size == face_nodes[-1] and _has_the_same_items(face_nodes, face, face_size):\n",
    "      return cell_faces[i]\n",
    "  return -1\n",
    "\n",
    "#@jit(nopython=True)\n",
    "def create_info(\n",
    "  cells : 'int[:, :]',\n",
    "  neighbors_by_node : 'int[:, :]',\n",
    "  faces : 'int[:, :]',\n",
    "  cell_faces : 'int[:, :]',\n",
    "  neighbors_by_face : 'int[:, :]',\n",
    "  faces_counter : 'int[:]',\n",
    "  tmp_cell_faces : 'int[:,:]',\n",
    "  tmp_size_info : 'int[:]'\n",
    "  ):\n",
    "  \"\"\"\n",
    "    - Create faces\n",
    "    - Create cells with their corresponding faces. \n",
    "    - Create cell neighbors of each face.\n",
    "  \"\"\"\n",
    "\n",
    "  intersect_cells = np.zeros(2, dtype=np.int32)\n",
    "\n",
    "  for i in range(cells.shape[0]):\n",
    "    _create_faces(cells[i], tmp_cell_faces, tmp_size_info, cells[i][-1])\n",
    "\n",
    "    # For every face of cell[j]\n",
    "    # Get the intersection of this face's nodes' neighboring cells.\n",
    "    # The result should be two cells `intersect_cells`\n",
    "    for j in range(tmp_size_info[-1]):\n",
    "      _intersect_nodes(tmp_cell_faces[j], tmp_size_info[j], neighbors_by_node, intersect_cells)\n",
    "\n",
    "      # check if the face already created\n",
    "      face_id = _has_face(cell_faces[i], tmp_cell_faces[j], tmp_size_info[j], faces)\n",
    "      \n",
    "      # Create face if note exist\n",
    "      if face_id == -1:\n",
    "        face_id = faces_counter[0]\n",
    "        faces_counter[0] += 1\n",
    "        # copy nodes from tmp_cell_faces\n",
    "        for k in range(tmp_size_info[j]):\n",
    "          faces[face_id][k] = tmp_cell_faces[j][k]\n",
    "        faces[face_id][-1] = tmp_size_info[j]\n",
    "      \n",
    "\n",
    "      # Create cells with their corresponding faces.\n",
    "      # The face has at most two neighbors\n",
    "      # Assign this face to both of them\n",
    "      the_cell = cell_faces[intersect_cells[0]]\n",
    "      if _is_in_array(the_cell, face_id) == 0:\n",
    "        tmp_size = the_cell[-1]\n",
    "        the_cell[tmp_size] = face_id\n",
    "        the_cell[-1] += 1\n",
    "      if intersect_cells[1] != -1 and _is_in_array(cell_faces[intersect_cells[1]], face_id) == 0:\n",
    "        the_cell = cell_faces[intersect_cells[1]]\n",
    "        tmp_size = the_cell[-1]\n",
    "        the_cell[tmp_size] = face_id\n",
    "        the_cell[-1] += 1\n",
    "      \n",
    "      # Create cell neighbors of each face\n",
    "      # face neighbor cells\n",
    "      neighbors_by_face[face_id][0] = intersect_cells[0]\n",
    "      neighbors_by_face[face_id][1] = intersect_cells[1]\n",
    "      \n",
    "      \n",
    "\n",
    "def create_neighbors_by_node(cells : 'int[:, :]', neighbors_by_node : 'int[:, :]', nodes_counter : 'int[:]'):\n",
    "  \"\"\"\n",
    "    Create neighbor cells for each node\n",
    "\n",
    "    Args:\n",
    "      cells: cells with their nodes\n",
    "    \n",
    "    Return:\n",
    "      neighbors_by_node\n",
    "      nodes_counter\n",
    "  \"\"\"\n",
    "  nb_cells = cells.shape[0]\n",
    "\n",
    "  for i in range(nb_cells):\n",
    "    for j in range(cells[i][-1]):\n",
    "      node = neighbors_by_node[cells[i][j]]\n",
    "      size = node[-1]\n",
    "      node[-1] += 1\n",
    "      node[size] = i\n",
    "      if size == 0:\n",
    "        nodes_counter[0] += 1\n",
    "\n",
    "\n",
    "#@jit(nopython=True)\n",
    "def create_cells(nb_x : 'int'):\n",
    "  cells = np.zeros(shape=(nb_x, 9), dtype=np.int32)\n",
    "  cells[0][0] = 0\n",
    "  cells[0][1] = 1\n",
    "  cells[0][2] = 2\n",
    "  cells[0][3] = 3\n",
    "  cells[0][-1] = 8\n",
    "  for i in range(nb_x):\n",
    "    cells[i][4] = cells[i][0] + 4\n",
    "    cells[i][5] = cells[i][1] + 4\n",
    "    cells[i][6] = cells[i][2] + 4\n",
    "    cells[i][7] = cells[i][3] + 4\n",
    "\n",
    "    if i + 1 < nb_x:\n",
    "      cells[i + 1][0] = cells[i][4]\n",
    "      cells[i + 1][1] = cells[i][5]\n",
    "      cells[i + 1][2] = cells[i][6]\n",
    "      cells[i + 1][3] = cells[i][7]\n",
    "    cells[i][-1] = 8\n",
    "  return cells\n",
    "\n",
    "\n",
    "\n",
    "# Try local\n",
    "# Try with sort\n"
   ]
  },
  {
   "cell_type": "code",
   "execution_count": 72,
   "metadata": {},
   "outputs": [],
   "source": [
    "cells = create_cells(2)\n",
    "nb_cells = cells.shape[0]\n",
    "max_nb_faces = 6\n",
    "max_nb_nodes = 4\n",
    "max_nb_neighbors_by_node = 8\n",
    "max_nb_node_by_cell = 8\n",
    "nb_faces = nb_cells * max_nb_faces\n",
    "nb_nodes = nb_cells * max_nb_node_by_cell\n",
    "\n",
    "cell_faces = np.zeros(shape=(nb_cells, max_nb_faces + 1), dtype=np.int32)\n",
    "neighbors_by_face = np.zeros(shape=(nb_faces, 2), dtype=np.int32)\n",
    "\n",
    "faces = np.zeros(shape=(nb_faces, max_nb_nodes + 1), dtype=np.int32)\n",
    "faces_counter = np.zeros(1, dtype=np.int32)\n",
    "\n",
    "neighbors_by_node = np.zeros(shape=(nb_nodes, max_nb_neighbors_by_node + 1), dtype=np.int32)\n",
    "nodes_counter = np.zeros(1, dtype=np.int32)\n",
    "\n",
    "tmp_cell_faces = np.zeros(shape=(max_nb_faces, max_nb_nodes), dtype=np.int32)\n",
    "tmp_size_info = np.zeros(shape=(max_nb_faces + 1), dtype=np.int32)\n",
    "\n",
    "intersect_cells = np.zeros(2, dtype=np.int32)\n",
    "\n",
    "create_neighbors_by_node(cells, neighbors_by_node, nodes_counter)\n",
    "create_info(cells, neighbors_by_node, faces, cell_faces, neighbors_by_face, faces_counter, tmp_cell_faces, tmp_size_info)"
   ]
  },
  {
   "cell_type": "code",
   "execution_count": 73,
   "metadata": {},
   "outputs": [
    {
     "data": {
      "text/plain": [
       "array([[ 0,  1,  2,  3,  4,  5,  6,  7,  8],\n",
       "       [ 4,  5,  6,  7,  8,  9, 10, 11,  8]], dtype=int32)"
      ]
     },
     "execution_count": 73,
     "metadata": {},
     "output_type": "execute_result"
    }
   ],
   "source": [
    "cells"
   ]
  },
  {
   "cell_type": "code",
   "execution_count": 74,
   "metadata": {},
   "outputs": [
    {
     "data": {
      "text/plain": [
       "(array([[ 0,  1,  2,  3,  4],\n",
       "        [ 0,  1,  4,  5,  4],\n",
       "        [ 1,  2,  5,  6,  4],\n",
       "        [ 2,  3,  6,  7,  4],\n",
       "        [ 0,  3,  4,  7,  4],\n",
       "        [ 4,  5,  6,  7,  4],\n",
       "        [ 4,  5,  8,  9,  4],\n",
       "        [ 5,  6,  9, 10,  4],\n",
       "        [ 6,  7, 10, 11,  4],\n",
       "        [ 4,  7,  8, 11,  4],\n",
       "        [ 8,  9, 10, 11,  4],\n",
       "        [ 0,  0,  0,  0,  0]], dtype=int32),\n",
       " array([11], dtype=int32))"
      ]
     },
     "execution_count": 74,
     "metadata": {},
     "output_type": "execute_result"
    }
   ],
   "source": [
    "faces, faces_counter"
   ]
  },
  {
   "cell_type": "code",
   "execution_count": 75,
   "metadata": {},
   "outputs": [
    {
     "data": {
      "text/plain": [
       "array([[ 0,  1,  2,  3,  4,  5,  6],\n",
       "       [ 5,  6,  7,  8,  9, 10,  6]], dtype=int32)"
      ]
     },
     "execution_count": 75,
     "metadata": {},
     "output_type": "execute_result"
    }
   ],
   "source": [
    "cell_faces"
   ]
  },
  {
   "cell_type": "code",
   "execution_count": 76,
   "metadata": {},
   "outputs": [
    {
     "name": "stdout",
     "output_type": "stream",
     "text": [
      "[0 1 2 3 4]\n",
      "[0 1 4 5 4]\n",
      "[1 2 5 6 4]\n",
      "[2 3 6 7 4]\n",
      "[0 3 4 7 4]\n",
      "[4 5 6 7 4]\n",
      "[4 5 8 9 4]\n"
     ]
    }
   ],
   "source": [
    "for item in cell_faces[0]:\n",
    "  print(faces[item])"
   ]
  },
  {
   "cell_type": "code",
   "execution_count": 41,
   "metadata": {},
   "outputs": [],
   "source": [
    "_create_faces(cells[0], tmp_cell_faces, tmp_size_info, 8)\n",
    "\n",
    "\n",
    "_intersect_nodes(tmp_cell_faces[5], tmp_size_info[5], neighbors_by_node, intersect_cells)\n"
   ]
  },
  {
   "cell_type": "code",
   "execution_count": 42,
   "metadata": {},
   "outputs": [
    {
     "data": {
      "text/plain": [
       "array([0, 1], dtype=int32)"
      ]
     },
     "execution_count": 42,
     "metadata": {},
     "output_type": "execute_result"
    }
   ],
   "source": [
    "intersect_cells"
   ]
  },
  {
   "cell_type": "code",
   "execution_count": null,
   "metadata": {},
   "outputs": [
    {
     "data": {
      "text/plain": [
       "array([4, 4, 4, 4, 4, 4, 6], dtype=int32)"
      ]
     },
     "execution_count": 38,
     "metadata": {},
     "output_type": "execute_result"
    }
   ],
   "source": [
    "tmp_size_info"
   ]
  },
  {
   "cell_type": "code",
   "execution_count": 98,
   "metadata": {},
   "outputs": [
    {
     "data": {
      "text/plain": [
       "array([[ 1,  1,  1,  1,  1,  1,  1,  1,  1,  1],\n",
       "       [ 1,  1,  1,  1,  1,  1,  1,  1,  1,  1],\n",
       "       [ 1,  1,  1,  1,  1,  1,  1,  1,  1,  1],\n",
       "       [ 1,  1,  1,  1,  1,  1,  1,  1,  1,  1],\n",
       "       [ 1,  1,  1,  1,  1,  1,  1,  1,  1,  1],\n",
       "       [-1,  1,  1,  1,  1,  1,  1,  1,  1,  1]], dtype=int32)"
      ]
     },
     "execution_count": 98,
     "metadata": {},
     "output_type": "execute_result"
    }
   ],
   "source": [
    "a = np.ones(shape=(10, 10), dtype=np.int32)\n",
    "a[5][0] = -1\n",
    "a = a[:6]\n",
    "a"
   ]
  },
  {
   "cell_type": "code",
   "execution_count": 108,
   "metadata": {},
   "outputs": [],
   "source": [
    "from manapy.ddm.pure_ddm   import read_mesh_file\n",
    "\n",
    "path = \"meshes1PROC\"\n",
    "tc, \\\n",
    "nodeid, \\\n",
    "vertex, \\\n",
    "halosint, \\\n",
    "halosext, \\\n",
    "centvol, \\\n",
    "globtoloc, \\\n",
    "loctoglob, \\\n",
    "loctoglob, \\\n",
    "neigh, \\\n",
    "nparts = read_mesh_file(1, 0, path, float)"
   ]
  },
  {
   "cell_type": "code",
   "execution_count": 121,
   "metadata": {},
   "outputs": [
    {
     "name": "stdout",
     "output_type": "stream",
     "text": [
      "[10 20 30 40 50 60 70 80 90  0]\n"
     ]
    }
   ],
   "source": [
    "a = np.arange(1, 100)\n",
    "a.resize(10, 10)\n",
    "print(a[:, -1][:])"
   ]
  }
 ],
 "metadata": {
  "kernelspec": {
   "display_name": "stage",
   "language": "python",
   "name": "python3"
  },
  "language_info": {
   "codemirror_mode": {
    "name": "ipython",
    "version": 3
   },
   "file_extension": ".py",
   "mimetype": "text/x-python",
   "name": "python",
   "nbconvert_exporter": "python",
   "pygments_lexer": "ipython3",
   "version": "3.8.18"
  }
 },
 "nbformat": 4,
 "nbformat_minor": 2
}
