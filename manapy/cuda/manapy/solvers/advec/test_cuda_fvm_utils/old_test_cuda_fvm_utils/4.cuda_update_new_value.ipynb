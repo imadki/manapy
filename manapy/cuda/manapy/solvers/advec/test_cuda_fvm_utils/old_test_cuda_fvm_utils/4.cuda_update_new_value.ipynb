{
 "cells": [
  {
   "cell_type": "code",
   "execution_count": 1,
   "metadata": {},
   "outputs": [],
   "source": [
    "from mpi4py import MPI\n",
    "from manapy.ast import Variable\n",
    "from manapy.base.base import Struct\n",
    "from manapy.ddm import Domain\n",
    "from manapy.partitions import MeshPartition\n",
    "from manapy.solvers.advec.tools_utils import initialisation_gaussian_2d\n",
    "import numpy as np\n",
    "import time\n",
    "from numba import cuda\n",
    "from manapy.solvers.advec import AdvectionSolver\n",
    "\n",
    "import matplotlib.pyplot as plt\n",
    "\n",
    "from timeit import default_timer as timer\n",
    "\n",
    "###############\n",
    "# test_time\n",
    "###############\n",
    "\n",
    "def test_time(iter, fun):\n",
    "  #fun()\n",
    "  start_time = timer()\n",
    "  for _ in range(iter):\n",
    "    fun()\n",
    "  end_time = timer()\n",
    "  elapsed_time = (end_time - start_time) / iter\n",
    "  print(f\"{elapsed_time * 1000:.5f} ms\")\n",
    "  #print(f\"{elapsed_time * 1000000:.5f} micros\")\n",
    "\n",
    "###############\n",
    "# init\n",
    "###############\n",
    "def init(dim, mesh_path):\n",
    "  running_conf = Struct(backend=\"numba\", signature=True, cache=True, float_precision=\"double\")\n",
    "  MeshPartition(mesh_path, dim=dim, conf=running_conf, periodic=[0,0,0])\n",
    "\n",
    "  domain = Domain(dim=dim, conf=running_conf)\n",
    "  ne = Variable(domain=domain)\n",
    "  u  = Variable(domain=domain)\n",
    "  v  = Variable(domain=domain)\n",
    "  w  = Variable(domain=domain)\n",
    "  \n",
    "  P = Variable(domain=domain)\n",
    "  Pinit = 2.0\n",
    "  cells = domain.cells\n",
    "  initialisation_gaussian_2d(ne.cell, u.cell, v.cell, P.cell, cells.center, Pinit)\n",
    "\n",
    "  u.face[:] = 2.\n",
    "  v.face[:] = 2.\n",
    "  w.face[:] = 1.\n",
    "  \n",
    "  u.interpolate_facetocell()\n",
    "  v.interpolate_facetocell()\n",
    "  w.interpolate_facetocell()\n",
    "\n",
    "  \n",
    "  return (domain, ne, u, v, w, P, running_conf)"
   ]
  },
  {
   "cell_type": "code",
   "execution_count": 2,
   "metadata": {},
   "outputs": [
    {
     "name": "stdout",
     "output_type": "stream",
     "text": [
      "Reading gmsh file ...\n",
      "Saving partition files ...\n",
      "Number of Cells: 105826\n",
      "Number of Vertices: 53314\n",
      "Local domain contruction ...\n"
     ]
    }
   ],
   "source": [
    "dim = 2\n",
    "mesh_file = \"/home/aben-ham/Desktop/work/stage/my_manapy/manapy/mesh/2D/carre.msh\"\n",
    "#mesh_file = \"/home/ayoub.hamou/mesh/square.msh\"\n",
    "#mesh_file = \"/home/aben-ham/Desktop/work/stage/my_manapy/gpu_accelerator/functions/square.msh\"\n",
    "domain, ne, u, v, w, P, conf = init(dim=dim, mesh_path=mesh_file)\n",
    "\n",
    "S = AdvectionSolver(ne, vel=(u, v), conf=conf)"
   ]
  },
  {
   "cell_type": "code",
   "execution_count": 3,
   "metadata": {},
   "outputs": [],
   "source": [
    "from numba import cuda\n",
    "\n",
    "def create_var(v):\n",
    "  if isinstance(v, (int, float, np.int32, np.float32, np.float64)):\n",
    "    return (v, v)\n",
    "  return (v, cuda.to_device(v))\n",
    "\n",
    "\n",
    "S.var.convective[:] = 0.5\n",
    "\n",
    "host_ne_c, d_ne_c = create_var(S.var.cell)\n",
    "host_rez_ne, d_rez_ne = create_var(S.var.convective)\n",
    "host_dissip_ne, d_dissip_ne = create_var(S.var.dissipative)\n",
    "host_src_ne, d_src_ne = create_var(S.var.source)\n",
    "host_dtime, d_dtime = (0.1, 0.1)\n",
    "host_vol, d_vol = create_var(S.domain.cells.volume )\n",
    "\n"
   ]
  },
  {
   "cell_type": "markdown",
   "metadata": {},
   "source": [
    "### Cpu Function"
   ]
  },
  {
   "cell_type": "code",
   "execution_count": 4,
   "metadata": {},
   "outputs": [],
   "source": [
    "#The original function from functions2d.py\n",
    "\n",
    "from numpy import  int32, float32, float16, uint32\n",
    "import numpy as np\n",
    "\n",
    "def update_new_value(ne_c:'float[:]', rez_ne:'float[:]', dissip_ne:'float[:]',  src_ne:'float[:]',\n",
    "                     dtime:'float', vol:'float[:]'):\n",
    "    nbelements = len(ne_c)\n",
    "    for i in range(nbelements):\n",
    "        ne_c[i]  += dtime  * ((rez_ne[i]  +  dissip_ne[i]) /vol[i] + src_ne[i] )\n"
   ]
  },
  {
   "cell_type": "code",
   "execution_count": 5,
   "metadata": {},
   "outputs": [
    {
     "name": "stdout",
     "output_type": "stream",
     "text": [
      "compile update_new_value to cpu => signature=(float64[:], float64[:], float64[:], float64[:], float64, float64[:])\n"
     ]
    }
   ],
   "source": [
    "#? using numba jit -> backend.py\n",
    "import numba\n",
    "\n",
    "numba_update_new_value = domain.backend.compile(\n",
    "  update_new_value, signature=True, target_device='cpu', echo=True)\n",
    "  \n",
    "def cpu_update_new_value():\n",
    "  host_ne_c[:] = 1 #? debug only\n",
    "  return numba_update_new_value(\n",
    "    host_ne_c,\n",
    "    host_rez_ne,\n",
    "    host_dissip_ne,\n",
    "    host_src_ne,\n",
    "    host_dtime,\n",
    "    host_vol,\n",
    "  )\n"
   ]
  },
  {
   "cell_type": "code",
   "execution_count": 6,
   "metadata": {},
   "outputs": [
    {
     "name": "stdout",
     "output_type": "stream",
     "text": [
      "280 µs ± 45.2 µs per loop (mean ± std. dev. of 7 runs, 1,000 loops each)\n"
     ]
    }
   ],
   "source": [
    "#time taken by cpu_update_new_value\n",
    "\n",
    "initialisation_gaussian_2d(ne.cell, u.cell, v.cell, P.cell, domain.cells.center, 2.0)\n",
    "\n",
    "\n",
    "%timeit cpu_update_new_value()"
   ]
  },
  {
   "cell_type": "markdown",
   "metadata": {},
   "source": [
    "### Cuda Function"
   ]
  },
  {
   "cell_type": "code",
   "execution_count": 7,
   "metadata": {},
   "outputs": [
    {
     "name": "stdout",
     "output_type": "stream",
     "text": [
      "3308\n",
      "compile kernel_assign to cuda => signature=void(float64[:], float64)\n",
      "compile kernel_update_new_value to cuda => signature=void(float64[:], float64[:], float64[:], float64[:], float64, float64[:])\n",
      "0.36948 ms\n"
     ]
    }
   ],
   "source": [
    "def kernel_assign(arr_out: 'float[:]', value : 'float'):\n",
    "    start = cuda.grid(1)\n",
    "    stride = cuda.gridsize(1)\n",
    "\n",
    "    for i in range(start, arr_out.shape[0], stride):\n",
    "        arr_out[i] = value\n",
    "\n",
    "def kernel_update_new_value(ne_c:'float[:]', rez_ne:'float[:]', dissip_ne:'float[:]',  src_ne:'float[:]',\n",
    "                     dtime:'float', vol:'float[:]'):\n",
    "\n",
    "    start = cuda.grid(1)\n",
    "    stride = cuda.gridsize(1)\n",
    "\n",
    "    for i in range(start, ne_c.shape[0], stride):\n",
    "      v  = dtime  * ((rez_ne[i]  +  dissip_ne[i]) / vol[i] + src_ne[i] )\n",
    "      cuda.atomic.add(ne_c, i, v)\n",
    "     \n",
    "\n",
    "nb_element = len(host_ne_c)\n",
    "nb_threads = 32\n",
    "nb_blocks = nb_element // 32 + 1\n",
    "print(nb_blocks)\n",
    "\n",
    "kernel_assign = domain.backend.compile(\n",
    " kernel_assign, signature=True, target_device='cuda', echo=True, gpu_device=False, gpu_params=(nb_blocks, nb_threads))\n",
    "\n",
    "kernel_update_new_value = domain.backend.compile(\n",
    " kernel_update_new_value, signature=True, target_device='cuda', echo=True, gpu_device=False, gpu_params=(nb_blocks, nb_threads))\n",
    "\n",
    "\n",
    "\n",
    "def cuda_update_new_value(): \n",
    "  kernel_assign(d_ne_c, 1)\n",
    "  cuda.synchronize()\n",
    "  kernel_update_new_value(\n",
    "    d_ne_c,\n",
    "    d_rez_ne,\n",
    "    d_dissip_ne,\n",
    "    d_src_ne,\n",
    "    d_dtime,\n",
    "    d_vol,\n",
    "  )\n",
    "  cuda.synchronize()\n",
    "\n",
    "cuda_update_new_value()\n",
    "test_time(700, cuda_update_new_value)\n",
    "\n"
   ]
  },
  {
   "cell_type": "code",
   "execution_count": 8,
   "metadata": {},
   "outputs": [
    {
     "data": {
      "image/png": "[encoded data removed]",
      "text/plain": [
       "<Figure size 640x480 with 1 Axes>"
      ]
     },
     "metadata": {},
     "output_type": "display_data"
    }
   ],
   "source": [
    "def verify(a, b, decimal, plot):\n",
    "  if plot == True:\n",
    "    plt.plot(a, label=\"cpu\")\n",
    "    plt.plot(b, label=\"gpu\")\n",
    "    plt.legend()\n",
    "    plt.show()\n",
    "  np.testing.assert_almost_equal(a, b, decimal=decimal )\n",
    "\n",
    "#! float32\n",
    "\n",
    "verify(host_ne_c, d_ne_c.copy_to_host(), decimal=2, plot=True)"
   ]
  }
 ],
 "metadata": {
  "kernelspec": {
   "display_name": "stage",
   "language": "python",
   "name": "python3"
  },
  "language_info": {
   "codemirror_mode": {
    "name": "ipython",
    "version": 3
   },
   "file_extension": ".py",
   "mimetype": "text/x-python",
   "name": "python",
   "nbconvert_exporter": "python",
   "pygments_lexer": "ipython3",
   "version": "3.8.18"
  }
 },
 "nbformat": 4,
 "nbformat_minor": 2
}
